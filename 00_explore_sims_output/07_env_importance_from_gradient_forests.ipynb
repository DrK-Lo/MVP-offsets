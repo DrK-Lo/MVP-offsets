{
 "cells": [
  {
   "cell_type": "markdown",
   "id": "439582c7",
   "metadata": {},
   "source": [
    "<a id='home'></a>\n",
    "### purpose\n",
    "\n",
    "show environmental importance inferred from gradient forests"
   ]
  },
  {
   "cell_type": "code",
   "execution_count": 5,
   "id": "33f24384",
   "metadata": {},
   "outputs": [
    {
     "name": "stdout",
     "output_type": "stream",
     "text": [
      "36 36\n",
      "##################################################################\n",
      "Current commit of pythonimports:\n",
      "commit 357f2a9069d9ca25062146953c9bf88b70e863c0  \n",
      "Author: Brandon Lind <lind.brandon.m@gmail.com>  \n",
      "Date:   Thu Feb 3 10:42:21 2022 -0500\n",
      "Today:\tFebruary 17, 2022 - 15:45:09\n",
      "python version: 3.8.5\n",
      "##################################################################\n",
      "\n"
     ]
    },
    {
     "data": {
      "text/html": [
       "<details>\n",
       "<summary>Click to view session information</summary>\n",
       "<pre>\n",
       "-----\n",
       "PIL                 8.4.0\n",
       "balance_queue       NA\n",
       "cartopy             0.20.2\n",
       "ipyparallel         7.1.0\n",
       "matplotlib          3.5.0\n",
       "mymaps              NA\n",
       "myslurm             NA\n",
       "numpy               1.21.2\n",
       "pandas              1.3.5\n",
       "pythonimports       NA\n",
       "session_info        1.0.0\n",
       "tqdm                4.62.1\n",
       "-----\n",
       "</pre>\n",
       "<details>\n",
       "<summary>Click to view modules imported as dependencies</summary>\n",
       "<pre>\n",
       "backcall                    0.2.0\n",
       "bottleneck                  1.3.2\n",
       "certifi                     2021.10.08\n",
       "cffi                        1.15.0\n",
       "cycler                      0.10.0\n",
       "cython_runtime              NA\n",
       "dateutil                    2.8.2\n",
       "debugpy                     1.5.1\n",
       "decorator                   5.1.1\n",
       "defusedxml                  0.7.1\n",
       "entrypoints                 0.4\n",
       "fontTools                   4.25.0\n",
       "ipykernel                   6.8.0\n",
       "ipython_genutils            0.2.0\n",
       "ipywidgets                  7.6.5\n",
       "jedi                        0.18.1\n",
       "kiwisolver                  1.3.1\n",
       "matplotlib_inline           NA\n",
       "mkl                         2.4.0\n",
       "mpl_toolkits                NA\n",
       "numexpr                     2.8.1\n",
       "packaging                   21.3\n",
       "parso                       0.8.3\n",
       "pexpect                     4.8.0\n",
       "pickleshare                 0.7.5\n",
       "pkg_resources               NA\n",
       "prompt_toolkit              3.0.26\n",
       "psutil                      5.9.0\n",
       "ptyprocess                  0.7.0\n",
       "pydev_ipython               NA\n",
       "pydevconsole                NA\n",
       "pydevd                      2.6.0\n",
       "pydevd_concurrency_analyser NA\n",
       "pydevd_file_utils           NA\n",
       "pydevd_plugins              NA\n",
       "pydevd_tracing              NA\n",
       "pygments                    2.11.2\n",
       "pyparsing                   3.0.4\n",
       "pyproj                      3.3.0\n",
       "pytz                        2021.3\n",
       "shapefile                   2.2.0\n",
       "shapely                     1.8.0\n",
       "six                         1.16.0\n",
       "storemagic                  NA\n",
       "tornado                     6.1\n",
       "traitlets                   5.1.1\n",
       "wcwidth                     0.2.5\n",
       "zmq                         22.3.0\n",
       "</pre>\n",
       "</details> <!-- seems like this ends pre, so might as well be explicit -->\n",
       "<pre>\n",
       "-----\n",
       "IPython             7.31.1\n",
       "jupyter_client      7.1.2\n",
       "jupyter_core        4.9.1\n",
       "notebook            6.4.8\n",
       "-----\n",
       "Python 3.8.5 (default, Sep  4 2020, 07:30:14) [GCC 7.3.0]\n",
       "Linux-3.10.0-1160.25.1.el7.x86_64-x86_64-with-glibc2.10\n",
       "-----\n",
       "Session information updated at 2022-02-17 15:45\n",
       "</pre>\n",
       "</details>"
      ],
      "text/plain": [
       "<IPython.core.display.HTML object>"
      ]
     },
     "execution_count": 5,
     "metadata": {},
     "output_type": "execute_result"
    }
   ],
   "source": [
    "from pythonimports import *\n",
    "\n",
    "training_dir = '/work/lotterhos/MVP-Offsets/practice_slim/training/gradient_forests/training_outfiles'\n",
    "\n",
    "lview,dview = get_client()\n",
    "\n",
    "latest_commit()\n",
    "session_info.show()"
   ]
  },
  {
   "cell_type": "code",
   "execution_count": 3,
   "id": "ceeb17e6",
   "metadata": {},
   "outputs": [
    {
     "name": "stdout",
     "output_type": "stream",
     "text": [
      "\r\n",
      "#-----------------------------------------------------------------------------------------------------#\r\n",
      "# From a saved RDS object output from gradient forest training, extract predictor importance and save\r\n",
      "#-----------------------------------------------------------------------------------------------------#\r\n",
      "\r\n",
      "library(gradientForest)\r\n",
      "\r\n",
      "args = commandArgs(trailingOnly=TRUE)\r\n",
      "rdsfile = args[1]\r\n",
      "\r\n",
      "rds = readRDS(rdsfile)\r\n",
      "\r\n",
      "df1 = data.frame(overall_importance=rds$overall.imp)\r\n",
      "df2 = data.frame(weighted_importance=importance(rds, type='Weighted'))\r\n",
      "df3 = data.frame(accuracy_importance=importance(rds, type='Accuracy'))\r\n",
      "\r\n",
      "# combine df1 with df2\r\n",
      "df = merge(df1, df2, by='row.names', all=TRUE)\r\n",
      "rownames(df) = df[,'Row.names']\r\n",
      "df = subset(df, select=-c(Row.names))\r\n",
      "\r\n",
      "# combine df1+df2 with df3\r\n",
      "df = merge(df, df3, by='row.names', all=TRUE)\r\n",
      "rownames(df) = df[,'Row.names']\r\n",
      "df = subset(df, select=-c(Row.names))\r\n",
      "\r\n",
      "outfile <- gsub(\".RDS\", \"_importances.txt\", rdsfile)\r\n",
      "\r\n",
      "write.table(df, outfile, sep='\t', row.names=TRUE)\r\n",
      "\r\n",
      "print(\"wrote to outfile:\")\r\n",
      "print(outfile)\r\n",
      "\r\n"
     ]
    }
   ],
   "source": [
    "# copy over script to extract climate importance from a trained Gradient Forest object\n",
    "!cp /home/b.lind/code/GitHub/offset_validation/extract_importance.R .\n",
    "!cat extract_importance.R"
   ]
  },
  {
   "cell_type": "code",
   "execution_count": 15,
   "id": "4b431243",
   "metadata": {},
   "outputs": [
    {
     "data": {
      "text/plain": [
       "'/home/b.lind/code/MVP-offsets/00_explore_sims_output/extract_importance.R'"
      ]
     },
     "execution_count": 15,
     "metadata": {},
     "output_type": "execute_result"
    }
   ],
   "source": [
    "script_file = fs(os.getcwd(), 'extract_importance.R')[0]\n",
    "script_file"
   ]
  },
  {
   "cell_type": "code",
   "execution_count": 20,
   "id": "0a8af47c",
   "metadata": {},
   "outputs": [
    {
     "data": {
      "text/plain": [
       "['1231094_GF_training_ind_adaptive_gradient_forest_training.RDS',\n",
       " '1231094_GF_training_pooled_adaptive_gradient_forest_training.RDS',\n",
       " '1231094_GF_training_pooled_all_gradient_forest_training.RDS']"
      ]
     },
     "execution_count": 20,
     "metadata": {},
     "output_type": "execute_result"
    }
   ],
   "source": [
    "training_files = fs(training_dir, endswith='training.RDS')\n",
    "[op.basename(f) for f in training_files]"
   ]
  },
  {
   "cell_type": "code",
   "execution_count": 16,
   "id": "54448c1d",
   "metadata": {},
   "outputs": [],
   "source": [
    "def extract_importance(f):\n",
    "    \"\"\"Extract importance values from RDS file, save to .txt file.\"\"\"\n",
    "    import subprocess\n",
    "    \n",
    "    output = subprocess.check_output(\n",
    "        [\n",
    "            Rscript,\n",
    "            script_file,\n",
    "            f\n",
    "        ]\n",
    "    ).decode(\"utf-8\").replace(\"\\n\", \"\").split()[-1]\n",
    "    \n",
    "    return output\n",
    "\n",
    "# prep for parallelization\n",
    "Rscript = '/home/b.lind/anaconda3/envs/r35/bin/Rscript'\n",
    "dview['Rscript'] = Rscript\n",
    "dview['script_file'] = script_file\n"
   ]
  },
  {
   "cell_type": "code",
   "execution_count": 21,
   "id": "e687d400",
   "metadata": {},
   "outputs": [
    {
     "name": "stdout",
     "output_type": "stream",
     "text": [
      "\u001b[1m\n",
      "Watching 3 jobs ...\u001b[0m\n"
     ]
    },
    {
     "name": "stderr",
     "output_type": "stream",
     "text": [
      "100%|███████████████| 3/3 [00:32<00:00, 10.81s/it]\n"
     ]
    }
   ],
   "source": [
    "# read in importance values in parallel\n",
    "jobs = []\n",
    "for f in training_files:\n",
    "    jobs.append(\n",
    "        lview.apply_async(extract_importance, f)\n",
    "    )\n",
    "\n",
    "watch_async(jobs)"
   ]
  },
  {
   "cell_type": "code",
   "execution_count": 22,
   "id": "5c6ef5d7",
   "metadata": {},
   "outputs": [
    {
     "name": "stderr",
     "output_type": "stream",
     "text": [
      "  0%|               | 0/3 [00:00<?, ?it/s]\n"
     ]
    },
    {
     "ename": "ValueError",
     "evalue": "not enough values to unpack (expected 4, got 1)",
     "output_type": "error",
     "traceback": [
      "\u001b[0;31m---------------------------------------------------------------------------\u001b[0m",
      "\u001b[0;31mValueError\u001b[0m                                Traceback (most recent call last)",
      "\u001b[0;32m/tmp/ipykernel_2956/1490827716.py\u001b[0m in \u001b[0;36m<module>\u001b[0;34m\u001b[0m\n\u001b[1;32m      4\u001b[0m \u001b[0mimportances\u001b[0m \u001b[0;34m=\u001b[0m \u001b[0mwrap_defaultdict\u001b[0m\u001b[0;34m(\u001b[0m\u001b[0;32mNone\u001b[0m\u001b[0;34m,\u001b[0m \u001b[0;36m4\u001b[0m\u001b[0;34m)\u001b[0m\u001b[0;34m\u001b[0m\u001b[0;34m\u001b[0m\u001b[0m\n\u001b[1;32m      5\u001b[0m \u001b[0;32mfor\u001b[0m \u001b[0mf\u001b[0m \u001b[0;32min\u001b[0m \u001b[0mpbar\u001b[0m\u001b[0;34m(\u001b[0m\u001b[0mimportance_files\u001b[0m\u001b[0;34m)\u001b[0m\u001b[0;34m:\u001b[0m\u001b[0;34m\u001b[0m\u001b[0;34m\u001b[0m\u001b[0m\n\u001b[0;32m----> 6\u001b[0;31m     \u001b[0mspp\u001b[0m\u001b[0;34m,\u001b[0m\u001b[0mmethod\u001b[0m\u001b[0;34m,\u001b[0m\u001b[0msetname\u001b[0m\u001b[0;34m,\u001b[0m\u001b[0mkfold\u001b[0m \u001b[0;34m=\u001b[0m \u001b[0mop\u001b[0m\u001b[0;34m.\u001b[0m\u001b[0mbasename\u001b[0m\u001b[0;34m(\u001b[0m\u001b[0mf\u001b[0m\u001b[0;34m)\u001b[0m\u001b[0;34m.\u001b[0m\u001b[0mrstrip\u001b[0m\u001b[0;34m(\u001b[0m\u001b[0;34m\"_gradient_forest_training_importances.txt\"\u001b[0m\u001b[0;34m)\u001b[0m\u001b[0;34m.\u001b[0m\u001b[0msplit\u001b[0m\u001b[0;34m(\u001b[0m\u001b[0;34m'-'\u001b[0m\u001b[0;34m)\u001b[0m\u001b[0;34m\u001b[0m\u001b[0;34m\u001b[0m\u001b[0m\n\u001b[0m\u001b[1;32m      7\u001b[0m     \u001b[0mimportances\u001b[0m\u001b[0;34m[\u001b[0m\u001b[0mspp\u001b[0m\u001b[0;34m]\u001b[0m\u001b[0;34m[\u001b[0m\u001b[0mmethod\u001b[0m\u001b[0;34m]\u001b[0m\u001b[0;34m[\u001b[0m\u001b[0msetname\u001b[0m\u001b[0;34m]\u001b[0m\u001b[0;34m[\u001b[0m\u001b[0mkfold\u001b[0m\u001b[0;34m]\u001b[0m \u001b[0;34m=\u001b[0m \u001b[0mpd\u001b[0m\u001b[0;34m.\u001b[0m\u001b[0mread_table\u001b[0m\u001b[0;34m(\u001b[0m\u001b[0mf\u001b[0m\u001b[0;34m)\u001b[0m\u001b[0;34m\u001b[0m\u001b[0;34m\u001b[0m\u001b[0m\n\u001b[1;32m      8\u001b[0m \u001b[0;34m\u001b[0m\u001b[0m\n",
      "\u001b[0;31mValueError\u001b[0m: not enough values to unpack (expected 4, got 1)"
     ]
    }
   ],
   "source": [
    "# put parallel output into dictionary of ranks\n",
    "importance_files = fs(training_dir, endswith='importances.txt')\n",
    "\n",
    "importances = wrap_defaultdict(None, 4)\n",
    "for f in pbar(importance_files):\n",
    "    spp,method,setname,kfold = op.basename(f).rstrip(\"_gradient_forest_training_importances.txt\").split('-')\n",
    "    importances[spp][method][setname][kfold] = pd.read_table(f)\n",
    "\n",
    "assert len(importance_files) == len(files)\n",
    "    \n",
    "importances[spp][method][setname][kfold].head()"
   ]
  },
  {
   "cell_type": "code",
   "execution_count": 23,
   "id": "0f883968",
   "metadata": {},
   "outputs": [
    {
     "data": {
      "text/plain": [
       "['/work/lotterhos/MVP-Offsets/practice_slim/training/gradient_forests/training_outfiles/1231094_GF_training_ind_adaptive_gradient_forest_training_importances.txt',\n",
       " '/work/lotterhos/MVP-Offsets/practice_slim/training/gradient_forests/training_outfiles/1231094_GF_training_pooled_adaptive_gradient_forest_training_importances.txt',\n",
       " '/work/lotterhos/MVP-Offsets/practice_slim/training/gradient_forests/training_outfiles/1231094_GF_training_pooled_all_gradient_forest_training_importances.txt']"
      ]
     },
     "execution_count": 23,
     "metadata": {},
     "output_type": "execute_result"
    }
   ],
   "source": [
    "importance_files"
   ]
  },
  {
   "cell_type": "code",
   "execution_count": 24,
   "id": "bca7c1bd",
   "metadata": {},
   "outputs": [
    {
     "data": {
      "text/html": [
       "<div>\n",
       "<style scoped>\n",
       "    .dataframe tbody tr th:only-of-type {\n",
       "        vertical-align: middle;\n",
       "    }\n",
       "\n",
       "    .dataframe tbody tr th {\n",
       "        vertical-align: top;\n",
       "    }\n",
       "\n",
       "    .dataframe thead th {\n",
       "        text-align: right;\n",
       "    }\n",
       "</style>\n",
       "<table border=\"1\" class=\"dataframe\">\n",
       "  <thead>\n",
       "    <tr style=\"text-align: right;\">\n",
       "      <th></th>\n",
       "      <th>overall_importance</th>\n",
       "      <th>weighted_importance</th>\n",
       "      <th>accuracy_importance</th>\n",
       "    </tr>\n",
       "  </thead>\n",
       "  <tbody>\n",
       "    <tr>\n",
       "      <th>sal_opt</th>\n",
       "      <td>0.002793</td>\n",
       "      <td>0.013922</td>\n",
       "      <td>0.002793</td>\n",
       "    </tr>\n",
       "    <tr>\n",
       "      <th>temp_opt</th>\n",
       "      <td>0.131401</td>\n",
       "      <td>0.307874</td>\n",
       "      <td>0.131401</td>\n",
       "    </tr>\n",
       "  </tbody>\n",
       "</table>\n",
       "</div>"
      ],
      "text/plain": [
       "          overall_importance  weighted_importance  accuracy_importance\n",
       "sal_opt             0.002793             0.013922             0.002793\n",
       "temp_opt            0.131401             0.307874             0.131401"
      ]
     },
     "execution_count": 24,
     "metadata": {},
     "output_type": "execute_result"
    }
   ],
   "source": [
    "pd.read_table(importance_files[0])"
   ]
  },
  {
   "cell_type": "code",
   "execution_count": 25,
   "id": "eb1c831a",
   "metadata": {},
   "outputs": [
    {
     "data": {
      "text/html": [
       "<div>\n",
       "<style scoped>\n",
       "    .dataframe tbody tr th:only-of-type {\n",
       "        vertical-align: middle;\n",
       "    }\n",
       "\n",
       "    .dataframe tbody tr th {\n",
       "        vertical-align: top;\n",
       "    }\n",
       "\n",
       "    .dataframe thead th {\n",
       "        text-align: right;\n",
       "    }\n",
       "</style>\n",
       "<table border=\"1\" class=\"dataframe\">\n",
       "  <thead>\n",
       "    <tr style=\"text-align: right;\">\n",
       "      <th></th>\n",
       "      <th>overall_importance</th>\n",
       "      <th>weighted_importance</th>\n",
       "      <th>accuracy_importance</th>\n",
       "    </tr>\n",
       "  </thead>\n",
       "  <tbody>\n",
       "    <tr>\n",
       "      <th>sal_opt</th>\n",
       "      <td>0.002793</td>\n",
       "      <td>0.013922</td>\n",
       "      <td>0.002793</td>\n",
       "    </tr>\n",
       "    <tr>\n",
       "      <th>temp_opt</th>\n",
       "      <td>0.131401</td>\n",
       "      <td>0.307874</td>\n",
       "      <td>0.131401</td>\n",
       "    </tr>\n",
       "  </tbody>\n",
       "</table>\n",
       "</div>"
      ],
      "text/plain": [
       "          overall_importance  weighted_importance  accuracy_importance\n",
       "sal_opt             0.002793             0.013922             0.002793\n",
       "temp_opt            0.131401             0.307874             0.131401"
      ]
     },
     "metadata": {},
     "output_type": "display_data"
    },
    {
     "data": {
      "text/html": [
       "<div>\n",
       "<style scoped>\n",
       "    .dataframe tbody tr th:only-of-type {\n",
       "        vertical-align: middle;\n",
       "    }\n",
       "\n",
       "    .dataframe tbody tr th {\n",
       "        vertical-align: top;\n",
       "    }\n",
       "\n",
       "    .dataframe thead th {\n",
       "        text-align: right;\n",
       "    }\n",
       "</style>\n",
       "<table border=\"1\" class=\"dataframe\">\n",
       "  <thead>\n",
       "    <tr style=\"text-align: right;\">\n",
       "      <th></th>\n",
       "      <th>overall_importance</th>\n",
       "      <th>weighted_importance</th>\n",
       "      <th>accuracy_importance</th>\n",
       "    </tr>\n",
       "  </thead>\n",
       "  <tbody>\n",
       "    <tr>\n",
       "      <th>sal_opt</th>\n",
       "      <td>-0.001759</td>\n",
       "      <td>0.003384</td>\n",
       "      <td>-0.001759</td>\n",
       "    </tr>\n",
       "    <tr>\n",
       "      <th>temp_opt</th>\n",
       "      <td>0.027816</td>\n",
       "      <td>0.578990</td>\n",
       "      <td>0.027816</td>\n",
       "    </tr>\n",
       "  </tbody>\n",
       "</table>\n",
       "</div>"
      ],
      "text/plain": [
       "          overall_importance  weighted_importance  accuracy_importance\n",
       "sal_opt            -0.001759             0.003384            -0.001759\n",
       "temp_opt            0.027816             0.578990             0.027816"
      ]
     },
     "metadata": {},
     "output_type": "display_data"
    },
    {
     "data": {
      "text/html": [
       "<div>\n",
       "<style scoped>\n",
       "    .dataframe tbody tr th:only-of-type {\n",
       "        vertical-align: middle;\n",
       "    }\n",
       "\n",
       "    .dataframe tbody tr th {\n",
       "        vertical-align: top;\n",
       "    }\n",
       "\n",
       "    .dataframe thead th {\n",
       "        text-align: right;\n",
       "    }\n",
       "</style>\n",
       "<table border=\"1\" class=\"dataframe\">\n",
       "  <thead>\n",
       "    <tr style=\"text-align: right;\">\n",
       "      <th></th>\n",
       "      <th>overall_importance</th>\n",
       "      <th>weighted_importance</th>\n",
       "      <th>accuracy_importance</th>\n",
       "    </tr>\n",
       "  </thead>\n",
       "  <tbody>\n",
       "    <tr>\n",
       "      <th>sal_opt</th>\n",
       "      <td>-0.004800</td>\n",
       "      <td>0.001319</td>\n",
       "      <td>-0.004800</td>\n",
       "    </tr>\n",
       "    <tr>\n",
       "      <th>temp_opt</th>\n",
       "      <td>0.085967</td>\n",
       "      <td>0.684486</td>\n",
       "      <td>0.085967</td>\n",
       "    </tr>\n",
       "  </tbody>\n",
       "</table>\n",
       "</div>"
      ],
      "text/plain": [
       "          overall_importance  weighted_importance  accuracy_importance\n",
       "sal_opt            -0.004800             0.001319            -0.004800\n",
       "temp_opt            0.085967             0.684486             0.085967"
      ]
     },
     "metadata": {},
     "output_type": "display_data"
    },
    {
     "data": {
      "text/plain": [
       "[None, None, None]"
      ]
     },
     "execution_count": 25,
     "metadata": {},
     "output_type": "execute_result"
    }
   ],
   "source": [
    "[display(pd.read_table(f)) for f in importance_files]"
   ]
  },
  {
   "cell_type": "code",
   "execution_count": 26,
   "id": "e6f646ca",
   "metadata": {},
   "outputs": [
    {
     "data": {
      "text/plain": [
       "['1231094_GF_training_ind_adaptive_gradient_forest_training_importances.txt',\n",
       " '1231094_GF_training_pooled_adaptive_gradient_forest_training_importances.txt',\n",
       " '1231094_GF_training_pooled_all_gradient_forest_training_importances.txt']"
      ]
     },
     "execution_count": 26,
     "metadata": {},
     "output_type": "execute_result"
    }
   ],
   "source": [
    "[op.basename(f) for f in importance_files]"
   ]
  },
  {
   "cell_type": "code",
   "execution_count": null,
   "id": "0abeaca2",
   "metadata": {},
   "outputs": [],
   "source": []
  },
  {
   "cell_type": "code",
   "execution_count": null,
   "id": "3612a1fa",
   "metadata": {},
   "outputs": [],
   "source": []
  },
  {
   "cell_type": "code",
   "execution_count": null,
   "id": "daf904d9",
   "metadata": {},
   "outputs": [],
   "source": []
  },
  {
   "cell_type": "code",
   "execution_count": null,
   "id": "32e434d3",
   "metadata": {},
   "outputs": [],
   "source": []
  },
  {
   "cell_type": "code",
   "execution_count": null,
   "id": "5cdd96fc",
   "metadata": {},
   "outputs": [],
   "source": []
  },
  {
   "cell_type": "code",
   "execution_count": null,
   "id": "58349f72",
   "metadata": {},
   "outputs": [],
   "source": []
  },
  {
   "cell_type": "code",
   "execution_count": null,
   "id": "7adbe5ee",
   "metadata": {},
   "outputs": [],
   "source": []
  },
  {
   "cell_type": "code",
   "execution_count": null,
   "id": "dd96b687",
   "metadata": {},
   "outputs": [],
   "source": []
  },
  {
   "cell_type": "code",
   "execution_count": null,
   "id": "c0fa23dc",
   "metadata": {},
   "outputs": [],
   "source": []
  },
  {
   "cell_type": "code",
   "execution_count": null,
   "id": "e48c69df",
   "metadata": {},
   "outputs": [],
   "source": []
  },
  {
   "cell_type": "code",
   "execution_count": null,
   "id": "b0818985",
   "metadata": {},
   "outputs": [],
   "source": []
  },
  {
   "cell_type": "code",
   "execution_count": null,
   "id": "9bd05000",
   "metadata": {},
   "outputs": [],
   "source": []
  },
  {
   "cell_type": "code",
   "execution_count": null,
   "id": "84f53ce9",
   "metadata": {},
   "outputs": [],
   "source": []
  },
  {
   "cell_type": "code",
   "execution_count": null,
   "id": "bceaf265",
   "metadata": {},
   "outputs": [],
   "source": []
  },
  {
   "cell_type": "code",
   "execution_count": null,
   "id": "e12899f8",
   "metadata": {},
   "outputs": [],
   "source": []
  },
  {
   "cell_type": "code",
   "execution_count": null,
   "id": "278b463d",
   "metadata": {},
   "outputs": [],
   "source": []
  },
  {
   "cell_type": "code",
   "execution_count": null,
   "id": "7238028c",
   "metadata": {},
   "outputs": [],
   "source": []
  },
  {
   "cell_type": "code",
   "execution_count": null,
   "id": "9598187c",
   "metadata": {},
   "outputs": [],
   "source": []
  },
  {
   "cell_type": "code",
   "execution_count": null,
   "id": "2842552e",
   "metadata": {},
   "outputs": [],
   "source": []
  },
  {
   "cell_type": "code",
   "execution_count": null,
   "id": "d85e5355",
   "metadata": {},
   "outputs": [],
   "source": []
  },
  {
   "cell_type": "code",
   "execution_count": null,
   "id": "0baa3104",
   "metadata": {},
   "outputs": [],
   "source": []
  },
  {
   "cell_type": "code",
   "execution_count": null,
   "id": "0fea66c6",
   "metadata": {},
   "outputs": [],
   "source": []
  },
  {
   "cell_type": "code",
   "execution_count": null,
   "id": "6c89a1e0",
   "metadata": {},
   "outputs": [],
   "source": []
  },
  {
   "cell_type": "code",
   "execution_count": null,
   "id": "a68fd3d4",
   "metadata": {},
   "outputs": [],
   "source": []
  },
  {
   "cell_type": "code",
   "execution_count": null,
   "id": "1b9226a6",
   "metadata": {},
   "outputs": [],
   "source": []
  }
 ],
 "metadata": {
  "kernelspec": {
   "display_name": "Python 3 (ipykernel)",
   "language": "python",
   "name": "python3"
  },
  "language_info": {
   "codemirror_mode": {
    "name": "ipython",
    "version": 3
   },
   "file_extension": ".py",
   "mimetype": "text/x-python",
   "name": "python",
   "nbconvert_exporter": "python",
   "pygments_lexer": "ipython3",
   "version": "3.8.5"
  }
 },
 "nbformat": 4,
 "nbformat_minor": 5
}
