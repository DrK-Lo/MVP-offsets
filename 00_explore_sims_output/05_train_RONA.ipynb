{
 "cells": [
  {
   "cell_type": "markdown",
   "id": "536a67e4",
   "metadata": {},
   "source": [
    "<a id='home'></a>\n",
    "### purpose\n",
    "\n",
    "explore output of SLiM; apply code from CoAdaptree for training RONA\n",
    "\n",
    "### outline\n",
    "\n",
    "1. [convert 012 to pop-level allele frequencies](#convert)\n",
    "    1. 012 file created in ../01_train_gradient_forests\n",
    "1. [load environmental data](#envdata)\n",
    "    1. map subpopID to environmental data\n",
    "1. [estimate linear models](#linear)\n",
    "    1. RONA only uses loci with significant linear models with the environment, estimate models here\n",
    "1. [retrieve significant linear models](#sig)\n",
    "    1. identify loci with significant linear models\n",
    "1. [calculate the RONA](#rona)\n",
    "    1. parallelize RONA calculation by first calculating "
   ]
  },
  {
   "cell_type": "code",
   "execution_count": 1,
   "id": "ecc18869",
   "metadata": {},
   "outputs": [
    {
     "name": "stdout",
     "output_type": "stream",
     "text": [
      "55 55\n",
      "##################################################################\n",
      "Current commit of pythonimports:\n",
      "commit 357f2a9069d9ca25062146953c9bf88b70e863c0  \n",
      "Author: Brandon Lind <lind.brandon.m@gmail.com>  \n",
      "Date:   Thu Feb 3 10:42:21 2022 -0500\n",
      "Today:\tFebruary 16, 2022 - 09:25:13\n",
      "python version: 3.8.5\n",
      "##################################################################\n"
     ]
    },
    {
     "data": {
      "text/html": [
       "<details>\n",
       "<summary>Click to view session information</summary>\n",
       "<pre>\n",
       "-----\n",
       "PIL                 8.4.0\n",
       "balance_queue       NA\n",
       "cartopy             0.20.2\n",
       "ipyparallel         7.1.0\n",
       "matplotlib          3.5.0\n",
       "mymaps              NA\n",
       "myslurm             NA\n",
       "numpy               1.21.2\n",
       "pandas              1.3.5\n",
       "pythonimports       NA\n",
       "scipy               1.7.3\n",
       "session_info        1.0.0\n",
       "tqdm                4.62.1\n",
       "-----\n",
       "</pre>\n",
       "<details>\n",
       "<summary>Click to view modules imported as dependencies</summary>\n",
       "<pre>\n",
       "backcall                    0.2.0\n",
       "beta_ufunc                  NA\n",
       "binom_ufunc                 NA\n",
       "bottleneck                  1.3.2\n",
       "certifi                     2021.10.08\n",
       "cffi                        1.15.0\n",
       "cycler                      0.10.0\n",
       "cython_runtime              NA\n",
       "dateutil                    2.8.2\n",
       "debugpy                     1.5.1\n",
       "decorator                   5.1.1\n",
       "defusedxml                  0.7.1\n",
       "entrypoints                 0.4\n",
       "fontTools                   4.25.0\n",
       "ipykernel                   6.8.0\n",
       "ipython_genutils            0.2.0\n",
       "ipywidgets                  7.6.5\n",
       "jedi                        0.18.1\n",
       "kiwisolver                  1.3.1\n",
       "matplotlib_inline           NA\n",
       "mkl                         2.4.0\n",
       "mpl_toolkits                NA\n",
       "nbinom_ufunc                NA\n",
       "numexpr                     2.8.1\n",
       "packaging                   21.3\n",
       "parso                       0.8.3\n",
       "pexpect                     4.8.0\n",
       "pickleshare                 0.7.5\n",
       "pkg_resources               NA\n",
       "prompt_toolkit              3.0.26\n",
       "psutil                      5.9.0\n",
       "ptyprocess                  0.7.0\n",
       "pydev_ipython               NA\n",
       "pydevconsole                NA\n",
       "pydevd                      2.6.0\n",
       "pydevd_concurrency_analyser NA\n",
       "pydevd_file_utils           NA\n",
       "pydevd_plugins              NA\n",
       "pydevd_tracing              NA\n",
       "pygments                    2.11.2\n",
       "pyparsing                   3.0.4\n",
       "pyproj                      3.3.0\n",
       "pytz                        2021.3\n",
       "shapefile                   2.2.0\n",
       "shapely                     1.8.0\n",
       "six                         1.16.0\n",
       "storemagic                  NA\n",
       "tornado                     6.1\n",
       "traitlets                   5.1.1\n",
       "wcwidth                     0.2.5\n",
       "zmq                         22.3.0\n",
       "</pre>\n",
       "</details> <!-- seems like this ends pre, so might as well be explicit -->\n",
       "<pre>\n",
       "-----\n",
       "IPython             7.31.1\n",
       "jupyter_client      7.1.2\n",
       "jupyter_core        4.9.1\n",
       "notebook            6.4.8\n",
       "-----\n",
       "Python 3.8.5 (default, Sep  4 2020, 07:30:14) [GCC 7.3.0]\n",
       "Linux-3.10.0-1160.25.1.el7.x86_64-x86_64-with-glibc2.10\n",
       "-----\n",
       "Session information updated at 2022-02-16 11:31\n",
       "</pre>\n",
       "</details>"
      ],
      "text/plain": [
       "<IPython.core.display.HTML object>"
      ]
     },
     "execution_count": 1,
     "metadata": {},
     "output_type": "execute_result"
    }
   ],
   "source": [
    "from pythonimports import *\n",
    "from IPython.display import Image\n",
    "from scipy.stats import linregress\n",
    "\n",
    "DIR = '/work/lotterhos/MVP-Offsets/practice_slim'\n",
    "slimdir = op.join(DIR, 'mypractice')\n",
    "training_dir = op.join(DIR, 'training')\n",
    "rona_dir = makedir(op.join(training_dir, 'RONA'))\n",
    "\n",
    "t1 = dt.now()  #notebook timer\n",
    "\n",
    "lview,dview = get_client()\n",
    "\n",
    "latest_commit()\n",
    "session_info.show()"
   ]
  },
  {
   "cell_type": "code",
   "execution_count": 2,
   "id": "b40e7037",
   "metadata": {},
   "outputs": [],
   "source": [
    "seed = '1231094'"
   ]
  },
  {
   "cell_type": "markdown",
   "id": "09d313e3",
   "metadata": {},
   "source": [
    "<a id='convert'></a>\n",
    "# convert 012 to pop-level allele freqs\n",
    "\n",
    "[top](#home)"
   ]
  },
  {
   "cell_type": "markdown",
   "id": "37ced61d",
   "metadata": {},
   "source": [
    "#### get pop IDs"
   ]
  },
  {
   "cell_type": "code",
   "execution_count": 3,
   "id": "ccd74577",
   "metadata": {},
   "outputs": [
    {
     "name": "stdout",
     "output_type": "stream",
     "text": [
      "1000\n"
     ]
    },
    {
     "data": {
      "text/html": [
       "<div>\n",
       "<style scoped>\n",
       "    .dataframe tbody tr th:only-of-type {\n",
       "        vertical-align: middle;\n",
       "    }\n",
       "\n",
       "    .dataframe tbody tr th {\n",
       "        vertical-align: top;\n",
       "    }\n",
       "\n",
       "    .dataframe thead th {\n",
       "        text-align: right;\n",
       "    }\n",
       "</style>\n",
       "<table border=\"1\" class=\"dataframe\">\n",
       "  <thead>\n",
       "    <tr style=\"text-align: right;\">\n",
       "      <th></th>\n",
       "      <th>seed</th>\n",
       "      <th>subpopID</th>\n",
       "      <th>indID</th>\n",
       "      <th>indSubpopIndex</th>\n",
       "      <th>subpop</th>\n",
       "      <th>phen_sal</th>\n",
       "      <th>phen_temp</th>\n",
       "      <th>sal_opt</th>\n",
       "      <th>temp_opt</th>\n",
       "      <th>fitness</th>\n",
       "      <th>subset</th>\n",
       "      <th>N</th>\n",
       "      <th>opt0</th>\n",
       "      <th>opt1</th>\n",
       "      <th>x</th>\n",
       "      <th>y</th>\n",
       "      <th>PC1</th>\n",
       "      <th>PC2</th>\n",
       "      <th>PC3</th>\n",
       "      <th>LFMM_U1_temp</th>\n",
       "      <th>LFMM_U1_sal</th>\n",
       "      <th>LFMM_U2_temp</th>\n",
       "      <th>LFMM_U2_sal</th>\n",
       "      <th>RDA1</th>\n",
       "      <th>RDA2</th>\n",
       "      <th>RDA_PC1</th>\n",
       "      <th>RDA_PC2</th>\n",
       "      <th>RDA_predict_tempPhen_20KSNPs</th>\n",
       "      <th>RDA_predict_salPhen_20KSNPs</th>\n",
       "      <th>sample_name</th>\n",
       "    </tr>\n",
       "  </thead>\n",
       "  <tbody>\n",
       "    <tr>\n",
       "      <th>i0</th>\n",
       "      <td>1231094</td>\n",
       "      <td>1</td>\n",
       "      <td>0</td>\n",
       "      <td>0</td>\n",
       "      <td>1</td>\n",
       "      <td>0</td>\n",
       "      <td>-1.088090</td>\n",
       "      <td>-1.0</td>\n",
       "      <td>-1.0</td>\n",
       "      <td>0.984601</td>\n",
       "      <td>True</td>\n",
       "      <td>10</td>\n",
       "      <td>-1.0</td>\n",
       "      <td>-1.0</td>\n",
       "      <td>1</td>\n",
       "      <td>1</td>\n",
       "      <td>92.2154</td>\n",
       "      <td>-57.5673</td>\n",
       "      <td>-42.4980</td>\n",
       "      <td>-38.876285</td>\n",
       "      <td>72.935933</td>\n",
       "      <td>14.058057</td>\n",
       "      <td>40.216243</td>\n",
       "      <td>-2.464484</td>\n",
       "      <td>-4.413873</td>\n",
       "      <td>-2.401906</td>\n",
       "      <td>-2.096819</td>\n",
       "      <td>-5924.695082</td>\n",
       "      <td>-64.166353</td>\n",
       "      <td>i0</td>\n",
       "    </tr>\n",
       "    <tr>\n",
       "      <th>i1</th>\n",
       "      <td>1231094</td>\n",
       "      <td>1</td>\n",
       "      <td>1</td>\n",
       "      <td>1</td>\n",
       "      <td>1</td>\n",
       "      <td>0</td>\n",
       "      <td>-0.771927</td>\n",
       "      <td>-1.0</td>\n",
       "      <td>-1.0</td>\n",
       "      <td>0.901194</td>\n",
       "      <td>True</td>\n",
       "      <td>10</td>\n",
       "      <td>-1.0</td>\n",
       "      <td>-1.0</td>\n",
       "      <td>1</td>\n",
       "      <td>1</td>\n",
       "      <td>92.5184</td>\n",
       "      <td>-58.2218</td>\n",
       "      <td>-44.4978</td>\n",
       "      <td>-39.042619</td>\n",
       "      <td>73.119916</td>\n",
       "      <td>15.385371</td>\n",
       "      <td>40.384374</td>\n",
       "      <td>-2.472104</td>\n",
       "      <td>-3.013454</td>\n",
       "      <td>-2.412105</td>\n",
       "      <td>-2.206939</td>\n",
       "      <td>-5943.060707</td>\n",
       "      <td>-49.737004</td>\n",
       "      <td>i1</td>\n",
       "    </tr>\n",
       "    <tr>\n",
       "      <th>i2</th>\n",
       "      <td>1231094</td>\n",
       "      <td>1</td>\n",
       "      <td>2</td>\n",
       "      <td>2</td>\n",
       "      <td>1</td>\n",
       "      <td>0</td>\n",
       "      <td>-0.883133</td>\n",
       "      <td>-1.0</td>\n",
       "      <td>-1.0</td>\n",
       "      <td>0.973054</td>\n",
       "      <td>True</td>\n",
       "      <td>10</td>\n",
       "      <td>-1.0</td>\n",
       "      <td>-1.0</td>\n",
       "      <td>1</td>\n",
       "      <td>1</td>\n",
       "      <td>92.7162</td>\n",
       "      <td>-59.2298</td>\n",
       "      <td>-43.8789</td>\n",
       "      <td>-40.110397</td>\n",
       "      <td>73.313012</td>\n",
       "      <td>14.814410</td>\n",
       "      <td>41.455827</td>\n",
       "      <td>-2.478389</td>\n",
       "      <td>-3.995747</td>\n",
       "      <td>-2.476676</td>\n",
       "      <td>-2.159522</td>\n",
       "      <td>-5958.136915</td>\n",
       "      <td>-59.945481</td>\n",
       "      <td>i2</td>\n",
       "    </tr>\n",
       "    <tr>\n",
       "      <th>i3</th>\n",
       "      <td>1231094</td>\n",
       "      <td>1</td>\n",
       "      <td>3</td>\n",
       "      <td>3</td>\n",
       "      <td>1</td>\n",
       "      <td>0</td>\n",
       "      <td>-0.836002</td>\n",
       "      <td>-1.0</td>\n",
       "      <td>-1.0</td>\n",
       "      <td>0.947630</td>\n",
       "      <td>True</td>\n",
       "      <td>10</td>\n",
       "      <td>-1.0</td>\n",
       "      <td>-1.0</td>\n",
       "      <td>1</td>\n",
       "      <td>1</td>\n",
       "      <td>90.1391</td>\n",
       "      <td>-54.8804</td>\n",
       "      <td>-40.6813</td>\n",
       "      <td>-36.756808</td>\n",
       "      <td>71.370522</td>\n",
       "      <td>13.047852</td>\n",
       "      <td>38.074237</td>\n",
       "      <td>-2.409776</td>\n",
       "      <td>-2.373063</td>\n",
       "      <td>-2.273755</td>\n",
       "      <td>-2.013461</td>\n",
       "      <td>-5793.238241</td>\n",
       "      <td>-42.644448</td>\n",
       "      <td>i3</td>\n",
       "    </tr>\n",
       "    <tr>\n",
       "      <th>i4</th>\n",
       "      <td>1231094</td>\n",
       "      <td>1</td>\n",
       "      <td>4</td>\n",
       "      <td>4</td>\n",
       "      <td>1</td>\n",
       "      <td>0</td>\n",
       "      <td>-1.078760</td>\n",
       "      <td>-1.0</td>\n",
       "      <td>-1.0</td>\n",
       "      <td>0.987670</td>\n",
       "      <td>True</td>\n",
       "      <td>10</td>\n",
       "      <td>-1.0</td>\n",
       "      <td>-1.0</td>\n",
       "      <td>1</td>\n",
       "      <td>1</td>\n",
       "      <td>91.8586</td>\n",
       "      <td>-56.6580</td>\n",
       "      <td>-42.9090</td>\n",
       "      <td>-38.019264</td>\n",
       "      <td>72.297632</td>\n",
       "      <td>14.507998</td>\n",
       "      <td>39.346027</td>\n",
       "      <td>-2.443488</td>\n",
       "      <td>-4.116506</td>\n",
       "      <td>-2.350035</td>\n",
       "      <td>-2.134117</td>\n",
       "      <td>-5874.228034</td>\n",
       "      <td>-60.932578</td>\n",
       "      <td>i4</td>\n",
       "    </tr>\n",
       "  </tbody>\n",
       "</table>\n",
       "</div>"
      ],
      "text/plain": [
       "       seed  subpopID  indID  indSubpopIndex  subpop  phen_sal  phen_temp  \\\n",
       "i0  1231094         1      0               0       1         0  -1.088090   \n",
       "i1  1231094         1      1               1       1         0  -0.771927   \n",
       "i2  1231094         1      2               2       1         0  -0.883133   \n",
       "i3  1231094         1      3               3       1         0  -0.836002   \n",
       "i4  1231094         1      4               4       1         0  -1.078760   \n",
       "\n",
       "    sal_opt  temp_opt   fitness  subset   N  opt0  opt1  x  y      PC1  \\\n",
       "i0     -1.0      -1.0  0.984601    True  10  -1.0  -1.0  1  1  92.2154   \n",
       "i1     -1.0      -1.0  0.901194    True  10  -1.0  -1.0  1  1  92.5184   \n",
       "i2     -1.0      -1.0  0.973054    True  10  -1.0  -1.0  1  1  92.7162   \n",
       "i3     -1.0      -1.0  0.947630    True  10  -1.0  -1.0  1  1  90.1391   \n",
       "i4     -1.0      -1.0  0.987670    True  10  -1.0  -1.0  1  1  91.8586   \n",
       "\n",
       "        PC2      PC3  LFMM_U1_temp  LFMM_U1_sal  LFMM_U2_temp  LFMM_U2_sal  \\\n",
       "i0 -57.5673 -42.4980    -38.876285    72.935933     14.058057    40.216243   \n",
       "i1 -58.2218 -44.4978    -39.042619    73.119916     15.385371    40.384374   \n",
       "i2 -59.2298 -43.8789    -40.110397    73.313012     14.814410    41.455827   \n",
       "i3 -54.8804 -40.6813    -36.756808    71.370522     13.047852    38.074237   \n",
       "i4 -56.6580 -42.9090    -38.019264    72.297632     14.507998    39.346027   \n",
       "\n",
       "        RDA1      RDA2   RDA_PC1   RDA_PC2  RDA_predict_tempPhen_20KSNPs  \\\n",
       "i0 -2.464484 -4.413873 -2.401906 -2.096819                  -5924.695082   \n",
       "i1 -2.472104 -3.013454 -2.412105 -2.206939                  -5943.060707   \n",
       "i2 -2.478389 -3.995747 -2.476676 -2.159522                  -5958.136915   \n",
       "i3 -2.409776 -2.373063 -2.273755 -2.013461                  -5793.238241   \n",
       "i4 -2.443488 -4.116506 -2.350035 -2.134117                  -5874.228034   \n",
       "\n",
       "    RDA_predict_salPhen_20KSNPs sample_name  \n",
       "i0                   -64.166353          i0  \n",
       "i1                   -49.737004          i1  \n",
       "i2                   -59.945481          i2  \n",
       "i3                   -42.644448          i3  \n",
       "i4                   -60.932578          i4  "
      ]
     },
     "execution_count": 3,
     "metadata": {},
     "output_type": "execute_result"
    }
   ],
   "source": [
    "# get the 1000 individuals sampled from the 100 pops\n",
    "subset = pd.read_table(op.join(slimdir, f'{seed}_Rout_ind_subset.txt'), delim_whitespace=True)\n",
    "subset.index = ('i' + subset['indID'].astype(str)).tolist()  # this will match to the 'causal' file\n",
    "subset['sample_name'] = subset.index.tolist()\n",
    "\n",
    "print(nrow(subset))\n",
    "\n",
    "subset.head()"
   ]
  },
  {
   "cell_type": "code",
   "execution_count": 4,
   "id": "dbf19106",
   "metadata": {},
   "outputs": [
    {
     "data": {
      "text/plain": [
       "(1, 22, ['i0', 'i1', 'i2', 'i3', 'i4', 'i5', 'i6', 'i7', 'i8', 'i9'])"
      ]
     },
     "execution_count": 4,
     "metadata": {},
     "output_type": "execute_result"
    }
   ],
   "source": [
    "# assign samps to pop\n",
    "samppop = dict(zip(subset.index, subset.subpopID))\n",
    "popsamps = subset.groupby('subpopID')['sample_name'].apply(list).to_dict()\n",
    "\n",
    "samppop['i0'], samppop['i911'], popsamps[1]"
   ]
  },
  {
   "cell_type": "markdown",
   "id": "4443f83b",
   "metadata": {},
   "source": [
    "<a id='envdata'></a>\n",
    "# load environmental data\n",
    "\n",
    "[top](#home)"
   ]
  },
  {
   "cell_type": "code",
   "execution_count": 5,
   "id": "9cd5735e",
   "metadata": {},
   "outputs": [
    {
     "data": {
      "text/html": [
       "<div>\n",
       "<style scoped>\n",
       "    .dataframe tbody tr th:only-of-type {\n",
       "        vertical-align: middle;\n",
       "    }\n",
       "\n",
       "    .dataframe tbody tr th {\n",
       "        vertical-align: top;\n",
       "    }\n",
       "\n",
       "    .dataframe thead th {\n",
       "        text-align: right;\n",
       "    }\n",
       "</style>\n",
       "<table border=\"1\" class=\"dataframe\">\n",
       "  <thead>\n",
       "    <tr style=\"text-align: right;\">\n",
       "      <th></th>\n",
       "      <th>y</th>\n",
       "      <th>x</th>\n",
       "      <th>sal_opt</th>\n",
       "      <th>temp_opt</th>\n",
       "      <th>popID</th>\n",
       "    </tr>\n",
       "  </thead>\n",
       "  <tbody>\n",
       "    <tr>\n",
       "      <th>i0</th>\n",
       "      <td>1</td>\n",
       "      <td>1</td>\n",
       "      <td>-1.0</td>\n",
       "      <td>-1.0</td>\n",
       "      <td>1</td>\n",
       "    </tr>\n",
       "    <tr>\n",
       "      <th>i1</th>\n",
       "      <td>1</td>\n",
       "      <td>1</td>\n",
       "      <td>-1.0</td>\n",
       "      <td>-1.0</td>\n",
       "      <td>1</td>\n",
       "    </tr>\n",
       "    <tr>\n",
       "      <th>i2</th>\n",
       "      <td>1</td>\n",
       "      <td>1</td>\n",
       "      <td>-1.0</td>\n",
       "      <td>-1.0</td>\n",
       "      <td>1</td>\n",
       "    </tr>\n",
       "    <tr>\n",
       "      <th>i3</th>\n",
       "      <td>1</td>\n",
       "      <td>1</td>\n",
       "      <td>-1.0</td>\n",
       "      <td>-1.0</td>\n",
       "      <td>1</td>\n",
       "    </tr>\n",
       "    <tr>\n",
       "      <th>i4</th>\n",
       "      <td>1</td>\n",
       "      <td>1</td>\n",
       "      <td>-1.0</td>\n",
       "      <td>-1.0</td>\n",
       "      <td>1</td>\n",
       "    </tr>\n",
       "  </tbody>\n",
       "</table>\n",
       "</div>"
      ],
      "text/plain": [
       "    y  x  sal_opt  temp_opt  popID\n",
       "i0  1  1     -1.0      -1.0      1\n",
       "i1  1  1     -1.0      -1.0      1\n",
       "i2  1  1     -1.0      -1.0      1\n",
       "i3  1  1     -1.0      -1.0      1\n",
       "i4  1  1     -1.0      -1.0      1"
      ]
     },
     "execution_count": 5,
     "metadata": {},
     "output_type": "execute_result"
    }
   ],
   "source": [
    "# assign subpopID to each individual's environmental data (same for each individual within a pop)\n",
    "rangedata = subset[['y', 'x', 'sal_opt', 'temp_opt']].copy()\n",
    "rangedata['popID'] = rangedata.index.map(samppop)\n",
    "rangedata.head()"
   ]
  },
  {
   "cell_type": "code",
   "execution_count": 6,
   "id": "fe7e7022",
   "metadata": {
    "scrolled": true
   },
   "outputs": [
    {
     "name": "stdout",
     "output_type": "stream",
     "text": [
      "1 -1.0 -1.0\n",
      "2 -0.7777779999999999 -1.0\n",
      "3 -0.555556 -1.0\n",
      "4 -0.33333300000000005 -1.0\n",
      "5 -0.11111099999999999 -1.0\n",
      "6 0.11111099999999999 -1.0\n",
      "7 0.33333300000000005 -1.0\n",
      "8 0.555556 -1.0\n",
      "9 0.7777779999999999 -1.0\n",
      "90 1.0 0.7777779999999999\n",
      "91 -1.0 1.0\n",
      "92 -0.7777779999999999 1.0\n",
      "93 -0.555556 1.0\n",
      "94 -0.33333300000000005 1.0\n",
      "95 -0.11111099999999999 1.0\n",
      "96 0.11111099999999999 1.0\n",
      "97 0.33333300000000005 1.0\n",
      "98 0.555556 1.0\n",
      "99 0.7777779999999999 1.0\n"
     ]
    }
   ],
   "source": [
    "# map population ID to environmental data\n",
    "envdict = dict()\n",
    "for env in ['sal_opt', 'temp_opt']:\n",
    "    envdict[env] = rangedata.groupby('popID')[env].apply(np.mean).to_dict()\n",
    "\n",
    "# show subset of envdata\n",
    "for pop in range(1,10,1):\n",
    "    print(pop, envdict['sal_opt'][pop], envdict['temp_opt'][pop])\n",
    "for pop in range(90,100,1):\n",
    "    print(pop, envdict['sal_opt'][pop], envdict['temp_opt'][pop])"
   ]
  },
  {
   "cell_type": "code",
   "execution_count": 7,
   "id": "bc3ff6ef",
   "metadata": {},
   "outputs": [
    {
     "data": {
      "text/html": [
       "<div>\n",
       "<style scoped>\n",
       "    .dataframe tbody tr th:only-of-type {\n",
       "        vertical-align: middle;\n",
       "    }\n",
       "\n",
       "    .dataframe tbody tr th {\n",
       "        vertical-align: top;\n",
       "    }\n",
       "\n",
       "    .dataframe thead th {\n",
       "        text-align: right;\n",
       "    }\n",
       "</style>\n",
       "<table border=\"1\" class=\"dataframe\">\n",
       "  <thead>\n",
       "    <tr style=\"text-align: right;\">\n",
       "      <th></th>\n",
       "      <th>sal_opt</th>\n",
       "      <th>temp_opt</th>\n",
       "    </tr>\n",
       "  </thead>\n",
       "  <tbody>\n",
       "    <tr>\n",
       "      <th>1</th>\n",
       "      <td>-1.000000</td>\n",
       "      <td>-1.0</td>\n",
       "    </tr>\n",
       "    <tr>\n",
       "      <th>2</th>\n",
       "      <td>-0.777778</td>\n",
       "      <td>-1.0</td>\n",
       "    </tr>\n",
       "    <tr>\n",
       "      <th>3</th>\n",
       "      <td>-0.555556</td>\n",
       "      <td>-1.0</td>\n",
       "    </tr>\n",
       "    <tr>\n",
       "      <th>4</th>\n",
       "      <td>-0.333333</td>\n",
       "      <td>-1.0</td>\n",
       "    </tr>\n",
       "    <tr>\n",
       "      <th>5</th>\n",
       "      <td>-0.111111</td>\n",
       "      <td>-1.0</td>\n",
       "    </tr>\n",
       "  </tbody>\n",
       "</table>\n",
       "</div>"
      ],
      "text/plain": [
       "    sal_opt  temp_opt\n",
       "1 -1.000000      -1.0\n",
       "2 -0.777778      -1.0\n",
       "3 -0.555556      -1.0\n",
       "4 -0.333333      -1.0\n",
       "5 -0.111111      -1.0"
      ]
     },
     "execution_count": 7,
     "metadata": {},
     "output_type": "execute_result"
    }
   ],
   "source": [
    "# convert dict to dataframe - rownames = popID (note no zero index)\n",
    "popenvdata = pd.DataFrame(envdict)\n",
    "popenvdata.head()"
   ]
  },
  {
   "cell_type": "markdown",
   "id": "cfcabb6f",
   "metadata": {},
   "source": [
    "<a id='linear'></a>\n",
    "# estimate linear models\n",
    "\n",
    "[top](#home)"
   ]
  },
  {
   "cell_type": "code",
   "execution_count": 8,
   "id": "0e3af62c",
   "metadata": {},
   "outputs": [],
   "source": [
    "def train(freqs):\n",
    "    \"\"\"Calculate linear regression slope, intercept, & p-val for each locus for each environmental variable.\"\"\"\n",
    "    from scipy.stats import linregress\n",
    "    from tqdm import tqdm as pbar\n",
    "    from collections import defaultdict\n",
    "    from pythonimports import wrap_defaultdict\n",
    "    \n",
    "    freqs.columns = freqs.columns.astype(int)  # convert from string to int to avoid pop name lookup errors\n",
    "    \n",
    "    # estimate linear models\n",
    "    results = wrap_defaultdict(tuple, 2)\n",
    "    for env in popenvdata.columns:\n",
    "        for locus in freqs.index:\n",
    "            slope,intercept,rval,pval,stderr = linregress(popenvdata[env],\n",
    "                                                          freqs[popenvdata.index].loc[locus])\n",
    "            results[env][locus] = slope,intercept,pval\n",
    "    \n",
    "    return results\n",
    "\n",
    "# dview['pop_freq'] = pop_freq\n",
    "dview['popenvdata'] = popenvdata"
   ]
  },
  {
   "cell_type": "code",
   "execution_count": 9,
   "id": "a561d492",
   "metadata": {},
   "outputs": [
    {
     "data": {
      "text/plain": [
       "defaultdict(<function defaultdict.copy>,\n",
       "            {'sal_opt': defaultdict(tuple,\n",
       "                         {'LG1-50': (-0.0008181795347112591,\n",
       "                           0.027000000000000003,\n",
       "                           0.9335149362457733),\n",
       "                          'LG1-67': (0.029863628494211737,\n",
       "                           0.23949999999999996,\n",
       "                           0.4899713586578689),\n",
       "                          'LG1-125': (0.027545449668591453,\n",
       "                           0.40700000000000003,\n",
       "                           0.5498726978334352),\n",
       "                          'LG1-148': (0.02822726819751686,\n",
       "                           0.4065000000000001,\n",
       "                           0.5400981955747808),\n",
       "                          'LG1-185': (-0.020999999890905303,\n",
       "                           0.086,\n",
       "                           0.43515852794146503)}),\n",
       "             'temp_opt': defaultdict(tuple,\n",
       "                         {'LG1-50': (0.0139090729537217,\n",
       "                           0.027000000000000003,\n",
       "                           0.15399075477010252),\n",
       "                          'LG1-67': (-0.21668179373798416,\n",
       "                           0.23949999999999996,\n",
       "                           7.510335726739347e-08),\n",
       "                          'LG1-125': (-0.32100000534539463,\n",
       "                           0.40700000000000003,\n",
       "                           2.6654396614164356e-16),\n",
       "                          'LG1-148': (-0.3205909149644027,\n",
       "                           0.4065000000000001,\n",
       "                           3.0743597968128004e-16),\n",
       "                          'LG1-185': (-0.181636325523945,\n",
       "                           0.086,\n",
       "                           5.278500019671289e-15)})})"
      ]
     },
     "execution_count": 9,
     "metadata": {},
     "output_type": "execute_result"
    }
   ],
   "source": [
    "# test function on first 5 loci\n",
    "freqfile = op.join(training_dir,\n",
    "                   f'gradient_forests/training_files/{seed}_plusneut_MAF01.recode2.vcf_GFready_pooled_all.txt')\n",
    "\n",
    "train(\n",
    "    pd.read_table(freqfile, index_col=0, nrows=5)\n",
    ")"
   ]
  },
  {
   "cell_type": "code",
   "execution_count": 10,
   "id": "9ef6aa05",
   "metadata": {},
   "outputs": [
    {
     "name": "stdout",
     "output_type": "stream",
     "text": [
      "\u001b[1m\n",
      "Watching 55 parallel_read() jobs ...\u001b[0m\n"
     ]
    },
    {
     "name": "stderr",
     "output_type": "stream",
     "text": [
      "1231094_plusneut_MAF01.recode2.vcf_GFready_pooled_all.txt: 100%|███████████████| 55/55 [00:00<00:00, 317313.23\n"
     ]
    },
    {
     "name": "stdout",
     "output_type": "stream",
     "text": [
      "Function `parallel_read` completed after : 0-00:00:08\n"
     ]
    },
    {
     "data": {
      "text/plain": [
       "'/work/lotterhos/MVP-Offsets/practice_slim/training/RONA/1231094_linear_model_results.pkl'"
      ]
     },
     "execution_count": 10,
     "metadata": {},
     "output_type": "execute_result"
    }
   ],
   "source": [
    "# calculate linear models in parallel for each species\n",
    "jobs = parallel_read(freqfile,\n",
    "                     lview=lview,\n",
    "                     dview=dview,\n",
    "                     functions=create_fundict(train),\n",
    "                     verbose=False,\n",
    "                     maintain_dataframe=False,\n",
    "                     index_col=0)\n",
    "\n",
    "# gather results\n",
    "results = defaultdict(dict)\n",
    "for envdict in jobs:\n",
    "    for env,locusdict in envdict.items():\n",
    "        results[env].update(locusdict)\n",
    "\n",
    "# save\n",
    "seed = op.basename(freqfile).split(\"_\")[0]\n",
    "respkl = op.join(rona_dir, f'{seed}_linear_model_results.pkl')\n",
    "pkldump(results, respkl)\n",
    "\n",
    "respkl"
   ]
  },
  {
   "cell_type": "markdown",
   "id": "7847f16d",
   "metadata": {},
   "source": [
    "<a id='sig'></a>\n",
    "\n",
    "# retrieve significant linear models\n",
    "\n",
    "[top](#home)"
   ]
  },
  {
   "cell_type": "code",
   "execution_count": 11,
   "id": "e3f2b0ff",
   "metadata": {},
   "outputs": [
    {
     "name": "stderr",
     "output_type": "stream",
     "text": [
      "sal_opt: 100%|███████████████| 20807/20807 [00:00<00:00, 2042523.07it/s]\n",
      "temp_opt: 100%|███████████████| 20807/20807 [00:00<00:00, 1792782.99it/s]\n"
     ]
    },
    {
     "name": "stdout",
     "output_type": "stream",
     "text": [
      "sal_opt 182 20807\n",
      "temp_opt 15830 20807\n"
     ]
    }
   ],
   "source": [
    "# determine which of the loci had pvals <= 0.05\n",
    "keep = defaultdict(list)\n",
    "for env,locusdict in results.items():\n",
    "    for locus,(slope,intercept,pval) in pbar(locusdict.items(), desc=env):\n",
    "        if pval <= 0.05:\n",
    "            keep[env].append(locus)\n",
    "\n",
    "time.sleep(1)\n",
    "\n",
    "for env,loci in keep.items():\n",
    "    print(env, len(loci), len(results[env].keys()))"
   ]
  },
  {
   "cell_type": "code",
   "execution_count": 12,
   "id": "6991017b",
   "metadata": {},
   "outputs": [
    {
     "data": {
      "text/html": [
       "<div>\n",
       "<style scoped>\n",
       "    .dataframe tbody tr th:only-of-type {\n",
       "        vertical-align: middle;\n",
       "    }\n",
       "\n",
       "    .dataframe tbody tr th {\n",
       "        vertical-align: top;\n",
       "    }\n",
       "\n",
       "    .dataframe thead th {\n",
       "        text-align: right;\n",
       "    }\n",
       "</style>\n",
       "<table border=\"1\" class=\"dataframe\">\n",
       "  <thead>\n",
       "    <tr style=\"text-align: right;\">\n",
       "      <th></th>\n",
       "      <th>sal_opt</th>\n",
       "      <th>temp_opt</th>\n",
       "    </tr>\n",
       "  </thead>\n",
       "  <tbody>\n",
       "    <tr>\n",
       "      <th>1</th>\n",
       "      <td>-1.000000</td>\n",
       "      <td>-1.0</td>\n",
       "    </tr>\n",
       "    <tr>\n",
       "      <th>2</th>\n",
       "      <td>-0.777778</td>\n",
       "      <td>-1.0</td>\n",
       "    </tr>\n",
       "    <tr>\n",
       "      <th>3</th>\n",
       "      <td>-0.555556</td>\n",
       "      <td>-1.0</td>\n",
       "    </tr>\n",
       "    <tr>\n",
       "      <th>4</th>\n",
       "      <td>-0.333333</td>\n",
       "      <td>-1.0</td>\n",
       "    </tr>\n",
       "    <tr>\n",
       "      <th>5</th>\n",
       "      <td>-0.111111</td>\n",
       "      <td>-1.0</td>\n",
       "    </tr>\n",
       "    <tr>\n",
       "      <th>...</th>\n",
       "      <td>...</td>\n",
       "      <td>...</td>\n",
       "    </tr>\n",
       "    <tr>\n",
       "      <th>96</th>\n",
       "      <td>0.111111</td>\n",
       "      <td>1.0</td>\n",
       "    </tr>\n",
       "    <tr>\n",
       "      <th>97</th>\n",
       "      <td>0.333333</td>\n",
       "      <td>1.0</td>\n",
       "    </tr>\n",
       "    <tr>\n",
       "      <th>98</th>\n",
       "      <td>0.555556</td>\n",
       "      <td>1.0</td>\n",
       "    </tr>\n",
       "    <tr>\n",
       "      <th>99</th>\n",
       "      <td>0.777778</td>\n",
       "      <td>1.0</td>\n",
       "    </tr>\n",
       "    <tr>\n",
       "      <th>100</th>\n",
       "      <td>1.000000</td>\n",
       "      <td>1.0</td>\n",
       "    </tr>\n",
       "  </tbody>\n",
       "</table>\n",
       "<p>100 rows × 2 columns</p>\n",
       "</div>"
      ],
      "text/plain": [
       "      sal_opt  temp_opt\n",
       "1   -1.000000      -1.0\n",
       "2   -0.777778      -1.0\n",
       "3   -0.555556      -1.0\n",
       "4   -0.333333      -1.0\n",
       "5   -0.111111      -1.0\n",
       "..        ...       ...\n",
       "96   0.111111       1.0\n",
       "97   0.333333       1.0\n",
       "98   0.555556       1.0\n",
       "99   0.777778       1.0\n",
       "100  1.000000       1.0\n",
       "\n",
       "[100 rows x 2 columns]"
      ]
     },
     "execution_count": 12,
     "metadata": {},
     "output_type": "execute_result"
    }
   ],
   "source": [
    "popenvdata"
   ]
  },
  {
   "cell_type": "markdown",
   "id": "caee63db",
   "metadata": {},
   "source": [
    "<a id='rona'></a>\n",
    "# calculate the RONA\n",
    "\n",
    "- for each env for each pop, calculate RONA for each group of loci (for those loci with sig linear models)\n",
    "- first calculate the typical summation element (google \"parts of summation notation\") of RONA in parallel\n",
    "- then calculate RONA after gathering parallelized info\n",
    "\n",
    "[top](#home)"
   ]
  },
  {
   "cell_type": "code",
   "execution_count": 13,
   "id": "49424633",
   "metadata": {},
   "outputs": [],
   "source": [
    "# copy the equation screen shot from the offset validation repo\n",
    "!cp $HOME/code/GitHub/offset_validation/RONA.png ."
   ]
  },
  {
   "cell_type": "code",
   "execution_count": 14,
   "id": "0bf36e25",
   "metadata": {},
   "outputs": [
    {
     "data": {
      "image/png": "[encoded data removed]",
      "text/plain": [
       "<IPython.core.display.Image object>"
      ]
     },
     "execution_count": 14,
     "metadata": {},
     "output_type": "execute_result"
    }
   ],
   "source": [
    "# from Rellstab et al. 2016 \n",
    "# - this should really be RONA_p_e (RONA is calculated for a single pop for a single environmental variable)\n",
    "Image(filename='RONA.png') "
   ]
  },
  {
   "cell_type": "code",
   "execution_count": 15,
   "id": "ce85a39d",
   "metadata": {},
   "outputs": [],
   "source": [
    "def calc_rona_elements(garden, env, pop, aaf_present):\n",
    "    \"\"\"Calculate and return the abs element for each of n loci in `aaf_present.index`.\"\"\"\n",
    "    ef_fut = popenvdata[env].loc[garden]\n",
    "    \n",
    "    rona_elements = {}\n",
    "    for locus_i in aaf_present.index:\n",
    "        s_present, i_present, _pval = results[env][locus_i]\n",
    "        # nans can be appended if locus has missing data for that pop, account for this when summing/avging\n",
    "        rona_elements[locus_i] = abs(\n",
    "            (s_present * ef_fut) + i_present - aaf_present[pop].loc[locus_i]\n",
    "        )\n",
    "    \n",
    "    return rona_elements\n",
    "\n",
    "dview['calc_rona_elements'] = calc_rona_elements\n",
    "dview['results'] = results\n",
    "\n",
    "def get_rona_elements(freqs):\n",
    "    \"\"\"Calculate the typical summation element of RONA for loci with significant linear models.\"\"\"\n",
    "    from collections import defaultdict\n",
    "    from pythonimports import wrap_defaultdict\n",
    "    \n",
    "    freqs.columns = freqs.columns.astype(int)  # convert from string to int to avoid pop name lookup errors\n",
    "    \n",
    "    elements = wrap_defaultdict(None, 3)\n",
    "    for env,loci in keep.items():\n",
    "        interloci = set(loci).intersection(freqs.index)  # don't want whole table - need because freqs is a chunk\n",
    "        for garden in pbar(popenvdata.index, desc=env):\n",
    "            for pop in freqs.columns:\n",
    "                elements[env][garden][pop] = calc_rona_elements(garden,\n",
    "                                                                env,\n",
    "                                                                pop,\n",
    "                                                                freqs.loc[interloci])\n",
    "    return elements\n",
    "dview['keep'] = dict(keep)\n",
    "dview['pbar'] = pbar"
   ]
  },
  {
   "cell_type": "code",
   "execution_count": 17,
   "id": "84b0b958",
   "metadata": {
    "scrolled": true
   },
   "outputs": [
    {
     "name": "stderr",
     "output_type": "stream",
     "text": [
      "sal_opt: 100%|███████████████| 100/100 [00:02<00:00, 41.74it/s]\n",
      "temp_opt: 100%|███████████████| 100/100 [00:04<00:00, 24.95it/s]\n"
     ]
    },
    {
     "data": {
      "text/plain": [
       "{'LG1-125': 0.27800000534539465,\n",
       " 'LG1-198': 0.28236367447605504,\n",
       " 'LG1-148': 0.2770909149644027,\n",
       " 'LG1-222': 0.28236367447605504,\n",
       " 'LG1-185': 0.28236367447605504,\n",
       " 'LG1-358': 0.2869091263810141,\n",
       " 'LG1-67': 0.4561817937379841}"
      ]
     },
     "execution_count": 17,
     "metadata": {},
     "output_type": "execute_result"
    }
   ],
   "source": [
    "# test function\n",
    "output = get_rona_elements(\n",
    "    pd.read_table(freqfile, nrows=10, index_col=0)\n",
    ")\n",
    "\n",
    "output['temp_opt'][1][5]"
   ]
  },
  {
   "cell_type": "code",
   "execution_count": 18,
   "id": "d18b3408",
   "metadata": {},
   "outputs": [
    {
     "name": "stdout",
     "output_type": "stream",
     "text": [
      "\u001b[1m\n",
      "Watching 55 parallel_read() jobs ...\u001b[0m\n"
     ]
    },
    {
     "name": "stderr",
     "output_type": "stream",
     "text": [
      "1231094_plusneut_MAF01.recode2.vcf_GFready_pooled_all.txt: 100%|███████████████| 55/55 [01:40<00:00,  1.83s/it\n"
     ]
    },
    {
     "name": "stdout",
     "output_type": "stream",
     "text": [
      "Function `parallel_read` completed after : 0-00:01:48\n"
     ]
    },
    {
     "name": "stderr",
     "output_type": "stream",
     "text": [
      "extracting element data: 100%|███████████████| 55/55 [00:21<00:00,  2.55it/s]\n"
     ]
    }
   ],
   "source": [
    "# calculate rona elements in parallel\n",
    "jobs = parallel_read(freqfile,\n",
    "                     lview=lview,\n",
    "                     dview=dview,\n",
    "                     verbose=False,\n",
    "                     index_col=0,\n",
    "                     functions=create_fundict(get_rona_elements),\n",
    "                     maintain_dataframe=False)\n",
    "\n",
    "# gather elements\n",
    "rona_elements = wrap_defaultdict(dict, 3)\n",
    "for j in pbar(jobs, desc='extracting element data'):\n",
    "    for env,gardendict in j.items():\n",
    "        for garden,popdict in gardendict.items():\n",
    "            for pop,elementdict in popdict.items():\n",
    "                # `elementdict` is returned from `calc_rona_elements` - key=locus, val=summation_element\n",
    "                rona_elements[env][garden][pop].update(elementdict)\n",
    "\n"
   ]
  },
  {
   "cell_type": "code",
   "execution_count": 19,
   "id": "2861b131",
   "metadata": {},
   "outputs": [
    {
     "name": "stderr",
     "output_type": "stream",
     "text": [
      "sal_opt: 100%|███████████████| 100/100 [00:05<00:00, 17.72it/s]\n",
      "temp_opt: 100%|███████████████| 100/100 [07:20<00:00,  4.40s/it]\n"
     ]
    }
   ],
   "source": [
    "# Calculate the real rona by summing and averaging elements\n",
    "\n",
    "rona = wrap_defaultdict(None, 3)  # one RONA per pop per climate\n",
    "rona_loci_counts = wrap_defaultdict(None, 3)\n",
    "all_counts = wrap_defaultdict(list, 2)\n",
    "\n",
    "for env,gardendict in rona_elements.items():\n",
    "    for garden,popdict in pbar(gardendict.items(), desc=env):\n",
    "        for pop,elementdict in popdict.items():\n",
    "            # make sure I got what I was expecting to get - number of loci with sig linear models\n",
    "            assert len(elementdict) == len(keep[env])\n",
    "\n",
    "            # for each group of loci, calc RONA by according to equation above by \n",
    "                # averaging rona_elements while accounting for missing data\n",
    "            \n",
    "            # get all of the typical summation elements for loci within `keep[env]` that have sig models\n",
    "                # these should all be in `elementdict.keys()`\n",
    "            interloci = set(keep[env]).intersection(elementdict.keys())\n",
    "            assert len(interloci) == len(keep[env]) == len(elementdict.keys())\n",
    "            \n",
    "            elements = [elementdict[locus] for locus in interloci]\n",
    "            if sum(el==el for el in elements) > 0:\n",
    "                # if at least one instance of non-np.nan data:\n",
    "                _mean = np.nanmean(elements)  # np.nanmean accounts for missing data\n",
    "            else:\n",
    "                # avoid RuntimeWarning: Mean of empty slice\n",
    "                # this happens when a pop has missing data at all of the few number of loci given (eg 2)\n",
    "                    # and each `el` in `elements` was therefore `np.nan`\n",
    "                    # this would only happen with empirical data ++ when the loci set is very small\n",
    "                _mean = np.nan\n",
    "                \n",
    "            rona[env][garden][pop] = _mean\n",
    "            rona_loci_counts[env][garden][pop] = len(interloci)\n",
    "            all_counts[garden][env].append(interloci)"
   ]
  },
  {
   "cell_type": "code",
   "execution_count": null,
   "id": "eb6a41a6",
   "metadata": {},
   "outputs": [],
   "source": []
  },
  {
   "cell_type": "code",
   "execution_count": 20,
   "id": "194b794d",
   "metadata": {},
   "outputs": [
    {
     "data": {
      "text/plain": [
       "'/work/lotterhos/MVP-Offsets/practice_slim/training/RONA/1231094_RONA_results.pkl'"
      ]
     },
     "execution_count": 20,
     "metadata": {},
     "output_type": "execute_result"
    }
   ],
   "source": [
    "# save RONA results\n",
    "rona_file = op.join(rona_dir, f'{seed}_RONA_results.pkl')\n",
    "pkldump(rona, rona_file)\n",
    "\n",
    "rona_file"
   ]
  },
  {
   "cell_type": "code",
   "execution_count": 21,
   "id": "46468e98",
   "metadata": {},
   "outputs": [
    {
     "data": {
      "text/plain": [
       "'/work/lotterhos/MVP-Offsets/practice_slim/training/RONA/1231094_RONA_loci_counts.pkl'"
      ]
     },
     "execution_count": 21,
     "metadata": {},
     "output_type": "execute_result"
    }
   ],
   "source": [
    "# save this - do I really need to save it?\n",
    "countfile = op.join(rona_dir, f'{seed}_RONA_loci_counts.pkl')\n",
    "pkldump(rona_loci_counts, countfile)\n",
    "\n",
    "countfile"
   ]
  },
  {
   "cell_type": "code",
   "execution_count": null,
   "id": "ecc22036",
   "metadata": {},
   "outputs": [],
   "source": []
  },
  {
   "cell_type": "code",
   "execution_count": null,
   "id": "ee73b15a",
   "metadata": {},
   "outputs": [],
   "source": []
  },
  {
   "cell_type": "code",
   "execution_count": 22,
   "id": "cb728a65",
   "metadata": {},
   "outputs": [
    {
     "data": {
      "text/plain": [
       "'0-00:09:55'"
      ]
     },
     "execution_count": 22,
     "metadata": {},
     "output_type": "execute_result"
    }
   ],
   "source": [
    "# how long did this take?\n",
    "formatclock(dt.now() - t1, exact=True)"
   ]
  },
  {
   "cell_type": "code",
   "execution_count": null,
   "id": "f5084f6b",
   "metadata": {},
   "outputs": [],
   "source": []
  },
  {
   "cell_type": "code",
   "execution_count": null,
   "id": "723cc6a4",
   "metadata": {},
   "outputs": [],
   "source": []
  },
  {
   "cell_type": "code",
   "execution_count": null,
   "id": "8b4c708e",
   "metadata": {},
   "outputs": [],
   "source": []
  },
  {
   "cell_type": "code",
   "execution_count": null,
   "id": "b61038b0",
   "metadata": {},
   "outputs": [],
   "source": []
  },
  {
   "cell_type": "code",
   "execution_count": null,
   "id": "b463d99e",
   "metadata": {},
   "outputs": [],
   "source": []
  },
  {
   "cell_type": "code",
   "execution_count": null,
   "id": "94889026",
   "metadata": {},
   "outputs": [],
   "source": []
  },
  {
   "cell_type": "code",
   "execution_count": null,
   "id": "bd731a3f",
   "metadata": {},
   "outputs": [],
   "source": []
  },
  {
   "cell_type": "code",
   "execution_count": null,
   "id": "6418107a",
   "metadata": {},
   "outputs": [],
   "source": []
  }
 ],
 "metadata": {
  "kernelspec": {
   "display_name": "Python 3 (ipykernel)",
   "language": "python",
   "name": "python3"
  },
  "language_info": {
   "codemirror_mode": {
    "name": "ipython",
    "version": 3
   },
   "file_extension": ".py",
   "mimetype": "text/x-python",
   "name": "python",
   "nbconvert_exporter": "python",
   "pygments_lexer": "ipython3",
   "version": "3.8.5"
  }
 },
 "nbformat": 4,
 "nbformat_minor": 5
}
