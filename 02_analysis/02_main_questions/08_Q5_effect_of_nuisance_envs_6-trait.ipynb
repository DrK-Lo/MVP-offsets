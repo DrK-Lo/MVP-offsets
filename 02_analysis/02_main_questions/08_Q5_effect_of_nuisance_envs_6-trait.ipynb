{
 "cells": [
  {
   "cell_type": "markdown",
   "id": "c4795187",
   "metadata": {},
   "source": [
    "### purpose \n",
    "\n",
    "visualize results across methods for multivariate nuis runs and compare to 0-nuisance runs for 6-trait runs"
   ]
  },
  {
   "cell_type": "code",
   "execution_count": 1,
   "id": "9af2d5cb",
   "metadata": {},
   "outputs": [
    {
     "name": "stdout",
     "output_type": "stream",
     "text": [
      "#########################################################\n",
      "Today:\tOctober 04, 2023 - 14:16:52 EDT\n",
      "python version: 3.8.5\n",
      "conda env: mvp_env\n",
      "\n",
      "Current commit of \u001b[1mpythonimports\u001b[0m:\n",
      "\u001b[33mcommit 9493334506a1f2926fba0734fa74ba2f87194611\u001b[m  \n",
      "Author: Brandon Lind <lind.brandon.m@gmail.com>  \n",
      "Date:   Fri Jun 30 09:41:00 2023 -0400\n",
      "\n",
      "Current commit of \u001b[94m\u001b[1mMVP_offsets\u001b[0m\u001b[0m:\n",
      "\u001b[33mcommit 782ee79eada654ce337935bf61a0984cd76dd9cf\u001b[m  \n",
      "Author: Brandon Lind <lind.brandon.m@gmail.com>  \n",
      "Date:   Wed Oct 4 14:13:12 2023 -0400\n",
      "#########################################################\n",
      "\n"
     ]
    },
    {
     "data": {
      "text/html": [
       "<details>\n",
       "<summary>Click to view session information</summary>\n",
       "<pre>\n",
       "-----\n",
       "MVP_summary_functions       NA\n",
       "balance_queue               NA\n",
       "cartopy                     0.20.2\n",
       "ipyparallel                 7.1.0\n",
       "matplotlib                  3.5.2\n",
       "myclasses                   NA\n",
       "myfigs                      NA\n",
       "mymaps                      NA\n",
       "myslurm                     NA\n",
       "numpy                       1.22.1\n",
       "pandas                      1.3.5\n",
       "pythonimports               NA\n",
       "seaborn                     0.11.2\n",
       "session_info                1.0.0\n",
       "tqdm                        4.62.1\n",
       "-----\n",
       "</pre>\n",
       "<details>\n",
       "<summary>Click to view modules imported as dependencies</summary>\n",
       "<pre>\n",
       "MVP_01_train_gradient_forests       NA\n",
       "MVP_10_train_lfmm2_offset           NA\n",
       "PIL                                 8.4.0\n",
       "backcall                            0.2.0\n",
       "beta_ufunc                          NA\n",
       "binom_ufunc                         NA\n",
       "bottleneck                          1.3.2\n",
       "certifi                             2023.05.07\n",
       "cffi                                1.15.0\n",
       "cycler                              0.10.0\n",
       "cython_runtime                      NA\n",
       "dateutil                            2.8.2\n",
       "debugpy                             1.5.1\n",
       "decorator                           5.1.1\n",
       "defusedxml                          0.7.1\n",
       "entrypoints                         0.4\n",
       "fontTools                           4.29.1\n",
       "ipykernel                           6.8.0\n",
       "ipython_genutils                    0.2.0\n",
       "ipywidgets                          7.6.5\n",
       "jedi                                0.18.1\n",
       "kiwisolver                          1.3.2\n",
       "matplotlib_venn                     0.11.6\n",
       "mpl_toolkits                        NA\n",
       "nbinom_ufunc                        NA\n",
       "numexpr                             2.8.1\n",
       "packaging                           21.3\n",
       "parso                               0.8.3\n",
       "patsy                               0.5.2\n",
       "pdf2image                           NA\n",
       "pexpect                             4.8.0\n",
       "pickleshare                         0.7.5\n",
       "pkg_resources                       NA\n",
       "prompt_toolkit                      3.0.26\n",
       "psutil                              5.9.0\n",
       "ptyprocess                          0.7.0\n",
       "pydev_ipython                       NA\n",
       "pydevconsole                        NA\n",
       "pydevd                              2.6.0\n",
       "pydevd_concurrency_analyser         NA\n",
       "pydevd_file_utils                   NA\n",
       "pydevd_plugins                      NA\n",
       "pydevd_tracing                      NA\n",
       "pygments                            2.11.2\n",
       "pyparsing                           3.0.7\n",
       "pyproj                              3.3.0\n",
       "pytz                                2021.3\n",
       "scipy                               1.7.3\n",
       "setuptools                          60.7.1\n",
       "shapefile                           2.2.0\n",
       "shapely                             1.8.0\n",
       "six                                 1.16.0\n",
       "statsmodels                         0.14.0\n",
       "storemagic                          NA\n",
       "tornado                             6.1\n",
       "traitlets                           5.1.1\n",
       "wcwidth                             0.2.5\n",
       "zmq                                 22.3.0\n",
       "</pre>\n",
       "</details> <!-- seems like this ends pre, so might as well be explicit -->\n",
       "<pre>\n",
       "-----\n",
       "IPython             7.31.1\n",
       "jupyter_client      7.1.2\n",
       "jupyter_core        4.9.1\n",
       "notebook            6.4.8\n",
       "-----\n",
       "Python 3.8.5 (default, Sep  4 2020, 07:30:14) [GCC 7.3.0]\n",
       "Linux-3.10.0-1160.25.1.el7.x86_64-x86_64-with-glibc2.10\n",
       "-----\n",
       "Session information updated at 2023-10-04 14:16\n",
       "</pre>\n",
       "</details>"
      ],
      "text/plain": [
       "<IPython.core.display.HTML object>"
      ]
     },
     "execution_count": 1,
     "metadata": {},
     "output_type": "execute_result"
    }
   ],
   "source": [
    "from pythonimports import *\n",
    "from myfigs import adjust_box_widths, save_pdf\n",
    "\n",
    "import MVP_summary_functions as mvp\n",
    "\n",
    "import seaborn as sns\n",
    "import itertools as it\n",
    "plt.rcParams.update({'font.family' : 'serif'})\n",
    "\n",
    "t0 = dt.now()  # notebook timer\n",
    "\n",
    "outerdir = '/home/b.lind/offsets/run_20220919_nuisance/tutorial'\n",
    "summary_dir = '/work/lotterhos/MVP-Offsets/run_20220919/summaries'\n",
    "fig_dir = makedir(f'{summary_dir}/07_experiments/02_nuisance_envs/15_visualize_multivariate_nuis_results')\n",
    "\n",
    "mvp.latest_commit()\n",
    "session_info.show()"
   ]
  },
  {
   "cell_type": "markdown",
   "id": "c053d20e",
   "metadata": {},
   "source": [
    "# Get scores"
   ]
  },
  {
   "cell_type": "code",
   "execution_count": 2,
   "id": "e9115000",
   "metadata": {},
   "outputs": [
    {
     "data": {
      "text/plain": [
       "['/home/b.lind/offsets/run_20220919_nuisance/tutorial/gradient_forests',\n",
       " '/home/b.lind/offsets/run_20220919_nuisance/tutorial/lfmm2',\n",
       " '/home/b.lind/offsets/run_20220919_nuisance/tutorial/rda']"
      ]
     },
     "execution_count": 2,
     "metadata": {},
     "output_type": "execute_result"
    }
   ],
   "source": [
    "# get nuisance validation scores\n",
    "program_dirs = fs(outerdir, exclude='pca')\n",
    "\n",
    "program_dirs"
   ]
  },
  {
   "cell_type": "code",
   "execution_count": 3,
   "id": "b67d2e4b",
   "metadata": {},
   "outputs": [],
   "source": [
    "validations = []\n",
    "programs = []\n",
    "for d in program_dirs:\n",
    "    program = op.basename(d)\n",
    "    df = pd.read_table(f'{d}/validation/tutorial_validation_scores.txt')\n",
    "    if 'program' not in df.columns.tolist():\n",
    "        print(program)\n",
    "        df['program'] = program\n",
    "    df['nuis_envs'] = '6-trait 3-nuisance'\n",
    "        \n",
    "    validations.append(df)\n",
    "    \n",
    "    programs.append(program)"
   ]
  },
  {
   "cell_type": "code",
   "execution_count": 4,
   "id": "f41fb87b",
   "metadata": {},
   "outputs": [],
   "source": [
    "# get non-nuisance validation scores\n",
    "for program in programs:\n",
    "    file = f'/home/b.lind/offsets/run_20220919_tutorial/{program}/validation/tutorial_validation_scores.txt'\n",
    "    df = pd.read_table(file)\n",
    "    if 'program' not in df.columns.tolist():\n",
    "        print(program)\n",
    "        df['program'] = program\n",
    "    df['nuis_envs'] = '6-trait 0-nuisance'\n",
    "    \n",
    "    validations.append(df)"
   ]
  },
  {
   "cell_type": "code",
   "execution_count": 5,
   "id": "5186b961",
   "metadata": {},
   "outputs": [
    {
     "data": {
      "text/html": [
       "<div>\n",
       "<style scoped>\n",
       "    .dataframe tbody tr th:only-of-type {\n",
       "        vertical-align: middle;\n",
       "    }\n",
       "\n",
       "    .dataframe tbody tr th {\n",
       "        vertical-align: top;\n",
       "    }\n",
       "\n",
       "    .dataframe thead th {\n",
       "        text-align: right;\n",
       "    }\n",
       "</style>\n",
       "<table border=\"1\" class=\"dataframe\">\n",
       "  <thead>\n",
       "    <tr style=\"text-align: right;\">\n",
       "      <th></th>\n",
       "      <th>index</th>\n",
       "      <th>seed</th>\n",
       "      <th>ind_or_pooled</th>\n",
       "      <th>marker_set</th>\n",
       "      <th>garden</th>\n",
       "      <th>score</th>\n",
       "      <th>program</th>\n",
       "      <th>nuis_envs</th>\n",
       "      <th>ntraits</th>\n",
       "      <th>structcorr</th>\n",
       "    </tr>\n",
       "  </thead>\n",
       "  <tbody>\n",
       "    <tr>\n",
       "      <th>0</th>\n",
       "      <td>0</td>\n",
       "      <td>tutorial</td>\n",
       "      <td>pooled</td>\n",
       "      <td>adaptive</td>\n",
       "      <td>1</td>\n",
       "      <td>-0.839297</td>\n",
       "      <td>GF</td>\n",
       "      <td>6-trait 3-nuisance</td>\n",
       "      <td>NaN</td>\n",
       "      <td>NaN</td>\n",
       "    </tr>\n",
       "    <tr>\n",
       "      <th>1</th>\n",
       "      <td>1</td>\n",
       "      <td>tutorial</td>\n",
       "      <td>pooled</td>\n",
       "      <td>adaptive</td>\n",
       "      <td>2</td>\n",
       "      <td>-0.803961</td>\n",
       "      <td>GF</td>\n",
       "      <td>6-trait 3-nuisance</td>\n",
       "      <td>NaN</td>\n",
       "      <td>NaN</td>\n",
       "    </tr>\n",
       "    <tr>\n",
       "      <th>2</th>\n",
       "      <td>2</td>\n",
       "      <td>tutorial</td>\n",
       "      <td>pooled</td>\n",
       "      <td>adaptive</td>\n",
       "      <td>3</td>\n",
       "      <td>-0.831902</td>\n",
       "      <td>GF</td>\n",
       "      <td>6-trait 3-nuisance</td>\n",
       "      <td>NaN</td>\n",
       "      <td>NaN</td>\n",
       "    </tr>\n",
       "    <tr>\n",
       "      <th>3</th>\n",
       "      <td>3</td>\n",
       "      <td>tutorial</td>\n",
       "      <td>pooled</td>\n",
       "      <td>adaptive</td>\n",
       "      <td>4</td>\n",
       "      <td>-0.754900</td>\n",
       "      <td>GF</td>\n",
       "      <td>6-trait 3-nuisance</td>\n",
       "      <td>NaN</td>\n",
       "      <td>NaN</td>\n",
       "    </tr>\n",
       "    <tr>\n",
       "      <th>4</th>\n",
       "      <td>4</td>\n",
       "      <td>tutorial</td>\n",
       "      <td>pooled</td>\n",
       "      <td>adaptive</td>\n",
       "      <td>5</td>\n",
       "      <td>-0.739012</td>\n",
       "      <td>GF</td>\n",
       "      <td>6-trait 3-nuisance</td>\n",
       "      <td>NaN</td>\n",
       "      <td>NaN</td>\n",
       "    </tr>\n",
       "    <tr>\n",
       "      <th>...</th>\n",
       "      <td>...</td>\n",
       "      <td>...</td>\n",
       "      <td>...</td>\n",
       "      <td>...</td>\n",
       "      <td>...</td>\n",
       "      <td>...</td>\n",
       "      <td>...</td>\n",
       "      <td>...</td>\n",
       "      <td>...</td>\n",
       "      <td>...</td>\n",
       "    </tr>\n",
       "    <tr>\n",
       "      <th>2795</th>\n",
       "      <td>795</td>\n",
       "      <td>tutorial</td>\n",
       "      <td>pooled</td>\n",
       "      <td>rda_outliers</td>\n",
       "      <td>96</td>\n",
       "      <td>-0.615214</td>\n",
       "      <td>rda-structcorr</td>\n",
       "      <td>6-trait 0-nuisance</td>\n",
       "      <td>ntraits-6</td>\n",
       "      <td>structcorr</td>\n",
       "    </tr>\n",
       "    <tr>\n",
       "      <th>2796</th>\n",
       "      <td>796</td>\n",
       "      <td>tutorial</td>\n",
       "      <td>pooled</td>\n",
       "      <td>rda_outliers</td>\n",
       "      <td>97</td>\n",
       "      <td>-0.573997</td>\n",
       "      <td>rda-structcorr</td>\n",
       "      <td>6-trait 0-nuisance</td>\n",
       "      <td>ntraits-6</td>\n",
       "      <td>structcorr</td>\n",
       "    </tr>\n",
       "    <tr>\n",
       "      <th>2797</th>\n",
       "      <td>797</td>\n",
       "      <td>tutorial</td>\n",
       "      <td>pooled</td>\n",
       "      <td>rda_outliers</td>\n",
       "      <td>98</td>\n",
       "      <td>-0.567906</td>\n",
       "      <td>rda-structcorr</td>\n",
       "      <td>6-trait 0-nuisance</td>\n",
       "      <td>ntraits-6</td>\n",
       "      <td>structcorr</td>\n",
       "    </tr>\n",
       "    <tr>\n",
       "      <th>2798</th>\n",
       "      <td>798</td>\n",
       "      <td>tutorial</td>\n",
       "      <td>pooled</td>\n",
       "      <td>rda_outliers</td>\n",
       "      <td>99</td>\n",
       "      <td>-0.622891</td>\n",
       "      <td>rda-structcorr</td>\n",
       "      <td>6-trait 0-nuisance</td>\n",
       "      <td>ntraits-6</td>\n",
       "      <td>structcorr</td>\n",
       "    </tr>\n",
       "    <tr>\n",
       "      <th>2799</th>\n",
       "      <td>799</td>\n",
       "      <td>tutorial</td>\n",
       "      <td>pooled</td>\n",
       "      <td>rda_outliers</td>\n",
       "      <td>100</td>\n",
       "      <td>-0.606710</td>\n",
       "      <td>rda-structcorr</td>\n",
       "      <td>6-trait 0-nuisance</td>\n",
       "      <td>ntraits-6</td>\n",
       "      <td>structcorr</td>\n",
       "    </tr>\n",
       "  </tbody>\n",
       "</table>\n",
       "<p>2800 rows × 10 columns</p>\n",
       "</div>"
      ],
      "text/plain": [
       "      index      seed ind_or_pooled    marker_set  garden     score  \\\n",
       "0         0  tutorial        pooled      adaptive       1 -0.839297   \n",
       "1         1  tutorial        pooled      adaptive       2 -0.803961   \n",
       "2         2  tutorial        pooled      adaptive       3 -0.831902   \n",
       "3         3  tutorial        pooled      adaptive       4 -0.754900   \n",
       "4         4  tutorial        pooled      adaptive       5 -0.739012   \n",
       "...     ...       ...           ...           ...     ...       ...   \n",
       "2795    795  tutorial        pooled  rda_outliers      96 -0.615214   \n",
       "2796    796  tutorial        pooled  rda_outliers      97 -0.573997   \n",
       "2797    797  tutorial        pooled  rda_outliers      98 -0.567906   \n",
       "2798    798  tutorial        pooled  rda_outliers      99 -0.622891   \n",
       "2799    799  tutorial        pooled  rda_outliers     100 -0.606710   \n",
       "\n",
       "             program           nuis_envs    ntraits  structcorr  \n",
       "0                 GF  6-trait 3-nuisance        NaN         NaN  \n",
       "1                 GF  6-trait 3-nuisance        NaN         NaN  \n",
       "2                 GF  6-trait 3-nuisance        NaN         NaN  \n",
       "3                 GF  6-trait 3-nuisance        NaN         NaN  \n",
       "4                 GF  6-trait 3-nuisance        NaN         NaN  \n",
       "...              ...                 ...        ...         ...  \n",
       "2795  rda-structcorr  6-trait 0-nuisance  ntraits-6  structcorr  \n",
       "2796  rda-structcorr  6-trait 0-nuisance  ntraits-6  structcorr  \n",
       "2797  rda-structcorr  6-trait 0-nuisance  ntraits-6  structcorr  \n",
       "2798  rda-structcorr  6-trait 0-nuisance  ntraits-6  structcorr  \n",
       "2799  rda-structcorr  6-trait 0-nuisance  ntraits-6  structcorr  \n",
       "\n",
       "[2800 rows x 10 columns]"
      ]
     },
     "execution_count": 5,
     "metadata": {},
     "output_type": "execute_result"
    }
   ],
   "source": [
    "# combine nuisance and non-nuisance into a single dataframe\n",
    "validation = pd.concat(validations).reset_index(drop=False)\n",
    "\n",
    "validation"
   ]
  },
  {
   "cell_type": "code",
   "execution_count": 6,
   "id": "d8ceec43",
   "metadata": {},
   "outputs": [
    {
     "data": {
      "text/plain": [
       "array(['adaptive', 'all', 'neutral', 'rda_outliers'], dtype=object)"
      ]
     },
     "execution_count": 6,
     "metadata": {},
     "output_type": "execute_result"
    }
   ],
   "source": [
    "# leave in rda_outliers for now\n",
    "validation.marker_set.unique()"
   ]
  },
  {
   "cell_type": "code",
   "execution_count": 7,
   "id": "544fa604",
   "metadata": {},
   "outputs": [
    {
     "data": {
      "text/plain": [
       "2400"
      ]
     },
     "execution_count": 7,
     "metadata": {},
     "output_type": "execute_result"
    }
   ],
   "source": [
    "sum(validation.marker_set != 'rda_outliers')"
   ]
  },
  {
   "cell_type": "code",
   "execution_count": 8,
   "id": "20100da6",
   "metadata": {},
   "outputs": [
    {
     "data": {
      "text/plain": [
       "6-trait 3-nuisance    1200\n",
       "6-trait 0-nuisance    1200\n",
       "Name: nuis_envs, dtype: int64"
      ]
     },
     "execution_count": 8,
     "metadata": {},
     "output_type": "execute_result"
    }
   ],
   "source": [
    "# number matches Fig 1D? A: yes!\n",
    "validation[validation.marker_set != 'rda_outliers'].nuis_envs.value_counts()"
   ]
  },
  {
   "cell_type": "code",
   "execution_count": null,
   "id": "b0099ad4",
   "metadata": {},
   "outputs": [],
   "source": []
  },
  {
   "cell_type": "markdown",
   "id": "bb840ecc",
   "metadata": {},
   "source": [
    "# visualize"
   ]
  },
  {
   "cell_type": "code",
   "execution_count": 9,
   "id": "7cf08ab8",
   "metadata": {},
   "outputs": [],
   "source": [
    "# mvp.boxplot_kwargs['palette'].update({\n",
    "#     '6-trait 0-nuisance' : '#157f3b',\n",
    "#     '6-trait 3-nuisance' : '#006428'\n",
    "# })\n",
    "\n",
    "mvp.factor_names.update({\n",
    "    '6-trait 0-nuisance' : '6-trait 0-nuisance',\n",
    "    '6-trait 3-nuisance' : '6-trait 3-nuisance',\n",
    "    '6-trait' : 'Nuisance\\nLevel'\n",
    "})"
   ]
  },
  {
   "cell_type": "code",
   "execution_count": null,
   "id": "350275d8",
   "metadata": {},
   "outputs": [],
   "source": []
  },
  {
   "cell_type": "code",
   "execution_count": 22,
   "id": "8e884511",
   "metadata": {},
   "outputs": [],
   "source": [
    "def cleanup_fig(g, xlabel=\"Landscape\", loc='center left', bbox_to_anchor=None, color_by=None, fontsize=11,\n",
    "                ncol=1, replace=None, figsize=(8, 4), one_trait=False, title=None):\n",
    "    \"\"\"Make the fig look rull pretty.\"\"\"\n",
    "    \n",
    "    g.figure.set_size_inches(figsize)\n",
    "    \n",
    "    adjust_box_widths(list(g.axes[0]), 0.85)\n",
    "    \n",
    "    g.set(ylim=(0.65, -1),\n",
    "          yticks=mvp.ytick_labels,\n",
    "          yticklabels=mvp.ytick_labels)\n",
    "    \n",
    "    if title is not None:\n",
    "        g.set(title=title)\n",
    "    \n",
    "    g.set_axis_labels(xlabel, \"Performance (Kendall's $\\\\tau$)\", fontsize=12)\n",
    "\n",
    "    mvp.jitter_fliers(g)\n",
    "    \n",
    "    # line at tau = 0\n",
    "    for ax in g.axes[0]:\n",
    "        ax.axhline(0, linestyle='--', color='gainsboro', linewidth=1, zorder=0)\n",
    "\n",
    "    mvp.add_legend(g.figure, color_by=color_by, loc=loc, bbox_to_anchor=bbox_to_anchor, fontsize=fontsize,\n",
    "                   ncol=ncol, one_trait=one_trait\n",
    "                  )\n",
    "    \n",
    "    g.tight_layout()\n",
    "    \n",
    "    mvp.update_ticklabels(g.axes.flat[0], replace=replace)\n",
    "    \n",
    "    pass\n",
    "        "
   ]
  },
  {
   "cell_type": "code",
   "execution_count": 27,
   "id": "aa747337",
   "metadata": {
    "scrolled": false
   },
   "outputs": [
    {
     "name": "stdout",
     "output_type": "stream",
     "text": [
      "\u001b[1mSaved to: \u001b[0m /work/lotterhos/MVP-Offsets/run_20220919/summaries/07_experiments/02_nuisance_envs/15_visualize_multivariate_nuis_results/6-trait_program_by_nuisance-level.pdf\n"
     ]
    },
    {
     "data": {
      "image/png": "[encoded data removed]",
      "text/plain": [
       "<Figure size 800x400 with 1 Axes>"
      ]
     },
     "metadata": {},
     "output_type": "display_data"
    }
   ],
   "source": [
    "g = sns.catplot(\n",
    "    data=validation,\n",
    "    y='score',\n",
    "    x='program',\n",
    "    order=mvp.hue_order['program'][2:],\n",
    "    hue='nuis_envs',\n",
    "    hue_order=['6-trait 0-nuisance', '6-trait 3-nuisance'],\n",
    "    kind='box',\n",
    "    legend=False,\n",
    "    **mvp.boxplot_kwargs\n",
    ")\n",
    "\n",
    "g.figure.set_size_inches(8, 4)\n",
    "\n",
    "cleanup_fig(g, bbox_to_anchor=(1, 0.55), color_by='6-trait', fontsize=9, title='6-trait')\n",
    "\n",
    "g.set(xlabel=None)\n",
    "\n",
    "# adjust_box_widths(list(g.axes[0]), 0.85)\n",
    "\n",
    "# g.set_axis_labels(None, \"Performance (Kendall's $\\\\tau$)\", fontsize=12)\n",
    "\n",
    "# g.set(title='6-trait')\n",
    "\n",
    "# mvp.jitter_fliers(g)\n",
    "\n",
    "# for ax in g.axes.flat:\n",
    "#     ax.set_ylim(0.65, -1)\n",
    "# #     ax.invert_yaxis()\n",
    "#     ax.axhline(0, linestyle='--', color='gainsboro', linewidth=1, zorder=0)\n",
    "\n",
    "#     mvp.update_ticklabels(ax)\n",
    "    \n",
    "#     ax.set_xlabel(None)\n",
    "    \n",
    "mvp.add_legend(g.figure, color_by='6-trait', loc='center left', bbox_to_anchor=(1, 0.55), fontsize=9)\n",
    "    \n",
    "save_pdf(f'{fig_dir}/6-trait_program_by_nuisance-level.pdf')"
   ]
  },
  {
   "cell_type": "code",
   "execution_count": null,
   "id": "bf44c785",
   "metadata": {},
   "outputs": [],
   "source": []
  },
  {
   "cell_type": "code",
   "execution_count": 11,
   "id": "01c91a80",
   "metadata": {},
   "outputs": [
    {
     "data": {
      "text/plain": [
       "'0-00:00:01'"
      ]
     },
     "execution_count": 11,
     "metadata": {},
     "output_type": "execute_result"
    }
   ],
   "source": [
    "formatclock(dt.now() - t0)"
   ]
  },
  {
   "cell_type": "code",
   "execution_count": null,
   "id": "00de95af",
   "metadata": {},
   "outputs": [],
   "source": []
  },
  {
   "cell_type": "code",
   "execution_count": null,
   "id": "e74be7b5",
   "metadata": {},
   "outputs": [],
   "source": []
  },
  {
   "cell_type": "code",
   "execution_count": null,
   "id": "985f4d4c",
   "metadata": {},
   "outputs": [],
   "source": []
  },
  {
   "cell_type": "code",
   "execution_count": null,
   "id": "f0288eba",
   "metadata": {},
   "outputs": [],
   "source": []
  },
  {
   "cell_type": "code",
   "execution_count": null,
   "id": "4ab3c9bb",
   "metadata": {},
   "outputs": [],
   "source": []
  }
 ],
 "metadata": {
  "kernelspec": {
   "display_name": "Python 3 (ipykernel)",
   "language": "python",
   "name": "python3"
  },
  "language_info": {
   "codemirror_mode": {
    "name": "ipython",
    "version": 3
   },
   "file_extension": ".py",
   "mimetype": "text/x-python",
   "name": "python",
   "nbconvert_exporter": "python",
   "pygments_lexer": "ipython3",
   "version": "3.8.5"
  }
 },
 "nbformat": 4,
 "nbformat_minor": 5
}
