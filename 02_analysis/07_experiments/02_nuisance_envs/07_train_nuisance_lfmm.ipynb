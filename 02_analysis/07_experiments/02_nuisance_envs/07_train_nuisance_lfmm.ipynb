{
 "cells": [
  {
   "cell_type": "markdown",
   "id": "e30b2712",
   "metadata": {},
   "source": [
    "<a id='home'></a>\n",
    "### purpose\n",
    "\n",
    "train lfmm nuisance\n",
    "\n",
    "\n",
    "### notes\n",
    "\n",
    "- MVP_11_validate_lfmm2_offset.py was updated to exit after `calculate_performance` in `main` to avoid errors from figures\n",
    "- failed jobs were jumpstarted in the normal jumpstart directory"
   ]
  },
  {
   "cell_type": "code",
   "execution_count": 1,
   "id": "bd757614",
   "metadata": {},
   "outputs": [
    {
     "name": "stdout",
     "output_type": "stream",
     "text": [
      "36 36\n",
      "#########################################################\n",
      "Today:\tJune 21, 2023 - 13:49:02 EDT\n",
      "python version: 3.8.5\n",
      "conda env: mvp_env\n",
      "\n",
      "Current commit of \u001b[1mpythonimports\u001b[0m:\n",
      "\u001b[33mcommit eb8d204ff9a40e48b07c184bcc4ff8621804cde6\u001b[m  \n",
      "Author: Brandon Lind <lind.brandon.m@gmail.com>  \n",
      "Date:   Thu Jun 15 14:34:48 2023 -0400\n",
      "\n",
      "Current commit of \u001b[94m\u001b[1mMVP_offsets\u001b[0m\u001b[0m:\n",
      "\u001b[33mcommit 024290cb8c961841537c81afd1a02917b24bc9af\u001b[m  \n",
      "Author: Brandon Lind <lind.brandon.m@gmail.com>  \n",
      "Date:   Mon Jun 12 10:46:56 2023 -0400\n",
      "#########################################################\n",
      "\n"
     ]
    },
    {
     "data": {
      "text/html": [
       "<details>\n",
       "<summary>Click to view session information</summary>\n",
       "<pre>\n",
       "-----\n",
       "MVP_10_train_lfmm2_offset   NA\n",
       "MVP_summary_functions       NA\n",
       "balance_queue               NA\n",
       "cartopy                     0.20.2\n",
       "ipyparallel                 7.1.0\n",
       "matplotlib                  3.5.2\n",
       "myclasses                   NA\n",
       "myfigs                      NA\n",
       "mymaps                      NA\n",
       "myslurm                     NA\n",
       "numpy                       1.22.1\n",
       "pandas                      1.3.5\n",
       "pythonimports               NA\n",
       "session_info                1.0.0\n",
       "tqdm                        4.62.1\n",
       "-----\n",
       "</pre>\n",
       "<details>\n",
       "<summary>Click to view modules imported as dependencies</summary>\n",
       "<pre>\n",
       "MVP_01_train_gradient_forests       NA\n",
       "PIL                                 8.4.0\n",
       "backcall                            0.2.0\n",
       "beta_ufunc                          NA\n",
       "binom_ufunc                         NA\n",
       "bottleneck                          1.3.2\n",
       "certifi                             2023.05.07\n",
       "cffi                                1.15.0\n",
       "cycler                              0.10.0\n",
       "cython_runtime                      NA\n",
       "dateutil                            2.8.2\n",
       "debugpy                             1.5.1\n",
       "decorator                           5.1.1\n",
       "defusedxml                          0.7.1\n",
       "entrypoints                         0.4\n",
       "fontTools                           4.29.1\n",
       "ipykernel                           6.8.0\n",
       "ipython_genutils                    0.2.0\n",
       "ipywidgets                          7.6.5\n",
       "jedi                                0.18.1\n",
       "kiwisolver                          1.3.2\n",
       "matplotlib_venn                     0.11.6\n",
       "mpl_toolkits                        NA\n",
       "nbinom_ufunc                        NA\n",
       "numexpr                             2.8.1\n",
       "packaging                           21.3\n",
       "parso                               0.8.3\n",
       "patsy                               0.5.2\n",
       "pexpect                             4.8.0\n",
       "pickleshare                         0.7.5\n",
       "pkg_resources                       NA\n",
       "prompt_toolkit                      3.0.26\n",
       "psutil                              5.9.0\n",
       "ptyprocess                          0.7.0\n",
       "pydev_ipython                       NA\n",
       "pydevconsole                        NA\n",
       "pydevd                              2.6.0\n",
       "pydevd_concurrency_analyser         NA\n",
       "pydevd_file_utils                   NA\n",
       "pydevd_plugins                      NA\n",
       "pydevd_tracing                      NA\n",
       "pygments                            2.11.2\n",
       "pyparsing                           3.0.7\n",
       "pyproj                              3.3.0\n",
       "pytz                                2021.3\n",
       "scipy                               1.7.3\n",
       "seaborn                             0.11.2\n",
       "setuptools                          60.7.1\n",
       "shapefile                           2.2.0\n",
       "shapely                             1.8.0\n",
       "six                                 1.16.0\n",
       "statsmodels                         0.14.0\n",
       "storemagic                          NA\n",
       "tornado                             6.1\n",
       "traitlets                           5.1.1\n",
       "wcwidth                             0.2.5\n",
       "zmq                                 22.3.0\n",
       "</pre>\n",
       "</details> <!-- seems like this ends pre, so might as well be explicit -->\n",
       "<pre>\n",
       "-----\n",
       "IPython             7.31.1\n",
       "jupyter_client      7.1.2\n",
       "jupyter_core        4.9.1\n",
       "notebook            6.4.8\n",
       "-----\n",
       "Python 3.8.5 (default, Sep  4 2020, 07:30:14) [GCC 7.3.0]\n",
       "Linux-3.10.0-1160.25.1.el7.x86_64-x86_64-with-glibc2.10\n",
       "-----\n",
       "Session information updated at 2023-06-21 13:49\n",
       "</pre>\n",
       "</details>"
      ],
      "text/plain": [
       "<IPython.core.display.HTML object>"
      ]
     },
     "execution_count": 1,
     "metadata": {},
     "output_type": "execute_result"
    }
   ],
   "source": [
    "from pythonimports import *\n",
    "\n",
    "import MVP_summary_functions as mvp\n",
    "import MVP_10_train_lfmm2_offset as mvp10\n",
    "\n",
    "run = '0-225'\n",
    "\n",
    "nuis_outerdirs = {\n",
    "    'ISO-PSsd' : f'/home/b.lind/offsets/run_20220919_nuisance/ISO-PSsd_{run}',\n",
    "    'ISO-TSsd-PSsd' : f'/home/b.lind/offsets/run_20220919_nuisance/ISO-TSsd-PSsd_{run}'\n",
    "}\n",
    "\n",
    "lfmm_dirs = {}\n",
    "for nuis_envs, outerdir in nuis_outerdirs.items():\n",
    "    lfmm_dirs[nuis_envs] = makedir(f'{outerdir}/lfmm2')\n",
    "    \n",
    "old_outerdir = f'/home/b.lind/offsets/run_20220919_{run}'\n",
    "\n",
    "lview, dview = get_client(cluster_id='1687360014-lvhz', profile='lotterhos')\n",
    "\n",
    "mvp.latest_commit()\n",
    "session_info.show()"
   ]
  },
  {
   "cell_type": "markdown",
   "id": "6e1b1e24",
   "metadata": {},
   "source": [
    "# symlink input genotype files"
   ]
  },
  {
   "cell_type": "code",
   "execution_count": 2,
   "id": "94ce028d",
   "metadata": {},
   "outputs": [],
   "source": [
    "old_slimdir = f'{old_outerdir}/slimdir'\n",
    "genofiles = fs(old_slimdir, endswith='_genotypes.lfmm')\n",
    "\n",
    "assert len(genofiles) == 225"
   ]
  },
  {
   "cell_type": "code",
   "execution_count": 3,
   "id": "23c258ee",
   "metadata": {},
   "outputs": [],
   "source": [
    "for nuis_envs, outerdir in nuis_outerdirs.items():\n",
    "    slimdir = f'{outerdir}/slimdir'  # already exists from other runs\n",
    "    \n",
    "    for src in genofiles:\n",
    "        real_src = op.realpath(src)\n",
    "        basename = op.basename(real_src)\n",
    "        \n",
    "        dst = f'{slimdir}/{basename}'\n",
    "        \n",
    "        if not op.exists(dst):\n",
    "            os.symlink(real_src, dst)"
   ]
  },
  {
   "cell_type": "markdown",
   "id": "a618a9b2",
   "metadata": {},
   "source": [
    "# symlink the temp RDS files\n",
    "\n",
    "from Katie's output, used to find K for lfmm::genetic.offset"
   ]
  },
  {
   "cell_type": "code",
   "execution_count": 4,
   "id": "0d3d745b",
   "metadata": {},
   "outputs": [],
   "source": [
    "old_slimdir = f'{old_outerdir}/slimdir'\n",
    "temp_files = fs(old_slimdir, endswith='_lfmm2_temp.RDS')\n",
    "\n",
    "assert len(temp_files) == 225"
   ]
  },
  {
   "cell_type": "code",
   "execution_count": 5,
   "id": "e1922830",
   "metadata": {},
   "outputs": [],
   "source": [
    "for nuis_envs, outerdir in nuis_outerdirs.items():\n",
    "    slimdir = f'{outerdir}/slimdir'  # already exists from other runs\n",
    "    \n",
    "    for src in temp_files:\n",
    "        real_src = op.realpath(src)\n",
    "        basename = op.basename(real_src)\n",
    "        \n",
    "        dst = f'{slimdir}/{basename}'\n",
    "        \n",
    "        if not op.exists(dst):\n",
    "            os.symlink(real_src, dst)"
   ]
  },
  {
   "cell_type": "code",
   "execution_count": null,
   "id": "cfd11168",
   "metadata": {},
   "outputs": [],
   "source": []
  },
  {
   "cell_type": "markdown",
   "id": "9251fb9b",
   "metadata": {},
   "source": [
    "# create envfiles"
   ]
  },
  {
   "cell_type": "code",
   "execution_count": 6,
   "id": "6301b318",
   "metadata": {},
   "outputs": [
    {
     "name": "stderr",
     "output_type": "stream",
     "text": [
      "sal_opt-temp_opt-ISO-PSsd: 100%|███████████████| 225/225 [00:06<00:00, 35.79it/s]\n",
      "sal_opt-temp_opt-ISO-TSsd-PSsd: 100%|███████████████| 225/225 [00:06<00:00, 36.27it/s]\n"
     ]
    },
    {
     "data": {
      "text/html": [
       "<div>\n",
       "<style scoped>\n",
       "    .dataframe tbody tr th:only-of-type {\n",
       "        vertical-align: middle;\n",
       "    }\n",
       "\n",
       "    .dataframe tbody tr th {\n",
       "        vertical-align: top;\n",
       "    }\n",
       "\n",
       "    .dataframe thead th {\n",
       "        text-align: right;\n",
       "    }\n",
       "</style>\n",
       "<table border=\"1\" class=\"dataframe\">\n",
       "  <thead>\n",
       "    <tr style=\"text-align: right;\">\n",
       "      <th></th>\n",
       "      <th>sal_opt</th>\n",
       "      <th>temp_opt</th>\n",
       "      <th>ISO</th>\n",
       "      <th>TSsd</th>\n",
       "      <th>PSsd</th>\n",
       "    </tr>\n",
       "  </thead>\n",
       "  <tbody>\n",
       "    <tr>\n",
       "      <th>8</th>\n",
       "      <td>-1.0</td>\n",
       "      <td>-1.0</td>\n",
       "      <td>0.009381</td>\n",
       "      <td>-2.245441</td>\n",
       "      <td>1.003559</td>\n",
       "    </tr>\n",
       "    <tr>\n",
       "      <th>13</th>\n",
       "      <td>-1.0</td>\n",
       "      <td>-1.0</td>\n",
       "      <td>0.009381</td>\n",
       "      <td>-2.245441</td>\n",
       "      <td>1.003559</td>\n",
       "    </tr>\n",
       "    <tr>\n",
       "      <th>14</th>\n",
       "      <td>-1.0</td>\n",
       "      <td>-1.0</td>\n",
       "      <td>0.009381</td>\n",
       "      <td>-2.245441</td>\n",
       "      <td>1.003559</td>\n",
       "    </tr>\n",
       "    <tr>\n",
       "      <th>20</th>\n",
       "      <td>-1.0</td>\n",
       "      <td>-1.0</td>\n",
       "      <td>0.009381</td>\n",
       "      <td>-2.245441</td>\n",
       "      <td>1.003559</td>\n",
       "    </tr>\n",
       "    <tr>\n",
       "      <th>21</th>\n",
       "      <td>-1.0</td>\n",
       "      <td>-1.0</td>\n",
       "      <td>0.009381</td>\n",
       "      <td>-2.245441</td>\n",
       "      <td>1.003559</td>\n",
       "    </tr>\n",
       "    <tr>\n",
       "      <th>...</th>\n",
       "      <td>...</td>\n",
       "      <td>...</td>\n",
       "      <td>...</td>\n",
       "      <td>...</td>\n",
       "      <td>...</td>\n",
       "    </tr>\n",
       "    <tr>\n",
       "      <th>256</th>\n",
       "      <td>-1.0</td>\n",
       "      <td>1.0</td>\n",
       "      <td>1.137857</td>\n",
       "      <td>3.232988</td>\n",
       "      <td>2.967515</td>\n",
       "    </tr>\n",
       "    <tr>\n",
       "      <th>257</th>\n",
       "      <td>-1.0</td>\n",
       "      <td>1.0</td>\n",
       "      <td>1.137857</td>\n",
       "      <td>3.232988</td>\n",
       "      <td>2.967515</td>\n",
       "    </tr>\n",
       "    <tr>\n",
       "      <th>258</th>\n",
       "      <td>-1.0</td>\n",
       "      <td>1.0</td>\n",
       "      <td>1.137857</td>\n",
       "      <td>3.232988</td>\n",
       "      <td>2.967515</td>\n",
       "    </tr>\n",
       "    <tr>\n",
       "      <th>259</th>\n",
       "      <td>-1.0</td>\n",
       "      <td>1.0</td>\n",
       "      <td>1.137857</td>\n",
       "      <td>3.232988</td>\n",
       "      <td>2.967515</td>\n",
       "    </tr>\n",
       "    <tr>\n",
       "      <th>260</th>\n",
       "      <td>-1.0</td>\n",
       "      <td>1.0</td>\n",
       "      <td>1.137857</td>\n",
       "      <td>3.232988</td>\n",
       "      <td>2.967515</td>\n",
       "    </tr>\n",
       "  </tbody>\n",
       "</table>\n",
       "<p>1000 rows × 5 columns</p>\n",
       "</div>"
      ],
      "text/plain": [
       "     sal_opt  temp_opt       ISO      TSsd      PSsd\n",
       "8       -1.0      -1.0  0.009381 -2.245441  1.003559\n",
       "13      -1.0      -1.0  0.009381 -2.245441  1.003559\n",
       "14      -1.0      -1.0  0.009381 -2.245441  1.003559\n",
       "20      -1.0      -1.0  0.009381 -2.245441  1.003559\n",
       "21      -1.0      -1.0  0.009381 -2.245441  1.003559\n",
       "..       ...       ...       ...       ...       ...\n",
       "256     -1.0       1.0  1.137857  3.232988  2.967515\n",
       "257     -1.0       1.0  1.137857  3.232988  2.967515\n",
       "258     -1.0       1.0  1.137857  3.232988  2.967515\n",
       "259     -1.0       1.0  1.137857  3.232988  2.967515\n",
       "260     -1.0       1.0  1.137857  3.232988  2.967515\n",
       "\n",
       "[1000 rows x 5 columns]"
      ]
     },
     "execution_count": 6,
     "metadata": {},
     "output_type": "execute_result"
    }
   ],
   "source": [
    "for nuis_envs, outerdir in nuis_outerdirs.items():\n",
    "    slimdir = f'{outerdir}/slimdir'\n",
    "    indir = makedir(f'{outerdir}/lfmm2/lfmm_infiles')\n",
    "    \n",
    "    # pseudo subset files created in 02.07.02_nuisance_envs.02_fit_and_validate_GF_nuis_envs.ipynb\n",
    "    envfiles = fs(slimdir, endswith='Rout_ind_subset.txt')\n",
    "    \n",
    "    envs = ['sal_opt', 'temp_opt'] + nuis_envs.split('-')\n",
    "    num_envs = len(envs)\n",
    "    \n",
    "    for f in pbar(envfiles, desc='-'.join(envs)):\n",
    "        seed = op.basename(f).split(\"_\")[0]\n",
    "        \n",
    "        # get the real subset file that has 1000 lines (one per individual)\n",
    "        real_subset = pd.read_table(\n",
    "            f'{old_outerdir}/slimdir/{seed}_Rout_ind_subset.txt',\n",
    "            delim_whitespace=True\n",
    "        )[['subpopID', 'indID']]\n",
    "        \n",
    "        # get the pseudo subset file with only 100 lines (one per pop)\n",
    "        subset = pd.read_table(f, index_col=0)\n",
    "        \n",
    "        # add in pop-level env info that matches indID's subpopID\n",
    "        for env in envs:\n",
    "            envdict = dict(zip(subset.subpopID, subset[env]))\n",
    "            real_subset[env] = real_subset.subpopID.map(envdict)\n",
    "        \n",
    "        # save only the env columns\n",
    "        lfmm_envfile = f'{indir}/{seed}_lfmm_env_ntraits-{num_envs}.txt'\n",
    "        real_subset[envs].to_csv(lfmm_envfile, sep='\\t', index=False, header=False)\n",
    "    \n",
    "real_subset[envs]"
   ]
  },
  {
   "cell_type": "markdown",
   "id": "51a37646",
   "metadata": {},
   "source": [
    "# create future envfiles"
   ]
  },
  {
   "cell_type": "code",
   "execution_count": 7,
   "id": "ed003df6",
   "metadata": {},
   "outputs": [],
   "source": [
    "def create_future_file(f, slimdir, indir, envs, num_envs, old_outerdir, outerdir):\n",
    "    \"\"\"For a seeds envdata, `f` create future common garden data.\"\"\"\n",
    "    from pythonimports import nrow\n",
    "    import pandas as pd\n",
    "    from os import path as op\n",
    "    \n",
    "    seed = op.basename(f).split(\"_\")[0]\n",
    "\n",
    "    # get the real subset file that has 1000 lines (one per individual)\n",
    "    real_subset = pd.read_table(f'{old_outerdir}/slimdir/{seed}_Rout_ind_subset.txt',\n",
    "                                delim_whitespace=True)\n",
    "\n",
    "    envdata = pd.read_table(f, index_col=0)\n",
    "    envdata.index = envdata.subpopID.tolist()\n",
    "\n",
    "    new_envfiles = []\n",
    "    for subpopID in envdata.index:\n",
    "        # get env values for this pop\n",
    "        vals = envdata.loc[subpopID, envs]\n",
    "\n",
    "        # create a dataframe where all vals are repeated for each individual\n",
    "        df = pd.concat(\n",
    "            [pd.DataFrame(vals).T for i in range(nrow(real_subset))]\n",
    "        ).reset_index(drop=True)\n",
    "\n",
    "        assert df.shape == (nrow(real_subset), num_envs)\n",
    "\n",
    "        # save\n",
    "        pop = str(subpopID).zfill(3)\n",
    "        lfmm_envfile_new = f'{outerdir}/lfmm2/lfmm_infiles/{seed}_lfmm_env_ntraits-{num_envs}_{pop}.txt'\n",
    "        df.to_csv(lfmm_envfile_new, sep='\\t', index=False, header=False)\n",
    "\n",
    "        new_envfiles.append(lfmm_envfile_new)\n",
    "        \n",
    "    return new_envfiles"
   ]
  },
  {
   "cell_type": "code",
   "execution_count": 8,
   "id": "e47f9742",
   "metadata": {},
   "outputs": [
    {
     "name": "stderr",
     "output_type": "stream",
     "text": [
      "sal_opt-temp_opt-ISO-PSsd: 100%|███████████████| 225/225 [00:00<00:00, 2700.30it/s]\n",
      "sal_opt-temp_opt-ISO-TSsd-PSsd: 100%|███████████████| 225/225 [00:00<00:00, 808.80it/s]\n"
     ]
    },
    {
     "name": "stdout",
     "output_type": "stream",
     "text": [
      "\u001b[1m\n",
      "Watching 450 jobs ...\u001b[0m\n"
     ]
    },
    {
     "name": "stderr",
     "output_type": "stream",
     "text": [
      " 94%|██████████████▏| 424/450 [07:48<00:28,  1.11s/it]\n"
     ]
    },
    {
     "name": "stdout",
     "output_type": "stream",
     "text": [
      "\u001b[93mKeboardInterrupted\u001b[0m\n"
     ]
    }
   ],
   "source": [
    "jobs = []\n",
    "all_args = []\n",
    "for nuis_envs, outerdir in nuis_outerdirs.items():\n",
    "    slimdir = f'{outerdir}/slimdir'\n",
    "    indir = makedir(f'{outerdir}/lfmm2/lfmm_infiles')\n",
    "    \n",
    "    # pseudo subset files created in 02.07.02_nuisance_envs.02_fit_and_validate_GF_nuis_envs.ipynb\n",
    "    envfiles = fs(slimdir, endswith='Rout_ind_subset.txt')\n",
    "    \n",
    "    # total number of envs\n",
    "    envs = ['sal_opt', 'temp_opt'] + nuis_envs.split('-')\n",
    "    num_envs = len(envs)\n",
    "    \n",
    "    for f in pbar(envfiles, desc='-'.join(envs)):\n",
    "        args = (f, slimdir, indir, envs, num_envs, old_outerdir, outerdir)\n",
    "        all_args.append(args)\n",
    "        \n",
    "        jobs.append(\n",
    "            lview.apply_async(\n",
    "                create_future_file, *args\n",
    "            )\n",
    "        )\n",
    "    \n",
    "watch_async(jobs)"
   ]
  },
  {
   "cell_type": "code",
   "execution_count": 12,
   "id": "d216b5c4",
   "metadata": {
    "scrolled": true
   },
   "outputs": [],
   "source": [
    "# gather lists of future envfiles by nuis_envs and seed\n",
    "new_envfiles = defaultdict(dict)\n",
    "for i, j in enumerate(jobs):\n",
    "    f, *_, envs, num_envs, old_outerdir, outerdir = all_args[i]\n",
    "    \n",
    "    seed = op.basename(f).split(\"_\")[0]\n",
    "    \n",
    "    nuis_envs = '-'.join(envs[2:])\n",
    "    new_envfiles[nuis_envs][seed] = j.r\n",
    "    \n",
    "    # make sure everything makes sense\n",
    "    assert len(new_envfiles[nuis_envs][seed]) == 100\n",
    "    assert luni(new_envfiles[nuis_envs][seed]) == 100  # 100 unique file names\n",
    "    \n",
    "    \n",
    "# make sure everything makes sense\n",
    "for nuis_envs, seed_dict in new_envfiles.items():\n",
    "    assert len(seed_dict) == 225\n",
    "    assert len(flatten(seed_dict.values())) == 22500  # 22500 unique file names (100 per seed * 225 seeds)"
   ]
  },
  {
   "cell_type": "markdown",
   "id": "66fd5a15",
   "metadata": {},
   "source": [
    "# symlink poplabels files"
   ]
  },
  {
   "cell_type": "code",
   "execution_count": 13,
   "id": "14720bf2",
   "metadata": {},
   "outputs": [
    {
     "name": "stderr",
     "output_type": "stream",
     "text": [
      "ISO-PSsd: 100%|███████████████| 225/225 [00:00<00:00, 2160.37it/s]\n",
      "ISO-TSsd-PSsd: 100%|███████████████| 225/225 [00:00<00:00, 4551.09it/s]\n"
     ]
    }
   ],
   "source": [
    "poplabel_files = fs(f'{old_outerdir}/lfmm2/lfmm_infiles', pattern='poplabel')\n",
    "\n",
    "assert len(poplabel_files) == 225\n",
    "\n",
    "for nuis_envs, outerdir in nuis_outerdirs.items():\n",
    "    for src in pbar(poplabel_files, desc=nuis_envs):\n",
    "        basename = op.basename(src)\n",
    "        dst = f'{outerdir}/lfmm2/lfmm_infiles/{basename}'\n",
    "\n",
    "        if not op.exists(dst):\n",
    "            os.symlink(src, dst)"
   ]
  },
  {
   "cell_type": "markdown",
   "id": "24d4ad8f",
   "metadata": {},
   "source": [
    "# symlink adaptive and neutral marker sets"
   ]
  },
  {
   "cell_type": "code",
   "execution_count": 14,
   "id": "59d68d20",
   "metadata": {},
   "outputs": [
    {
     "name": "stderr",
     "output_type": "stream",
     "text": [
      "ISO-PSsd: 100%|███████████████| 450/450 [00:00<00:00, 2085.45it/s]\n",
      "ISO-TSsd-PSsd: 100%|███████████████| 450/450 [00:00<00:00, 4061.37it/s]\n"
     ]
    }
   ],
   "source": [
    "loci_files = fs(f'{old_outerdir}/lfmm2/lfmm_infiles', pattern='loci')\n",
    "\n",
    "assert len(loci_files) == 450  # (adaptive + neut * 225)\n",
    "\n",
    "for nuis_envs, outerdir in nuis_outerdirs.items():\n",
    "    for src in pbar(loci_files, desc=nuis_envs):\n",
    "        basename = op.basename(src)\n",
    "        dst = f'{outerdir}/lfmm2/lfmm_infiles/{basename}'\n",
    "\n",
    "        if not op.exists(dst):\n",
    "            os.symlink(src, dst)"
   ]
  },
  {
   "cell_type": "code",
   "execution_count": 15,
   "id": "5bdb1e0d",
   "metadata": {},
   "outputs": [
    {
     "data": {
      "text/plain": [
       "['/home/b.lind/offsets/run_20220919_0-225/lfmm2/lfmm_infiles/1231094_adaptive_loci.txt',\n",
       " '/home/b.lind/offsets/run_20220919_0-225/lfmm2/lfmm_infiles/1231094_neutral_loci.txt',\n",
       " '/home/b.lind/offsets/run_20220919_0-225/lfmm2/lfmm_infiles/1231095_adaptive_loci.txt',\n",
       " '/home/b.lind/offsets/run_20220919_0-225/lfmm2/lfmm_infiles/1231095_neutral_loci.txt']"
      ]
     },
     "execution_count": 15,
     "metadata": {},
     "output_type": "execute_result"
    }
   ],
   "source": [
    "sorted(loci_files)[:4]"
   ]
  },
  {
   "cell_type": "code",
   "execution_count": null,
   "id": "ea4e752c",
   "metadata": {},
   "outputs": [],
   "source": []
  },
  {
   "cell_type": "markdown",
   "id": "db22a74a",
   "metadata": {},
   "source": [
    "# create batch files"
   ]
  },
  {
   "cell_type": "code",
   "execution_count": 16,
   "id": "7d0ec39c",
   "metadata": {},
   "outputs": [
    {
     "data": {
      "image/png": "[encoded data removed]",
      "text/plain": [
       "<Figure size 432x288 with 2 Axes>"
      ]
     },
     "metadata": {
      "needs_background": "light"
     },
     "output_type": "display_data"
    },
    {
     "name": "stderr",
     "output_type": "stream",
     "text": [
      "/home/b.lind/pythonimports/myslurm.py:552: UserWarning: There are multiple shfiles associated with outfiles. len=2432 luni=2430\n",
      "  warnings.warn(text)\n"
     ]
    },
    {
     "data": {
      "image/png": "[encoded data removed]",
      "text/plain": [
       "<Figure size 432x288 with 2 Axes>"
      ]
     },
     "metadata": {
      "needs_background": "light"
     },
     "output_type": "display_data"
    },
    {
     "name": "stderr",
     "output_type": "stream",
     "text": [
      "/home/b.lind/pythonimports/myslurm.py:552: UserWarning: There are multiple shfiles associated with outfiles. len=2432 luni=2430\n",
      "  warnings.warn(text)\n"
     ]
    },
    {
     "data": {
      "image/png": "[encoded data removed]",
      "text/plain": [
       "<Figure size 432x288 with 2 Axes>"
      ]
     },
     "metadata": {
      "needs_background": "light"
     },
     "output_type": "display_data"
    },
    {
     "name": "stderr",
     "output_type": "stream",
     "text": [
      "/home/b.lind/pythonimports/myslurm.py:552: UserWarning: There are multiple shfiles associated with outfiles. len=2391 luni=2385\n",
      "  warnings.warn(text)\n"
     ]
    },
    {
     "data": {
      "image/png": "[encoded data removed]",
      "text/plain": [
       "<Figure size 432x288 with 2 Axes>"
      ]
     },
     "metadata": {
      "needs_background": "light"
     },
     "output_type": "display_data"
    },
    {
     "name": "stderr",
     "output_type": "stream",
     "text": [
      "/home/b.lind/pythonimports/myslurm.py:552: UserWarning: There are multiple shfiles associated with outfiles. len=2395 luni=2385\n",
      "  warnings.warn(text)\n"
     ]
    },
    {
     "data": {
      "image/png": "[encoded data removed]",
      "text/plain": [
       "<Figure size 432x288 with 2 Axes>"
      ]
     },
     "metadata": {
      "needs_background": "light"
     },
     "output_type": "display_data"
    },
    {
     "data": {
      "image/png": "[encoded data removed]",
      "text/plain": [
       "<Figure size 432x288 with 2 Axes>"
      ]
     },
     "metadata": {
      "needs_background": "light"
     },
     "output_type": "display_data"
    },
    {
     "data": {
      "image/png": "[encoded data removed]",
      "text/plain": [
       "<Figure size 432x288 with 2 Axes>"
      ]
     },
     "metadata": {
      "needs_background": "light"
     },
     "output_type": "display_data"
    },
    {
     "data": {
      "image/png": "[encoded data removed]",
      "text/plain": [
       "<Figure size 432x288 with 2 Axes>"
      ]
     },
     "metadata": {
      "needs_background": "light"
     },
     "output_type": "display_data"
    },
    {
     "data": {
      "image/png": "[encoded data removed]",
      "text/plain": [
       "<Figure size 432x288 with 2 Axes>"
      ]
     },
     "metadata": {
      "needs_background": "light"
     },
     "output_type": "display_data"
    },
    {
     "data": {
      "image/png": "[encoded data removed]",
      "text/plain": [
       "<Figure size 432x288 with 2 Axes>"
      ]
     },
     "metadata": {
      "needs_background": "light"
     },
     "output_type": "display_data"
    }
   ],
   "source": [
    "# see how long previous batch jobs have taken, increase time\n",
    "for repdir in mvp.repdirs:\n",
    "    shdir = f'{repdir}/lfmm2/lfmm_shfiles'\n",
    "    pkl = f'{shdir}/batch_seffs.pkl'\n",
    "    \n",
    "    seffs = pklload(pkl)\n",
    "    \n",
    "    seffs.plot_times()"
   ]
  },
  {
   "cell_type": "code",
   "execution_count": 17,
   "id": "90fc6d2b",
   "metadata": {},
   "outputs": [
    {
     "name": "stderr",
     "output_type": "stream",
     "text": [
      "100%|███████████████| 2/2 [00:34<00:00, 17.30s/it]\n"
     ]
    }
   ],
   "source": [
    "mvp_dir = '/home/b.lind/code/MVP-offsets/01_src'\n",
    "\n",
    "shfiles = wrap_defaultdict(list, 2)\n",
    "for (nuis_envs, seed), garden_files in unwrap_dictionary(new_envfiles, progress_bar=True):\n",
    "    # get directories\n",
    "    outerdir = nuis_outerdirs[nuis_envs]\n",
    "    slimdir = f'{outerdir}/slimdir'\n",
    "    mvp10.seed = seed\n",
    "    indir, outdir, shdir = mvp10.make_lfmm_dirs(outerdir)\n",
    "    for d in [outerdir, slimdir, indir, outdir, shdir]:\n",
    "        assert op.exists(d)\n",
    "    \n",
    "    # name candidate loci files\n",
    "    adaptive_file, neutral_file = sorted(\n",
    "        fs(f'{outerdir}/lfmm2/lfmm_infiles', startswith=seed, endswith='loci.txt')\n",
    "    )\n",
    "    \n",
    "    # how many envs?\n",
    "    num_envs = 2 + len(nuis_envs.split('-'))  # sal + temp + nuis_envs\n",
    "    \n",
    "    # which envfile?\n",
    "    lfmm_envfile = f'{outerdir}/lfmm2/lfmm_infiles/{seed}_lfmm_env_ntraits-{num_envs}.txt'\n",
    "    assert op.exists(lfmm_envfile)\n",
    "    \n",
    "    # which pop file?\n",
    "    poplabel_file = f'{outerdir}/lfmm2/lfmm_infiles/{seed}_poplabels.txt'\n",
    "    \n",
    "    # create lfmm commands\n",
    "    jobcount = 0  # to know when I'm done iterating\n",
    "    cmds = []  # list of training commands to parallelize for a given job\n",
    "    for garden_file in garden_files:\n",
    "        garden = op.basename(garden_file).split(\"_\")[-1].split('.')[0]\n",
    "        \n",
    "        # for each marker set:\n",
    "        for cand_file, marker_set in zip(['None', adaptive_file, neutral_file], ['all', 'adaptive', 'neutral']):\n",
    "            output_file = op.join(outdir, f'{seed}_lfmm_offsets_ntraits-{num_envs}_{marker_set}_{garden}.txt')\n",
    "\n",
    "            cmd = ' '.join(['Rscript',\n",
    "                            f'{mvp_dir}/MVP_process_lfmm.R',\n",
    "                            seed,\n",
    "                            slimdir,\n",
    "                            lfmm_envfile,\n",
    "                            garden_file,\n",
    "                            poplabel_file,\n",
    "                            output_file,\n",
    "                            cand_file])\n",
    "            cmds.append(cmd)\n",
    "            jobcount += 1\n",
    "            \n",
    "            if len(cmds) == 72 or jobcount == len(garden_files) * 3: # 3 hard coded for marker_sets (all nuet adptv)\n",
    "                batch_num = str(len(shfiles[nuis_envs][seed])).zfill(2)\n",
    "                job = f'{seed}_lfmm_batch_{batch_num}_{nuis_envs}'\n",
    "                \n",
    "                # write commands to a file that I can `cat` to GNU parallel\n",
    "                cmd_file = op.join(indir, f'{job}.txt')\n",
    "                with open(cmd_file, 'w') as o:\n",
    "                    o.write('\\n'.join(cmds))\n",
    "\n",
    "                # where to write sh text\n",
    "                shfile = op.join(shdir, f'{job}.sh')\n",
    "                \n",
    "                # what text to write to sh\n",
    "                text = f'''#!/bin/bash\n",
    "#SBATCH --job-name={job}\n",
    "#SBATCH --time=6:00:00\n",
    "#SBATCH --mem=180000M\n",
    "#SBATCH --partition=short\n",
    "#SBATCH --nodes=1\n",
    "#SBATCH --cpus-per-task=36\n",
    "#SBATCH --output={job}_%j.out\n",
    "#SBATCH --mail-user=b.lind@northeastern.edu\n",
    "#SBATCH --mail-type=FAIL\n",
    "\n",
    "source $HOME/.bashrc  # assumed that conda init is within .bashrc\n",
    "\n",
    "module load parallel\n",
    "\n",
    "conda activate MVP_env_R4.0.3\n",
    "\n",
    "# train lfmm2 and calculate offset\n",
    "cat {cmd_file} | parallel -j 36 --progress --eta\n",
    "\n",
    "conda activate mvp_env\n",
    "\n",
    "cd {mvp_dir}\n",
    "\n",
    "# re run any failed jobs from the cmd_file\n",
    "python MVP_watch_for_failure_of_train_lfmm2_offset.py {seed} {shfile} {outerdir} 36\n",
    "\n",
    "'''\n",
    "                # write slurm script to file\n",
    "                with open(shfile, 'w') as o:\n",
    "                    o.write(text)\n",
    "                shfiles[nuis_envs][seed].append(shfile)\n",
    "\n",
    "                cmds = []  # reset\n",
    "\n",
    "    "
   ]
  },
  {
   "cell_type": "code",
   "execution_count": null,
   "id": "f92709de",
   "metadata": {},
   "outputs": [],
   "source": []
  },
  {
   "cell_type": "code",
   "execution_count": 18,
   "id": "a7abd985",
   "metadata": {},
   "outputs": [],
   "source": [
    "# sanity check that all sh texts are unique\n",
    "all_texts = []\n",
    "for (nuis_envs, seed), batch_shfiles in unwrap_dictionary(shfiles):\n",
    "    for f in batch_shfiles:\n",
    "        text = read(f, lines=False)\n",
    "        assert text not in all_texts\n",
    "        all_texts.append(text)"
   ]
  },
  {
   "cell_type": "code",
   "execution_count": null,
   "id": "66fbd1f3",
   "metadata": {},
   "outputs": [],
   "source": []
  },
  {
   "cell_type": "code",
   "execution_count": null,
   "id": "1aadc5ba",
   "metadata": {},
   "outputs": [],
   "source": []
  },
  {
   "cell_type": "markdown",
   "id": "b5d1c9bb",
   "metadata": {},
   "source": [
    "# sbatch batch files and validation files"
   ]
  },
  {
   "cell_type": "code",
   "execution_count": 26,
   "id": "c7bf7f49",
   "metadata": {},
   "outputs": [
    {
     "name": "stdout",
     "output_type": "stream",
     "text": [
      "224\n"
     ]
    },
    {
     "name": "stderr",
     "output_type": "stream",
     "text": [
      "sbatching: 100%|███████████████| 5/5 [00:02<00:00,  2.04it/s]\n"
     ]
    }
   ],
   "source": [
    "all_pids = defaultdict(list)\n",
    "count = 0\n",
    "for (nuis_envs, seed), batch_shfiles in unwrap_dictionary(shfiles):\n",
    "    if nuis_envs == 'ISO-TSsd-PSsd':\n",
    "        # only submit one nuis_env files (1125 jobs, max=1500 jobs)\n",
    "        break\n",
    "        \n",
    "    print(count)\n",
    "    \n",
    "    # get some dirs\n",
    "    outerdir = nuis_outerdirs[nuis_envs]\n",
    "    shdir = f'{outerdir}/lfmm2/lfmm_shfiles'\n",
    "    assert op.exists(shdir)\n",
    "    \n",
    "    # submit batch jobs\n",
    "    pids = sbatch(batch_shfiles)\n",
    "    \n",
    "    # submit dependency job to run after all other jobs finish\n",
    "    job = f'{seed}_lfmm_validation_{nuis_envs}'\n",
    "    shtext = f\"\"\"#!/bin/bash\n",
    "#SBATCH --job-name={job}\n",
    "#SBATCH --time=3:00:00\n",
    "#SBATCH --mem=4000\n",
    "#SBATCH --partition=short\n",
    "#SBATCH --nodes=1\n",
    "#SBATCH --output={job}_%j.out\n",
    "#SBATCH --mail-user=b.lind@northeastern.edu\n",
    "#SBATCH --mail-type=FAIL\n",
    "#SBATCH --dependency=afterok:{','.join(pids)}\n",
    "\n",
    "source $HOME/.bashrc\n",
    "\n",
    "conda activate mvp_env\n",
    "\n",
    "cd {mvp_dir}\n",
    "\n",
    "python MVP_11_validate_lfmm2_offset.py {seed} {slimdir} {outerdir}\n",
    "\n",
    "\"\"\"\n",
    "    shfile = op.join(shdir, f'{job}.sh')\n",
    "    with open(shfile, 'w') as o:\n",
    "        o.write(shtext)\n",
    "\n",
    "    all_pids[nuis_envs].extend(\n",
    "        sbatch(shfile, progress_bar=False)\n",
    "    )\n",
    "    \n",
    "    count += 1\n",
    "    clear_output(wait=True)"
   ]
  },
  {
   "cell_type": "code",
   "execution_count": 29,
   "id": "419ebcdd",
   "metadata": {},
   "outputs": [
    {
     "data": {
      "text/plain": [
       "225"
      ]
     },
     "execution_count": 29,
     "metadata": {},
     "output_type": "execute_result"
    }
   ],
   "source": [
    "count"
   ]
  },
  {
   "cell_type": "code",
   "execution_count": null,
   "id": "39e92443",
   "metadata": {},
   "outputs": [],
   "source": []
  },
  {
   "cell_type": "code",
   "execution_count": 28,
   "id": "3ab1d8be",
   "metadata": {},
   "outputs": [
    {
     "name": "stdout",
     "output_type": "stream",
     "text": [
      "['36971914']\n"
     ]
    }
   ],
   "source": [
    "# create watcher files to alert me when everything is done\n",
    "for nuis_envs, pids in all_pids.items():\n",
    "    outerdir = nuis_outerdirs[nuis_envs]\n",
    "    shdir = f'{outerdir}/lfmm2/lfmm_shfiles'\n",
    "    assert op.exists(shdir)\n",
    "    \n",
    "    create_watcherfile(pids,\n",
    "                       shdir,\n",
    "                       watcher_name=f'{nuis_envs}_lfmm_watcher',\n",
    "                       end_alert=True)\n",
    "    "
   ]
  },
  {
   "cell_type": "code",
   "execution_count": 30,
   "id": "e7097728",
   "metadata": {},
   "outputs": [
    {
     "data": {
      "text/plain": [
       "'/home/b.lind/offsets/run_20220919_nuisance/ISO-TSsd-PSsd_0-225/nuis_batch_shfiles.pkl'"
      ]
     },
     "execution_count": 30,
     "metadata": {},
     "output_type": "execute_result"
    }
   ],
   "source": [
    "outerdir = nuis_outerdirs['ISO-TSsd-PSsd']\n",
    "\n",
    "pkl = f'{outerdir}/nuis_batch_shfiles.pkl'\n",
    "\n",
    "pkldump(shfiles, pkl)\n",
    "\n",
    "pkl"
   ]
  },
  {
   "cell_type": "markdown",
   "id": "38bd673d",
   "metadata": {},
   "source": [
    "# create named tuple for MVP_11"
   ]
  },
  {
   "cell_type": "code",
   "execution_count": 87,
   "id": "1fb2579c",
   "metadata": {},
   "outputs": [
    {
     "data": {
      "text/plain": [
       "'/home/b.lind/offsets/run_20220919_0-225'"
      ]
     },
     "execution_count": 87,
     "metadata": {},
     "output_type": "execute_result"
    }
   ],
   "source": [
    "old_outerdir"
   ]
  },
  {
   "cell_type": "code",
   "execution_count": 90,
   "id": "2b00f588",
   "metadata": {},
   "outputs": [],
   "source": [
    "# save arbitrary pkl\n",
    "original_pkl = f'{old_outerdir}/pipeline_input_args_02-22-2023-09:01:56.pkl'\n",
    "\n",
    "for nuis_env, outerdir in nuis_outerdirs.items():\n",
    "    pkl = f'{outerdir}/pipeline_input_args.pkl'\n",
    "    shutil.copy(original_pkl, pkl)\n",
    "    "
   ]
  },
  {
   "cell_type": "code",
   "execution_count": null,
   "id": "0bf99f6c",
   "metadata": {},
   "outputs": [],
   "source": []
  },
  {
   "cell_type": "code",
   "execution_count": null,
   "id": "6f47807a",
   "metadata": {},
   "outputs": [],
   "source": []
  },
  {
   "cell_type": "markdown",
   "id": "7d044848",
   "metadata": {},
   "source": [
    "# submit ISO-TSsd-PSsd jobs"
   ]
  },
  {
   "cell_type": "code",
   "execution_count": 1,
   "id": "374ca1c0",
   "metadata": {
    "scrolled": true
   },
   "outputs": [
    {
     "name": "stdout",
     "output_type": "stream",
     "text": [
      "#########################################################\n",
      "Today:\tJune 23, 2023 - 09:00:56 EDT\n",
      "python version: 3.8.5\n",
      "conda env: mvp_env\n",
      "\n",
      "Current commit of \u001b[1mpythonimports\u001b[0m:\n",
      "\u001b[33mcommit eb8d204ff9a40e48b07c184bcc4ff8621804cde6\u001b[m  \n",
      "Author: Brandon Lind <lind.brandon.m@gmail.com>  \n",
      "Date:   Thu Jun 15 14:34:48 2023 -0400\n",
      "\n",
      "Current commit of \u001b[94m\u001b[1mMVP_offsets\u001b[0m\u001b[0m:\n",
      "\u001b[33mcommit 024290cb8c961841537c81afd1a02917b24bc9af\u001b[m  \n",
      "Author: Brandon Lind <lind.brandon.m@gmail.com>  \n",
      "Date:   Mon Jun 12 10:46:56 2023 -0400\n",
      "#########################################################\n",
      "\n"
     ]
    },
    {
     "data": {
      "text/html": [
       "<details>\n",
       "<summary>Click to view session information</summary>\n",
       "<pre>\n",
       "-----\n",
       "MVP_10_train_lfmm2_offset   NA\n",
       "MVP_summary_functions       NA\n",
       "balance_queue               NA\n",
       "cartopy                     0.20.2\n",
       "ipyparallel                 7.1.0\n",
       "matplotlib                  3.5.2\n",
       "myclasses                   NA\n",
       "myfigs                      NA\n",
       "mymaps                      NA\n",
       "myslurm                     NA\n",
       "numpy                       1.22.1\n",
       "pandas                      1.3.5\n",
       "pythonimports               NA\n",
       "session_info                1.0.0\n",
       "tqdm                        4.62.1\n",
       "-----\n",
       "</pre>\n",
       "<details>\n",
       "<summary>Click to view modules imported as dependencies</summary>\n",
       "<pre>\n",
       "MVP_01_train_gradient_forests       NA\n",
       "PIL                                 8.4.0\n",
       "backcall                            0.2.0\n",
       "beta_ufunc                          NA\n",
       "binom_ufunc                         NA\n",
       "bottleneck                          1.3.2\n",
       "certifi                             2023.05.07\n",
       "cffi                                1.15.0\n",
       "cycler                              0.10.0\n",
       "cython_runtime                      NA\n",
       "dateutil                            2.8.2\n",
       "debugpy                             1.5.1\n",
       "decorator                           5.1.1\n",
       "defusedxml                          0.7.1\n",
       "entrypoints                         0.4\n",
       "fontTools                           4.29.1\n",
       "ipykernel                           6.8.0\n",
       "ipython_genutils                    0.2.0\n",
       "ipywidgets                          7.6.5\n",
       "jedi                                0.18.1\n",
       "kiwisolver                          1.3.2\n",
       "matplotlib_venn                     0.11.6\n",
       "mpl_toolkits                        NA\n",
       "nbinom_ufunc                        NA\n",
       "numexpr                             2.8.1\n",
       "packaging                           21.3\n",
       "parso                               0.8.3\n",
       "patsy                               0.5.2\n",
       "pexpect                             4.8.0\n",
       "pickleshare                         0.7.5\n",
       "pkg_resources                       NA\n",
       "prompt_toolkit                      3.0.26\n",
       "psutil                              5.9.0\n",
       "ptyprocess                          0.7.0\n",
       "pydev_ipython                       NA\n",
       "pydevconsole                        NA\n",
       "pydevd                              2.6.0\n",
       "pydevd_concurrency_analyser         NA\n",
       "pydevd_file_utils                   NA\n",
       "pydevd_plugins                      NA\n",
       "pydevd_tracing                      NA\n",
       "pygments                            2.11.2\n",
       "pyparsing                           3.0.7\n",
       "pyproj                              3.3.0\n",
       "pytz                                2021.3\n",
       "scipy                               1.7.3\n",
       "seaborn                             0.11.2\n",
       "setuptools                          60.7.1\n",
       "shapefile                           2.2.0\n",
       "shapely                             1.8.0\n",
       "six                                 1.16.0\n",
       "statsmodels                         0.14.0\n",
       "storemagic                          NA\n",
       "tornado                             6.1\n",
       "traitlets                           5.1.1\n",
       "wcwidth                             0.2.5\n",
       "zmq                                 22.3.0\n",
       "</pre>\n",
       "</details> <!-- seems like this ends pre, so might as well be explicit -->\n",
       "<pre>\n",
       "-----\n",
       "IPython             7.31.1\n",
       "jupyter_client      7.1.2\n",
       "jupyter_core        4.9.1\n",
       "notebook            6.4.8\n",
       "-----\n",
       "Python 3.8.5 (default, Sep  4 2020, 07:30:14) [GCC 7.3.0]\n",
       "Linux-3.10.0-1160.25.1.el7.x86_64-x86_64-with-glibc2.10\n",
       "-----\n",
       "Session information updated at 2023-06-23 09:00\n",
       "</pre>\n",
       "</details>"
      ],
      "text/plain": [
       "<IPython.core.display.HTML object>"
      ]
     },
     "execution_count": 1,
     "metadata": {},
     "output_type": "execute_result"
    }
   ],
   "source": [
    "from pythonimports import *\n",
    "\n",
    "import MVP_summary_functions as mvp\n",
    "import MVP_10_train_lfmm2_offset as mvp10\n",
    "\n",
    "run = '0-225'\n",
    "\n",
    "nuis_outerdirs = {\n",
    "    'ISO-PSsd' : f'/home/b.lind/offsets/run_20220919_nuisance/ISO-PSsd_{run}',\n",
    "    'ISO-TSsd-PSsd' : f'/home/b.lind/offsets/run_20220919_nuisance/ISO-TSsd-PSsd_{run}'\n",
    "}\n",
    "\n",
    "lfmm_dirs = {}\n",
    "for nuis_envs, outerdir in nuis_outerdirs.items():\n",
    "    lfmm_dirs[nuis_envs] = makedir(f'{outerdir}/lfmm2')\n",
    "    \n",
    "old_outerdir = f'/home/b.lind/offsets/run_20220919_{run}'\n",
    "\n",
    "\n",
    "mvp.latest_commit()\n",
    "session_info.show()"
   ]
  },
  {
   "cell_type": "code",
   "execution_count": null,
   "id": "97d1c363",
   "metadata": {},
   "outputs": [],
   "source": []
  },
  {
   "cell_type": "code",
   "execution_count": 2,
   "id": "a51cbe5b",
   "metadata": {},
   "outputs": [],
   "source": [
    "shfiles = pklload('/home/b.lind/offsets/run_20220919_nuisance/ISO-TSsd-PSsd_0-225/nuis_batch_shfiles.pkl')"
   ]
  },
  {
   "cell_type": "code",
   "execution_count": 7,
   "id": "ed5851c2",
   "metadata": {},
   "outputs": [
    {
     "name": "stdout",
     "output_type": "stream",
     "text": [
      "224\n"
     ]
    },
    {
     "name": "stderr",
     "output_type": "stream",
     "text": [
      "sbatching: 100%|███████████████| 5/5 [00:01<00:00,  4.19it/s]\n"
     ]
    }
   ],
   "source": [
    "mvp_dir = '/home/b.lind/code/MVP-offsets/01_src'\n",
    "\n",
    "all_pids = defaultdict(list)\n",
    "count = 0\n",
    "for (nuis_envs, seed), batch_shfiles in unwrap_dictionary(shfiles):\n",
    "    if nuis_envs == 'ISO-PSsd':\n",
    "        # only submit one nuis_env files (1125 jobs, max=1500 jobs)\n",
    "        continue\n",
    "        \n",
    "    print(count)\n",
    "    \n",
    "    # get some dirs\n",
    "    outerdir = nuis_outerdirs[nuis_envs]\n",
    "    shdir = f'{outerdir}/lfmm2/lfmm_shfiles'\n",
    "    slimdir = f'{outerdir}/slimdir'\n",
    "    assert op.exists(shdir)\n",
    "    \n",
    "    # submit batch jobs\n",
    "    pids = sbatch(batch_shfiles)\n",
    "    \n",
    "    # submit dependency job to run after all other jobs finish\n",
    "    job = f'{seed}_lfmm_validation_{nuis_envs}'\n",
    "    shtext = f\"\"\"#!/bin/bash\n",
    "#SBATCH --job-name={job}\n",
    "#SBATCH --time=3:00:00\n",
    "#SBATCH --mem=4000\n",
    "#SBATCH --partition=short\n",
    "#SBATCH --nodes=1\n",
    "#SBATCH --output={job}_%j.out\n",
    "#SBATCH --mail-user=b.lind@northeastern.edu\n",
    "#SBATCH --mail-type=FAIL\n",
    "#SBATCH --dependency=afterok:{','.join(pids)}\n",
    "\n",
    "source $HOME/.bashrc\n",
    "\n",
    "conda activate mvp_env\n",
    "\n",
    "cd {mvp_dir}\n",
    "\n",
    "python MVP_11_validate_lfmm2_offset.py {seed} {slimdir} {outerdir}\n",
    "\n",
    "\"\"\"\n",
    "    shfile = op.join(shdir, f'{job}.sh')\n",
    "    with open(shfile, 'w') as o:\n",
    "        o.write(shtext)\n",
    "\n",
    "    all_pids[nuis_envs].extend(\n",
    "        sbatch(shfile, progress_bar=False)\n",
    "    )\n",
    "    \n",
    "    count += 1\n",
    "    clear_output(wait=True)"
   ]
  },
  {
   "cell_type": "code",
   "execution_count": 10,
   "id": "3c745450",
   "metadata": {},
   "outputs": [
    {
     "data": {
      "text/plain": [
       "225"
      ]
     },
     "execution_count": 10,
     "metadata": {},
     "output_type": "execute_result"
    }
   ],
   "source": [
    "count"
   ]
  },
  {
   "cell_type": "code",
   "execution_count": 8,
   "id": "0d1dd99f",
   "metadata": {},
   "outputs": [
    {
     "data": {
      "text/plain": [
       "\u001b[1m\u001b[38;2;128;128;128m🗒️  Queue Summary:\n",
       "\u001b[0m\u001b[0m\n",
       "{'\u001b[4m\u001b[1mlotterhos\u001b[0m\u001b[0m': {'R': 1},\n",
       " '\u001b[4m\u001b[1mshort\u001b[0m\u001b[0m': {'PD': 1326, 'R': 26}}"
      ]
     },
     "execution_count": 8,
     "metadata": {},
     "output_type": "execute_result"
    }
   ],
   "source": [
    "Squeue()"
   ]
  },
  {
   "cell_type": "code",
   "execution_count": null,
   "id": "2837506d",
   "metadata": {},
   "outputs": [],
   "source": []
  },
  {
   "cell_type": "code",
   "execution_count": 11,
   "id": "81710d29",
   "metadata": {},
   "outputs": [
    {
     "data": {
      "text/plain": [
       "\u001b[1m\u001b[38;2;128;128;128m🗒️  Queue Summary:\n",
       "\u001b[0m\u001b[0m\n",
       "{'\u001b[4m\u001b[1mshort\u001b[0m\u001b[0m': {'PD': 1100, 'R': 26}}"
      ]
     },
     "execution_count": 11,
     "metadata": {},
     "output_type": "execute_result"
    }
   ],
   "source": [
    "Squeue(exclude=['bash', 'validation'])"
   ]
  },
  {
   "cell_type": "code",
   "execution_count": 12,
   "id": "58f5b923",
   "metadata": {},
   "outputs": [
    {
     "name": "stderr",
     "output_type": "stream",
     "text": [
      "update: 100%|███████████████| 550/550 [00:28<00:00, 19.06it/s]\n"
     ]
    }
   ],
   "source": [
    "Squeue(exclude=['bash', 'validation'], partition='short').update(to_partition='long', num_jobs=0.5)"
   ]
  },
  {
   "cell_type": "code",
   "execution_count": 13,
   "id": "160e8656",
   "metadata": {},
   "outputs": [
    {
     "name": "stderr",
     "output_type": "stream",
     "text": [
      "update: 100%|███████████████| 50/50 [00:03<00:00, 15.78it/s]\n"
     ]
    }
   ],
   "source": [
    "Squeue(exclude=['bash', 'validation'], partition='short').update(to_partition='lotterhos', num_jobs=50)"
   ]
  },
  {
   "cell_type": "code",
   "execution_count": null,
   "id": "3194fb7f",
   "metadata": {},
   "outputs": [],
   "source": []
  },
  {
   "cell_type": "code",
   "execution_count": 16,
   "id": "2d31c96b",
   "metadata": {},
   "outputs": [
    {
     "name": "stdout",
     "output_type": "stream",
     "text": [
      "\u001b[1m\u001b[38;2;128;128;128m🗒️  Queue Summary:\n",
      "\u001b[0m\u001b[0m\n",
      "{'\u001b[4m\u001b[1mlong\u001b[0m\u001b[0m': {'PD': 545, 'R': 5},\n",
      " '\u001b[4m\u001b[1mlotterhos\u001b[0m\u001b[0m': {'PD': 49, 'R': 2},\n",
      " '\u001b[4m\u001b[1mshort\u001b[0m\u001b[0m': {'PD': 724, 'R': 28}}\n"
     ]
    },
    {
     "name": "stderr",
     "output_type": "stream",
     "text": [
      "sleeping:  20%|███            | 1/5 [00:01<00:05,  1.46s/it]"
     ]
    },
    {
     "name": "stdout",
     "output_type": "stream",
     "text": [
      "\u001b[93mKeyboardInterrupt after 1 seconds of sleep.\u001b[0m\n"
     ]
    },
    {
     "name": "stderr",
     "output_type": "stream",
     "text": [
      "\n"
     ]
    }
   ],
   "source": [
    "Squeue().watch()"
   ]
  },
  {
   "cell_type": "code",
   "execution_count": 19,
   "id": "7537eced",
   "metadata": {},
   "outputs": [
    {
     "data": {
      "text/plain": [
       "\u001b[1m\u001b[38;2;128;128;128m🗒️  Queue Summary:\n",
       "\u001b[0m\u001b[0m\n",
       "{'\u001b[4m\u001b[1mlong\u001b[0m\u001b[0m': {'PD': 507, 'R': 25},\n",
       " '\u001b[4m\u001b[1mlotterhos\u001b[0m\u001b[0m': {'PD': 49, 'R': 2},\n",
       " '\u001b[4m\u001b[1mshort\u001b[0m\u001b[0m': {'PD': 702, 'R': 28}}"
      ]
     },
     "execution_count": 19,
     "metadata": {},
     "output_type": "execute_result"
    }
   ],
   "source": [
    "Squeue()"
   ]
  },
  {
   "cell_type": "code",
   "execution_count": null,
   "id": "225e7a31",
   "metadata": {},
   "outputs": [],
   "source": []
  },
  {
   "cell_type": "code",
   "execution_count": null,
   "id": "30f5dacf",
   "metadata": {},
   "outputs": [],
   "source": []
  },
  {
   "cell_type": "code",
   "execution_count": null,
   "id": "ee75eec4",
   "metadata": {},
   "outputs": [],
   "source": []
  },
  {
   "cell_type": "code",
   "execution_count": null,
   "id": "9fe9a7e0",
   "metadata": {},
   "outputs": [],
   "source": []
  },
  {
   "cell_type": "code",
   "execution_count": null,
   "id": "58ca9784",
   "metadata": {},
   "outputs": [],
   "source": []
  },
  {
   "cell_type": "code",
   "execution_count": null,
   "id": "89f16759",
   "metadata": {},
   "outputs": [],
   "source": []
  },
  {
   "cell_type": "code",
   "execution_count": null,
   "id": "a55e9b19",
   "metadata": {},
   "outputs": [],
   "source": []
  },
  {
   "cell_type": "code",
   "execution_count": null,
   "id": "85b23bcc",
   "metadata": {},
   "outputs": [],
   "source": []
  },
  {
   "cell_type": "code",
   "execution_count": null,
   "id": "faa0ef9c",
   "metadata": {},
   "outputs": [],
   "source": []
  },
  {
   "cell_type": "code",
   "execution_count": null,
   "id": "ddcaef71",
   "metadata": {},
   "outputs": [],
   "source": []
  }
 ],
 "metadata": {
  "kernelspec": {
   "display_name": "Python 3 (ipykernel)",
   "language": "python",
   "name": "python3"
  },
  "language_info": {
   "codemirror_mode": {
    "name": "ipython",
    "version": 3
   },
   "file_extension": ".py",
   "mimetype": "text/x-python",
   "name": "python",
   "nbconvert_exporter": "python",
   "pygments_lexer": "ipython3",
   "version": "3.8.5"
  }
 },
 "nbformat": 4,
 "nbformat_minor": 5
}
