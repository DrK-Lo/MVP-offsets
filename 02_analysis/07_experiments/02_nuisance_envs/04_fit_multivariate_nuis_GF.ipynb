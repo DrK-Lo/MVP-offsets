{
 "cells": [
  {
   "cell_type": "markdown",
   "id": "2e9ab980",
   "metadata": {},
   "source": [
    "### purpose\n",
    "\n",
    "fit trained GF models from multivariate sims that used nuisance envs to the common gardens of the environment\n",
    "\n",
    "this code is inspired by 02_analysis/07_experiments/02_nuisance_envs/02_fit_and_validate_GF_nuis_envs.ipynb"
   ]
  },
  {
   "cell_type": "code",
   "execution_count": 1,
   "id": "9eafcffb",
   "metadata": {},
   "outputs": [
    {
     "name": "stdout",
     "output_type": "stream",
     "text": [
      "#########################################################\n",
      "Today:\tJune 02, 2023 - 11:22:36\n",
      "python version: 3.8.5\n",
      "conda env: mvp_env\n",
      "\n",
      "Current commit of \u001b[1mpythonimports\u001b[0m:\n",
      "\u001b[33mcommit c721bd0d89c1e150e17a4e0739c26e4296405233\u001b[m  \n",
      "Author: Brandon Lind <lind.brandon.m@gmail.com>  \n",
      "Date:   Wed May 10 15:13:03 2023 -0400\n",
      "\n",
      "Current commit of \u001b[94m\u001b[1mMVP_offsets\u001b[0m\u001b[0m:\n",
      "\u001b[33mcommit 060db40dff8355d2087deab28bd695fcccee8f49\u001b[m  \n",
      "Author: Brandon Lind <lind.brandon.m@gmail.com>  \n",
      "Date:   Thu May 18 12:50:56 2023 -0400\n",
      "#########################################################\n",
      "\n"
     ]
    },
    {
     "data": {
      "text/html": [
       "<details>\n",
       "<summary>Click to view session information</summary>\n",
       "<pre>\n",
       "-----\n",
       "MVP_02_fit_gradient_forests NA\n",
       "MVP_summary_functions       NA\n",
       "balance_queue               NA\n",
       "cartopy                     0.20.2\n",
       "ipyparallel                 7.1.0\n",
       "matplotlib                  3.5.2\n",
       "myclasses                   NA\n",
       "myfigs                      NA\n",
       "mymaps                      NA\n",
       "myslurm                     NA\n",
       "numpy                       1.22.1\n",
       "pandas                      1.3.5\n",
       "pythonimports               NA\n",
       "session_info                1.0.0\n",
       "tqdm                        4.62.1\n",
       "-----\n",
       "</pre>\n",
       "<details>\n",
       "<summary>Click to view modules imported as dependencies</summary>\n",
       "<pre>\n",
       "PIL                         8.4.0\n",
       "attr                        21.4.0\n",
       "backcall                    0.2.0\n",
       "beta_ufunc                  NA\n",
       "binom_ufunc                 NA\n",
       "bottleneck                  1.3.2\n",
       "certifi                     2022.06.15\n",
       "cffi                        1.15.0\n",
       "cycler                      0.10.0\n",
       "cython_runtime              NA\n",
       "dateutil                    2.8.2\n",
       "debugpy                     1.5.1\n",
       "decorator                   5.1.1\n",
       "defusedxml                  0.7.1\n",
       "entrypoints                 0.4\n",
       "fiona                       1.9.2\n",
       "fontTools                   4.29.1\n",
       "ipykernel                   6.8.0\n",
       "ipython_genutils            0.2.0\n",
       "ipywidgets                  7.6.5\n",
       "jedi                        0.18.1\n",
       "kiwisolver                  1.3.2\n",
       "matplotlib_venn             0.11.6\n",
       "mpl_toolkits                NA\n",
       "nbinom_ufunc                NA\n",
       "numexpr                     2.8.1\n",
       "packaging                   21.3\n",
       "parso                       0.8.3\n",
       "pexpect                     4.8.0\n",
       "pickleshare                 0.7.5\n",
       "pkg_resources               NA\n",
       "prompt_toolkit              3.0.26\n",
       "psutil                      5.9.0\n",
       "ptyprocess                  0.7.0\n",
       "pydev_ipython               NA\n",
       "pydevconsole                NA\n",
       "pydevd                      2.6.0\n",
       "pydevd_concurrency_analyser NA\n",
       "pydevd_file_utils           NA\n",
       "pydevd_plugins              NA\n",
       "pydevd_tracing              NA\n",
       "pygments                    2.11.2\n",
       "pyparsing                   3.0.7\n",
       "pyproj                      3.3.0\n",
       "pytz                        2021.3\n",
       "scipy                       1.7.3\n",
       "seaborn                     0.12.2\n",
       "setuptools                  60.7.1\n",
       "shapefile                   2.2.0\n",
       "shapely                     1.8.0\n",
       "six                         1.16.0\n",
       "statsmodels                 0.13.0\n",
       "storemagic                  NA\n",
       "tornado                     6.1\n",
       "traitlets                   5.1.1\n",
       "wcwidth                     0.2.5\n",
       "zmq                         22.3.0\n",
       "</pre>\n",
       "</details> <!-- seems like this ends pre, so might as well be explicit -->\n",
       "<pre>\n",
       "-----\n",
       "IPython             7.31.1\n",
       "jupyter_client      7.1.2\n",
       "jupyter_core        4.9.1\n",
       "notebook            6.4.8\n",
       "-----\n",
       "Python 3.8.5 (default, Sep  4 2020, 07:30:14) [GCC 7.3.0]\n",
       "Linux-3.10.0-1160.25.1.el7.x86_64-x86_64-with-glibc2.10\n",
       "-----\n",
       "Session information updated at 2023-06-02 11:22\n",
       "</pre>\n",
       "</details>"
      ],
      "text/plain": [
       "<IPython.core.display.HTML object>"
      ]
     },
     "execution_count": 1,
     "metadata": {},
     "output_type": "execute_result"
    }
   ],
   "source": [
    "from pythonimports import *\n",
    "\n",
    "import MVP_summary_functions as mvp\n",
    "import MVP_02_fit_gradient_forests as mvp02\n",
    "\n",
    "nuis_dir = '/home/b.lind/offsets/run_20220919_nuisance/tutorial'\n",
    "\n",
    "gf_training_dir = f'{nuis_dir}/gradient_forests/training/training_files'\n",
    "gf_shdir = gf_training_dir.replace('_files', '_shfiles')\n",
    "gf_outdir = gf_shdir.replace('_shfiles', '_outfiles')\n",
    "\n",
    "t0 = dt.now()\n",
    "\n",
    "mvp.latest_commit()\n",
    "session_info.show()"
   ]
  },
  {
   "cell_type": "markdown",
   "id": "48c038eb",
   "metadata": {},
   "source": [
    "# if __name__ == '__main__'"
   ]
  },
  {
   "cell_type": "markdown",
   "id": "48f6df3d",
   "metadata": {},
   "source": [
    "### input args"
   ]
  },
  {
   "cell_type": "code",
   "execution_count": 2,
   "id": "3cd0b56e",
   "metadata": {},
   "outputs": [],
   "source": [
    "mvp02.seed = 'tutorial'"
   ]
  },
  {
   "cell_type": "code",
   "execution_count": 3,
   "id": "71a767b5",
   "metadata": {},
   "outputs": [],
   "source": [
    "mvp02.rscript_exe = '/home/b.lind/anaconda3/envs/r35/lib/R/bin/Rscript'"
   ]
  },
  {
   "cell_type": "code",
   "execution_count": 4,
   "id": "7e6464b5",
   "metadata": {},
   "outputs": [],
   "source": [
    "mvp02.training_outdir = gf_outdir"
   ]
  },
  {
   "cell_type": "markdown",
   "id": "00a4449a",
   "metadata": {},
   "source": [
    "### start cluster"
   ]
  },
  {
   "cell_type": "code",
   "execution_count": 5,
   "id": "c85f1f1f",
   "metadata": {},
   "outputs": [
    {
     "name": "stdout",
     "output_type": "stream",
     "text": [
      "36 36\n"
     ]
    }
   ],
   "source": [
    "lview, dview = get_client(cluster_id='1685714034-x2t5', profile='lotterhos')"
   ]
  },
  {
   "cell_type": "markdown",
   "id": "0814617b",
   "metadata": {},
   "source": [
    "### load objects to clusterm"
   ]
  },
  {
   "cell_type": "code",
   "execution_count": 6,
   "id": "a371bc65",
   "metadata": {},
   "outputs": [],
   "source": [
    "dview['rscript_exe'] = mvp02.rscript_exe\n",
    "mvp02.fitting_file = '/home/b.lind/code/MVP-offsets/01_src/MVP_gf_fitting_script.R'\n",
    "dview['fitting_file'] = mvp02.fitting_file\n",
    "\n",
    "mvp02.lview = lview  # for mvp02.run_fit_gradient_forests"
   ]
  },
  {
   "cell_type": "markdown",
   "id": "bdfab550",
   "metadata": {},
   "source": [
    "### create dirs"
   ]
  },
  {
   "cell_type": "code",
   "execution_count": 7,
   "id": "4ebbd478",
   "metadata": {},
   "outputs": [
    {
     "data": {
      "text/plain": [
       "'/home/b.lind/offsets/run_20220919_nuisance/tutorial/gradient_forests/training/training_outfiles'"
      ]
     },
     "execution_count": 7,
     "metadata": {},
     "output_type": "execute_result"
    }
   ],
   "source": [
    "mvp02.training_outdir"
   ]
  },
  {
   "cell_type": "code",
   "execution_count": 8,
   "id": "a6527d94",
   "metadata": {},
   "outputs": [
    {
     "name": "stdout",
     "output_type": "stream",
     "text": [
      "\u001b[38;2;255;215;0m\u001b[1m\n",
      "Creating directories ...\u001b[0m\u001b[0m\n",
      "\tgf_directory = '/home/b.lind/offsets/run_20220919_nuisance/tutorial/gradient_forests'\n",
      "\tfitting_dir = '/home/b.lind/offsets/run_20220919_nuisance/tutorial/gradient_forests/fitting/fitting_outfiles'\n",
      "\tgarden_dir = '/home/b.lind/offsets/run_20220919_nuisance/tutorial/gradient_forests/fitting/garden_files'\n",
      "\ttraining_filedir = '/home/b.lind/offsets/run_20220919_nuisance/tutorial/gradient_forests/training/training_files'\n"
     ]
    }
   ],
   "source": [
    "garden_dir, mvp02.fitting_dir, training_filedir = mvp02.make_fitting_dirs(mvp02.training_outdir)\n",
    "\n",
    "mvp02.garden_dir = garden_dir"
   ]
  },
  {
   "cell_type": "markdown",
   "id": "8fce3eef",
   "metadata": {},
   "source": [
    "# main"
   ]
  },
  {
   "cell_type": "markdown",
   "id": "46218af6",
   "metadata": {},
   "source": [
    "### get environmental data"
   ]
  },
  {
   "cell_type": "code",
   "execution_count": 9,
   "id": "fdc0ddbc",
   "metadata": {},
   "outputs": [],
   "source": [
    "# get_envdata (skip part of function that asserts two envfiles, one for ind and one for pooled)\n",
    "files = fs(training_filedir, pattern='_envfile_')\n",
    "\n",
    "envdfs = {}\n",
    "envfiles = {}\n",
    "for f in files:\n",
    "    ind_or_pooled = op.basename(f).split(\"_\")[-1].rstrip(\".txt\")\n",
    "    envdfs[ind_or_pooled] = pd.read_table(f, index_col=0)\n",
    "    envfiles[ind_or_pooled] = f"
   ]
  },
  {
   "cell_type": "code",
   "execution_count": 10,
   "id": "f03b4744",
   "metadata": {},
   "outputs": [
    {
     "data": {
      "text/plain": [
       "{'pooled': '/home/b.lind/offsets/run_20220919_nuisance/tutorial/gradient_forests/training/training_files/tutorial_envfile_GFready_pooled.txt'}"
      ]
     },
     "execution_count": 10,
     "metadata": {},
     "output_type": "execute_result"
    }
   ],
   "source": [
    "envfiles"
   ]
  },
  {
   "cell_type": "code",
   "execution_count": 11,
   "id": "8e921284",
   "metadata": {},
   "outputs": [
    {
     "data": {
      "text/html": [
       "<div>\n",
       "<style scoped>\n",
       "    .dataframe tbody tr th:only-of-type {\n",
       "        vertical-align: middle;\n",
       "    }\n",
       "\n",
       "    .dataframe tbody tr th {\n",
       "        vertical-align: top;\n",
       "    }\n",
       "\n",
       "    .dataframe thead th {\n",
       "        text-align: right;\n",
       "    }\n",
       "</style>\n",
       "<table border=\"1\" class=\"dataframe\">\n",
       "  <thead>\n",
       "    <tr style=\"text-align: right;\">\n",
       "      <th></th>\n",
       "      <th>ISO</th>\n",
       "      <th>TSsd</th>\n",
       "      <th>PSsd</th>\n",
       "      <th>env1_mat</th>\n",
       "      <th>env2_MTWetQ</th>\n",
       "      <th>env3_MTDQ</th>\n",
       "      <th>env4_PDM</th>\n",
       "      <th>env5_PwarmQ</th>\n",
       "      <th>env6_PWM</th>\n",
       "    </tr>\n",
       "  </thead>\n",
       "  <tbody>\n",
       "    <tr>\n",
       "      <th>1</th>\n",
       "      <td>0.009381</td>\n",
       "      <td>-2.245441</td>\n",
       "      <td>1.003559</td>\n",
       "      <td>0.186225</td>\n",
       "      <td>-0.226935</td>\n",
       "      <td>0.861531</td>\n",
       "      <td>0.221974</td>\n",
       "      <td>-0.363974</td>\n",
       "      <td>0.761569</td>\n",
       "    </tr>\n",
       "    <tr>\n",
       "      <th>2</th>\n",
       "      <td>0.239071</td>\n",
       "      <td>-1.967663</td>\n",
       "      <td>0.518946</td>\n",
       "      <td>0.070353</td>\n",
       "      <td>-0.265649</td>\n",
       "      <td>0.799727</td>\n",
       "      <td>0.169512</td>\n",
       "      <td>-0.417965</td>\n",
       "      <td>0.315295</td>\n",
       "    </tr>\n",
       "    <tr>\n",
       "      <th>3</th>\n",
       "      <td>0.580610</td>\n",
       "      <td>-0.963343</td>\n",
       "      <td>-0.246231</td>\n",
       "      <td>0.264633</td>\n",
       "      <td>-0.248372</td>\n",
       "      <td>0.375248</td>\n",
       "      <td>-0.172690</td>\n",
       "      <td>-0.586408</td>\n",
       "      <td>-0.320803</td>\n",
       "    </tr>\n",
       "    <tr>\n",
       "      <th>4</th>\n",
       "      <td>0.639031</td>\n",
       "      <td>-0.164371</td>\n",
       "      <td>-0.399267</td>\n",
       "      <td>0.371616</td>\n",
       "      <td>0.167485</td>\n",
       "      <td>0.063118</td>\n",
       "      <td>-0.465978</td>\n",
       "      <td>-0.656053</td>\n",
       "      <td>-0.625240</td>\n",
       "    </tr>\n",
       "    <tr>\n",
       "      <th>5</th>\n",
       "      <td>-0.036985</td>\n",
       "      <td>-0.291426</td>\n",
       "      <td>-0.661614</td>\n",
       "      <td>0.244613</td>\n",
       "      <td>0.117437</td>\n",
       "      <td>-0.010939</td>\n",
       "      <td>-0.291486</td>\n",
       "      <td>-0.528748</td>\n",
       "      <td>-0.537376</td>\n",
       "    </tr>\n",
       "    <tr>\n",
       "      <th>...</th>\n",
       "      <td>...</td>\n",
       "      <td>...</td>\n",
       "      <td>...</td>\n",
       "      <td>...</td>\n",
       "      <td>...</td>\n",
       "      <td>...</td>\n",
       "      <td>...</td>\n",
       "      <td>...</td>\n",
       "      <td>...</td>\n",
       "    </tr>\n",
       "    <tr>\n",
       "      <th>96</th>\n",
       "      <td>0.113241</td>\n",
       "      <td>-0.239327</td>\n",
       "      <td>-0.054937</td>\n",
       "      <td>-0.288220</td>\n",
       "      <td>0.261489</td>\n",
       "      <td>-0.317123</td>\n",
       "      <td>-0.018548</td>\n",
       "      <td>0.228030</td>\n",
       "      <td>-0.045559</td>\n",
       "    </tr>\n",
       "    <tr>\n",
       "      <th>97</th>\n",
       "      <td>0.881061</td>\n",
       "      <td>0.598108</td>\n",
       "      <td>1.480884</td>\n",
       "      <td>-0.116570</td>\n",
       "      <td>0.323553</td>\n",
       "      <td>-0.231351</td>\n",
       "      <td>-0.269762</td>\n",
       "      <td>0.344912</td>\n",
       "      <td>0.059459</td>\n",
       "    </tr>\n",
       "    <tr>\n",
       "      <th>98</th>\n",
       "      <td>1.587251</td>\n",
       "      <td>1.669095</td>\n",
       "      <td>2.461321</td>\n",
       "      <td>0.093915</td>\n",
       "      <td>0.400397</td>\n",
       "      <td>-0.150975</td>\n",
       "      <td>-0.408936</td>\n",
       "      <td>0.588880</td>\n",
       "      <td>0.274592</td>\n",
       "    </tr>\n",
       "    <tr>\n",
       "      <th>99</th>\n",
       "      <td>1.381814</td>\n",
       "      <td>2.462649</td>\n",
       "      <td>2.880066</td>\n",
       "      <td>0.034177</td>\n",
       "      <td>0.399089</td>\n",
       "      <td>-0.440848</td>\n",
       "      <td>-0.464035</td>\n",
       "      <td>0.673533</td>\n",
       "      <td>0.360201</td>\n",
       "    </tr>\n",
       "    <tr>\n",
       "      <th>100</th>\n",
       "      <td>1.137857</td>\n",
       "      <td>3.232988</td>\n",
       "      <td>2.967515</td>\n",
       "      <td>0.055334</td>\n",
       "      <td>0.422488</td>\n",
       "      <td>-0.553991</td>\n",
       "      <td>-0.472096</td>\n",
       "      <td>0.604139</td>\n",
       "      <td>0.321160</td>\n",
       "    </tr>\n",
       "  </tbody>\n",
       "</table>\n",
       "<p>100 rows × 9 columns</p>\n",
       "</div>"
      ],
      "text/plain": [
       "          ISO      TSsd      PSsd  env1_mat  env2_MTWetQ  env3_MTDQ  env4_PDM  \\\n",
       "1    0.009381 -2.245441  1.003559  0.186225    -0.226935   0.861531  0.221974   \n",
       "2    0.239071 -1.967663  0.518946  0.070353    -0.265649   0.799727  0.169512   \n",
       "3    0.580610 -0.963343 -0.246231  0.264633    -0.248372   0.375248 -0.172690   \n",
       "4    0.639031 -0.164371 -0.399267  0.371616     0.167485   0.063118 -0.465978   \n",
       "5   -0.036985 -0.291426 -0.661614  0.244613     0.117437  -0.010939 -0.291486   \n",
       "..        ...       ...       ...       ...          ...        ...       ...   \n",
       "96   0.113241 -0.239327 -0.054937 -0.288220     0.261489  -0.317123 -0.018548   \n",
       "97   0.881061  0.598108  1.480884 -0.116570     0.323553  -0.231351 -0.269762   \n",
       "98   1.587251  1.669095  2.461321  0.093915     0.400397  -0.150975 -0.408936   \n",
       "99   1.381814  2.462649  2.880066  0.034177     0.399089  -0.440848 -0.464035   \n",
       "100  1.137857  3.232988  2.967515  0.055334     0.422488  -0.553991 -0.472096   \n",
       "\n",
       "     env5_PwarmQ  env6_PWM  \n",
       "1      -0.363974  0.761569  \n",
       "2      -0.417965  0.315295  \n",
       "3      -0.586408 -0.320803  \n",
       "4      -0.656053 -0.625240  \n",
       "5      -0.528748 -0.537376  \n",
       "..           ...       ...  \n",
       "96      0.228030 -0.045559  \n",
       "97      0.344912  0.059459  \n",
       "98      0.588880  0.274592  \n",
       "99      0.673533  0.360201  \n",
       "100     0.604139  0.321160  \n",
       "\n",
       "[100 rows x 9 columns]"
      ]
     },
     "execution_count": 11,
     "metadata": {},
     "output_type": "execute_result"
    }
   ],
   "source": [
    "envdfs['pooled']"
   ]
  },
  {
   "cell_type": "markdown",
   "id": "8334fe6f",
   "metadata": {},
   "source": [
    "### create future climates (transplant climates) for each subpopID"
   ]
  },
  {
   "cell_type": "code",
   "execution_count": 12,
   "id": "ae6a744f",
   "metadata": {},
   "outputs": [
    {
     "name": "stdout",
     "output_type": "stream",
     "text": [
      "\n",
      "Creating \"future climates\" for each common garden ...\n"
     ]
    },
    {
     "data": {
      "text/plain": [
       "100"
      ]
     },
     "execution_count": 12,
     "metadata": {},
     "output_type": "execute_result"
    }
   ],
   "source": [
    "garden_files = mvp02.create_garden_files(envdfs, envfiles)\n",
    "\n",
    "len(garden_files['pooled'])"
   ]
  },
  {
   "cell_type": "code",
   "execution_count": 13,
   "id": "21f2d51d",
   "metadata": {},
   "outputs": [
    {
     "data": {
      "text/plain": [
       "'/home/b.lind/offsets/run_20220919_nuisance/tutorial/gradient_forests/fitting/garden_files/tutorial_envfile_GFready_pooled_1.txt'"
      ]
     },
     "execution_count": 13,
     "metadata": {},
     "output_type": "execute_result"
    }
   ],
   "source": [
    "garden_files['pooled'][0]"
   ]
  },
  {
   "cell_type": "markdown",
   "id": "886a7a4d",
   "metadata": {},
   "source": [
    "### parallelize fit of GF models to climates of each common garden (transplant location aka future climate)"
   ]
  },
  {
   "cell_type": "code",
   "execution_count": 14,
   "id": "8ff88bab",
   "metadata": {},
   "outputs": [
    {
     "name": "stdout",
     "output_type": "stream",
     "text": [
      "\u001b[38;2;255;215;0m\u001b[1m\n",
      "Fitting gradient forest models to common garden climates ...\u001b[0m\u001b[0m\n",
      "\u001b[1m\n",
      "Watching 300 jobs ...\u001b[0m\n"
     ]
    },
    {
     "name": "stderr",
     "output_type": "stream",
     "text": [
      "fitting gradient forests: 100%|███████████████| 300/300 [19:36<00:00,  3.92s/it]  \n"
     ]
    },
    {
     "name": "stdout",
     "output_type": "stream",
     "text": [
      "\u001b[38;2;255;215;0m\u001b[1m\n",
      "Redoing any jobs that died ...\u001b[0m\u001b[0m\n",
      "\u001b[1m\n",
      "Watching 34 jobs ...\u001b[0m\n"
     ]
    },
    {
     "name": "stderr",
     "output_type": "stream",
     "text": [
      "iteration: 0: 100%|███████████████| 34/34 [08:56<00:00, 15.77s/it]  \n"
     ]
    }
   ],
   "source": [
    "mvp02.run_fit_gradient_forests(garden_files)"
   ]
  },
  {
   "cell_type": "code",
   "execution_count": null,
   "id": "3070551b",
   "metadata": {},
   "outputs": [],
   "source": []
  },
  {
   "cell_type": "code",
   "execution_count": null,
   "id": "7b53bf77",
   "metadata": {},
   "outputs": [],
   "source": []
  },
  {
   "cell_type": "code",
   "execution_count": null,
   "id": "93b67e89",
   "metadata": {},
   "outputs": [],
   "source": []
  },
  {
   "cell_type": "code",
   "execution_count": 16,
   "id": "d12809de",
   "metadata": {},
   "outputs": [
    {
     "data": {
      "text/plain": [
       "'0-00:28:38'"
      ]
     },
     "execution_count": 16,
     "metadata": {},
     "output_type": "execute_result"
    }
   ],
   "source": [
    "formatclock(dt.now() - t0)"
   ]
  },
  {
   "cell_type": "code",
   "execution_count": null,
   "id": "e9de329e",
   "metadata": {},
   "outputs": [],
   "source": []
  },
  {
   "cell_type": "code",
   "execution_count": null,
   "id": "20a477c5",
   "metadata": {},
   "outputs": [],
   "source": []
  },
  {
   "cell_type": "code",
   "execution_count": null,
   "id": "68ef8c03",
   "metadata": {},
   "outputs": [],
   "source": []
  },
  {
   "cell_type": "code",
   "execution_count": null,
   "id": "7407f0cc",
   "metadata": {},
   "outputs": [],
   "source": []
  },
  {
   "cell_type": "code",
   "execution_count": null,
   "id": "93f5a395",
   "metadata": {},
   "outputs": [],
   "source": []
  },
  {
   "cell_type": "code",
   "execution_count": null,
   "id": "b13afe00",
   "metadata": {},
   "outputs": [],
   "source": []
  },
  {
   "cell_type": "code",
   "execution_count": null,
   "id": "36403c6b",
   "metadata": {},
   "outputs": [],
   "source": []
  },
  {
   "cell_type": "code",
   "execution_count": null,
   "id": "e0165847",
   "metadata": {},
   "outputs": [],
   "source": []
  },
  {
   "cell_type": "code",
   "execution_count": null,
   "id": "9377dde1",
   "metadata": {},
   "outputs": [],
   "source": []
  },
  {
   "cell_type": "code",
   "execution_count": null,
   "id": "01ea47f0",
   "metadata": {},
   "outputs": [],
   "source": []
  },
  {
   "cell_type": "code",
   "execution_count": null,
   "id": "72960fe6",
   "metadata": {},
   "outputs": [],
   "source": []
  },
  {
   "cell_type": "code",
   "execution_count": null,
   "id": "9f0491e8",
   "metadata": {},
   "outputs": [],
   "source": []
  },
  {
   "cell_type": "code",
   "execution_count": null,
   "id": "e6e6b9e5",
   "metadata": {},
   "outputs": [],
   "source": []
  },
  {
   "cell_type": "code",
   "execution_count": null,
   "id": "7204cf5b",
   "metadata": {},
   "outputs": [],
   "source": []
  },
  {
   "cell_type": "code",
   "execution_count": null,
   "id": "40cc9192",
   "metadata": {},
   "outputs": [],
   "source": []
  },
  {
   "cell_type": "code",
   "execution_count": null,
   "id": "48f091b3",
   "metadata": {},
   "outputs": [],
   "source": []
  },
  {
   "cell_type": "code",
   "execution_count": null,
   "id": "2bc972cd",
   "metadata": {},
   "outputs": [],
   "source": []
  }
 ],
 "metadata": {
  "kernelspec": {
   "display_name": "Python 3 (ipykernel)",
   "language": "python",
   "name": "python3"
  },
  "language_info": {
   "codemirror_mode": {
    "name": "ipython",
    "version": 3
   },
   "file_extension": ".py",
   "mimetype": "text/x-python",
   "name": "python",
   "nbconvert_exporter": "python",
   "pygments_lexer": "ipython3",
   "version": "3.8.5"
  }
 },
 "nbformat": 4,
 "nbformat_minor": 5
}
