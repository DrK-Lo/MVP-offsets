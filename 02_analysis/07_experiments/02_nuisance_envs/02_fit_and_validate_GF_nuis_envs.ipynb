{
 "cells": [
  {
   "cell_type": "markdown",
   "id": "4f3ca270",
   "metadata": {},
   "source": [
    "### purpose\n",
    "\n",
    "fit trained GF models that used nuisance envs to the common gardens of the environment\n",
    "\n",
    "### notes\n",
    "\n",
    "the subsetfiles I create as a workaround to run MVP_03 without changing code aren't exactly like the convential files they're meant to represent to the pipeline. Conventional subset files are individually-based. However since I'm taking means based on subpopID (for eg envdata), if I only have one entry per pop (population-based files) I'll still get the same thing back as if using the individually-based data. (mvp03 calls mvp06.get_pop_data which calls mvp01.read_ind_data which reads in the subsetfile). This is all ok as long as I never try to use these files and assume individual data (though it should throw an error somewhere along the line if I do try)"
   ]
  },
  {
   "cell_type": "code",
   "execution_count": 1,
   "id": "466eab0c",
   "metadata": {},
   "outputs": [
    {
     "name": "stdout",
     "output_type": "stream",
     "text": [
      "#########################################################\n",
      "Today:\tApril 25, 2023 - 15:48:19\n",
      "python version: 3.8.5\n",
      "\n",
      "Current commit of \u001b[1mpythonimports\u001b[0m:\n",
      "\u001b[33mcommit 4ecd56c8c80ec4876790fcd425cb75b9db9a4f24\u001b[m  \n",
      "Author: Brandon Lind <lind.brandon.m@gmail.com>  \n",
      "Date:   Tue Mar 21 13:20:54 2023 -0400\n",
      "\n",
      "Current commit of \u001b[94m\u001b[1mMVP_offsets\u001b[0m\u001b[0m:\n",
      "\u001b[33mcommit ef86c4b94658027c580e1bbfdfc1195b0b7077e9\u001b[m  \n",
      "Author: Brandon Lind <lind.brandon.m@gmail.com>  \n",
      "Date:   Thu Mar 23 10:58:00 2023 -0400\n",
      "#########################################################\n",
      "\n"
     ]
    },
    {
     "data": {
      "text/html": [
       "<details>\n",
       "<summary>Click to view session information</summary>\n",
       "<pre>\n",
       "-----\n",
       "MVP_02_fit_gradient_forests NA\n",
       "MVP_summary_functions       NA\n",
       "balance_queue               NA\n",
       "cartopy                     0.20.2\n",
       "ipyparallel                 7.1.0\n",
       "matplotlib                  3.5.2\n",
       "myclasses                   NA\n",
       "myfigs                      NA\n",
       "mymaps                      NA\n",
       "myslurm                     NA\n",
       "numpy                       1.22.1\n",
       "pandas                      1.3.5\n",
       "pythonimports               NA\n",
       "session_info                1.0.0\n",
       "tqdm                        4.62.1\n",
       "-----\n",
       "</pre>\n",
       "<details>\n",
       "<summary>Click to view modules imported as dependencies</summary>\n",
       "<pre>\n",
       "PIL                         8.4.0\n",
       "attr                        21.4.0\n",
       "backcall                    0.2.0\n",
       "beta_ufunc                  NA\n",
       "binom_ufunc                 NA\n",
       "bottleneck                  1.3.2\n",
       "certifi                     2022.06.15\n",
       "cffi                        1.15.0\n",
       "cycler                      0.10.0\n",
       "cython_runtime              NA\n",
       "dateutil                    2.8.2\n",
       "debugpy                     1.5.1\n",
       "decorator                   5.1.1\n",
       "defusedxml                  0.7.1\n",
       "entrypoints                 0.4\n",
       "fiona                       1.9.2\n",
       "fontTools                   4.29.1\n",
       "ipykernel                   6.8.0\n",
       "ipython_genutils            0.2.0\n",
       "ipywidgets                  7.6.5\n",
       "jedi                        0.18.1\n",
       "kiwisolver                  1.3.2\n",
       "matplotlib_venn             0.11.6\n",
       "mpl_toolkits                NA\n",
       "nbinom_ufunc                NA\n",
       "numexpr                     2.8.1\n",
       "packaging                   21.3\n",
       "parso                       0.8.3\n",
       "pexpect                     4.8.0\n",
       "pickleshare                 0.7.5\n",
       "pkg_resources               NA\n",
       "prompt_toolkit              3.0.26\n",
       "psutil                      5.9.0\n",
       "ptyprocess                  0.7.0\n",
       "pydev_ipython               NA\n",
       "pydevconsole                NA\n",
       "pydevd                      2.6.0\n",
       "pydevd_concurrency_analyser NA\n",
       "pydevd_file_utils           NA\n",
       "pydevd_plugins              NA\n",
       "pydevd_tracing              NA\n",
       "pygments                    2.11.2\n",
       "pyparsing                   3.0.7\n",
       "pyproj                      3.3.0\n",
       "pytz                        2021.3\n",
       "scipy                       1.7.3\n",
       "seaborn                     0.12.2\n",
       "setuptools                  60.7.1\n",
       "shapefile                   2.2.0\n",
       "shapely                     1.8.0\n",
       "six                         1.16.0\n",
       "statsmodels                 0.13.0\n",
       "storemagic                  NA\n",
       "tornado                     6.1\n",
       "traitlets                   5.1.1\n",
       "wcwidth                     0.2.5\n",
       "zmq                         22.3.0\n",
       "</pre>\n",
       "</details> <!-- seems like this ends pre, so might as well be explicit -->\n",
       "<pre>\n",
       "-----\n",
       "IPython             7.31.1\n",
       "jupyter_client      7.1.2\n",
       "jupyter_core        4.9.1\n",
       "notebook            6.4.8\n",
       "-----\n",
       "Python 3.8.5 (default, Sep  4 2020, 07:30:14) [GCC 7.3.0]\n",
       "Linux-3.10.0-1160.25.1.el7.x86_64-x86_64-with-glibc2.10\n",
       "-----\n",
       "Session information updated at 2023-04-25 15:48\n",
       "</pre>\n",
       "</details>"
      ],
      "text/plain": [
       "<IPython.core.display.HTML object>"
      ]
     },
     "execution_count": 1,
     "metadata": {},
     "output_type": "execute_result"
    }
   ],
   "source": [
    "from pythonimports import *\n",
    "\n",
    "import MVP_summary_functions as mvp\n",
    "import MVP_02_fit_gradient_forests as mvp02\n",
    "\n",
    "t0 = dt.now()\n",
    "\n",
    "mvp.latest_commit()\n",
    "session_info.show()"
   ]
  },
  {
   "cell_type": "markdown",
   "id": "27dada33",
   "metadata": {},
   "source": [
    "# get dirs"
   ]
  },
  {
   "cell_type": "code",
   "execution_count": 2,
   "id": "dd0fc5b3",
   "metadata": {},
   "outputs": [],
   "source": [
    "# training shdirs\n",
    "training_dirs = {\n",
    "    'ISO-PSsd' : '/home/b.lind/offsets/run_20220919_nuisance/ISO-PSsd_0-225/gradient_forests/training/training_shfiles',\n",
    "    'ISO-TSsd-PSsd' : '/home/b.lind/offsets/run_20220919_nuisance/ISO-TSsd-PSsd_0-225/gradient_forests/training/training_shfiles'\n",
    "}"
   ]
  },
  {
   "cell_type": "code",
   "execution_count": 3,
   "id": "5f7eb94a",
   "metadata": {},
   "outputs": [
    {
     "data": {
      "text/plain": [
       "(225, 225)"
      ]
     },
     "execution_count": 3,
     "metadata": {},
     "output_type": "execute_result"
    }
   ],
   "source": [
    "# get unique seeds by querying adaptive runs from the first nuis_envs dir (each dir has same seeds)\n",
    "seeds = []\n",
    "for nuis_envs, d in training_dirs.items():\n",
    "    for sh in fs(d, pattern='adaptive', endswith='.sh'):\n",
    "        seed = op.basename(sh).split(\"_\")[0]\n",
    "        seeds.append(seed)\n",
    "        \n",
    "    break\n",
    "\n",
    "len(seeds), luni(seeds)"
   ]
  },
  {
   "cell_type": "code",
   "execution_count": null,
   "id": "8415b3fd",
   "metadata": {},
   "outputs": [],
   "source": []
  },
  {
   "cell_type": "markdown",
   "id": "ff1da592",
   "metadata": {},
   "source": [
    "# create dummy ind envfiles\n",
    "\n",
    "mvp02 requires there to be two envfiles (one for pooled, one for individual) - so just create a blank individual file (blank so that if it's ever tried to be used by code it will likely throw up an error somewhere)"
   ]
  },
  {
   "cell_type": "code",
   "execution_count": 4,
   "id": "9693b8e9",
   "metadata": {},
   "outputs": [
    {
     "name": "stderr",
     "output_type": "stream",
     "text": [
      "ISO-PSsd: 100%|███████████████| 225/225 [00:05<00:00, 37.71it/s]\n",
      "ISO-TSsd-PSsd: 100%|███████████████| 225/225 [00:05<00:00, 40.06it/s]\n"
     ]
    },
    {
     "data": {
      "text/html": [
       "<div>\n",
       "<style scoped>\n",
       "    .dataframe tbody tr th:only-of-type {\n",
       "        vertical-align: middle;\n",
       "    }\n",
       "\n",
       "    .dataframe tbody tr th {\n",
       "        vertical-align: top;\n",
       "    }\n",
       "\n",
       "    .dataframe thead th {\n",
       "        text-align: right;\n",
       "    }\n",
       "</style>\n",
       "<table border=\"1\" class=\"dataframe\">\n",
       "  <thead>\n",
       "    <tr style=\"text-align: right;\">\n",
       "      <th></th>\n",
       "      <th>sal_opt</th>\n",
       "      <th>temp_opt</th>\n",
       "      <th>ISO</th>\n",
       "      <th>TSsd</th>\n",
       "      <th>PSsd</th>\n",
       "    </tr>\n",
       "  </thead>\n",
       "  <tbody>\n",
       "  </tbody>\n",
       "</table>\n",
       "</div>"
      ],
      "text/plain": [
       "Empty DataFrame\n",
       "Columns: [sal_opt, temp_opt, ISO, TSsd, PSsd]\n",
       "Index: []"
      ]
     },
     "execution_count": 4,
     "metadata": {},
     "output_type": "execute_result"
    }
   ],
   "source": [
    "for nuis_envs, d in training_dirs.items():\n",
    "    filedir = d.replace('_shfiles', '_files')\n",
    "    assert op.exists(filedir)\n",
    "\n",
    "    envfiles = fs(filedir, endswith='envfile_GFready_pooled.txt')\n",
    "\n",
    "    # create a blank ind file to get passed file count assertion by mvp02\n",
    "    for f in pbar(envfiles, desc=nuis_envs):\n",
    "        df = pd.read_table(f, nrows=0, index_col=0)  # only read in columns so errors are produced if used\n",
    "        df.to_csv(f.replace('pooled', 'ind'), sep='\\t', index=True, header=True)\n",
    "\n",
    "df"
   ]
  },
  {
   "cell_type": "code",
   "execution_count": null,
   "id": "2334c3e7",
   "metadata": {},
   "outputs": [],
   "source": []
  },
  {
   "cell_type": "markdown",
   "id": "5ba47316",
   "metadata": {},
   "source": [
    "# create subset files\n",
    "\n",
    "normally these would be individually based but I'm creating as pooled since averaging temp by subpopID will be the same"
   ]
  },
  {
   "cell_type": "code",
   "execution_count": 5,
   "id": "f3ad6759",
   "metadata": {},
   "outputs": [],
   "source": [
    "# indID - from mvp01.read_ind_data\n",
    "# subpopID - from mvp06.get_pop_data\n",
    "# x, y - from mvp06.get_pop_data\n",
    "# env names"
   ]
  },
  {
   "cell_type": "code",
   "execution_count": 6,
   "id": "4bb7369f",
   "metadata": {},
   "outputs": [
    {
     "name": "stdout",
     "output_type": "stream",
     "text": [
      "ISO-PSsd 225\n"
     ]
    },
    {
     "name": "stderr",
     "output_type": "stream",
     "text": [
      "ISO-PSsd: 100%|███████████████| 225/225 [00:07<00:00, 29.75it/s]\n"
     ]
    },
    {
     "name": "stdout",
     "output_type": "stream",
     "text": [
      "ISO-TSsd-PSsd 225\n"
     ]
    },
    {
     "name": "stderr",
     "output_type": "stream",
     "text": [
      "ISO-TSsd-PSsd: 100%|███████████████| 225/225 [00:08<00:00, 27.14it/s]\n"
     ]
    }
   ],
   "source": [
    "# create a subsetfile using the rangefiles that were given to GF scripts\n",
    "# rangefiles will be limited to the envdata used to train GF models\n",
    "for nuis_envs, d in training_dirs.items():\n",
    "    filedir = d.replace('_shfiles', '_files')\n",
    "\n",
    "    rangefiles = fs(filedir, pattern='range')\n",
    "\n",
    "    print(nuis_envs, len(rangefiles))\n",
    "\n",
    "    outerdir = d.split('/gradient_forests/')[0]\n",
    "    slimdir = makedir(f'{outerdir}/slimdir')  # where to eventually save the subsetfile\n",
    "\n",
    "    for rangefile in pbar(rangefiles, desc=nuis_envs):\n",
    "\n",
    "        df = pd.read_table(rangefile)\n",
    "        df['subpopID'] = range(1, 101, 1)\n",
    "        df['indID'] = df['subpopID']  # copying is fine if assuming pooled data\n",
    "        df.columns = [col.replace('lat', 'y').replace('lon', 'x') for col in df.columns]\n",
    "\n",
    "        seed = op.basename(rangefile).split('_')[0]\n",
    "        subsetfile = f'{slimdir}/{seed}_Rout_ind_subset.txt'\n",
    "        df.to_csv(subsetfile, sep='\\t')  # subsetfiles are assumed to read in as delim_whitespace=True; sep='\\t' works with this"
   ]
  },
  {
   "cell_type": "code",
   "execution_count": 7,
   "id": "d778d1fa",
   "metadata": {},
   "outputs": [
    {
     "data": {
      "text/html": [
       "<div>\n",
       "<style scoped>\n",
       "    .dataframe tbody tr th:only-of-type {\n",
       "        vertical-align: middle;\n",
       "    }\n",
       "\n",
       "    .dataframe tbody tr th {\n",
       "        vertical-align: top;\n",
       "    }\n",
       "\n",
       "    .dataframe thead th {\n",
       "        text-align: right;\n",
       "    }\n",
       "</style>\n",
       "<table border=\"1\" class=\"dataframe\">\n",
       "  <thead>\n",
       "    <tr style=\"text-align: right;\">\n",
       "      <th></th>\n",
       "      <th>sal_opt</th>\n",
       "      <th>temp_opt</th>\n",
       "      <th>ISO</th>\n",
       "      <th>TSsd</th>\n",
       "      <th>PSsd</th>\n",
       "      <th>y</th>\n",
       "      <th>x</th>\n",
       "      <th>subpopID</th>\n",
       "      <th>indID</th>\n",
       "    </tr>\n",
       "  </thead>\n",
       "  <tbody>\n",
       "    <tr>\n",
       "      <th>0</th>\n",
       "      <td>-1.0</td>\n",
       "      <td>-1.0</td>\n",
       "      <td>0.009381</td>\n",
       "      <td>-2.245441</td>\n",
       "      <td>1.003559</td>\n",
       "      <td>1.0</td>\n",
       "      <td>1.0</td>\n",
       "      <td>1</td>\n",
       "      <td>1</td>\n",
       "    </tr>\n",
       "    <tr>\n",
       "      <th>1</th>\n",
       "      <td>-0.5</td>\n",
       "      <td>-1.0</td>\n",
       "      <td>0.239071</td>\n",
       "      <td>-1.967663</td>\n",
       "      <td>0.518946</td>\n",
       "      <td>1.0</td>\n",
       "      <td>2.0</td>\n",
       "      <td>2</td>\n",
       "      <td>2</td>\n",
       "    </tr>\n",
       "    <tr>\n",
       "      <th>2</th>\n",
       "      <td>0.0</td>\n",
       "      <td>-1.0</td>\n",
       "      <td>0.580610</td>\n",
       "      <td>-0.963343</td>\n",
       "      <td>-0.246231</td>\n",
       "      <td>1.0</td>\n",
       "      <td>3.0</td>\n",
       "      <td>3</td>\n",
       "      <td>3</td>\n",
       "    </tr>\n",
       "    <tr>\n",
       "      <th>3</th>\n",
       "      <td>0.5</td>\n",
       "      <td>-1.0</td>\n",
       "      <td>0.639031</td>\n",
       "      <td>-0.164371</td>\n",
       "      <td>-0.399267</td>\n",
       "      <td>1.0</td>\n",
       "      <td>4.0</td>\n",
       "      <td>4</td>\n",
       "      <td>4</td>\n",
       "    </tr>\n",
       "    <tr>\n",
       "      <th>4</th>\n",
       "      <td>1.0</td>\n",
       "      <td>-1.0</td>\n",
       "      <td>-0.036985</td>\n",
       "      <td>-0.291426</td>\n",
       "      <td>-0.661614</td>\n",
       "      <td>1.0</td>\n",
       "      <td>5.0</td>\n",
       "      <td>5</td>\n",
       "      <td>5</td>\n",
       "    </tr>\n",
       "    <tr>\n",
       "      <th>...</th>\n",
       "      <td>...</td>\n",
       "      <td>...</td>\n",
       "      <td>...</td>\n",
       "      <td>...</td>\n",
       "      <td>...</td>\n",
       "      <td>...</td>\n",
       "      <td>...</td>\n",
       "      <td>...</td>\n",
       "      <td>...</td>\n",
       "    </tr>\n",
       "    <tr>\n",
       "      <th>95</th>\n",
       "      <td>1.0</td>\n",
       "      <td>1.0</td>\n",
       "      <td>0.113241</td>\n",
       "      <td>-0.239327</td>\n",
       "      <td>-0.054937</td>\n",
       "      <td>10.0</td>\n",
       "      <td>6.0</td>\n",
       "      <td>96</td>\n",
       "      <td>96</td>\n",
       "    </tr>\n",
       "    <tr>\n",
       "      <th>96</th>\n",
       "      <td>0.5</td>\n",
       "      <td>1.0</td>\n",
       "      <td>0.881061</td>\n",
       "      <td>0.598108</td>\n",
       "      <td>1.480884</td>\n",
       "      <td>10.0</td>\n",
       "      <td>7.0</td>\n",
       "      <td>97</td>\n",
       "      <td>97</td>\n",
       "    </tr>\n",
       "    <tr>\n",
       "      <th>97</th>\n",
       "      <td>0.0</td>\n",
       "      <td>1.0</td>\n",
       "      <td>1.587251</td>\n",
       "      <td>1.669095</td>\n",
       "      <td>2.461321</td>\n",
       "      <td>10.0</td>\n",
       "      <td>8.0</td>\n",
       "      <td>98</td>\n",
       "      <td>98</td>\n",
       "    </tr>\n",
       "    <tr>\n",
       "      <th>98</th>\n",
       "      <td>-0.5</td>\n",
       "      <td>1.0</td>\n",
       "      <td>1.381814</td>\n",
       "      <td>2.462649</td>\n",
       "      <td>2.880066</td>\n",
       "      <td>10.0</td>\n",
       "      <td>9.0</td>\n",
       "      <td>99</td>\n",
       "      <td>99</td>\n",
       "    </tr>\n",
       "    <tr>\n",
       "      <th>99</th>\n",
       "      <td>-1.0</td>\n",
       "      <td>1.0</td>\n",
       "      <td>1.137857</td>\n",
       "      <td>3.232988</td>\n",
       "      <td>2.967515</td>\n",
       "      <td>10.0</td>\n",
       "      <td>10.0</td>\n",
       "      <td>100</td>\n",
       "      <td>100</td>\n",
       "    </tr>\n",
       "  </tbody>\n",
       "</table>\n",
       "<p>100 rows × 9 columns</p>\n",
       "</div>"
      ],
      "text/plain": [
       "    sal_opt  temp_opt       ISO      TSsd      PSsd     y     x  subpopID  \\\n",
       "0      -1.0      -1.0  0.009381 -2.245441  1.003559   1.0   1.0         1   \n",
       "1      -0.5      -1.0  0.239071 -1.967663  0.518946   1.0   2.0         2   \n",
       "2       0.0      -1.0  0.580610 -0.963343 -0.246231   1.0   3.0         3   \n",
       "3       0.5      -1.0  0.639031 -0.164371 -0.399267   1.0   4.0         4   \n",
       "4       1.0      -1.0 -0.036985 -0.291426 -0.661614   1.0   5.0         5   \n",
       "..      ...       ...       ...       ...       ...   ...   ...       ...   \n",
       "95      1.0       1.0  0.113241 -0.239327 -0.054937  10.0   6.0        96   \n",
       "96      0.5       1.0  0.881061  0.598108  1.480884  10.0   7.0        97   \n",
       "97      0.0       1.0  1.587251  1.669095  2.461321  10.0   8.0        98   \n",
       "98     -0.5       1.0  1.381814  2.462649  2.880066  10.0   9.0        99   \n",
       "99     -1.0       1.0  1.137857  3.232988  2.967515  10.0  10.0       100   \n",
       "\n",
       "    indID  \n",
       "0       1  \n",
       "1       2  \n",
       "2       3  \n",
       "3       4  \n",
       "4       5  \n",
       "..    ...  \n",
       "95     96  \n",
       "96     97  \n",
       "97     98  \n",
       "98     99  \n",
       "99    100  \n",
       "\n",
       "[100 rows x 9 columns]"
      ]
     },
     "execution_count": 7,
     "metadata": {},
     "output_type": "execute_result"
    }
   ],
   "source": [
    "# example dataframe\n",
    "df"
   ]
  },
  {
   "cell_type": "code",
   "execution_count": null,
   "id": "5bbf6e03",
   "metadata": {},
   "outputs": [],
   "source": []
  },
  {
   "cell_type": "markdown",
   "id": "8e63e643",
   "metadata": {},
   "source": [
    "# create fitting shfiles"
   ]
  },
  {
   "cell_type": "code",
   "execution_count": 8,
   "id": "3d2b921b",
   "metadata": {},
   "outputs": [],
   "source": [
    "# create fitting dirs\n",
    "fitting_dirs = {\n",
    "    'ISO-PSsd' : makedir(\n",
    "        '/home/b.lind/offsets/run_20220919_nuisance/ISO-PSsd_0-225/gradient_forests/fitting/fitting_shfiles'\n",
    "    ),\n",
    "\n",
    "    'ISO-TSsd-PSsd' : makedir(\n",
    "        '/home/b.lind/offsets/run_20220919_nuisance/ISO-TSsd-PSsd_0-225/gradient_forests/fitting/fitting_shfiles'\n",
    "    )\n",
    "}"
   ]
  },
  {
   "cell_type": "code",
   "execution_count": 9,
   "id": "d37294d8",
   "metadata": {},
   "outputs": [
    {
     "name": "stdout",
     "output_type": "stream",
     "text": [
      "/home/b.lind/offsets/run_20220919_nuisance/ISO-PSsd_0-225/gradient_forests\n"
     ]
    },
    {
     "name": "stderr",
     "output_type": "stream",
     "text": [
      "ISO-PSsd: 100%|███████████████| 225/225 [00:03<00:00, 63.88it/s]\n"
     ]
    },
    {
     "name": "stdout",
     "output_type": "stream",
     "text": [
      "/home/b.lind/offsets/run_20220919_nuisance/ISO-TSsd-PSsd_0-225/gradient_forests\n"
     ]
    },
    {
     "name": "stderr",
     "output_type": "stream",
     "text": [
      "ISO-TSsd-PSsd: 100%|███████████████| 225/225 [00:04<00:00, 47.77it/s]\n"
     ]
    }
   ],
   "source": [
    "paramsfile = '/home/b.lind/offsets/run_20220919_0-225/slimdir/0b-final_params-20220428.txt'\n",
    "\n",
    "shfiles = []\n",
    "for nuis_envs, fitting_dir in fitting_dirs.items():\n",
    "    training_outdir = training_dirs[nuis_envs].replace('training_shfiles', 'training_outfiles')\n",
    "    slimdir = training_outdir.replace('gradient_forests/training/training_outfiles', 'slimdir')  # mvp02 doesnt use this see docstring\n",
    "\n",
    "    # slimdir is used by mvp03 though so copy over a paramsfile\n",
    "    dst = op.join(slimdir, '0b-final_params-20220428.txt')\n",
    "    shutil.copy(paramsfile, dst)\n",
    "\n",
    "    gf_parentdir = op.join(op.dirname(slimdir), 'gradient_forests')\n",
    "    print(gf_parentdir)\n",
    "\n",
    "    for seed in pbar(seeds, desc=nuis_envs):\n",
    "        job = f'{seed}_{nuis_envs}_gf_fitting'\n",
    "\n",
    "        text = f'''#!/bin/bash\n",
    "#SBATCH --job-name={job}\n",
    "#SBATCH --time=1-00:00:00\n",
    "#SBATCH --ntasks=1\n",
    "#SBATCH --mem=300000M\n",
    "#SBATCH --output={job}_%j.out\n",
    "#SBATCH --mail-user=b.lind@northeastern.edu\n",
    "#SBATCH --mail-type=FAIL\n",
    "#SBATCH --nodes=1\n",
    "#SBATCH --cpus-per-task=7\n",
    "\n",
    "cd /home/b.lind/code/MVP-offsets/01_src\n",
    "\n",
    "source $HOME/.bashrc\n",
    "\n",
    "conda activate mvp_env\n",
    "\n",
    "python MVP_02_fit_gradient_forests.py {seed} {slimdir} {training_outdir} /home/b.lind/anaconda3/envs/r35/lib/R/bin/Rscript\n",
    "\n",
    "python MVP_03_validate_gradient_forests.py {seed} {slimdir} {gf_parentdir}\n",
    "\n",
    "'''\n",
    "        sh = op.join(fitting_dir, f'{job}.sh')\n",
    "        with open(sh, 'w') as o:\n",
    "            o.write(text)\n",
    "\n",
    "        shfiles.append(sh)"
   ]
  },
  {
   "cell_type": "code",
   "execution_count": 10,
   "id": "5eca2227",
   "metadata": {},
   "outputs": [
    {
     "name": "stderr",
     "output_type": "stream",
     "text": [
      "sbatching: 100%|███████████████| 450/450 [03:23<00:00,  2.21it/s]\n"
     ]
    }
   ],
   "source": [
    "pids = sbatch(shfiles)"
   ]
  },
  {
   "cell_type": "code",
   "execution_count": null,
   "id": "c4a6198b",
   "metadata": {},
   "outputs": [],
   "source": []
  },
  {
   "cell_type": "code",
   "execution_count": 11,
   "id": "641d0953",
   "metadata": {},
   "outputs": [
    {
     "name": "stderr",
     "output_type": "stream",
     "text": [
      "update: 100%|███████████████| 225/225 [00:31<00:00,  7.04it/s]\n"
     ]
    }
   ],
   "source": [
    "Squeue(grepping='fitting').update(to_partition='long', num_jobs=225)"
   ]
  },
  {
   "cell_type": "code",
   "execution_count": null,
   "id": "1773c2bf",
   "metadata": {},
   "outputs": [],
   "source": []
  },
  {
   "cell_type": "code",
   "execution_count": 12,
   "id": "a04df3d3",
   "metadata": {},
   "outputs": [
    {
     "data": {
      "text/plain": [
       "'0-00:04:32'"
      ]
     },
     "execution_count": 12,
     "metadata": {},
     "output_type": "execute_result"
    }
   ],
   "source": [
    "formatclock(dt.now() - t0)"
   ]
  },
  {
   "cell_type": "code",
   "execution_count": null,
   "id": "3444ec37",
   "metadata": {},
   "outputs": [],
   "source": []
  },
  {
   "cell_type": "code",
   "execution_count": 13,
   "id": "0099f602",
   "metadata": {},
   "outputs": [
    {
     "data": {
      "text/plain": [
       "{'long': Counter({'PD': 225}), 'short': Counter({'PD': 223, 'R': 2})}"
      ]
     },
     "execution_count": 13,
     "metadata": {},
     "output_type": "execute_result"
    }
   ],
   "source": [
    "Squeue(exclude='bash').partitions()"
   ]
  },
  {
   "cell_type": "code",
   "execution_count": 14,
   "id": "dff6fdc3",
   "metadata": {},
   "outputs": [
    {
     "data": {
      "text/plain": [
       "Counter({'PD': 448, 'R': 2})"
      ]
     },
     "execution_count": 14,
     "metadata": {},
     "output_type": "execute_result"
    }
   ],
   "source": [
    "Squeue(exclude='bash').states().counter()"
   ]
  },
  {
   "cell_type": "code",
   "execution_count": null,
   "id": "ac0d6582",
   "metadata": {},
   "outputs": [],
   "source": []
  },
  {
   "cell_type": "code",
   "execution_count": null,
   "id": "b9bb54b4",
   "metadata": {},
   "outputs": [],
   "source": []
  },
  {
   "cell_type": "code",
   "execution_count": 15,
   "id": "6104781a",
   "metadata": {},
   "outputs": [
    {
     "data": {
      "text/plain": [
       "Counter({'PD': 442, 'R': 8})"
      ]
     },
     "execution_count": 15,
     "metadata": {},
     "output_type": "execute_result"
    }
   ],
   "source": [
    "Squeue(exclude='bash').states().counter()"
   ]
  },
  {
   "cell_type": "code",
   "execution_count": 16,
   "id": "961fa5cd",
   "metadata": {},
   "outputs": [
    {
     "data": {
      "text/plain": [
       "{'long': Counter({'PD': 219, 'R': 6}), 'short': Counter({'PD': 223, 'R': 2})}"
      ]
     },
     "execution_count": 16,
     "metadata": {},
     "output_type": "execute_result"
    }
   ],
   "source": [
    "Squeue(exclude='bash').partitions()"
   ]
  },
  {
   "cell_type": "code",
   "execution_count": null,
   "id": "40faedbb",
   "metadata": {},
   "outputs": [],
   "source": []
  },
  {
   "cell_type": "code",
   "execution_count": null,
   "id": "2dc3ca4d",
   "metadata": {},
   "outputs": [],
   "source": []
  },
  {
   "cell_type": "code",
   "execution_count": null,
   "id": "b66352ae",
   "metadata": {},
   "outputs": [],
   "source": []
  },
  {
   "cell_type": "code",
   "execution_count": null,
   "id": "de04871c",
   "metadata": {},
   "outputs": [],
   "source": []
  },
  {
   "cell_type": "code",
   "execution_count": null,
   "id": "55f69258",
   "metadata": {},
   "outputs": [],
   "source": []
  },
  {
   "cell_type": "markdown",
   "id": "e0a68847",
   "metadata": {},
   "source": [
    "# check on progress"
   ]
  },
  {
   "cell_type": "code",
   "execution_count": 1,
   "id": "32b7f850",
   "metadata": {},
   "outputs": [
    {
     "name": "stdout",
     "output_type": "stream",
     "text": [
      "#########################################################\n",
      "Today:\tApril 28, 2023 - 09:16:45\n",
      "python version: 3.8.5\n",
      "\n",
      "Current commit of \u001b[1mpythonimports\u001b[0m:\n",
      "\u001b[33mcommit a8b230cefd0c1b0b00eeb77ec5faf75e44771905\u001b[m  \n",
      "Author: Brandon Lind <lind.brandon.m@gmail.com>  \n",
      "Date:   Wed Apr 26 11:01:24 2023 -0400\n",
      "\n",
      "Current commit of \u001b[94m\u001b[1mMVP_offsets\u001b[0m\u001b[0m:\n",
      "\u001b[33mcommit ef86c4b94658027c580e1bbfdfc1195b0b7077e9\u001b[m  \n",
      "Author: Brandon Lind <lind.brandon.m@gmail.com>  \n",
      "Date:   Thu Mar 23 10:58:00 2023 -0400\n",
      "#########################################################\n",
      "\n"
     ]
    },
    {
     "data": {
      "text/html": [
       "<details>\n",
       "<summary>Click to view session information</summary>\n",
       "<pre>\n",
       "-----\n",
       "MVP_summary_functions       NA\n",
       "balance_queue               NA\n",
       "cartopy                     0.20.2\n",
       "ipyparallel                 7.1.0\n",
       "matplotlib                  3.5.2\n",
       "myclasses                   NA\n",
       "myfigs                      NA\n",
       "mymaps                      NA\n",
       "myslurm                     NA\n",
       "numpy                       1.22.1\n",
       "pandas                      1.3.5\n",
       "pythonimports               NA\n",
       "session_info                1.0.0\n",
       "tqdm                        4.62.1\n",
       "-----\n",
       "</pre>\n",
       "<details>\n",
       "<summary>Click to view modules imported as dependencies</summary>\n",
       "<pre>\n",
       "PIL                         8.4.0\n",
       "attr                        21.4.0\n",
       "backcall                    0.2.0\n",
       "beta_ufunc                  NA\n",
       "binom_ufunc                 NA\n",
       "bottleneck                  1.3.2\n",
       "certifi                     2022.06.15\n",
       "cffi                        1.15.0\n",
       "cycler                      0.10.0\n",
       "cython_runtime              NA\n",
       "dateutil                    2.8.2\n",
       "debugpy                     1.5.1\n",
       "decorator                   5.1.1\n",
       "defusedxml                  0.7.1\n",
       "entrypoints                 0.4\n",
       "fiona                       1.9.2\n",
       "fontTools                   4.29.1\n",
       "ipykernel                   6.8.0\n",
       "ipython_genutils            0.2.0\n",
       "ipywidgets                  7.6.5\n",
       "jedi                        0.18.1\n",
       "kiwisolver                  1.3.2\n",
       "matplotlib_venn             0.11.6\n",
       "mpl_toolkits                NA\n",
       "nbinom_ufunc                NA\n",
       "numexpr                     2.8.1\n",
       "packaging                   21.3\n",
       "parso                       0.8.3\n",
       "pexpect                     4.8.0\n",
       "pickleshare                 0.7.5\n",
       "pkg_resources               NA\n",
       "prompt_toolkit              3.0.26\n",
       "psutil                      5.9.0\n",
       "ptyprocess                  0.7.0\n",
       "pydev_ipython               NA\n",
       "pydevconsole                NA\n",
       "pydevd                      2.6.0\n",
       "pydevd_concurrency_analyser NA\n",
       "pydevd_file_utils           NA\n",
       "pydevd_plugins              NA\n",
       "pydevd_tracing              NA\n",
       "pygments                    2.11.2\n",
       "pyparsing                   3.0.7\n",
       "pyproj                      3.3.0\n",
       "pytz                        2021.3\n",
       "scipy                       1.7.3\n",
       "seaborn                     0.12.2\n",
       "setuptools                  60.7.1\n",
       "shapefile                   2.2.0\n",
       "shapely                     1.8.0\n",
       "six                         1.16.0\n",
       "statsmodels                 0.13.0\n",
       "storemagic                  NA\n",
       "tornado                     6.1\n",
       "traitlets                   5.1.1\n",
       "wcwidth                     0.2.5\n",
       "zmq                         22.3.0\n",
       "</pre>\n",
       "</details> <!-- seems like this ends pre, so might as well be explicit -->\n",
       "<pre>\n",
       "-----\n",
       "IPython             7.31.1\n",
       "jupyter_client      7.1.2\n",
       "jupyter_core        4.9.1\n",
       "notebook            6.4.8\n",
       "-----\n",
       "Python 3.8.5 (default, Sep  4 2020, 07:30:14) [GCC 7.3.0]\n",
       "Linux-3.10.0-1160.25.1.el7.x86_64-x86_64-with-glibc2.10\n",
       "-----\n",
       "Session information updated at 2023-04-28 09:16\n",
       "</pre>\n",
       "</details>"
      ],
      "text/plain": [
       "<IPython.core.display.HTML object>"
      ]
     },
     "execution_count": 1,
     "metadata": {},
     "output_type": "execute_result"
    }
   ],
   "source": [
    "from pythonimports import *\n",
    "\n",
    "import MVP_summary_functions as mvp\n",
    "\n",
    "mvp.latest_commit()\n",
    "session_info.show()"
   ]
  },
  {
   "cell_type": "code",
   "execution_count": 2,
   "id": "bdcc011a",
   "metadata": {},
   "outputs": [],
   "source": [
    "# create fitting dirs\n",
    "fitting_dirs = {\n",
    "    'ISO-PSsd' : \n",
    "        '/home/b.lind/offsets/run_20220919_nuisance/ISO-PSsd_0-225/gradient_forests/fitting/fitting_shfiles',\n",
    "\n",
    "    'ISO-TSsd-PSsd' : \n",
    "        '/home/b.lind/offsets/run_20220919_nuisance/ISO-TSsd-PSsd_0-225/gradient_forests/fitting/fitting_shfiles'\n",
    "}"
   ]
  },
  {
   "cell_type": "code",
   "execution_count": 3,
   "id": "46fcdc46",
   "metadata": {},
   "outputs": [
    {
     "name": "stdout",
     "output_type": "stream",
     "text": [
      "36 36\n"
     ]
    }
   ],
   "source": [
    "lview, dview = get_client(cluster_id='1682687722-xo2p', profile='lotterhos')"
   ]
  },
  {
   "cell_type": "code",
   "execution_count": 4,
   "id": "2b137ca2",
   "metadata": {},
   "outputs": [
    {
     "name": "stdout",
     "output_type": "stream",
     "text": [
      "\u001b[1m\n",
      "Watching 386 parallel Seffs jobs ...\u001b[0m\n"
     ]
    },
    {
     "name": "stderr",
     "output_type": "stream",
     "text": [
      "requesting seffs: 100%|███████████████| 386/386 [00:12<00:00, 31.00it/s]\n",
      "retrieving seffs: 100%|███████████████| 386/386 [00:03<00:00, 128.58it/s]\n",
      "/home/b.lind/pythonimports/myslurm.py:548: UserWarning: There are multiple shfiles associated with outfiles. len=386 luni=225\n",
      "  warnings.warn(text)\n"
     ]
    },
    {
     "name": "stdout",
     "output_type": "stream",
     "text": [
      "\u001b[1m\n",
      "Watching 246 parallel Seffs jobs ...\u001b[0m\n"
     ]
    },
    {
     "name": "stderr",
     "output_type": "stream",
     "text": [
      "requesting seffs: 100%|███████████████| 246/246 [00:01<00:00, 149.55it/s] \n",
      "retrieving seffs: 100%|███████████████| 246/246 [00:01<00:00, 123.86it/s]\n",
      "/home/b.lind/pythonimports/myslurm.py:548: UserWarning: There are multiple shfiles associated with outfiles. len=246 luni=225\n",
      "  warnings.warn(text)\n"
     ]
    }
   ],
   "source": [
    "seffs = {}\n",
    "for nuis_envs, shdir in fitting_dirs.items():\n",
    "    seffs[nuis_envs] = Seffs.parallel(lview, outs=fs(shdir, endswith='.out')).most_recent()"
   ]
  },
  {
   "cell_type": "code",
   "execution_count": 5,
   "id": "23ab77d5",
   "metadata": {},
   "outputs": [
    {
     "name": "stdout",
     "output_type": "stream",
     "text": [
      "ISO-PSsd Counter({'State: COMPLETED (exit code 0)': 225})\n",
      "ISO-TSsd-PSsd Counter({'State: COMPLETED (exit code 0)': 225})\n"
     ]
    }
   ],
   "source": [
    "for nuis_envs, s in seffs.items():\n",
    "    print(nuis_envs, s.states.counter())"
   ]
  },
  {
   "cell_type": "code",
   "execution_count": null,
   "id": "5223f99c",
   "metadata": {},
   "outputs": [],
   "source": []
  },
  {
   "cell_type": "code",
   "execution_count": null,
   "id": "63f383b8",
   "metadata": {},
   "outputs": [],
   "source": []
  },
  {
   "cell_type": "code",
   "execution_count": 7,
   "id": "d164bd59",
   "metadata": {
    "scrolled": true
   },
   "outputs": [
    {
     "name": "stdout",
     "output_type": "stream",
     "text": [
      "ISO-PSsd 135000\n",
      "ISO-TSsd-PSsd 135000\n"
     ]
    }
   ],
   "source": [
    "for nuis_env, d in fitting_dirs.items():\n",
    "    newd = d.replace('_shfiles', '_outfiles')\n",
    "    \n",
    "    files = fs(newd)\n",
    "    \n",
    "    print(nuis_env, len(files))"
   ]
  },
  {
   "cell_type": "code",
   "execution_count": null,
   "id": "093528e6",
   "metadata": {},
   "outputs": [],
   "source": []
  },
  {
   "cell_type": "code",
   "execution_count": null,
   "id": "89937b71",
   "metadata": {},
   "outputs": [],
   "source": []
  },
  {
   "cell_type": "code",
   "execution_count": null,
   "id": "7dc9aab4",
   "metadata": {},
   "outputs": [],
   "source": []
  },
  {
   "cell_type": "code",
   "execution_count": null,
   "id": "4b40d7ab",
   "metadata": {},
   "outputs": [],
   "source": []
  },
  {
   "cell_type": "code",
   "execution_count": null,
   "id": "7f1ef97f",
   "metadata": {},
   "outputs": [],
   "source": []
  }
 ],
 "metadata": {
  "kernelspec": {
   "display_name": "Python 3 (ipykernel)",
   "language": "python",
   "name": "python3"
  },
  "language_info": {
   "codemirror_mode": {
    "name": "ipython",
    "version": 3
   },
   "file_extension": ".py",
   "mimetype": "text/x-python",
   "name": "python",
   "nbconvert_exporter": "python",
   "pygments_lexer": "ipython3",
   "version": "3.8.5"
  }
 },
 "nbformat": 4,
 "nbformat_minor": 5
}
