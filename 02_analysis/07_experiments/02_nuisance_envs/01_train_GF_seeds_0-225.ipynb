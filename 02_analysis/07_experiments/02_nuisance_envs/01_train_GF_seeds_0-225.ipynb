{
 "cells": [
  {
   "cell_type": "markdown",
   "id": "b4765c93",
   "metadata": {},
   "source": [
    "### purpose\n",
    "\n",
    "train the first 225 levels of GF with the addition of nuisance envs\n",
    "\n",
    "since there are three nuissance envs, train the 225 levels with either 1, 2, or all nuissance envs to look at effect of additional envs (full-factorial)\n",
    "\n",
    "### Notes\n",
    "\n",
    "I ended up not doing a full factorial. I only ran \"ISO-PSsd\" and \"ISO-TSsd-PSsd\""
   ]
  },
  {
   "cell_type": "code",
   "execution_count": 1,
   "id": "17491f08",
   "metadata": {},
   "outputs": [
    {
     "name": "stdout",
     "output_type": "stream",
     "text": [
      "#########################################################\n",
      "Today:\tApril 11, 2023 - 11:19:11\n",
      "python version: 3.8.5\n",
      "\n",
      "Current commit of \u001b[1mpythonimports\u001b[0m:\n",
      "\u001b[33mcommit 4ecd56c8c80ec4876790fcd425cb75b9db9a4f24\u001b[m  \n",
      "Author: Brandon Lind <lind.brandon.m@gmail.com>  \n",
      "Date:   Tue Mar 21 13:20:54 2023 -0400\n",
      "\n",
      "Current commit of \u001b[94m\u001b[1mMVP_offsets\u001b[0m\u001b[0m:\n",
      "\u001b[33mcommit ef86c4b94658027c580e1bbfdfc1195b0b7077e9\u001b[m  \n",
      "Author: Brandon Lind <lind.brandon.m@gmail.com>  \n",
      "Date:   Thu Mar 23 10:58:00 2023 -0400\n",
      "#########################################################\n",
      "\n"
     ]
    },
    {
     "data": {
      "text/html": [
       "<details>\n",
       "<summary>Click to view session information</summary>\n",
       "<pre>\n",
       "-----\n",
       "MVP_06_validate_RONA        NA\n",
       "MVP_summary_functions       NA\n",
       "balance_queue               NA\n",
       "cartopy                     0.20.2\n",
       "ipyparallel                 7.1.0\n",
       "matplotlib                  3.5.2\n",
       "myclasses                   NA\n",
       "myfigs                      NA\n",
       "mymaps                      NA\n",
       "myslurm                     NA\n",
       "numpy                       1.22.1\n",
       "pandas                      1.3.5\n",
       "pythonimports               NA\n",
       "session_info                1.0.0\n",
       "tqdm                        4.62.1\n",
       "-----\n",
       "</pre>\n",
       "<details>\n",
       "<summary>Click to view modules imported as dependencies</summary>\n",
       "<pre>\n",
       "MVP_01_train_gradient_forests       NA\n",
       "MVP_03_validate_gradient_forests    NA\n",
       "MVP_10_train_lfmm2_offset           NA\n",
       "MVP_11_validate_lfmm2_offset        NA\n",
       "MVP_13_RDA_validation               NA\n",
       "PIL                                 8.4.0\n",
       "attr                                21.4.0\n",
       "backcall                            0.2.0\n",
       "beta_ufunc                          NA\n",
       "binom_ufunc                         NA\n",
       "bottleneck                          1.3.2\n",
       "certifi                             2022.06.15\n",
       "cffi                                1.15.0\n",
       "cycler                              0.10.0\n",
       "cython_runtime                      NA\n",
       "dateutil                            2.8.2\n",
       "debugpy                             1.5.1\n",
       "decorator                           5.1.1\n",
       "defusedxml                          0.7.1\n",
       "entrypoints                         0.4\n",
       "fiona                               1.9.2\n",
       "fontTools                           4.29.1\n",
       "ipykernel                           6.8.0\n",
       "ipython_genutils                    0.2.0\n",
       "ipywidgets                          7.6.5\n",
       "jedi                                0.18.1\n",
       "kiwisolver                          1.3.2\n",
       "matplotlib_venn                     0.11.6\n",
       "mpl_toolkits                        NA\n",
       "nbinom_ufunc                        NA\n",
       "numexpr                             2.8.1\n",
       "packaging                           21.3\n",
       "parso                               0.8.3\n",
       "pexpect                             4.8.0\n",
       "pickleshare                         0.7.5\n",
       "pkg_resources                       NA\n",
       "prompt_toolkit                      3.0.26\n",
       "psutil                              5.9.0\n",
       "ptyprocess                          0.7.0\n",
       "pydev_ipython                       NA\n",
       "pydevconsole                        NA\n",
       "pydevd                              2.6.0\n",
       "pydevd_concurrency_analyser         NA\n",
       "pydevd_file_utils                   NA\n",
       "pydevd_plugins                      NA\n",
       "pydevd_tracing                      NA\n",
       "pygments                            2.11.2\n",
       "pyparsing                           3.0.7\n",
       "pyproj                              3.3.0\n",
       "pytz                                2021.3\n",
       "scipy                               1.7.3\n",
       "seaborn                             0.12.2\n",
       "setuptools                          60.7.1\n",
       "shapefile                           2.2.0\n",
       "shapely                             1.8.0\n",
       "six                                 1.16.0\n",
       "statsmodels                         0.13.0\n",
       "storemagic                          NA\n",
       "tornado                             6.1\n",
       "traitlets                           5.1.1\n",
       "wcwidth                             0.2.5\n",
       "zmq                                 22.3.0\n",
       "</pre>\n",
       "</details> <!-- seems like this ends pre, so might as well be explicit -->\n",
       "<pre>\n",
       "-----\n",
       "IPython             7.31.1\n",
       "jupyter_client      7.1.2\n",
       "jupyter_core        4.9.1\n",
       "notebook            6.4.8\n",
       "-----\n",
       "Python 3.8.5 (default, Sep  4 2020, 07:30:14) [GCC 7.3.0]\n",
       "Linux-3.10.0-1160.25.1.el7.x86_64-x86_64-with-glibc2.10\n",
       "-----\n",
       "Session information updated at 2023-04-11 11:19\n",
       "</pre>\n",
       "</details>"
      ],
      "text/plain": [
       "<IPython.core.display.HTML object>"
      ]
     },
     "execution_count": 1,
     "metadata": {},
     "output_type": "execute_result"
    }
   ],
   "source": [
    "from pythonimports import *\n",
    "\n",
    "import MVP_summary_functions as mvp\n",
    "import MVP_06_validate_RONA as mvp06\n",
    "\n",
    "# canonical dirs\n",
    "gfc_training_dir = '/home/b.lind/offsets/run_20220919_0-225/gradient_forests/training/training_files'\n",
    "gfc_training_shdir = '/home/b.lind/offsets/run_20220919_0-225/gradient_forests/training/training_shfiles'\n",
    "\n",
    "# re: nuisance\n",
    "maindir = makedir('/home/b.lind/offsets/run_20220919_nuisance')  # upper dir of all nuis outerdirs\n",
    "nuis_dir = '/home/b.lind/offsets/run_20220919_tutorial/tutorial/'\n",
    "\n",
    "t1 = dt.now()  # notebook timer\n",
    "\n",
    "mvp.latest_commit()\n",
    "session_info.show()"
   ]
  },
  {
   "cell_type": "markdown",
   "id": "e312ee37",
   "metadata": {},
   "source": [
    "# load pop data\n",
    "\n",
    "just a file to get lat/long for pops"
   ]
  },
  {
   "cell_type": "code",
   "execution_count": 2,
   "id": "61dbb6b9",
   "metadata": {},
   "outputs": [
    {
     "name": "stdout",
     "output_type": "stream",
     "text": [
      "\u001b[38;2;255;215;0m\u001b[1m\n",
      "Reading in info for subsampled individuals ...\u001b[0m\u001b[0m\n"
     ]
    }
   ],
   "source": [
    "_, locations, _ = mvp06.get_pop_data(mvp.slimdir, '1231094')\n",
    "locations = locations[['lat', 'lon']]  # rearrange here to preserve canonical rangefile column order"
   ]
  },
  {
   "cell_type": "code",
   "execution_count": 3,
   "id": "019e6b3c",
   "metadata": {},
   "outputs": [
    {
     "data": {
      "text/html": [
       "<div>\n",
       "<style scoped>\n",
       "    .dataframe tbody tr th:only-of-type {\n",
       "        vertical-align: middle;\n",
       "    }\n",
       "\n",
       "    .dataframe tbody tr th {\n",
       "        vertical-align: top;\n",
       "    }\n",
       "\n",
       "    .dataframe thead th {\n",
       "        text-align: right;\n",
       "    }\n",
       "</style>\n",
       "<table border=\"1\" class=\"dataframe\">\n",
       "  <thead>\n",
       "    <tr style=\"text-align: right;\">\n",
       "      <th></th>\n",
       "      <th>lat</th>\n",
       "      <th>lon</th>\n",
       "    </tr>\n",
       "    <tr>\n",
       "      <th>subpopID</th>\n",
       "      <th></th>\n",
       "      <th></th>\n",
       "    </tr>\n",
       "  </thead>\n",
       "  <tbody>\n",
       "    <tr>\n",
       "      <th>1</th>\n",
       "      <td>1.0</td>\n",
       "      <td>1.0</td>\n",
       "    </tr>\n",
       "    <tr>\n",
       "      <th>2</th>\n",
       "      <td>1.0</td>\n",
       "      <td>2.0</td>\n",
       "    </tr>\n",
       "    <tr>\n",
       "      <th>3</th>\n",
       "      <td>1.0</td>\n",
       "      <td>3.0</td>\n",
       "    </tr>\n",
       "    <tr>\n",
       "      <th>4</th>\n",
       "      <td>1.0</td>\n",
       "      <td>4.0</td>\n",
       "    </tr>\n",
       "    <tr>\n",
       "      <th>5</th>\n",
       "      <td>1.0</td>\n",
       "      <td>5.0</td>\n",
       "    </tr>\n",
       "    <tr>\n",
       "      <th>...</th>\n",
       "      <td>...</td>\n",
       "      <td>...</td>\n",
       "    </tr>\n",
       "    <tr>\n",
       "      <th>96</th>\n",
       "      <td>10.0</td>\n",
       "      <td>6.0</td>\n",
       "    </tr>\n",
       "    <tr>\n",
       "      <th>97</th>\n",
       "      <td>10.0</td>\n",
       "      <td>7.0</td>\n",
       "    </tr>\n",
       "    <tr>\n",
       "      <th>98</th>\n",
       "      <td>10.0</td>\n",
       "      <td>8.0</td>\n",
       "    </tr>\n",
       "    <tr>\n",
       "      <th>99</th>\n",
       "      <td>10.0</td>\n",
       "      <td>9.0</td>\n",
       "    </tr>\n",
       "    <tr>\n",
       "      <th>100</th>\n",
       "      <td>10.0</td>\n",
       "      <td>10.0</td>\n",
       "    </tr>\n",
       "  </tbody>\n",
       "</table>\n",
       "<p>100 rows × 2 columns</p>\n",
       "</div>"
      ],
      "text/plain": [
       "           lat   lon\n",
       "subpopID            \n",
       "1          1.0   1.0\n",
       "2          1.0   2.0\n",
       "3          1.0   3.0\n",
       "4          1.0   4.0\n",
       "5          1.0   5.0\n",
       "...        ...   ...\n",
       "96        10.0   6.0\n",
       "97        10.0   7.0\n",
       "98        10.0   8.0\n",
       "99        10.0   9.0\n",
       "100       10.0  10.0\n",
       "\n",
       "[100 rows x 2 columns]"
      ]
     },
     "execution_count": 3,
     "metadata": {},
     "output_type": "execute_result"
    }
   ],
   "source": [
    "locations"
   ]
  },
  {
   "cell_type": "code",
   "execution_count": null,
   "id": "a02e54ab",
   "metadata": {},
   "outputs": [],
   "source": []
  },
  {
   "cell_type": "markdown",
   "id": "4cc49e5c",
   "metadata": {},
   "source": [
    "# get env data (temp and sal)"
   ]
  },
  {
   "cell_type": "code",
   "execution_count": 4,
   "id": "60204880",
   "metadata": {},
   "outputs": [
    {
     "data": {
      "text/plain": [
       "225"
      ]
     },
     "execution_count": 4,
     "metadata": {},
     "output_type": "execute_result"
    }
   ],
   "source": [
    "# env data used previously\n",
    "efiles = fs(gfc_training_dir, pattern='envfile_GFready_pooled')\n",
    "\n",
    "len(efiles)  # num seeds"
   ]
  },
  {
   "cell_type": "code",
   "execution_count": 5,
   "id": "0e3ad1c0",
   "metadata": {},
   "outputs": [],
   "source": [
    "# map files to seeds\n",
    "envfiles = {}\n",
    "for f in efiles:\n",
    "    seed = op.basename(f).split(\"_\")[0]\n",
    "    envfiles[seed] = f"
   ]
  },
  {
   "cell_type": "markdown",
   "id": "4ccb3d2a",
   "metadata": {},
   "source": [
    "# get nuisance env data\n",
    "\n",
    "each combo of nuisance envs will be the 'outerdir' (just the way the code works)"
   ]
  },
  {
   "cell_type": "code",
   "execution_count": 6,
   "id": "a712b1c7",
   "metadata": {},
   "outputs": [
    {
     "name": "stdout",
     "output_type": "stream",
     "text": [
      "7\n"
     ]
    },
    {
     "data": {
      "text/plain": [
       "{'ISO-PSsd': '/home/b.lind/offsets/run_20220919_tutorial/tutorial/nuisance_ISO-PSsd_vals.txt',\n",
       " 'ISO-TSsd-PSsd': '/home/b.lind/offsets/run_20220919_tutorial/tutorial/nuisance_ISO-TSsd-PSsd_vals.txt',\n",
       " 'ISO-TSsd': '/home/b.lind/offsets/run_20220919_tutorial/tutorial/nuisance_ISO-TSsd_vals.txt',\n",
       " 'ISO': '/home/b.lind/offsets/run_20220919_tutorial/tutorial/nuisance_ISO_vals.txt',\n",
       " 'PSsd': '/home/b.lind/offsets/run_20220919_tutorial/tutorial/nuisance_PSsd_vals.txt',\n",
       " 'TSsd-PSsd': '/home/b.lind/offsets/run_20220919_tutorial/tutorial/nuisance_TSsd-PSsd_vals.txt',\n",
       " 'TSsd': '/home/b.lind/offsets/run_20220919_tutorial/tutorial/nuisance_TSsd_vals.txt'}"
      ]
     },
     "execution_count": 6,
     "metadata": {},
     "output_type": "execute_result"
    }
   ],
   "source": [
    "# get nuis env files (files created in 00_create_nuisance_env_files.ipynb)\n",
    "_files = fs(nuis_dir, startswith='nuisance')\n",
    "\n",
    "nuis_files = {}\n",
    "for f in _files:\n",
    "    envs = op.basename(f).split(\"_\")[1]  # which factorial combo of the 3 nuisance envs are being used\n",
    "    nuis_files[envs] = f\n",
    "\n",
    "print(len(nuis_files))\n",
    "\n",
    "nuis_files"
   ]
  },
  {
   "cell_type": "markdown",
   "id": "abb5d695",
   "metadata": {},
   "source": [
    "### create outerdirs"
   ]
  },
  {
   "cell_type": "code",
   "execution_count": 7,
   "id": "24f05574",
   "metadata": {},
   "outputs": [
    {
     "data": {
      "text/plain": [
       "{'ISO-PSsd': '/home/b.lind/offsets/run_20220919_nuisance/ISO-PSsd_0-225',\n",
       " 'ISO-TSsd-PSsd': '/home/b.lind/offsets/run_20220919_nuisance/ISO-TSsd-PSsd_0-225',\n",
       " 'ISO-TSsd': '/home/b.lind/offsets/run_20220919_nuisance/ISO-TSsd_0-225',\n",
       " 'ISO': '/home/b.lind/offsets/run_20220919_nuisance/ISO_0-225',\n",
       " 'PSsd': '/home/b.lind/offsets/run_20220919_nuisance/PSsd_0-225',\n",
       " 'TSsd-PSsd': '/home/b.lind/offsets/run_20220919_nuisance/TSsd-PSsd_0-225',\n",
       " 'TSsd': '/home/b.lind/offsets/run_20220919_nuisance/TSsd_0-225'}"
      ]
     },
     "execution_count": 7,
     "metadata": {},
     "output_type": "execute_result"
    }
   ],
   "source": [
    "outerdirs = {}\n",
    "for envs, f in nuis_files.items():\n",
    "    outerdir = makedir(op.join(maindir, f'{envs}_0-225'))\n",
    "    \n",
    "    outerdirs[envs] = outerdir\n",
    "    \n",
    "outerdirs"
   ]
  },
  {
   "cell_type": "code",
   "execution_count": null,
   "id": "70745a5e",
   "metadata": {},
   "outputs": [],
   "source": []
  },
  {
   "cell_type": "markdown",
   "id": "1334c1ff",
   "metadata": {},
   "source": [
    "# combine env data with nuisdata\n",
    "\n",
    "create envdata and rangedata files for 01.01.MVP_gf_training_script.R"
   ]
  },
  {
   "cell_type": "code",
   "execution_count": 8,
   "id": "79286cfd",
   "metadata": {
    "scrolled": true
   },
   "outputs": [
    {
     "name": "stderr",
     "output_type": "stream",
     "text": [
      "ISO-PSsd: 100%|███████████████| 225/225 [00:07<00:00, 31.29it/s]\n",
      "ISO-TSsd-PSsd: 100%|███████████████| 225/225 [00:07<00:00, 29.09it/s]\n",
      "ISO-TSsd: 100%|███████████████| 225/225 [00:07<00:00, 30.72it/s]\n",
      "ISO: 100%|███████████████| 225/225 [00:06<00:00, 34.04it/s]\n",
      "PSsd: 100%|███████████████| 225/225 [00:06<00:00, 34.83it/s]\n",
      "TSsd-PSsd: 100%|███████████████| 225/225 [00:06<00:00, 32.23it/s]\n",
      "TSsd: 100%|███████████████| 225/225 [00:06<00:00, 32.93it/s]\n"
     ]
    },
    {
     "data": {
      "text/html": [
       "<div>\n",
       "<style scoped>\n",
       "    .dataframe tbody tr th:only-of-type {\n",
       "        vertical-align: middle;\n",
       "    }\n",
       "\n",
       "    .dataframe tbody tr th {\n",
       "        vertical-align: top;\n",
       "    }\n",
       "\n",
       "    .dataframe thead th {\n",
       "        text-align: right;\n",
       "    }\n",
       "</style>\n",
       "<table border=\"1\" class=\"dataframe\">\n",
       "  <thead>\n",
       "    <tr style=\"text-align: right;\">\n",
       "      <th></th>\n",
       "      <th>sal_opt</th>\n",
       "      <th>temp_opt</th>\n",
       "      <th>TSsd</th>\n",
       "    </tr>\n",
       "  </thead>\n",
       "  <tbody>\n",
       "    <tr>\n",
       "      <th>1</th>\n",
       "      <td>-1.0</td>\n",
       "      <td>-1.0</td>\n",
       "      <td>-2.245441</td>\n",
       "    </tr>\n",
       "    <tr>\n",
       "      <th>2</th>\n",
       "      <td>-0.5</td>\n",
       "      <td>-1.0</td>\n",
       "      <td>-1.967663</td>\n",
       "    </tr>\n",
       "    <tr>\n",
       "      <th>3</th>\n",
       "      <td>0.0</td>\n",
       "      <td>-1.0</td>\n",
       "      <td>-0.963343</td>\n",
       "    </tr>\n",
       "    <tr>\n",
       "      <th>4</th>\n",
       "      <td>0.5</td>\n",
       "      <td>-1.0</td>\n",
       "      <td>-0.164371</td>\n",
       "    </tr>\n",
       "    <tr>\n",
       "      <th>5</th>\n",
       "      <td>1.0</td>\n",
       "      <td>-1.0</td>\n",
       "      <td>-0.291426</td>\n",
       "    </tr>\n",
       "    <tr>\n",
       "      <th>...</th>\n",
       "      <td>...</td>\n",
       "      <td>...</td>\n",
       "      <td>...</td>\n",
       "    </tr>\n",
       "    <tr>\n",
       "      <th>96</th>\n",
       "      <td>1.0</td>\n",
       "      <td>1.0</td>\n",
       "      <td>-0.239327</td>\n",
       "    </tr>\n",
       "    <tr>\n",
       "      <th>97</th>\n",
       "      <td>0.5</td>\n",
       "      <td>1.0</td>\n",
       "      <td>0.598108</td>\n",
       "    </tr>\n",
       "    <tr>\n",
       "      <th>98</th>\n",
       "      <td>0.0</td>\n",
       "      <td>1.0</td>\n",
       "      <td>1.669095</td>\n",
       "    </tr>\n",
       "    <tr>\n",
       "      <th>99</th>\n",
       "      <td>-0.5</td>\n",
       "      <td>1.0</td>\n",
       "      <td>2.462649</td>\n",
       "    </tr>\n",
       "    <tr>\n",
       "      <th>100</th>\n",
       "      <td>-1.0</td>\n",
       "      <td>1.0</td>\n",
       "      <td>3.232988</td>\n",
       "    </tr>\n",
       "  </tbody>\n",
       "</table>\n",
       "<p>100 rows × 3 columns</p>\n",
       "</div>"
      ],
      "text/plain": [
       "     sal_opt  temp_opt      TSsd\n",
       "1       -1.0      -1.0 -2.245441\n",
       "2       -0.5      -1.0 -1.967663\n",
       "3        0.0      -1.0 -0.963343\n",
       "4        0.5      -1.0 -0.164371\n",
       "5        1.0      -1.0 -0.291426\n",
       "..       ...       ...       ...\n",
       "96       1.0       1.0 -0.239327\n",
       "97       0.5       1.0  0.598108\n",
       "98       0.0       1.0  1.669095\n",
       "99      -0.5       1.0  2.462649\n",
       "100     -1.0       1.0  3.232988\n",
       "\n",
       "[100 rows x 3 columns]"
      ]
     },
     "execution_count": 8,
     "metadata": {},
     "output_type": "execute_result"
    }
   ],
   "source": [
    "all_envdata = defaultdict(dict)\n",
    "for nuis_envs, outerdir in outerdirs.items():\n",
    "    for seed, envfile in pbar(envfiles.items(), desc=nuis_envs):\n",
    "        # dir and file names to save\n",
    "        gf_training_dir = makedir(op.join(outerdir, 'gradient_forests/training/training_files'))\n",
    "        envfile = op.join(gf_training_dir, f'{seed}_envfile_GFready_pooled.txt')\n",
    "        rangefile = envfile.replace('_envfile_', '_rangefile_')\n",
    "        \n",
    "        # read in envdata and nuis envs\n",
    "        envdata = pd.read_table(envfiles[seed], index_col=0)\n",
    "        nuisdata = pd.read_table(nuis_files[nuis_envs], index_col=0)\n",
    "        \n",
    "        # overwrite envdata by adding nuisdata\n",
    "        envdata = pd.merge(envdata, nuisdata, left_index=True, right_index=True)\n",
    "        rangedata = pd.merge(envdata, locations, left_index=True, right_index=True)  # add lat/lon to envdata\n",
    "        \n",
    "        # save for training\n",
    "        envdata.to_csv(envfile, sep='\\t', index=True)\n",
    "        rangedata.to_csv(rangefile, sep='\\t', index=False)\n",
    "        \n",
    "        # keep track for writing shfiles later\n",
    "        all_envdata[nuis_envs][seed] = envfile\n",
    "    \n",
    "pd.read_table(envfile, index_col=0)"
   ]
  },
  {
   "cell_type": "code",
   "execution_count": 9,
   "id": "9ca5a576",
   "metadata": {},
   "outputs": [
    {
     "data": {
      "text/html": [
       "<div>\n",
       "<style scoped>\n",
       "    .dataframe tbody tr th:only-of-type {\n",
       "        vertical-align: middle;\n",
       "    }\n",
       "\n",
       "    .dataframe tbody tr th {\n",
       "        vertical-align: top;\n",
       "    }\n",
       "\n",
       "    .dataframe thead th {\n",
       "        text-align: right;\n",
       "    }\n",
       "</style>\n",
       "<table border=\"1\" class=\"dataframe\">\n",
       "  <thead>\n",
       "    <tr style=\"text-align: right;\">\n",
       "      <th></th>\n",
       "      <th>sal_opt</th>\n",
       "      <th>temp_opt</th>\n",
       "      <th>TSsd</th>\n",
       "      <th>lat</th>\n",
       "      <th>lon</th>\n",
       "    </tr>\n",
       "  </thead>\n",
       "  <tbody>\n",
       "    <tr>\n",
       "      <th>0</th>\n",
       "      <td>-1.0</td>\n",
       "      <td>-1.0</td>\n",
       "      <td>-2.245441</td>\n",
       "      <td>1.0</td>\n",
       "      <td>1.0</td>\n",
       "    </tr>\n",
       "    <tr>\n",
       "      <th>1</th>\n",
       "      <td>-0.5</td>\n",
       "      <td>-1.0</td>\n",
       "      <td>-1.967663</td>\n",
       "      <td>1.0</td>\n",
       "      <td>2.0</td>\n",
       "    </tr>\n",
       "    <tr>\n",
       "      <th>2</th>\n",
       "      <td>0.0</td>\n",
       "      <td>-1.0</td>\n",
       "      <td>-0.963343</td>\n",
       "      <td>1.0</td>\n",
       "      <td>3.0</td>\n",
       "    </tr>\n",
       "    <tr>\n",
       "      <th>3</th>\n",
       "      <td>0.5</td>\n",
       "      <td>-1.0</td>\n",
       "      <td>-0.164371</td>\n",
       "      <td>1.0</td>\n",
       "      <td>4.0</td>\n",
       "    </tr>\n",
       "    <tr>\n",
       "      <th>4</th>\n",
       "      <td>1.0</td>\n",
       "      <td>-1.0</td>\n",
       "      <td>-0.291426</td>\n",
       "      <td>1.0</td>\n",
       "      <td>5.0</td>\n",
       "    </tr>\n",
       "    <tr>\n",
       "      <th>...</th>\n",
       "      <td>...</td>\n",
       "      <td>...</td>\n",
       "      <td>...</td>\n",
       "      <td>...</td>\n",
       "      <td>...</td>\n",
       "    </tr>\n",
       "    <tr>\n",
       "      <th>95</th>\n",
       "      <td>1.0</td>\n",
       "      <td>1.0</td>\n",
       "      <td>-0.239327</td>\n",
       "      <td>10.0</td>\n",
       "      <td>6.0</td>\n",
       "    </tr>\n",
       "    <tr>\n",
       "      <th>96</th>\n",
       "      <td>0.5</td>\n",
       "      <td>1.0</td>\n",
       "      <td>0.598108</td>\n",
       "      <td>10.0</td>\n",
       "      <td>7.0</td>\n",
       "    </tr>\n",
       "    <tr>\n",
       "      <th>97</th>\n",
       "      <td>0.0</td>\n",
       "      <td>1.0</td>\n",
       "      <td>1.669095</td>\n",
       "      <td>10.0</td>\n",
       "      <td>8.0</td>\n",
       "    </tr>\n",
       "    <tr>\n",
       "      <th>98</th>\n",
       "      <td>-0.5</td>\n",
       "      <td>1.0</td>\n",
       "      <td>2.462649</td>\n",
       "      <td>10.0</td>\n",
       "      <td>9.0</td>\n",
       "    </tr>\n",
       "    <tr>\n",
       "      <th>99</th>\n",
       "      <td>-1.0</td>\n",
       "      <td>1.0</td>\n",
       "      <td>3.232988</td>\n",
       "      <td>10.0</td>\n",
       "      <td>10.0</td>\n",
       "    </tr>\n",
       "  </tbody>\n",
       "</table>\n",
       "<p>100 rows × 5 columns</p>\n",
       "</div>"
      ],
      "text/plain": [
       "    sal_opt  temp_opt      TSsd   lat   lon\n",
       "0      -1.0      -1.0 -2.245441   1.0   1.0\n",
       "1      -0.5      -1.0 -1.967663   1.0   2.0\n",
       "2       0.0      -1.0 -0.963343   1.0   3.0\n",
       "3       0.5      -1.0 -0.164371   1.0   4.0\n",
       "4       1.0      -1.0 -0.291426   1.0   5.0\n",
       "..      ...       ...       ...   ...   ...\n",
       "95      1.0       1.0 -0.239327  10.0   6.0\n",
       "96      0.5       1.0  0.598108  10.0   7.0\n",
       "97      0.0       1.0  1.669095  10.0   8.0\n",
       "98     -0.5       1.0  2.462649  10.0   9.0\n",
       "99     -1.0       1.0  3.232988  10.0  10.0\n",
       "\n",
       "[100 rows x 5 columns]"
      ]
     },
     "execution_count": 9,
     "metadata": {},
     "output_type": "execute_result"
    }
   ],
   "source": [
    "pd.read_table(rangefile)"
   ]
  },
  {
   "cell_type": "code",
   "execution_count": null,
   "id": "a86b6978",
   "metadata": {},
   "outputs": [],
   "source": []
  },
  {
   "cell_type": "markdown",
   "id": "fdf6c3b6",
   "metadata": {},
   "source": [
    "# symlink snp data"
   ]
  },
  {
   "cell_type": "code",
   "execution_count": 10,
   "id": "201fc886",
   "metadata": {},
   "outputs": [
    {
     "data": {
      "text/plain": [
       "'/home/b.lind/offsets/run_20220919_0-225/gradient_forests/training/training_files'"
      ]
     },
     "execution_count": 10,
     "metadata": {},
     "output_type": "execute_result"
    }
   ],
   "source": [
    "gfc_training_dir"
   ]
  },
  {
   "cell_type": "code",
   "execution_count": 11,
   "id": "9ebf2787",
   "metadata": {},
   "outputs": [
    {
     "data": {
      "text/plain": [
       "'/home/b.lind/offsets/run_20220919_nuisance/TSsd_0-225/gradient_forests/training/training_files/1231318_Rout_Gmat_sample_maf-gt-p01_GFready_pooled_neutral.txt'"
      ]
     },
     "execution_count": 11,
     "metadata": {},
     "output_type": "execute_result"
    }
   ],
   "source": [
    "snpfiles = wrap_defaultdict(dict, 2)\n",
    "for envs, outerdir in outerdirs.items():\n",
    "    gf_training_dir = op.join(outerdir, 'gradient_forests/training/training_files')\n",
    "    \n",
    "    for seed in envfiles:\n",
    "        for marker_set in ['adaptive', 'all', 'neutral']:\n",
    "            # the snp data I want to use from canonical dir\n",
    "            src = op.join(gfc_training_dir, f'{seed}_Rout_Gmat_sample_maf-gt-p01_GFready_pooled_{marker_set}.txt')\n",
    "\n",
    "            # where i want to save (nuisdir)\n",
    "            dst = op.join(gf_training_dir, op.basename(src))\n",
    "\n",
    "            if not op.exists(dst):\n",
    "                os.symlink(src, dst)\n",
    "\n",
    "            snpfiles[envs][seed][marker_set] = dst\n",
    "        \n",
    "dst"
   ]
  },
  {
   "cell_type": "code",
   "execution_count": 12,
   "id": "b7ea66d4",
   "metadata": {},
   "outputs": [
    {
     "data": {
      "text/plain": [
       "(4725, 4725)"
      ]
     },
     "execution_count": 12,
     "metadata": {},
     "output_type": "execute_result"
    }
   ],
   "source": [
    "# sanity check\n",
    "all_dsts = []\n",
    "for (envs, seed, marker_set), dst in unwrap_dictionary(snpfiles):\n",
    "    all_dsts.append(dst)\n",
    "    \n",
    "len(all_dsts), luni(all_dsts)"
   ]
  },
  {
   "cell_type": "code",
   "execution_count": null,
   "id": "ab114ab4",
   "metadata": {},
   "outputs": [],
   "source": []
  },
  {
   "cell_type": "code",
   "execution_count": null,
   "id": "922a19c4",
   "metadata": {},
   "outputs": [],
   "source": []
  },
  {
   "cell_type": "markdown",
   "id": "449831fc",
   "metadata": {},
   "source": [
    "# create shfiles"
   ]
  },
  {
   "cell_type": "code",
   "execution_count": 13,
   "id": "cbd22de2",
   "metadata": {},
   "outputs": [],
   "source": [
    "mymem = {\n",
    "    'all': '300000M',\n",
    "    'adaptive': '4000M',\n",
    "    'neutral': '150000M'\n",
    "}"
   ]
  },
  {
   "cell_type": "code",
   "execution_count": 15,
   "id": "6b84299b",
   "metadata": {},
   "outputs": [
    {
     "name": "stderr",
     "output_type": "stream",
     "text": [
      "100%|███████████████| 7/7 [00:46<00:00,  6.71s/it]\n"
     ]
    },
    {
     "data": {
      "text/plain": [
       "(7, 7)"
      ]
     },
     "execution_count": 15,
     "metadata": {},
     "output_type": "execute_result"
    }
   ],
   "source": [
    "shfiles = defaultdict(list)\n",
    "for (nuis_envs, seed, marker_set), snpfile in unwrap_dictionary(snpfiles, progress_bar=True):\n",
    "    # get dirs\n",
    "    outerdir = outerdirs[nuis_envs]\n",
    "    gf_training_dir = op.join(outerdir, 'gradient_forests/training/training_files')\n",
    "    assert op.exists(gf_training_dir)\n",
    "    gf_training_outdir = makedir(gf_training_dir.replace('training_files', 'training_outfiles'))\n",
    "    shdir = makedir(gf_training_dir.replace('training_files', 'training_shfiles'))\n",
    "    \n",
    "    # identify envfile and rangefile\n",
    "    envfile = all_envdata[nuis_envs][seed]\n",
    "    assert '_envfile_' in envfile\n",
    "    rangefile = envfile.replace(\"_envfile_\", \"_rangefile_\")\n",
    "    \n",
    "    mem = mymem[marker_set]\n",
    "    \n",
    "    job = f'{seed}_{nuis_envs}_GF_training_pooled_{marker_set}'\n",
    "    \n",
    "    text = f'''#!/bin/bash\n",
    "#SBATCH --job-name={job}\n",
    "#SBATCH --time=1-00:00:00\n",
    "#SBATCH --mem={mem}\n",
    "#SBATCH --partition='short'\n",
    "#SBATCH --output={job}_%j.out\n",
    "\n",
    "source $HOME/.bashrc  # assumed that conda init is within .bashrc\n",
    "conda deactivate\n",
    "conda activate r35\n",
    "\n",
    "cd {gf_training_dir}\n",
    "\n",
    "/home/b.lind/anaconda3/envs/r35/lib/R/bin/Rscript \\\n",
    "/home/b.lind/code/MVP-offsets/01_src/MVP_gf_training_script.R \\\n",
    "{snpfile} \\\n",
    "{envfile} \\\n",
    "{rangefile} \\\n",
    "{job} \\\n",
    "{gf_training_outdir}\n",
    "'''\n",
    "    \n",
    "    sh = op.join(shdir, f'{job}.sh')\n",
    "    \n",
    "    with open(sh, 'w') as o:\n",
    "        o.write(text)\n",
    "    \n",
    "    shfiles[nuis_envs].append(sh)\n",
    "\n",
    "len(shfiles), luni(shfiles)"
   ]
  },
  {
   "cell_type": "code",
   "execution_count": 16,
   "id": "dd0dc4d3",
   "metadata": {},
   "outputs": [
    {
     "data": {
      "text/plain": [
       "'TSsd'"
      ]
     },
     "execution_count": 16,
     "metadata": {},
     "output_type": "execute_result"
    }
   ],
   "source": [
    "nuis_envs"
   ]
  },
  {
   "cell_type": "code",
   "execution_count": 17,
   "id": "bd69201b",
   "metadata": {},
   "outputs": [
    {
     "data": {
      "text/html": [
       "<div>\n",
       "<style scoped>\n",
       "    .dataframe tbody tr th:only-of-type {\n",
       "        vertical-align: middle;\n",
       "    }\n",
       "\n",
       "    .dataframe tbody tr th {\n",
       "        vertical-align: top;\n",
       "    }\n",
       "\n",
       "    .dataframe thead th {\n",
       "        text-align: right;\n",
       "    }\n",
       "</style>\n",
       "<table border=\"1\" class=\"dataframe\">\n",
       "  <thead>\n",
       "    <tr style=\"text-align: right;\">\n",
       "      <th></th>\n",
       "      <th>sal_opt</th>\n",
       "      <th>temp_opt</th>\n",
       "      <th>TSsd</th>\n",
       "    </tr>\n",
       "  </thead>\n",
       "  <tbody>\n",
       "    <tr>\n",
       "      <th>1</th>\n",
       "      <td>-1.0</td>\n",
       "      <td>-1.0</td>\n",
       "      <td>-2.245441</td>\n",
       "    </tr>\n",
       "    <tr>\n",
       "      <th>2</th>\n",
       "      <td>-0.5</td>\n",
       "      <td>-1.0</td>\n",
       "      <td>-1.967663</td>\n",
       "    </tr>\n",
       "    <tr>\n",
       "      <th>3</th>\n",
       "      <td>0.0</td>\n",
       "      <td>-1.0</td>\n",
       "      <td>-0.963343</td>\n",
       "    </tr>\n",
       "    <tr>\n",
       "      <th>4</th>\n",
       "      <td>0.5</td>\n",
       "      <td>-1.0</td>\n",
       "      <td>-0.164371</td>\n",
       "    </tr>\n",
       "    <tr>\n",
       "      <th>5</th>\n",
       "      <td>1.0</td>\n",
       "      <td>-1.0</td>\n",
       "      <td>-0.291426</td>\n",
       "    </tr>\n",
       "    <tr>\n",
       "      <th>...</th>\n",
       "      <td>...</td>\n",
       "      <td>...</td>\n",
       "      <td>...</td>\n",
       "    </tr>\n",
       "    <tr>\n",
       "      <th>96</th>\n",
       "      <td>1.0</td>\n",
       "      <td>1.0</td>\n",
       "      <td>-0.239327</td>\n",
       "    </tr>\n",
       "    <tr>\n",
       "      <th>97</th>\n",
       "      <td>0.5</td>\n",
       "      <td>1.0</td>\n",
       "      <td>0.598108</td>\n",
       "    </tr>\n",
       "    <tr>\n",
       "      <th>98</th>\n",
       "      <td>0.0</td>\n",
       "      <td>1.0</td>\n",
       "      <td>1.669095</td>\n",
       "    </tr>\n",
       "    <tr>\n",
       "      <th>99</th>\n",
       "      <td>-0.5</td>\n",
       "      <td>1.0</td>\n",
       "      <td>2.462649</td>\n",
       "    </tr>\n",
       "    <tr>\n",
       "      <th>100</th>\n",
       "      <td>-1.0</td>\n",
       "      <td>1.0</td>\n",
       "      <td>3.232988</td>\n",
       "    </tr>\n",
       "  </tbody>\n",
       "</table>\n",
       "<p>100 rows × 3 columns</p>\n",
       "</div>"
      ],
      "text/plain": [
       "     sal_opt  temp_opt      TSsd\n",
       "1       -1.0      -1.0 -2.245441\n",
       "2       -0.5      -1.0 -1.967663\n",
       "3        0.0      -1.0 -0.963343\n",
       "4        0.5      -1.0 -0.164371\n",
       "5        1.0      -1.0 -0.291426\n",
       "..       ...       ...       ...\n",
       "96       1.0       1.0 -0.239327\n",
       "97       0.5       1.0  0.598108\n",
       "98       0.0       1.0  1.669095\n",
       "99      -0.5       1.0  2.462649\n",
       "100     -1.0       1.0  3.232988\n",
       "\n",
       "[100 rows x 3 columns]"
      ]
     },
     "execution_count": 17,
     "metadata": {},
     "output_type": "execute_result"
    }
   ],
   "source": [
    "pd.read_table(envfile, index_col=0)"
   ]
  },
  {
   "cell_type": "code",
   "execution_count": 18,
   "id": "b4c081db",
   "metadata": {},
   "outputs": [
    {
     "data": {
      "text/html": [
       "<div>\n",
       "<style scoped>\n",
       "    .dataframe tbody tr th:only-of-type {\n",
       "        vertical-align: middle;\n",
       "    }\n",
       "\n",
       "    .dataframe tbody tr th {\n",
       "        vertical-align: top;\n",
       "    }\n",
       "\n",
       "    .dataframe thead th {\n",
       "        text-align: right;\n",
       "    }\n",
       "</style>\n",
       "<table border=\"1\" class=\"dataframe\">\n",
       "  <thead>\n",
       "    <tr style=\"text-align: right;\">\n",
       "      <th></th>\n",
       "      <th>sal_opt</th>\n",
       "      <th>temp_opt</th>\n",
       "      <th>TSsd</th>\n",
       "      <th>lat</th>\n",
       "      <th>lon</th>\n",
       "    </tr>\n",
       "  </thead>\n",
       "  <tbody>\n",
       "    <tr>\n",
       "      <th>0</th>\n",
       "      <td>-1.0</td>\n",
       "      <td>-1.0</td>\n",
       "      <td>-2.245441</td>\n",
       "      <td>1.0</td>\n",
       "      <td>1.0</td>\n",
       "    </tr>\n",
       "    <tr>\n",
       "      <th>1</th>\n",
       "      <td>-0.5</td>\n",
       "      <td>-1.0</td>\n",
       "      <td>-1.967663</td>\n",
       "      <td>1.0</td>\n",
       "      <td>2.0</td>\n",
       "    </tr>\n",
       "    <tr>\n",
       "      <th>2</th>\n",
       "      <td>0.0</td>\n",
       "      <td>-1.0</td>\n",
       "      <td>-0.963343</td>\n",
       "      <td>1.0</td>\n",
       "      <td>3.0</td>\n",
       "    </tr>\n",
       "    <tr>\n",
       "      <th>3</th>\n",
       "      <td>0.5</td>\n",
       "      <td>-1.0</td>\n",
       "      <td>-0.164371</td>\n",
       "      <td>1.0</td>\n",
       "      <td>4.0</td>\n",
       "    </tr>\n",
       "    <tr>\n",
       "      <th>4</th>\n",
       "      <td>1.0</td>\n",
       "      <td>-1.0</td>\n",
       "      <td>-0.291426</td>\n",
       "      <td>1.0</td>\n",
       "      <td>5.0</td>\n",
       "    </tr>\n",
       "    <tr>\n",
       "      <th>...</th>\n",
       "      <td>...</td>\n",
       "      <td>...</td>\n",
       "      <td>...</td>\n",
       "      <td>...</td>\n",
       "      <td>...</td>\n",
       "    </tr>\n",
       "    <tr>\n",
       "      <th>95</th>\n",
       "      <td>1.0</td>\n",
       "      <td>1.0</td>\n",
       "      <td>-0.239327</td>\n",
       "      <td>10.0</td>\n",
       "      <td>6.0</td>\n",
       "    </tr>\n",
       "    <tr>\n",
       "      <th>96</th>\n",
       "      <td>0.5</td>\n",
       "      <td>1.0</td>\n",
       "      <td>0.598108</td>\n",
       "      <td>10.0</td>\n",
       "      <td>7.0</td>\n",
       "    </tr>\n",
       "    <tr>\n",
       "      <th>97</th>\n",
       "      <td>0.0</td>\n",
       "      <td>1.0</td>\n",
       "      <td>1.669095</td>\n",
       "      <td>10.0</td>\n",
       "      <td>8.0</td>\n",
       "    </tr>\n",
       "    <tr>\n",
       "      <th>98</th>\n",
       "      <td>-0.5</td>\n",
       "      <td>1.0</td>\n",
       "      <td>2.462649</td>\n",
       "      <td>10.0</td>\n",
       "      <td>9.0</td>\n",
       "    </tr>\n",
       "    <tr>\n",
       "      <th>99</th>\n",
       "      <td>-1.0</td>\n",
       "      <td>1.0</td>\n",
       "      <td>3.232988</td>\n",
       "      <td>10.0</td>\n",
       "      <td>10.0</td>\n",
       "    </tr>\n",
       "  </tbody>\n",
       "</table>\n",
       "<p>100 rows × 5 columns</p>\n",
       "</div>"
      ],
      "text/plain": [
       "    sal_opt  temp_opt      TSsd   lat   lon\n",
       "0      -1.0      -1.0 -2.245441   1.0   1.0\n",
       "1      -0.5      -1.0 -1.967663   1.0   2.0\n",
       "2       0.0      -1.0 -0.963343   1.0   3.0\n",
       "3       0.5      -1.0 -0.164371   1.0   4.0\n",
       "4       1.0      -1.0 -0.291426   1.0   5.0\n",
       "..      ...       ...       ...   ...   ...\n",
       "95      1.0       1.0 -0.239327  10.0   6.0\n",
       "96      0.5       1.0  0.598108  10.0   7.0\n",
       "97      0.0       1.0  1.669095  10.0   8.0\n",
       "98     -0.5       1.0  2.462649  10.0   9.0\n",
       "99     -1.0       1.0  3.232988  10.0  10.0\n",
       "\n",
       "[100 rows x 5 columns]"
      ]
     },
     "execution_count": 18,
     "metadata": {},
     "output_type": "execute_result"
    }
   ],
   "source": [
    "pd.read_table(rangefile)"
   ]
  },
  {
   "cell_type": "code",
   "execution_count": null,
   "id": "b100ae90",
   "metadata": {},
   "outputs": [],
   "source": []
  },
  {
   "cell_type": "code",
   "execution_count": 19,
   "id": "9fb5f3a5",
   "metadata": {},
   "outputs": [
    {
     "data": {
      "text/plain": [
       "'/home/b.lind/offsets/run_20220919_nuisance/shfiles.pkl'"
      ]
     },
     "execution_count": 19,
     "metadata": {},
     "output_type": "execute_result"
    }
   ],
   "source": [
    "# save files since I'm not going to sbatch all of them at the same time\n",
    "shpkl = op.join(maindir, 'shfiles.pkl')\n",
    "\n",
    "pkldump(shfiles, shpkl)\n",
    "\n",
    "shpkl"
   ]
  },
  {
   "cell_type": "code",
   "execution_count": null,
   "id": "9ba70bee",
   "metadata": {},
   "outputs": [],
   "source": []
  },
  {
   "cell_type": "markdown",
   "id": "8db17bc3",
   "metadata": {},
   "source": [
    "# sbatch in batches\n",
    "\n",
    "because of the job names and the way I have myslurm set up, I can only sbatch files for a single outerdir (I can't have duplicate job names in the queue)"
   ]
  },
  {
   "cell_type": "code",
   "execution_count": 20,
   "id": "3a6da229",
   "metadata": {},
   "outputs": [
    {
     "data": {
      "text/plain": [
       "['ISO-PSsd', 'ISO-TSsd-PSsd', 'ISO-TSsd', 'ISO', 'PSsd', 'TSsd-PSsd', 'TSsd']"
      ]
     },
     "execution_count": 20,
     "metadata": {},
     "output_type": "execute_result"
    }
   ],
   "source": [
    "# overwrite object that was used in for loops above\n",
    "nuis_envs = keys(nuis_files)\n",
    "\n",
    "nuis_envs"
   ]
  },
  {
   "cell_type": "code",
   "execution_count": 21,
   "id": "9299e325",
   "metadata": {},
   "outputs": [
    {
     "name": "stderr",
     "output_type": "stream",
     "text": [
      "sbatching: 100%|███████████████| 675/675 [02:35<00:00,  4.35it/s]\n"
     ]
    }
   ],
   "source": [
    "pids = sbatch(shfiles[nuis_envs[0]])"
   ]
  },
  {
   "cell_type": "code",
   "execution_count": 28,
   "id": "e45ac871",
   "metadata": {},
   "outputs": [
    {
     "data": {
      "text/plain": [
       "'ISO-PSsd'"
      ]
     },
     "execution_count": 28,
     "metadata": {},
     "output_type": "execute_result"
    }
   ],
   "source": [
    "nuis_envs[0]"
   ]
  },
  {
   "cell_type": "code",
   "execution_count": null,
   "id": "85f4955f",
   "metadata": {},
   "outputs": [],
   "source": []
  },
  {
   "cell_type": "code",
   "execution_count": 23,
   "id": "f1f6d301",
   "metadata": {},
   "outputs": [
    {
     "name": "stderr",
     "output_type": "stream",
     "text": [
      "update: 100%|███████████████| 225/225 [00:20<00:00, 10.95it/s]\n"
     ]
    }
   ],
   "source": [
    "Squeue(grepping=['training', '4000'], states='PD', partition='short').update(to_partition='lotterhos')"
   ]
  },
  {
   "cell_type": "code",
   "execution_count": 25,
   "id": "288ed4db",
   "metadata": {},
   "outputs": [
    {
     "name": "stderr",
     "output_type": "stream",
     "text": [
      "update: 100%|███████████████| 110/110 [00:08<00:00, 13.54it/s]\n"
     ]
    }
   ],
   "source": [
    "Squeue(partition='short', grepping='300000').update(\n",
    "    to_partition='long', num_jobs=110\n",
    ")"
   ]
  },
  {
   "cell_type": "code",
   "execution_count": null,
   "id": "691a962f",
   "metadata": {},
   "outputs": [],
   "source": []
  },
  {
   "cell_type": "code",
   "execution_count": 27,
   "id": "cdd91eb9",
   "metadata": {},
   "outputs": [
    {
     "name": "stderr",
     "output_type": "stream",
     "text": [
      "sbatching: 100%|███████████████| 675/675 [03:12<00:00,  3.50it/s]\n"
     ]
    }
   ],
   "source": [
    "pids.extend(\n",
    "    sbatch(shfiles[nuis_envs[1]])\n",
    ")"
   ]
  },
  {
   "cell_type": "code",
   "execution_count": 29,
   "id": "75cc07e4",
   "metadata": {},
   "outputs": [
    {
     "data": {
      "text/plain": [
       "'ISO-TSsd-PSsd'"
      ]
     },
     "execution_count": 29,
     "metadata": {},
     "output_type": "execute_result"
    }
   ],
   "source": [
    "nuis_envs[1]"
   ]
  },
  {
   "cell_type": "code",
   "execution_count": null,
   "id": "eecd6885",
   "metadata": {},
   "outputs": [],
   "source": []
  },
  {
   "cell_type": "code",
   "execution_count": 31,
   "id": "d95b6d99",
   "metadata": {},
   "outputs": [
    {
     "name": "stderr",
     "output_type": "stream",
     "text": [
      "update: 100%|███████████████| 225/225 [00:20<00:00, 11.19it/s]\n"
     ]
    }
   ],
   "source": [
    "Squeue(grepping=['training', '4000'], states='PD', partition='short').update(to_partition='lotterhos')"
   ]
  },
  {
   "cell_type": "code",
   "execution_count": 32,
   "id": "28f5386b",
   "metadata": {},
   "outputs": [
    {
     "name": "stderr",
     "output_type": "stream",
     "text": [
      "update: 100%|███████████████| 110/110 [00:10<00:00, 10.02it/s]\n"
     ]
    }
   ],
   "source": [
    "# this time do 150000 so 300000 and 150000 are even between short and long\n",
    "Squeue(partition='short', grepping='150000').update(\n",
    "    to_partition='long', num_jobs=110\n",
    ")"
   ]
  },
  {
   "cell_type": "code",
   "execution_count": 33,
   "id": "7ae08f0b",
   "metadata": {},
   "outputs": [
    {
     "data": {
      "text/plain": [
       "{'long': Counter({'PD': 212, 'R': 8}),\n",
       " 'lotterhos': Counter({'PD': 152, 'R': 35}),\n",
       " 'short': Counter({'PD': 630, 'R': 50})}"
      ]
     },
     "execution_count": 33,
     "metadata": {},
     "output_type": "execute_result"
    }
   ],
   "source": [
    "Squeue(aflag=True).partitions()"
   ]
  },
  {
   "cell_type": "code",
   "execution_count": null,
   "id": "23b33f4a",
   "metadata": {},
   "outputs": [],
   "source": []
  },
  {
   "cell_type": "code",
   "execution_count": 30,
   "id": "5bbe8fae",
   "metadata": {},
   "outputs": [
    {
     "data": {
      "text/plain": [
       "'0-00:13:33'"
      ]
     },
     "execution_count": 30,
     "metadata": {},
     "output_type": "execute_result"
    }
   ],
   "source": [
    "formatclock(dt.now() - t1)"
   ]
  },
  {
   "cell_type": "code",
   "execution_count": null,
   "id": "895c7f48",
   "metadata": {},
   "outputs": [],
   "source": []
  },
  {
   "cell_type": "code",
   "execution_count": null,
   "id": "d8306e0e",
   "metadata": {},
   "outputs": [],
   "source": [
    "stop"
   ]
  },
  {
   "cell_type": "code",
   "execution_count": null,
   "id": "6b12db69",
   "metadata": {},
   "outputs": [],
   "source": []
  },
  {
   "cell_type": "code",
   "execution_count": null,
   "id": "101579f5",
   "metadata": {
    "scrolled": true
   },
   "outputs": [],
   "source": [
    "print(read(shfiles[nuis_envs[0]][0], lines=False))"
   ]
  },
  {
   "cell_type": "code",
   "execution_count": null,
   "id": "b82c4e07",
   "metadata": {},
   "outputs": [],
   "source": [
    "/home/b.lind/anaconda3/envs/r35/lib/R/bin/Rscript \\\n",
    "/home/b.lind/code/MVP-offsets/01_src/MVP_gf_training_script.R \\\n",
    "/home/b.lind/offsets/run_20220919_nuisance/ISO-PSsd_0-225/gradient_forests/training/training_files/1231094_Rout_Gmat_sample_maf-gt-p01_GFready_pooled_adaptive.txt \\\n",
    "/home/b.lind/offsets/run_20220919_nuisance/ISO-PSsd_0-225/gradient_forests/training/training_files/1231094_envfile_GFready_pooled.txt \\\n",
    "/home/b.lind/offsets/run_20220919_nuisance/ISO-PSsd_0-225/gradient_forests/training/training_files/1231094_rangefile_GFready_pooled.txt \\\n",
    "1231094_GF_training_pooled_adaptive \\\n",
    "/home/b.lind/offsets/run_20220919_nuisance/ISO-PSsd_0-225/gradient_forests/training/training_outfiles"
   ]
  },
  {
   "cell_type": "code",
   "execution_count": null,
   "id": "22c32884",
   "metadata": {},
   "outputs": [],
   "source": [
    "pd.read_table('/home/b.lind/offsets/run_20220919_nuisance/ISO-PSsd_0-225/gradient_forests/training/training_files/1231094_envfile_GFready_pooled.txt')"
   ]
  },
  {
   "cell_type": "code",
   "execution_count": null,
   "id": "204f6a41",
   "metadata": {},
   "outputs": [],
   "source": []
  },
  {
   "cell_type": "code",
   "execution_count": null,
   "id": "4fc8383f",
   "metadata": {},
   "outputs": [],
   "source": []
  },
  {
   "cell_type": "code",
   "execution_count": null,
   "id": "4f73c1ca",
   "metadata": {},
   "outputs": [],
   "source": []
  },
  {
   "cell_type": "markdown",
   "id": "75d2d40f",
   "metadata": {},
   "source": [
    "# check on progress"
   ]
  },
  {
   "cell_type": "code",
   "execution_count": 1,
   "id": "1ae20201",
   "metadata": {},
   "outputs": [
    {
     "name": "stdout",
     "output_type": "stream",
     "text": [
      "#########################################################\n",
      "Today:\tApril 25, 2023 - 09:14:57\n",
      "python version: 3.8.5\n",
      "\n",
      "Current commit of \u001b[1mpythonimports\u001b[0m:\n",
      "\u001b[33mcommit 4ecd56c8c80ec4876790fcd425cb75b9db9a4f24\u001b[m  \n",
      "Author: Brandon Lind <lind.brandon.m@gmail.com>  \n",
      "Date:   Tue Mar 21 13:20:54 2023 -0400\n",
      "\n",
      "Current commit of \u001b[94m\u001b[1mMVP_offsets\u001b[0m\u001b[0m:\n",
      "\u001b[33mcommit ef86c4b94658027c580e1bbfdfc1195b0b7077e9\u001b[m  \n",
      "Author: Brandon Lind <lind.brandon.m@gmail.com>  \n",
      "Date:   Thu Mar 23 10:58:00 2023 -0400\n",
      "#########################################################\n",
      "\n"
     ]
    },
    {
     "data": {
      "text/html": [
       "<details>\n",
       "<summary>Click to view session information</summary>\n",
       "<pre>\n",
       "-----\n",
       "MVP_summary_functions       NA\n",
       "balance_queue               NA\n",
       "cartopy                     0.20.2\n",
       "ipyparallel                 7.1.0\n",
       "matplotlib                  3.5.2\n",
       "myclasses                   NA\n",
       "myfigs                      NA\n",
       "mymaps                      NA\n",
       "myslurm                     NA\n",
       "numpy                       1.22.1\n",
       "pandas                      1.3.5\n",
       "pythonimports               NA\n",
       "session_info                1.0.0\n",
       "tqdm                        4.62.1\n",
       "-----\n",
       "</pre>\n",
       "<details>\n",
       "<summary>Click to view modules imported as dependencies</summary>\n",
       "<pre>\n",
       "PIL                         8.4.0\n",
       "attr                        21.4.0\n",
       "backcall                    0.2.0\n",
       "beta_ufunc                  NA\n",
       "binom_ufunc                 NA\n",
       "bottleneck                  1.3.2\n",
       "certifi                     2022.06.15\n",
       "cffi                        1.15.0\n",
       "cycler                      0.10.0\n",
       "cython_runtime              NA\n",
       "dateutil                    2.8.2\n",
       "debugpy                     1.5.1\n",
       "decorator                   5.1.1\n",
       "defusedxml                  0.7.1\n",
       "entrypoints                 0.4\n",
       "fiona                       1.9.2\n",
       "fontTools                   4.29.1\n",
       "ipykernel                   6.8.0\n",
       "ipython_genutils            0.2.0\n",
       "ipywidgets                  7.6.5\n",
       "jedi                        0.18.1\n",
       "kiwisolver                  1.3.2\n",
       "matplotlib_venn             0.11.6\n",
       "mpl_toolkits                NA\n",
       "nbinom_ufunc                NA\n",
       "numexpr                     2.8.1\n",
       "packaging                   21.3\n",
       "parso                       0.8.3\n",
       "pexpect                     4.8.0\n",
       "pickleshare                 0.7.5\n",
       "pkg_resources               NA\n",
       "prompt_toolkit              3.0.26\n",
       "psutil                      5.9.0\n",
       "ptyprocess                  0.7.0\n",
       "pydev_ipython               NA\n",
       "pydevconsole                NA\n",
       "pydevd                      2.6.0\n",
       "pydevd_concurrency_analyser NA\n",
       "pydevd_file_utils           NA\n",
       "pydevd_plugins              NA\n",
       "pydevd_tracing              NA\n",
       "pygments                    2.11.2\n",
       "pyparsing                   3.0.7\n",
       "pyproj                      3.3.0\n",
       "pytz                        2021.3\n",
       "scipy                       1.7.3\n",
       "seaborn                     0.12.2\n",
       "setuptools                  60.7.1\n",
       "shapefile                   2.2.0\n",
       "shapely                     1.8.0\n",
       "six                         1.16.0\n",
       "statsmodels                 0.13.0\n",
       "storemagic                  NA\n",
       "tornado                     6.1\n",
       "traitlets                   5.1.1\n",
       "wcwidth                     0.2.5\n",
       "zmq                         22.3.0\n",
       "</pre>\n",
       "</details> <!-- seems like this ends pre, so might as well be explicit -->\n",
       "<pre>\n",
       "-----\n",
       "IPython             7.31.1\n",
       "jupyter_client      7.1.2\n",
       "jupyter_core        4.9.1\n",
       "notebook            6.4.8\n",
       "-----\n",
       "Python 3.8.5 (default, Sep  4 2020, 07:30:14) [GCC 7.3.0]\n",
       "Linux-3.10.0-1160.25.1.el7.x86_64-x86_64-with-glibc2.10\n",
       "-----\n",
       "Session information updated at 2023-04-25 09:14\n",
       "</pre>\n",
       "</details>"
      ],
      "text/plain": [
       "<IPython.core.display.HTML object>"
      ]
     },
     "execution_count": 1,
     "metadata": {},
     "output_type": "execute_result"
    }
   ],
   "source": [
    "from pythonimports import *\n",
    "\n",
    "import MVP_summary_functions as mvp\n",
    "\n",
    "mvp.latest_commit()\n",
    "session_info.show()"
   ]
  },
  {
   "cell_type": "code",
   "execution_count": 2,
   "id": "25a11290",
   "metadata": {},
   "outputs": [],
   "source": [
    "dirs = [\n",
    "    '/home/b.lind/offsets/run_20220919_nuisance/ISO-PSsd_0-225/gradient_forests/training/training_shfiles',\n",
    "    '/home/b.lind/offsets/run_20220919_nuisance/ISO-TSsd-PSsd_0-225/gradient_forests/training/training_shfiles'\n",
    "]"
   ]
  },
  {
   "cell_type": "code",
   "execution_count": 3,
   "id": "ec34b82e",
   "metadata": {},
   "outputs": [
    {
     "name": "stdout",
     "output_type": "stream",
     "text": [
      "36 36\n"
     ]
    }
   ],
   "source": [
    "lview, dview = get_client(cluster_id='1682428458-l8u4', profile='lotterhos')"
   ]
  },
  {
   "cell_type": "code",
   "execution_count": 4,
   "id": "437e4618",
   "metadata": {},
   "outputs": [
    {
     "name": "stdout",
     "output_type": "stream",
     "text": [
      "ISO-PSsd\n",
      "\u001b[1m\n",
      "Watching 746 parallel Seffs jobs ...\u001b[0m\n"
     ]
    },
    {
     "name": "stderr",
     "output_type": "stream",
     "text": [
      "requesting seffs: 100%|███████████████| 746/746 [00:25<00:00, 29.32it/s]\n",
      "retrieving seffs: 100%|███████████████| 746/746 [00:06<00:00, 109.56it/s]\n",
      "/home/b.lind/pythonimports/myslurm.py:548: UserWarning: There are multiple shfiles associated with outfiles. len=746 luni=675\n",
      "  warnings.warn(text)\n"
     ]
    },
    {
     "name": "stdout",
     "output_type": "stream",
     "text": [
      "ISO-TSsd-PSsd\n",
      "\u001b[1m\n",
      "Watching 744 parallel Seffs jobs ...\u001b[0m\n"
     ]
    },
    {
     "name": "stderr",
     "output_type": "stream",
     "text": [
      "requesting seffs: 100%|███████████████| 744/744 [00:09<00:00, 78.99it/s]  \n",
      "retrieving seffs: 100%|███████████████| 744/744 [00:06<00:00, 108.68it/s]\n",
      "/home/b.lind/pythonimports/myslurm.py:548: UserWarning: There are multiple shfiles associated with outfiles. len=744 luni=675\n",
      "  warnings.warn(text)\n"
     ]
    }
   ],
   "source": [
    "seffs = {}\n",
    "for d in dirs:\n",
    "    nuis_envs = d.split(\"nuisance/\")[1].split('_0-225')[0]\n",
    "    \n",
    "    print(nuis_envs)\n",
    "    \n",
    "    outs = fs(d, endswith='.out', exclude='watcher')\n",
    "    \n",
    "    seffs[nuis_envs] = Seffs.parallel(lview, outs=outs).most_recent()"
   ]
  },
  {
   "cell_type": "code",
   "execution_count": 5,
   "id": "8e3fc117",
   "metadata": {},
   "outputs": [
    {
     "name": "stdout",
     "output_type": "stream",
     "text": [
      "ISO-PSsd\n",
      "Counter({'State: COMPLETED (exit code 0)': 675})\n",
      "ISO-TSsd-PSsd\n",
      "Counter({'State: COMPLETED (exit code 0)': 675})\n"
     ]
    }
   ],
   "source": [
    "for nuis_envs, s in seffs.items():\n",
    "    print(nuis_envs)\n",
    "    print(s.states.counter())"
   ]
  },
  {
   "cell_type": "code",
   "execution_count": 6,
   "id": "7a5af56b",
   "metadata": {},
   "outputs": [
    {
     "data": {
      "text/plain": [
       "225.0"
      ]
     },
     "execution_count": 6,
     "metadata": {},
     "output_type": "execute_result"
    }
   ],
   "source": [
    "675 / 3  # 3 marker sets; 225 seeds"
   ]
  },
  {
   "cell_type": "code",
   "execution_count": 9,
   "id": "afd48629",
   "metadata": {},
   "outputs": [
    {
     "name": "stdout",
     "output_type": "stream",
     "text": [
      "/home/b.lind/offsets/run_20220919_nuisance/ISO-PSsd_0-225/gradient_forests/training/training_shfiles/seffs.pkl\n",
      "/home/b.lind/offsets/run_20220919_nuisance/ISO-TSsd-PSsd_0-225/gradient_forests/training/training_shfiles/seffs.pkl\n"
     ]
    }
   ],
   "source": [
    "# save seffs\n",
    "for nuis_envs, s in seffs.items():\n",
    "    d = f'/home/b.lind/offsets/run_20220919_nuisance/{nuis_envs}_0-225/gradient_forests/training/training_shfiles'\n",
    "    assert op.exists(d)\n",
    "    \n",
    "    pkl = op.join(d, 'seffs.pkl')\n",
    "    \n",
    "    pkldump(s, pkl)\n",
    "    \n",
    "    print(pkl)"
   ]
  },
  {
   "cell_type": "code",
   "execution_count": null,
   "id": "6cea38d2",
   "metadata": {},
   "outputs": [],
   "source": []
  },
  {
   "cell_type": "code",
   "execution_count": null,
   "id": "147abfa5",
   "metadata": {},
   "outputs": [],
   "source": []
  },
  {
   "cell_type": "code",
   "execution_count": null,
   "id": "6456e1f9",
   "metadata": {},
   "outputs": [],
   "source": []
  },
  {
   "cell_type": "code",
   "execution_count": null,
   "id": "456585f7",
   "metadata": {},
   "outputs": [],
   "source": []
  },
  {
   "cell_type": "code",
   "execution_count": null,
   "id": "28fd2d3a",
   "metadata": {},
   "outputs": [],
   "source": [
    "sq = Squeue(aflag=True)"
   ]
  },
  {
   "cell_type": "code",
   "execution_count": null,
   "id": "2ae91ac8",
   "metadata": {},
   "outputs": [],
   "source": [
    "needed = []\n",
    "for nuis_envs, s in seffs.items():\n",
    "    for pid, seff in s.timeouts().items():\n",
    "        if seff.job not in sq.jobs().tolist():\n",
    "            needed.append(seff.sh)\n",
    "            \n",
    "len(needed)"
   ]
  },
  {
   "cell_type": "code",
   "execution_count": null,
   "id": "0dc7d1dc",
   "metadata": {},
   "outputs": [],
   "source": [
    "for sh in needed:\n",
    "    text = read(sh, lines=True)\n",
    "    print(text[2])\n",
    "    assert 'time' in text[2]\n",
    "    text[2] = '#SBATCH --time=5-00:00:00'\n",
    "    \n",
    "    assert 'partition' in text[4]\n",
    "    text[4] = '#SBATCH --partition=long'\n",
    "    \n",
    "    with open(sh ,'w') as o:\n",
    "        o.write('\\n'.join(text))\n",
    "        \n",
    "sbatch(needed)"
   ]
  },
  {
   "cell_type": "code",
   "execution_count": null,
   "id": "f5b98889",
   "metadata": {},
   "outputs": [],
   "source": []
  },
  {
   "cell_type": "code",
   "execution_count": null,
   "id": "fc02d126",
   "metadata": {},
   "outputs": [],
   "source": []
  },
  {
   "cell_type": "code",
   "execution_count": null,
   "id": "a90b43d8",
   "metadata": {},
   "outputs": [],
   "source": []
  },
  {
   "cell_type": "code",
   "execution_count": null,
   "id": "95c910b1",
   "metadata": {},
   "outputs": [],
   "source": []
  },
  {
   "cell_type": "code",
   "execution_count": null,
   "id": "ac11ffd7",
   "metadata": {},
   "outputs": [],
   "source": []
  },
  {
   "cell_type": "code",
   "execution_count": null,
   "id": "3759b76e",
   "metadata": {},
   "outputs": [],
   "source": []
  },
  {
   "cell_type": "code",
   "execution_count": null,
   "id": "8e2c063d",
   "metadata": {},
   "outputs": [],
   "source": []
  },
  {
   "cell_type": "code",
   "execution_count": null,
   "id": "edee56a0",
   "metadata": {},
   "outputs": [],
   "source": [
    "shfiles = []\n",
    "for nuis_envs, s in seffs.items():\n",
    "    for sh in s.timeouts().shfiles:\n",
    "        text = read(sh, lines=True)\n",
    "        \n",
    "        assert 'time' in text[2]\n",
    "        text[2] = '#SBATCH --time=5-00:00:00'\n",
    "        \n",
    "        assert 'partition' in text[4]\n",
    "        text[4] = \"#SBATCH --partition=long\"\n",
    "        \n",
    "        with open(sh, 'w') as o:\n",
    "            o.write('\\n'.join(text))\n",
    "            \n",
    "        shfiles.append(sh)\n",
    "        \n",
    "len(shfiles)"
   ]
  },
  {
   "cell_type": "code",
   "execution_count": null,
   "id": "26ffdc4f",
   "metadata": {},
   "outputs": [],
   "source": [
    "pids = sbatch(shfiles)"
   ]
  },
  {
   "cell_type": "code",
   "execution_count": null,
   "id": "98b6a5b3",
   "metadata": {},
   "outputs": [],
   "source": [
    "??sbatch"
   ]
  },
  {
   "cell_type": "code",
   "execution_count": null,
   "id": "45710755",
   "metadata": {},
   "outputs": [],
   "source": []
  },
  {
   "cell_type": "code",
   "execution_count": null,
   "id": "03419de9",
   "metadata": {},
   "outputs": [],
   "source": [
    "for nuis_env, s in seffs.items():\n",
    "    print(s.failed().states.counter())\n",
    "    \n"
   ]
  },
  {
   "cell_type": "code",
   "execution_count": null,
   "id": "ad78a6bc",
   "metadata": {},
   "outputs": [],
   "source": [
    "shfiles = []\n",
    "for nuis_envs, s in seffs.items():\n",
    "    for sh in s.failed().shfiles:\n",
    "        text = read(sh)\n",
    "        \n",
    "        assert text[3] == '#SBATCH --mem=300000M'\n",
    "        \n",
    "        text[3] = '#SBATCH --mem=500000M'\n",
    "        \n",
    "        with open(sh, 'w') as o:\n",
    "            o.write('\\n'.join(text))\n",
    "            \n",
    "        shfiles.append()"
   ]
  },
  {
   "cell_type": "code",
   "execution_count": null,
   "id": "b934d565",
   "metadata": {},
   "outputs": [],
   "source": []
  },
  {
   "cell_type": "code",
   "execution_count": null,
   "id": "69a31742",
   "metadata": {},
   "outputs": [],
   "source": []
  },
  {
   "cell_type": "code",
   "execution_count": null,
   "id": "fd073fa5",
   "metadata": {},
   "outputs": [],
   "source": []
  },
  {
   "cell_type": "code",
   "execution_count": null,
   "id": "fa262eaa",
   "metadata": {},
   "outputs": [],
   "source": []
  },
  {
   "cell_type": "code",
   "execution_count": null,
   "id": "36ccb549",
   "metadata": {},
   "outputs": [],
   "source": []
  },
  {
   "cell_type": "code",
   "execution_count": null,
   "id": "ee220b57",
   "metadata": {},
   "outputs": [],
   "source": []
  },
  {
   "cell_type": "code",
   "execution_count": null,
   "id": "b9574826",
   "metadata": {},
   "outputs": [],
   "source": []
  },
  {
   "cell_type": "code",
   "execution_count": null,
   "id": "64f63274",
   "metadata": {},
   "outputs": [],
   "source": []
  },
  {
   "cell_type": "code",
   "execution_count": null,
   "id": "976574df",
   "metadata": {},
   "outputs": [],
   "source": []
  },
  {
   "cell_type": "code",
   "execution_count": null,
   "id": "83a68e95",
   "metadata": {},
   "outputs": [],
   "source": []
  },
  {
   "cell_type": "code",
   "execution_count": null,
   "id": "038bf970",
   "metadata": {},
   "outputs": [],
   "source": []
  },
  {
   "cell_type": "code",
   "execution_count": null,
   "id": "c90befd4",
   "metadata": {},
   "outputs": [],
   "source": []
  },
  {
   "cell_type": "code",
   "execution_count": null,
   "id": "02943386",
   "metadata": {},
   "outputs": [],
   "source": []
  },
  {
   "cell_type": "code",
   "execution_count": null,
   "id": "3ea578dd",
   "metadata": {},
   "outputs": [],
   "source": []
  },
  {
   "cell_type": "code",
   "execution_count": null,
   "id": "10d1249f",
   "metadata": {},
   "outputs": [],
   "source": []
  },
  {
   "cell_type": "code",
   "execution_count": null,
   "id": "a9c70b06",
   "metadata": {},
   "outputs": [],
   "source": []
  },
  {
   "cell_type": "code",
   "execution_count": null,
   "id": "2a5bcbc5",
   "metadata": {},
   "outputs": [],
   "source": []
  },
  {
   "cell_type": "code",
   "execution_count": null,
   "id": "3eb05630",
   "metadata": {},
   "outputs": [],
   "source": []
  },
  {
   "cell_type": "code",
   "execution_count": null,
   "id": "2132a604",
   "metadata": {},
   "outputs": [],
   "source": []
  },
  {
   "cell_type": "code",
   "execution_count": null,
   "id": "0cd0e9b3",
   "metadata": {},
   "outputs": [],
   "source": []
  },
  {
   "cell_type": "code",
   "execution_count": null,
   "id": "8437efa2",
   "metadata": {},
   "outputs": [],
   "source": []
  },
  {
   "cell_type": "code",
   "execution_count": null,
   "id": "e2ec181c",
   "metadata": {},
   "outputs": [],
   "source": [
    "from pythonimports import *\n",
    "\n",
    "latest_commit()\n",
    "\n",
    "shpkl = '/home/b.lind/offsets/run_20220919_nuisance/shfiles.pkl'\n",
    "shfiles = pklload(shpkl)\n",
    "\n",
    "nuis_envs = ['ISO-PSsd', 'ISO-TSsd-PSsd', 'ISO-TSsd', 'ISO', 'PSsd', 'TSsd-PSsd', 'TSsd']\n",
    "\n",
    "# pids = sbatch(shfiles[nuis_envs[2]])"
   ]
  },
  {
   "cell_type": "code",
   "execution_count": null,
   "id": "b5c8efbc",
   "metadata": {},
   "outputs": [],
   "source": []
  },
  {
   "cell_type": "code",
   "execution_count": null,
   "id": "a2a54e93",
   "metadata": {},
   "outputs": [],
   "source": [
    "from pythonimports import *\n",
    "\n",
    "latest_commit()\n",
    "\n",
    "shpkl = '/home/b.lind/offsets/run_20220919_nuisance/shfiles.pkl'\n",
    "shfiles = pklload(shpkl)\n",
    "\n",
    "nuis_envs = ['ISO-PSsd', 'ISO-TSsd-PSsd', 'ISO-TSsd', 'ISO', 'PSsd', 'TSsd-PSsd', 'TSsd']\n",
    "\n",
    "# pids = sbatch(shfiles[nuis_envs[3]])"
   ]
  },
  {
   "cell_type": "code",
   "execution_count": null,
   "id": "1c577391",
   "metadata": {},
   "outputs": [],
   "source": []
  },
  {
   "cell_type": "code",
   "execution_count": null,
   "id": "bb408c94",
   "metadata": {},
   "outputs": [],
   "source": [
    "from pythonimports import *\n",
    "\n",
    "latest_commit()\n",
    "\n",
    "shpkl = '/home/b.lind/offsets/run_20220919_nuisance/shfiles.pkl'\n",
    "shfiles = pklload(shpkl)\n",
    "\n",
    "nuis_envs = ['ISO-PSsd', 'ISO-TSsd-PSsd', 'ISO-TSsd', 'ISO', 'PSsd', 'TSsd-PSsd', 'TSsd']\n",
    "\n",
    "# pids = sbatch(shfiles[nuis_envs[4]])"
   ]
  },
  {
   "cell_type": "code",
   "execution_count": null,
   "id": "b7333bcc",
   "metadata": {},
   "outputs": [],
   "source": []
  },
  {
   "cell_type": "code",
   "execution_count": null,
   "id": "8d6c5e6f",
   "metadata": {},
   "outputs": [],
   "source": [
    "from pythonimports import *\n",
    "\n",
    "latest_commit()\n",
    "\n",
    "shpkl = '/home/b.lind/offsets/run_20220919_nuisance/shfiles.pkl'\n",
    "shfiles = pklload(shpkl)\n",
    "\n",
    "nuis_envs = ['ISO-PSsd', 'ISO-TSsd-PSsd', 'ISO-TSsd', 'ISO', 'PSsd', 'TSsd-PSsd', 'TSsd']\n",
    "\n",
    "# pids = sbatch(shfiles[nuis_envs[5]])"
   ]
  },
  {
   "cell_type": "code",
   "execution_count": null,
   "id": "7d24f61b",
   "metadata": {},
   "outputs": [],
   "source": []
  },
  {
   "cell_type": "code",
   "execution_count": null,
   "id": "8cb64d37",
   "metadata": {},
   "outputs": [],
   "source": [
    "from pythonimports import *\n",
    "\n",
    "latest_commit()\n",
    "\n",
    "shpkl = '/home/b.lind/offsets/run_20220919_nuisance/shfiles.pkl'\n",
    "shfiles = pklload(shpkl)\n",
    "\n",
    "nuis_envs = ['ISO-PSsd', 'ISO-TSsd-PSsd', 'ISO-TSsd', 'ISO', 'PSsd', 'TSsd-PSsd', 'TSsd']\n",
    "\n",
    "# pids = sbatch(shfiles[nuis_envs[6]])"
   ]
  },
  {
   "cell_type": "code",
   "execution_count": null,
   "id": "b5a7fe19",
   "metadata": {},
   "outputs": [],
   "source": []
  },
  {
   "cell_type": "code",
   "execution_count": null,
   "id": "4c17b3ae",
   "metadata": {},
   "outputs": [],
   "source": []
  }
 ],
 "metadata": {
  "kernelspec": {
   "display_name": "Python 3 (ipykernel)",
   "language": "python",
   "name": "python3"
  },
  "language_info": {
   "codemirror_mode": {
    "name": "ipython",
    "version": 3
   },
   "file_extension": ".py",
   "mimetype": "text/x-python",
   "name": "python",
   "nbconvert_exporter": "python",
   "pygments_lexer": "ipython3",
   "version": "3.8.5"
  }
 },
 "nbformat": 4,
 "nbformat_minor": 5
}
