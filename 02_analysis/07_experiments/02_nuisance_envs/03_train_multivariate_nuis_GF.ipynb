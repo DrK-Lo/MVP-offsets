{
 "cells": [
  {
   "cell_type": "markdown",
   "id": "3b7dd19a",
   "metadata": {},
   "source": [
    "### purpose\n",
    "\n",
    "run nuisance envs on multivariate sims"
   ]
  },
  {
   "cell_type": "code",
   "execution_count": 1,
   "id": "10a40209",
   "metadata": {},
   "outputs": [
    {
     "name": "stdout",
     "output_type": "stream",
     "text": [
      "#########################################################\n",
      "Today:\tMay 31, 2023 - 16:43:44\n",
      "python version: 3.8.5\n",
      "conda env: mvp_env\n",
      "\n",
      "Current commit of \u001b[1mpythonimports\u001b[0m:\n",
      "\u001b[33mcommit c721bd0d89c1e150e17a4e0739c26e4296405233\u001b[m  \n",
      "Author: Brandon Lind <lind.brandon.m@gmail.com>  \n",
      "Date:   Wed May 10 15:13:03 2023 -0400\n",
      "\n",
      "Current commit of \u001b[94m\u001b[1mMVP_offsets\u001b[0m\u001b[0m:\n",
      "\u001b[33mcommit 060db40dff8355d2087deab28bd695fcccee8f49\u001b[m  \n",
      "Author: Brandon Lind <lind.brandon.m@gmail.com>  \n",
      "Date:   Thu May 18 12:50:56 2023 -0400\n",
      "#########################################################\n",
      "\n"
     ]
    },
    {
     "data": {
      "text/html": [
       "<details>\n",
       "<summary>Click to view session information</summary>\n",
       "<pre>\n",
       "-----\n",
       "MVP_summary_functions       NA\n",
       "balance_queue               NA\n",
       "cartopy                     0.20.2\n",
       "ipyparallel                 7.1.0\n",
       "matplotlib                  3.5.2\n",
       "myclasses                   NA\n",
       "myfigs                      NA\n",
       "mymaps                      NA\n",
       "myslurm                     NA\n",
       "numpy                       1.22.1\n",
       "pandas                      1.3.5\n",
       "pythonimports               NA\n",
       "session_info                1.0.0\n",
       "tqdm                        4.62.1\n",
       "-----\n",
       "</pre>\n",
       "<details>\n",
       "<summary>Click to view modules imported as dependencies</summary>\n",
       "<pre>\n",
       "PIL                         8.4.0\n",
       "attr                        21.4.0\n",
       "backcall                    0.2.0\n",
       "beta_ufunc                  NA\n",
       "binom_ufunc                 NA\n",
       "bottleneck                  1.3.2\n",
       "certifi                     2022.06.15\n",
       "cffi                        1.15.0\n",
       "cycler                      0.10.0\n",
       "cython_runtime              NA\n",
       "dateutil                    2.8.2\n",
       "debugpy                     1.5.1\n",
       "decorator                   5.1.1\n",
       "defusedxml                  0.7.1\n",
       "entrypoints                 0.4\n",
       "fiona                       1.9.2\n",
       "fontTools                   4.29.1\n",
       "ipykernel                   6.8.0\n",
       "ipython_genutils            0.2.0\n",
       "ipywidgets                  7.6.5\n",
       "jedi                        0.18.1\n",
       "kiwisolver                  1.3.2\n",
       "matplotlib_venn             0.11.6\n",
       "mpl_toolkits                NA\n",
       "nbinom_ufunc                NA\n",
       "numexpr                     2.8.1\n",
       "packaging                   21.3\n",
       "parso                       0.8.3\n",
       "pexpect                     4.8.0\n",
       "pickleshare                 0.7.5\n",
       "pkg_resources               NA\n",
       "prompt_toolkit              3.0.26\n",
       "psutil                      5.9.0\n",
       "ptyprocess                  0.7.0\n",
       "pydev_ipython               NA\n",
       "pydevconsole                NA\n",
       "pydevd                      2.6.0\n",
       "pydevd_concurrency_analyser NA\n",
       "pydevd_file_utils           NA\n",
       "pydevd_plugins              NA\n",
       "pydevd_tracing              NA\n",
       "pygments                    2.11.2\n",
       "pyparsing                   3.0.7\n",
       "pyproj                      3.3.0\n",
       "pytz                        2021.3\n",
       "scipy                       1.7.3\n",
       "seaborn                     0.12.2\n",
       "setuptools                  60.7.1\n",
       "shapefile                   2.2.0\n",
       "shapely                     1.8.0\n",
       "six                         1.16.0\n",
       "statsmodels                 0.13.0\n",
       "storemagic                  NA\n",
       "tornado                     6.1\n",
       "traitlets                   5.1.1\n",
       "wcwidth                     0.2.5\n",
       "zmq                         22.3.0\n",
       "</pre>\n",
       "</details> <!-- seems like this ends pre, so might as well be explicit -->\n",
       "<pre>\n",
       "-----\n",
       "IPython             7.31.1\n",
       "jupyter_client      7.1.2\n",
       "jupyter_core        4.9.1\n",
       "notebook            6.4.8\n",
       "-----\n",
       "Python 3.8.5 (default, Sep  4 2020, 07:30:14) [GCC 7.3.0]\n",
       "Linux-3.10.0-1160.25.1.el7.x86_64-x86_64-with-glibc2.10\n",
       "-----\n",
       "Session information updated at 2023-05-31 16:43\n",
       "</pre>\n",
       "</details>"
      ],
      "text/plain": [
       "<IPython.core.display.HTML object>"
      ]
     },
     "execution_count": 1,
     "metadata": {},
     "output_type": "execute_result"
    }
   ],
   "source": [
    "from pythonimports import *\n",
    "\n",
    "import MVP_summary_functions as mvp\n",
    "\n",
    "t0 = dt.now()  # notebook timer\n",
    "\n",
    "nuis_dir = makedir('/home/b.lind/offsets/run_20220919_nuisance/tutorial')\n",
    "\n",
    "gf_training_dir = makedir(f'{nuis_dir}/gradient_forests/training/training_files')\n",
    "gf_shdir = makedir(gf_training_dir.replace('_files', '_shfiles'))\n",
    "gf_outdir = makedir(gf_shdir.replace('_shfiles', '_outfiles'))\n",
    "\n",
    "mvp.latest_commit()\n",
    "session_info.show()"
   ]
  },
  {
   "cell_type": "code",
   "execution_count": 2,
   "id": "2b85a553",
   "metadata": {},
   "outputs": [
    {
     "data": {
      "text/plain": [
       "'/home/b.lind/offsets/run_20220919_nuisance/tutorial/gradient_forests/training/training_files'"
      ]
     },
     "execution_count": 2,
     "metadata": {},
     "output_type": "execute_result"
    }
   ],
   "source": [
    "gf_training_dir"
   ]
  },
  {
   "cell_type": "code",
   "execution_count": 3,
   "id": "cec69541",
   "metadata": {},
   "outputs": [
    {
     "data": {
      "text/plain": [
       "'/home/b.lind/offsets/run_20220919_nuisance/tutorial/gradient_forests/training/training_shfiles'"
      ]
     },
     "execution_count": 3,
     "metadata": {},
     "output_type": "execute_result"
    }
   ],
   "source": [
    "gf_shdir"
   ]
  },
  {
   "cell_type": "code",
   "execution_count": 4,
   "id": "2c7d8244",
   "metadata": {},
   "outputs": [
    {
     "data": {
      "text/plain": [
       "'/home/b.lind/offsets/run_20220919_nuisance/tutorial/gradient_forests/training/training_outfiles'"
      ]
     },
     "execution_count": 4,
     "metadata": {},
     "output_type": "execute_result"
    }
   ],
   "source": [
    "gf_outdir"
   ]
  },
  {
   "cell_type": "markdown",
   "id": "4c6e38db",
   "metadata": {},
   "source": [
    "# get nuis data\n",
    "\n",
    "created in 02_analysis/07_experiments/03_nuisance_shuffle/01_train_shuffle_nuisance_gf.ipynb - this added nuis_envs to real environmental data. The real environmental data was created in `/home/b.lind/offsets/tutorial_shuffle_run_20220919`. the 'shuffling' was just for the allele freqs."
   ]
  },
  {
   "cell_type": "code",
   "execution_count": 5,
   "id": "46a1fb01",
   "metadata": {},
   "outputs": [
    {
     "data": {
      "text/plain": [
       "['/home/b.lind/offsets/tutorial_shuffle_nuisance_run_20220919/gradient_forests/training/training_files/tutorial_envfile_GFready_pooled.txt',\n",
       " '/home/b.lind/offsets/tutorial_shuffle_nuisance_run_20220919/gradient_forests/training/training_files/tutorial_rangefile_GFready_pooled.txt']"
      ]
     },
     "execution_count": 5,
     "metadata": {},
     "output_type": "execute_result"
    }
   ],
   "source": [
    "# get the files\n",
    "envdir = '/home/b.lind/offsets/tutorial_shuffle_nuisance_run_20220919/gradient_forests/training/training_files'\n",
    "\n",
    "envfiles = fs(envdir, exclude='-gt-')\n",
    "\n",
    "envfiles"
   ]
  },
  {
   "cell_type": "code",
   "execution_count": 6,
   "id": "0c9ce743",
   "metadata": {
    "scrolled": true
   },
   "outputs": [
    {
     "name": "stdout",
     "output_type": "stream",
     "text": [
      "tutorial_envfile_GFready_pooled.txt\n"
     ]
    },
    {
     "data": {
      "text/html": [
       "<div>\n",
       "<style scoped>\n",
       "    .dataframe tbody tr th:only-of-type {\n",
       "        vertical-align: middle;\n",
       "    }\n",
       "\n",
       "    .dataframe tbody tr th {\n",
       "        vertical-align: top;\n",
       "    }\n",
       "\n",
       "    .dataframe thead th {\n",
       "        text-align: right;\n",
       "    }\n",
       "</style>\n",
       "<table border=\"1\" class=\"dataframe\">\n",
       "  <thead>\n",
       "    <tr style=\"text-align: right;\">\n",
       "      <th></th>\n",
       "      <th>ISO</th>\n",
       "      <th>TSsd</th>\n",
       "      <th>PSsd</th>\n",
       "      <th>env1_mat</th>\n",
       "      <th>env2_MTWetQ</th>\n",
       "      <th>env3_MTDQ</th>\n",
       "      <th>env4_PDM</th>\n",
       "      <th>env5_PwarmQ</th>\n",
       "      <th>env6_PWM</th>\n",
       "    </tr>\n",
       "  </thead>\n",
       "  <tbody>\n",
       "    <tr>\n",
       "      <th>1</th>\n",
       "      <td>0.009381</td>\n",
       "      <td>-2.245441</td>\n",
       "      <td>1.003559</td>\n",
       "      <td>0.186225</td>\n",
       "      <td>-0.226935</td>\n",
       "      <td>0.861531</td>\n",
       "      <td>0.221974</td>\n",
       "      <td>-0.363974</td>\n",
       "      <td>0.761569</td>\n",
       "    </tr>\n",
       "    <tr>\n",
       "      <th>2</th>\n",
       "      <td>0.239071</td>\n",
       "      <td>-1.967663</td>\n",
       "      <td>0.518946</td>\n",
       "      <td>0.070353</td>\n",
       "      <td>-0.265649</td>\n",
       "      <td>0.799727</td>\n",
       "      <td>0.169512</td>\n",
       "      <td>-0.417965</td>\n",
       "      <td>0.315295</td>\n",
       "    </tr>\n",
       "    <tr>\n",
       "      <th>3</th>\n",
       "      <td>0.580610</td>\n",
       "      <td>-0.963343</td>\n",
       "      <td>-0.246231</td>\n",
       "      <td>0.264633</td>\n",
       "      <td>-0.248372</td>\n",
       "      <td>0.375248</td>\n",
       "      <td>-0.172690</td>\n",
       "      <td>-0.586408</td>\n",
       "      <td>-0.320803</td>\n",
       "    </tr>\n",
       "    <tr>\n",
       "      <th>4</th>\n",
       "      <td>0.639031</td>\n",
       "      <td>-0.164371</td>\n",
       "      <td>-0.399267</td>\n",
       "      <td>0.371616</td>\n",
       "      <td>0.167485</td>\n",
       "      <td>0.063118</td>\n",
       "      <td>-0.465978</td>\n",
       "      <td>-0.656053</td>\n",
       "      <td>-0.625240</td>\n",
       "    </tr>\n",
       "    <tr>\n",
       "      <th>5</th>\n",
       "      <td>-0.036985</td>\n",
       "      <td>-0.291426</td>\n",
       "      <td>-0.661614</td>\n",
       "      <td>0.244613</td>\n",
       "      <td>0.117437</td>\n",
       "      <td>-0.010939</td>\n",
       "      <td>-0.291486</td>\n",
       "      <td>-0.528748</td>\n",
       "      <td>-0.537376</td>\n",
       "    </tr>\n",
       "    <tr>\n",
       "      <th>...</th>\n",
       "      <td>...</td>\n",
       "      <td>...</td>\n",
       "      <td>...</td>\n",
       "      <td>...</td>\n",
       "      <td>...</td>\n",
       "      <td>...</td>\n",
       "      <td>...</td>\n",
       "      <td>...</td>\n",
       "      <td>...</td>\n",
       "    </tr>\n",
       "    <tr>\n",
       "      <th>96</th>\n",
       "      <td>0.113241</td>\n",
       "      <td>-0.239327</td>\n",
       "      <td>-0.054937</td>\n",
       "      <td>-0.288220</td>\n",
       "      <td>0.261489</td>\n",
       "      <td>-0.317123</td>\n",
       "      <td>-0.018548</td>\n",
       "      <td>0.228030</td>\n",
       "      <td>-0.045559</td>\n",
       "    </tr>\n",
       "    <tr>\n",
       "      <th>97</th>\n",
       "      <td>0.881061</td>\n",
       "      <td>0.598108</td>\n",
       "      <td>1.480884</td>\n",
       "      <td>-0.116570</td>\n",
       "      <td>0.323553</td>\n",
       "      <td>-0.231351</td>\n",
       "      <td>-0.269762</td>\n",
       "      <td>0.344912</td>\n",
       "      <td>0.059459</td>\n",
       "    </tr>\n",
       "    <tr>\n",
       "      <th>98</th>\n",
       "      <td>1.587251</td>\n",
       "      <td>1.669095</td>\n",
       "      <td>2.461321</td>\n",
       "      <td>0.093915</td>\n",
       "      <td>0.400397</td>\n",
       "      <td>-0.150975</td>\n",
       "      <td>-0.408936</td>\n",
       "      <td>0.588880</td>\n",
       "      <td>0.274592</td>\n",
       "    </tr>\n",
       "    <tr>\n",
       "      <th>99</th>\n",
       "      <td>1.381814</td>\n",
       "      <td>2.462649</td>\n",
       "      <td>2.880066</td>\n",
       "      <td>0.034177</td>\n",
       "      <td>0.399089</td>\n",
       "      <td>-0.440848</td>\n",
       "      <td>-0.464035</td>\n",
       "      <td>0.673533</td>\n",
       "      <td>0.360201</td>\n",
       "    </tr>\n",
       "    <tr>\n",
       "      <th>100</th>\n",
       "      <td>1.137857</td>\n",
       "      <td>3.232988</td>\n",
       "      <td>2.967515</td>\n",
       "      <td>0.055334</td>\n",
       "      <td>0.422488</td>\n",
       "      <td>-0.553991</td>\n",
       "      <td>-0.472096</td>\n",
       "      <td>0.604139</td>\n",
       "      <td>0.321160</td>\n",
       "    </tr>\n",
       "  </tbody>\n",
       "</table>\n",
       "<p>100 rows × 9 columns</p>\n",
       "</div>"
      ],
      "text/plain": [
       "          ISO      TSsd      PSsd  env1_mat  env2_MTWetQ  env3_MTDQ  env4_PDM  \\\n",
       "1    0.009381 -2.245441  1.003559  0.186225    -0.226935   0.861531  0.221974   \n",
       "2    0.239071 -1.967663  0.518946  0.070353    -0.265649   0.799727  0.169512   \n",
       "3    0.580610 -0.963343 -0.246231  0.264633    -0.248372   0.375248 -0.172690   \n",
       "4    0.639031 -0.164371 -0.399267  0.371616     0.167485   0.063118 -0.465978   \n",
       "5   -0.036985 -0.291426 -0.661614  0.244613     0.117437  -0.010939 -0.291486   \n",
       "..        ...       ...       ...       ...          ...        ...       ...   \n",
       "96   0.113241 -0.239327 -0.054937 -0.288220     0.261489  -0.317123 -0.018548   \n",
       "97   0.881061  0.598108  1.480884 -0.116570     0.323553  -0.231351 -0.269762   \n",
       "98   1.587251  1.669095  2.461321  0.093915     0.400397  -0.150975 -0.408936   \n",
       "99   1.381814  2.462649  2.880066  0.034177     0.399089  -0.440848 -0.464035   \n",
       "100  1.137857  3.232988  2.967515  0.055334     0.422488  -0.553991 -0.472096   \n",
       "\n",
       "     env5_PwarmQ  env6_PWM  \n",
       "1      -0.363974  0.761569  \n",
       "2      -0.417965  0.315295  \n",
       "3      -0.586408 -0.320803  \n",
       "4      -0.656053 -0.625240  \n",
       "5      -0.528748 -0.537376  \n",
       "..           ...       ...  \n",
       "96      0.228030 -0.045559  \n",
       "97      0.344912  0.059459  \n",
       "98      0.588880  0.274592  \n",
       "99      0.673533  0.360201  \n",
       "100     0.604139  0.321160  \n",
       "\n",
       "[100 rows x 9 columns]"
      ]
     },
     "metadata": {},
     "output_type": "display_data"
    },
    {
     "name": "stdout",
     "output_type": "stream",
     "text": [
      "tutorial_rangefile_GFready_pooled.txt\n"
     ]
    },
    {
     "data": {
      "text/html": [
       "<div>\n",
       "<style scoped>\n",
       "    .dataframe tbody tr th:only-of-type {\n",
       "        vertical-align: middle;\n",
       "    }\n",
       "\n",
       "    .dataframe tbody tr th {\n",
       "        vertical-align: top;\n",
       "    }\n",
       "\n",
       "    .dataframe thead th {\n",
       "        text-align: right;\n",
       "    }\n",
       "</style>\n",
       "<table border=\"1\" class=\"dataframe\">\n",
       "  <thead>\n",
       "    <tr style=\"text-align: right;\">\n",
       "      <th></th>\n",
       "      <th>ISO</th>\n",
       "      <th>TSsd</th>\n",
       "      <th>PSsd</th>\n",
       "      <th>env1_mat</th>\n",
       "      <th>env2_MTWetQ</th>\n",
       "      <th>env3_MTDQ</th>\n",
       "      <th>env4_PDM</th>\n",
       "      <th>env5_PwarmQ</th>\n",
       "      <th>env6_PWM</th>\n",
       "      <th>lat</th>\n",
       "      <th>lon</th>\n",
       "    </tr>\n",
       "  </thead>\n",
       "  <tbody>\n",
       "    <tr>\n",
       "      <th>0</th>\n",
       "      <td>0.009381</td>\n",
       "      <td>-2.245441</td>\n",
       "      <td>1.003559</td>\n",
       "      <td>0.186225</td>\n",
       "      <td>-0.226935</td>\n",
       "      <td>0.861531</td>\n",
       "      <td>0.221974</td>\n",
       "      <td>-0.363974</td>\n",
       "      <td>0.761569</td>\n",
       "      <td>1.0</td>\n",
       "      <td>1.0</td>\n",
       "    </tr>\n",
       "    <tr>\n",
       "      <th>1</th>\n",
       "      <td>0.239071</td>\n",
       "      <td>-1.967663</td>\n",
       "      <td>0.518946</td>\n",
       "      <td>0.070353</td>\n",
       "      <td>-0.265649</td>\n",
       "      <td>0.799727</td>\n",
       "      <td>0.169512</td>\n",
       "      <td>-0.417965</td>\n",
       "      <td>0.315295</td>\n",
       "      <td>1.0</td>\n",
       "      <td>2.0</td>\n",
       "    </tr>\n",
       "    <tr>\n",
       "      <th>2</th>\n",
       "      <td>0.580610</td>\n",
       "      <td>-0.963343</td>\n",
       "      <td>-0.246231</td>\n",
       "      <td>0.264633</td>\n",
       "      <td>-0.248372</td>\n",
       "      <td>0.375248</td>\n",
       "      <td>-0.172690</td>\n",
       "      <td>-0.586408</td>\n",
       "      <td>-0.320803</td>\n",
       "      <td>1.0</td>\n",
       "      <td>3.0</td>\n",
       "    </tr>\n",
       "    <tr>\n",
       "      <th>3</th>\n",
       "      <td>0.639031</td>\n",
       "      <td>-0.164371</td>\n",
       "      <td>-0.399267</td>\n",
       "      <td>0.371616</td>\n",
       "      <td>0.167485</td>\n",
       "      <td>0.063118</td>\n",
       "      <td>-0.465978</td>\n",
       "      <td>-0.656053</td>\n",
       "      <td>-0.625240</td>\n",
       "      <td>1.0</td>\n",
       "      <td>4.0</td>\n",
       "    </tr>\n",
       "    <tr>\n",
       "      <th>4</th>\n",
       "      <td>-0.036985</td>\n",
       "      <td>-0.291426</td>\n",
       "      <td>-0.661614</td>\n",
       "      <td>0.244613</td>\n",
       "      <td>0.117437</td>\n",
       "      <td>-0.010939</td>\n",
       "      <td>-0.291486</td>\n",
       "      <td>-0.528748</td>\n",
       "      <td>-0.537376</td>\n",
       "      <td>1.0</td>\n",
       "      <td>5.0</td>\n",
       "    </tr>\n",
       "    <tr>\n",
       "      <th>...</th>\n",
       "      <td>...</td>\n",
       "      <td>...</td>\n",
       "      <td>...</td>\n",
       "      <td>...</td>\n",
       "      <td>...</td>\n",
       "      <td>...</td>\n",
       "      <td>...</td>\n",
       "      <td>...</td>\n",
       "      <td>...</td>\n",
       "      <td>...</td>\n",
       "      <td>...</td>\n",
       "    </tr>\n",
       "    <tr>\n",
       "      <th>95</th>\n",
       "      <td>0.113241</td>\n",
       "      <td>-0.239327</td>\n",
       "      <td>-0.054937</td>\n",
       "      <td>-0.288220</td>\n",
       "      <td>0.261489</td>\n",
       "      <td>-0.317123</td>\n",
       "      <td>-0.018548</td>\n",
       "      <td>0.228030</td>\n",
       "      <td>-0.045559</td>\n",
       "      <td>10.0</td>\n",
       "      <td>6.0</td>\n",
       "    </tr>\n",
       "    <tr>\n",
       "      <th>96</th>\n",
       "      <td>0.881061</td>\n",
       "      <td>0.598108</td>\n",
       "      <td>1.480884</td>\n",
       "      <td>-0.116570</td>\n",
       "      <td>0.323553</td>\n",
       "      <td>-0.231351</td>\n",
       "      <td>-0.269762</td>\n",
       "      <td>0.344912</td>\n",
       "      <td>0.059459</td>\n",
       "      <td>10.0</td>\n",
       "      <td>7.0</td>\n",
       "    </tr>\n",
       "    <tr>\n",
       "      <th>97</th>\n",
       "      <td>1.587251</td>\n",
       "      <td>1.669095</td>\n",
       "      <td>2.461321</td>\n",
       "      <td>0.093915</td>\n",
       "      <td>0.400397</td>\n",
       "      <td>-0.150975</td>\n",
       "      <td>-0.408936</td>\n",
       "      <td>0.588880</td>\n",
       "      <td>0.274592</td>\n",
       "      <td>10.0</td>\n",
       "      <td>8.0</td>\n",
       "    </tr>\n",
       "    <tr>\n",
       "      <th>98</th>\n",
       "      <td>1.381814</td>\n",
       "      <td>2.462649</td>\n",
       "      <td>2.880066</td>\n",
       "      <td>0.034177</td>\n",
       "      <td>0.399089</td>\n",
       "      <td>-0.440848</td>\n",
       "      <td>-0.464035</td>\n",
       "      <td>0.673533</td>\n",
       "      <td>0.360201</td>\n",
       "      <td>10.0</td>\n",
       "      <td>9.0</td>\n",
       "    </tr>\n",
       "    <tr>\n",
       "      <th>99</th>\n",
       "      <td>1.137857</td>\n",
       "      <td>3.232988</td>\n",
       "      <td>2.967515</td>\n",
       "      <td>0.055334</td>\n",
       "      <td>0.422488</td>\n",
       "      <td>-0.553991</td>\n",
       "      <td>-0.472096</td>\n",
       "      <td>0.604139</td>\n",
       "      <td>0.321160</td>\n",
       "      <td>10.0</td>\n",
       "      <td>10.0</td>\n",
       "    </tr>\n",
       "  </tbody>\n",
       "</table>\n",
       "<p>100 rows × 11 columns</p>\n",
       "</div>"
      ],
      "text/plain": [
       "         ISO      TSsd      PSsd  env1_mat  env2_MTWetQ  env3_MTDQ  env4_PDM  \\\n",
       "0   0.009381 -2.245441  1.003559  0.186225    -0.226935   0.861531  0.221974   \n",
       "1   0.239071 -1.967663  0.518946  0.070353    -0.265649   0.799727  0.169512   \n",
       "2   0.580610 -0.963343 -0.246231  0.264633    -0.248372   0.375248 -0.172690   \n",
       "3   0.639031 -0.164371 -0.399267  0.371616     0.167485   0.063118 -0.465978   \n",
       "4  -0.036985 -0.291426 -0.661614  0.244613     0.117437  -0.010939 -0.291486   \n",
       "..       ...       ...       ...       ...          ...        ...       ...   \n",
       "95  0.113241 -0.239327 -0.054937 -0.288220     0.261489  -0.317123 -0.018548   \n",
       "96  0.881061  0.598108  1.480884 -0.116570     0.323553  -0.231351 -0.269762   \n",
       "97  1.587251  1.669095  2.461321  0.093915     0.400397  -0.150975 -0.408936   \n",
       "98  1.381814  2.462649  2.880066  0.034177     0.399089  -0.440848 -0.464035   \n",
       "99  1.137857  3.232988  2.967515  0.055334     0.422488  -0.553991 -0.472096   \n",
       "\n",
       "    env5_PwarmQ  env6_PWM   lat   lon  \n",
       "0     -0.363974  0.761569   1.0   1.0  \n",
       "1     -0.417965  0.315295   1.0   2.0  \n",
       "2     -0.586408 -0.320803   1.0   3.0  \n",
       "3     -0.656053 -0.625240   1.0   4.0  \n",
       "4     -0.528748 -0.537376   1.0   5.0  \n",
       "..          ...       ...   ...   ...  \n",
       "95     0.228030 -0.045559  10.0   6.0  \n",
       "96     0.344912  0.059459  10.0   7.0  \n",
       "97     0.588880  0.274592  10.0   8.0  \n",
       "98     0.673533  0.360201  10.0   9.0  \n",
       "99     0.604139  0.321160  10.0  10.0  \n",
       "\n",
       "[100 rows x 11 columns]"
      ]
     },
     "metadata": {},
     "output_type": "display_data"
    }
   ],
   "source": [
    "# read them in and take a look (rangefiles don't have index)\n",
    "envdfs = {}\n",
    "for envfile in envfiles:\n",
    "    if 'range' in envfile:\n",
    "        index_col = None\n",
    "        name = 'rangedata'\n",
    "    else:\n",
    "        index_col = 0\n",
    "        name = 'envdata'\n",
    "        \n",
    "    df = pd.read_table(envfile, sep='\\t', index_col=index_col)\n",
    "    print(op.basename(envfile))\n",
    "    display(df)\n",
    "    \n",
    "    envdfs[name] = df"
   ]
  },
  {
   "cell_type": "code",
   "execution_count": 7,
   "id": "e456ba2c",
   "metadata": {},
   "outputs": [
    {
     "data": {
      "text/html": [
       "<div>\n",
       "<style scoped>\n",
       "    .dataframe tbody tr th:only-of-type {\n",
       "        vertical-align: middle;\n",
       "    }\n",
       "\n",
       "    .dataframe tbody tr th {\n",
       "        vertical-align: top;\n",
       "    }\n",
       "\n",
       "    .dataframe thead th {\n",
       "        text-align: right;\n",
       "    }\n",
       "</style>\n",
       "<table border=\"1\" class=\"dataframe\">\n",
       "  <thead>\n",
       "    <tr style=\"text-align: right;\">\n",
       "      <th></th>\n",
       "      <th>env1_mat</th>\n",
       "      <th>env2_MTWetQ</th>\n",
       "      <th>env3_MTDQ</th>\n",
       "      <th>env4_PDM</th>\n",
       "      <th>env5_PwarmQ</th>\n",
       "      <th>env6_PWM</th>\n",
       "    </tr>\n",
       "  </thead>\n",
       "  <tbody>\n",
       "    <tr>\n",
       "      <th>1</th>\n",
       "      <td>0.186225</td>\n",
       "      <td>-0.226935</td>\n",
       "      <td>0.861531</td>\n",
       "      <td>0.221974</td>\n",
       "      <td>-0.363974</td>\n",
       "      <td>0.761569</td>\n",
       "    </tr>\n",
       "    <tr>\n",
       "      <th>2</th>\n",
       "      <td>0.070353</td>\n",
       "      <td>-0.265649</td>\n",
       "      <td>0.799727</td>\n",
       "      <td>0.169512</td>\n",
       "      <td>-0.417965</td>\n",
       "      <td>0.315295</td>\n",
       "    </tr>\n",
       "    <tr>\n",
       "      <th>3</th>\n",
       "      <td>0.264633</td>\n",
       "      <td>-0.248372</td>\n",
       "      <td>0.375248</td>\n",
       "      <td>-0.172690</td>\n",
       "      <td>-0.586408</td>\n",
       "      <td>-0.320803</td>\n",
       "    </tr>\n",
       "    <tr>\n",
       "      <th>4</th>\n",
       "      <td>0.371616</td>\n",
       "      <td>0.167485</td>\n",
       "      <td>0.063118</td>\n",
       "      <td>-0.465978</td>\n",
       "      <td>-0.656053</td>\n",
       "      <td>-0.625240</td>\n",
       "    </tr>\n",
       "    <tr>\n",
       "      <th>5</th>\n",
       "      <td>0.244613</td>\n",
       "      <td>0.117437</td>\n",
       "      <td>-0.010939</td>\n",
       "      <td>-0.291486</td>\n",
       "      <td>-0.528748</td>\n",
       "      <td>-0.537376</td>\n",
       "    </tr>\n",
       "    <tr>\n",
       "      <th>...</th>\n",
       "      <td>...</td>\n",
       "      <td>...</td>\n",
       "      <td>...</td>\n",
       "      <td>...</td>\n",
       "      <td>...</td>\n",
       "      <td>...</td>\n",
       "    </tr>\n",
       "    <tr>\n",
       "      <th>96</th>\n",
       "      <td>-0.288220</td>\n",
       "      <td>0.261489</td>\n",
       "      <td>-0.317123</td>\n",
       "      <td>-0.018548</td>\n",
       "      <td>0.228030</td>\n",
       "      <td>-0.045559</td>\n",
       "    </tr>\n",
       "    <tr>\n",
       "      <th>97</th>\n",
       "      <td>-0.116570</td>\n",
       "      <td>0.323553</td>\n",
       "      <td>-0.231351</td>\n",
       "      <td>-0.269762</td>\n",
       "      <td>0.344912</td>\n",
       "      <td>0.059459</td>\n",
       "    </tr>\n",
       "    <tr>\n",
       "      <th>98</th>\n",
       "      <td>0.093915</td>\n",
       "      <td>0.400397</td>\n",
       "      <td>-0.150975</td>\n",
       "      <td>-0.408936</td>\n",
       "      <td>0.588880</td>\n",
       "      <td>0.274592</td>\n",
       "    </tr>\n",
       "    <tr>\n",
       "      <th>99</th>\n",
       "      <td>0.034177</td>\n",
       "      <td>0.399089</td>\n",
       "      <td>-0.440848</td>\n",
       "      <td>-0.464035</td>\n",
       "      <td>0.673533</td>\n",
       "      <td>0.360201</td>\n",
       "    </tr>\n",
       "    <tr>\n",
       "      <th>100</th>\n",
       "      <td>0.055334</td>\n",
       "      <td>0.422488</td>\n",
       "      <td>-0.553991</td>\n",
       "      <td>-0.472096</td>\n",
       "      <td>0.604139</td>\n",
       "      <td>0.321160</td>\n",
       "    </tr>\n",
       "  </tbody>\n",
       "</table>\n",
       "<p>100 rows × 6 columns</p>\n",
       "</div>"
      ],
      "text/plain": [
       "     env1_mat  env2_MTWetQ  env3_MTDQ  env4_PDM  env5_PwarmQ  env6_PWM\n",
       "1    0.186225    -0.226935   0.861531  0.221974    -0.363974  0.761569\n",
       "2    0.070353    -0.265649   0.799727  0.169512    -0.417965  0.315295\n",
       "3    0.264633    -0.248372   0.375248 -0.172690    -0.586408 -0.320803\n",
       "4    0.371616     0.167485   0.063118 -0.465978    -0.656053 -0.625240\n",
       "5    0.244613     0.117437  -0.010939 -0.291486    -0.528748 -0.537376\n",
       "..        ...          ...        ...       ...          ...       ...\n",
       "96  -0.288220     0.261489  -0.317123 -0.018548     0.228030 -0.045559\n",
       "97  -0.116570     0.323553  -0.231351 -0.269762     0.344912  0.059459\n",
       "98   0.093915     0.400397  -0.150975 -0.408936     0.588880  0.274592\n",
       "99   0.034177     0.399089  -0.440848 -0.464035     0.673533  0.360201\n",
       "100  0.055334     0.422488  -0.553991 -0.472096     0.604139  0.321160\n",
       "\n",
       "[100 rows x 6 columns]"
      ]
     },
     "execution_count": 7,
     "metadata": {},
     "output_type": "execute_result"
    }
   ],
   "source": [
    "# compare to original that was used in /home/b.lind/offsets/tutorial_shuffle_run_20220919\n",
    "og_envdata = pd.read_table(\n",
    "    '/home/b.lind/offsets/run_20220919_tutorial/gradient_forests/training/training_files/tutorial_envfile_GFready_pooled.txt',\n",
    "    index_col=0\n",
    ")\n",
    "\n",
    "og_envdata"
   ]
  },
  {
   "cell_type": "code",
   "execution_count": 8,
   "id": "fcedae8e",
   "metadata": {},
   "outputs": [],
   "source": [
    "# assert that the values for the adaptive envs are the same as above\n",
    "for env in og_envdata.columns:\n",
    "    assert all(og_envdata[env] == envdfs['envdata'][env])\n",
    "    \n",
    "    copy = envdfs['rangedata'][env].copy()\n",
    "    copy.index = og_envdata.index\n",
    "    assert all(og_envdata[env] == copy)"
   ]
  },
  {
   "cell_type": "code",
   "execution_count": 9,
   "id": "1545c294",
   "metadata": {},
   "outputs": [
    {
     "data": {
      "text/plain": [
       "(100, 6)"
      ]
     },
     "execution_count": 9,
     "metadata": {},
     "output_type": "execute_result"
    }
   ],
   "source": [
    "og_envdata.shape"
   ]
  },
  {
   "cell_type": "code",
   "execution_count": 10,
   "id": "78c7cc68",
   "metadata": {},
   "outputs": [
    {
     "data": {
      "text/plain": [
       "(100, 11)"
      ]
     },
     "execution_count": 10,
     "metadata": {},
     "output_type": "execute_result"
    }
   ],
   "source": [
    "envdfs['rangedata'].shape"
   ]
  },
  {
   "cell_type": "code",
   "execution_count": 11,
   "id": "694a99cd",
   "metadata": {},
   "outputs": [
    {
     "name": "stdout",
     "output_type": "stream",
     "text": [
      "/home/b.lind/offsets/tutorial_shuffle_nuisance_run_20220919/gradient_forests/training/training_files/tutorial_envfile_GFready_pooled.txt\n",
      "\t /home/b.lind/offsets/run_20220919_nuisance/tutorial/gradient_forests/training/training_files/tutorial_envfile_GFready_pooled.txt\n",
      "/home/b.lind/offsets/tutorial_shuffle_nuisance_run_20220919/gradient_forests/training/training_files/tutorial_rangefile_GFready_pooled.txt\n",
      "\t /home/b.lind/offsets/run_20220919_nuisance/tutorial/gradient_forests/training/training_files/tutorial_rangefile_GFready_pooled.txt\n"
     ]
    }
   ],
   "source": [
    "# symlink the shuffled+nuis envfiles\n",
    "for src in envfiles:\n",
    "    basename = op.basename(src)\n",
    "    \n",
    "    dst = f'{gf_training_dir}/{basename}'\n",
    "    \n",
    "    if not op.exists(dst):\n",
    "        os.symlink(src, dst)\n",
    "        \n",
    "    print(src)\n",
    "    print('\\t', dst)"
   ]
  },
  {
   "cell_type": "code",
   "execution_count": null,
   "id": "bdf5446f",
   "metadata": {},
   "outputs": [],
   "source": []
  },
  {
   "cell_type": "markdown",
   "id": "18e1054a",
   "metadata": {},
   "source": [
    "# Get SNP data\n",
    "\n",
    "symlink snp files from normal evaluation of multivariate sims"
   ]
  },
  {
   "cell_type": "code",
   "execution_count": 12,
   "id": "e5e0731e",
   "metadata": {},
   "outputs": [
    {
     "data": {
      "text/plain": [
       "['tutorial_Rout_Gmat_sample_maf-gt-p01_GFready_pooled_adaptive.txt',\n",
       " 'tutorial_Rout_Gmat_sample_maf-gt-p01_GFready_pooled_all.txt',\n",
       " 'tutorial_Rout_Gmat_sample_maf-gt-p01_GFready_pooled_neutral.txt']"
      ]
     },
     "execution_count": 12,
     "metadata": {},
     "output_type": "execute_result"
    }
   ],
   "source": [
    "# get unshuffled allele freqs for the multivariate simss\n",
    "og_snpdir = '/home/b.lind/offsets/run_20220919_tutorial/gradient_forests/training/training_files'\n",
    "\n",
    "snpfiles = fs(og_snpdir, pattern='-gt-')\n",
    "\n",
    "[op.basename(f) for f in snpfiles]"
   ]
  },
  {
   "cell_type": "code",
   "execution_count": 13,
   "id": "b4e7a735",
   "metadata": {},
   "outputs": [],
   "source": [
    "# create symlinks\n",
    "for src in snpfiles:\n",
    "    basename = op.basename(src)\n",
    "    \n",
    "    dst = f'{gf_training_dir}/{basename}'\n",
    "    \n",
    "    if not op.exists(dst):\n",
    "        os.symlink(src, dst)"
   ]
  },
  {
   "cell_type": "code",
   "execution_count": null,
   "id": "04787b19",
   "metadata": {},
   "outputs": [],
   "source": []
  },
  {
   "cell_type": "markdown",
   "id": "60ed84e7",
   "metadata": {},
   "source": [
    "# create shfiles\n"
   ]
  },
  {
   "cell_type": "code",
   "execution_count": 14,
   "id": "65b19f98",
   "metadata": {},
   "outputs": [
    {
     "data": {
      "text/plain": [
       "['/home/b.lind/offsets/run_20220919_tutorial/gradient_forests/training/training_shfiles/tutorial_GF_training_pooled_adaptive.sh',\n",
       " '/home/b.lind/offsets/run_20220919_tutorial/gradient_forests/training/training_shfiles/tutorial_GF_training_pooled_all.sh',\n",
       " '/home/b.lind/offsets/run_20220919_tutorial/gradient_forests/training/training_shfiles/tutorial_GF_training_pooled_neutral.sh',\n",
       " '/home/b.lind/offsets/run_20220919_tutorial/gradient_forests/training/training_shfiles/tutorial_gf_training_watcher.sh']"
      ]
     },
     "execution_count": 14,
     "metadata": {},
     "output_type": "execute_result"
    }
   ],
   "source": [
    "src_shdir = '/home/b.lind/offsets/run_20220919_tutorial/gradient_forests/training/training_shfiles'\n",
    "src_shfiles = fs(src_shdir, endswith='.sh')\n",
    "\n",
    "src_shfiles"
   ]
  },
  {
   "cell_type": "code",
   "execution_count": 15,
   "id": "1c900ba3",
   "metadata": {},
   "outputs": [
    {
     "data": {
      "text/plain": [
       "'/home/b.lind/offsets/run_20220919_nuisance/tutorial'"
      ]
     },
     "execution_count": 15,
     "metadata": {},
     "output_type": "execute_result"
    }
   ],
   "source": [
    "nuis_dir"
   ]
  },
  {
   "cell_type": "code",
   "execution_count": 16,
   "id": "2038cf32",
   "metadata": {},
   "outputs": [
    {
     "name": "stdout",
     "output_type": "stream",
     "text": [
      "#!/bin/bash\n",
      "#SBATCH --job-name=tutorial_gf_training_watcher\n",
      "#SBATCH --time=0:00:01\n",
      "#SBATCH --ntasks=1\n",
      "#SBATCH --mem=25\n",
      "#SBATCH --output=tutorial_gf_training_watcher_%j.out\n",
      "#SBATCH --dependency=afterok:34315837,34315838,34315839\n",
      "#SBATCH --mail-user=b.lind@northeastern.edu\n",
      "#SBATCH --mail-type=FAIL\n",
      "#SBATCH --mail-type=END\n",
      "\n",
      "\n",
      "\n",
      "\n",
      "\n",
      "\n"
     ]
    }
   ],
   "source": [
    "new_shfiles = []\n",
    "for sh in src_shfiles:\n",
    "    text = read(sh, lines=False)\n",
    "    \n",
    "    job = op.basename(sh).split(\".\")[0]\n",
    "    new_job = job.replace('_GF_', '_nuis_GF_')\n",
    "    \n",
    "    text = text.replace('/home/b.lind/offsets/run_20220919_tutorial', nuis_dir\n",
    "                       ).replace(job, new_job)\n",
    "    \n",
    "    new_sh = op.join(gf_shdir, f'{new_job}.sh')\n",
    "    with open(new_sh, 'w') as o:\n",
    "        o.write(text)\n",
    "\n",
    "    new_shfiles.append(new_sh)\n",
    "    \n",
    "print(text)"
   ]
  },
  {
   "cell_type": "code",
   "execution_count": 17,
   "id": "07fd5f0b",
   "metadata": {},
   "outputs": [
    {
     "data": {
      "text/plain": [
       "'/home/b.lind/offsets/run_20220919_nuisance/tutorial/gradient_forests/training/training_outfiles'"
      ]
     },
     "execution_count": 17,
     "metadata": {},
     "output_type": "execute_result"
    }
   ],
   "source": [
    "# make the outdir\n",
    "makedir('/home/b.lind/offsets/run_20220919_nuisance/tutorial/gradient_forests/training/training_outfiles')"
   ]
  },
  {
   "cell_type": "code",
   "execution_count": 18,
   "id": "4f780937",
   "metadata": {},
   "outputs": [
    {
     "data": {
      "text/plain": [
       "['/home/b.lind/offsets/run_20220919_nuisance/tutorial/gradient_forests/training/training_shfiles/tutorial_nuis_GF_training_pooled_adaptive.sh',\n",
       " '/home/b.lind/offsets/run_20220919_nuisance/tutorial/gradient_forests/training/training_shfiles/tutorial_nuis_GF_training_pooled_all.sh',\n",
       " '/home/b.lind/offsets/run_20220919_nuisance/tutorial/gradient_forests/training/training_shfiles/tutorial_nuis_GF_training_pooled_neutral.sh',\n",
       " '/home/b.lind/offsets/run_20220919_nuisance/tutorial/gradient_forests/training/training_shfiles/tutorial_gf_training_watcher.sh']"
      ]
     },
     "execution_count": 18,
     "metadata": {},
     "output_type": "execute_result"
    }
   ],
   "source": [
    "new_shfiles"
   ]
  },
  {
   "cell_type": "code",
   "execution_count": null,
   "id": "422588aa",
   "metadata": {},
   "outputs": [],
   "source": []
  },
  {
   "cell_type": "code",
   "execution_count": 19,
   "id": "2e2b0f95",
   "metadata": {},
   "outputs": [
    {
     "name": "stderr",
     "output_type": "stream",
     "text": [
      "sbatching: 100%|███████████████| 3/3 [00:00<00:00,  6.68it/s]\n"
     ]
    }
   ],
   "source": [
    "# sbatch the shfiles\n",
    "pids = sbatch(new_shfiles[:-1])"
   ]
  },
  {
   "cell_type": "code",
   "execution_count": 20,
   "id": "79f412ff",
   "metadata": {},
   "outputs": [
    {
     "data": {
      "text/plain": [
       "'/home/b.lind/offsets/run_20220919_nuisance/tutorial/gradient_forests/training/training_shfiles/tutorial_gf_training_watcher.sh'"
      ]
     },
     "execution_count": 20,
     "metadata": {},
     "output_type": "execute_result"
    }
   ],
   "source": [
    "new_shfiles[-1]"
   ]
  },
  {
   "cell_type": "code",
   "execution_count": 21,
   "id": "b1c9f47c",
   "metadata": {},
   "outputs": [],
   "source": [
    "# update the dependency pids in the watcher file\n",
    "watcher_sh = new_shfiles[-1]\n",
    "\n",
    "text = read(watcher_sh, lines=True)\n",
    "assert 'dependency' in text[6]\n",
    "text[6] = '#SBATCH --dependency=afterok:%s' % ','.join(pids)\n",
    "\n",
    "with open(watcher_sh, 'w') as o:\n",
    "    o.write('\\n'.join(text))"
   ]
  },
  {
   "cell_type": "code",
   "execution_count": 22,
   "id": "b2736103",
   "metadata": {},
   "outputs": [
    {
     "name": "stderr",
     "output_type": "stream",
     "text": [
      "sbatching: 100%|███████████████| 1/1 [00:00<00:00,  7.22it/s]\n"
     ]
    },
    {
     "data": {
      "text/plain": [
       "['36539022']"
      ]
     },
     "execution_count": 22,
     "metadata": {},
     "output_type": "execute_result"
    }
   ],
   "source": [
    "sbatch(watcher_sh)"
   ]
  },
  {
   "cell_type": "code",
   "execution_count": null,
   "id": "b25caa4f",
   "metadata": {},
   "outputs": [],
   "source": []
  },
  {
   "cell_type": "code",
   "execution_count": null,
   "id": "b818d06b",
   "metadata": {},
   "outputs": [],
   "source": []
  },
  {
   "cell_type": "code",
   "execution_count": 23,
   "id": "05eed4ae",
   "metadata": {},
   "outputs": [
    {
     "data": {
      "text/plain": [
       "'0-00:00:01'"
      ]
     },
     "execution_count": 23,
     "metadata": {},
     "output_type": "execute_result"
    }
   ],
   "source": [
    "formatclock(dt.now() - t0)"
   ]
  },
  {
   "cell_type": "code",
   "execution_count": null,
   "id": "26adda54",
   "metadata": {},
   "outputs": [],
   "source": []
  },
  {
   "cell_type": "code",
   "execution_count": null,
   "id": "b6003ecf",
   "metadata": {},
   "outputs": [],
   "source": []
  },
  {
   "cell_type": "markdown",
   "id": "d53852d2",
   "metadata": {},
   "source": [
    "# check on progress"
   ]
  },
  {
   "cell_type": "code",
   "execution_count": 1,
   "id": "392d4347",
   "metadata": {},
   "outputs": [
    {
     "name": "stdout",
     "output_type": "stream",
     "text": [
      "#########################################################\n",
      "Today:\tJune 02, 2023 - 10:45:41\n",
      "python version: 3.8.5\n",
      "conda env: mvp_env\n",
      "\n",
      "Current commit of \u001b[1mpythonimports\u001b[0m:\n",
      "\u001b[33mcommit c721bd0d89c1e150e17a4e0739c26e4296405233\u001b[m  \n",
      "Author: Brandon Lind <lind.brandon.m@gmail.com>  \n",
      "Date:   Wed May 10 15:13:03 2023 -0400\n",
      "\n",
      "Current commit of \u001b[94m\u001b[1mMVP_offsets\u001b[0m\u001b[0m:\n",
      "\u001b[33mcommit 060db40dff8355d2087deab28bd695fcccee8f49\u001b[m  \n",
      "Author: Brandon Lind <lind.brandon.m@gmail.com>  \n",
      "Date:   Thu May 18 12:50:56 2023 -0400\n",
      "#########################################################\n",
      "\n"
     ]
    },
    {
     "data": {
      "text/html": [
       "<details>\n",
       "<summary>Click to view session information</summary>\n",
       "<pre>\n",
       "-----\n",
       "MVP_summary_functions       NA\n",
       "balance_queue               NA\n",
       "cartopy                     0.20.2\n",
       "ipyparallel                 7.1.0\n",
       "matplotlib                  3.5.2\n",
       "myclasses                   NA\n",
       "myfigs                      NA\n",
       "mymaps                      NA\n",
       "myslurm                     NA\n",
       "numpy                       1.22.1\n",
       "pandas                      1.3.5\n",
       "pythonimports               NA\n",
       "session_info                1.0.0\n",
       "tqdm                        4.62.1\n",
       "-----\n",
       "</pre>\n",
       "<details>\n",
       "<summary>Click to view modules imported as dependencies</summary>\n",
       "<pre>\n",
       "PIL                         8.4.0\n",
       "attr                        21.4.0\n",
       "backcall                    0.2.0\n",
       "beta_ufunc                  NA\n",
       "binom_ufunc                 NA\n",
       "bottleneck                  1.3.2\n",
       "certifi                     2022.06.15\n",
       "cffi                        1.15.0\n",
       "cycler                      0.10.0\n",
       "cython_runtime              NA\n",
       "dateutil                    2.8.2\n",
       "debugpy                     1.5.1\n",
       "decorator                   5.1.1\n",
       "defusedxml                  0.7.1\n",
       "entrypoints                 0.4\n",
       "fiona                       1.9.2\n",
       "fontTools                   4.29.1\n",
       "ipykernel                   6.8.0\n",
       "ipython_genutils            0.2.0\n",
       "ipywidgets                  7.6.5\n",
       "jedi                        0.18.1\n",
       "kiwisolver                  1.3.2\n",
       "matplotlib_venn             0.11.6\n",
       "mpl_toolkits                NA\n",
       "nbinom_ufunc                NA\n",
       "numexpr                     2.8.1\n",
       "packaging                   21.3\n",
       "parso                       0.8.3\n",
       "pexpect                     4.8.0\n",
       "pickleshare                 0.7.5\n",
       "pkg_resources               NA\n",
       "prompt_toolkit              3.0.26\n",
       "psutil                      5.9.0\n",
       "ptyprocess                  0.7.0\n",
       "pydev_ipython               NA\n",
       "pydevconsole                NA\n",
       "pydevd                      2.6.0\n",
       "pydevd_concurrency_analyser NA\n",
       "pydevd_file_utils           NA\n",
       "pydevd_plugins              NA\n",
       "pydevd_tracing              NA\n",
       "pygments                    2.11.2\n",
       "pyparsing                   3.0.7\n",
       "pyproj                      3.3.0\n",
       "pytz                        2021.3\n",
       "scipy                       1.7.3\n",
       "seaborn                     0.12.2\n",
       "setuptools                  60.7.1\n",
       "shapefile                   2.2.0\n",
       "shapely                     1.8.0\n",
       "six                         1.16.0\n",
       "statsmodels                 0.13.0\n",
       "storemagic                  NA\n",
       "tornado                     6.1\n",
       "traitlets                   5.1.1\n",
       "wcwidth                     0.2.5\n",
       "zmq                         22.3.0\n",
       "</pre>\n",
       "</details> <!-- seems like this ends pre, so might as well be explicit -->\n",
       "<pre>\n",
       "-----\n",
       "IPython             7.31.1\n",
       "jupyter_client      7.1.2\n",
       "jupyter_core        4.9.1\n",
       "notebook            6.4.8\n",
       "-----\n",
       "Python 3.8.5 (default, Sep  4 2020, 07:30:14) [GCC 7.3.0]\n",
       "Linux-3.10.0-1160.25.1.el7.x86_64-x86_64-with-glibc2.10\n",
       "-----\n",
       "Session information updated at 2023-06-02 10:45\n",
       "</pre>\n",
       "</details>"
      ],
      "text/plain": [
       "<IPython.core.display.HTML object>"
      ]
     },
     "execution_count": 1,
     "metadata": {},
     "output_type": "execute_result"
    }
   ],
   "source": [
    "from pythonimports import *\n",
    "\n",
    "import MVP_summary_functions as mvp\n",
    "\n",
    "t0 = dt.now()  # notebook timer\n",
    "\n",
    "nuis_dir = makedir('/home/b.lind/offsets/run_20220919_nuisance/tutorial')\n",
    "\n",
    "gf_training_dir = makedir(f'{nuis_dir}/gradient_forests/training/training_files')\n",
    "gf_shdir = makedir(gf_training_dir.replace('_files', '_shfiles'))\n",
    "gf_outdir = makedir(gf_shdir.replace('_shfiles', '_outfiles'))\n",
    "\n",
    "mvp.latest_commit()\n",
    "session_info.show()"
   ]
  },
  {
   "cell_type": "code",
   "execution_count": 2,
   "id": "1a47d04d",
   "metadata": {},
   "outputs": [
    {
     "data": {
      "text/plain": [
       "(4, 4)"
      ]
     },
     "execution_count": 2,
     "metadata": {},
     "output_type": "execute_result"
    }
   ],
   "source": [
    "shfiles = fs(gf_shdir, endswith='.sh')\n",
    "outs = fs(gf_shdir, endswith='.out')\n",
    "\n",
    "len(shfiles), len(outs)"
   ]
  },
  {
   "cell_type": "code",
   "execution_count": 3,
   "id": "db11b7bd",
   "metadata": {},
   "outputs": [
    {
     "name": "stderr",
     "output_type": "stream",
     "text": [
      "executing seff commands: 100%|███████████████| 4/4 [00:00<00:00,  4.62it/s]\n"
     ]
    },
    {
     "data": {
      "text/plain": [
       "Counter({'State: COMPLETED (exit code 0)': 4})"
      ]
     },
     "execution_count": 3,
     "metadata": {},
     "output_type": "execute_result"
    }
   ],
   "source": [
    "seffs = Seffs(outs=outs)\n",
    "\n",
    "seffs.states.counter()"
   ]
  },
  {
   "cell_type": "code",
   "execution_count": 5,
   "id": "9cb2c255",
   "metadata": {},
   "outputs": [
    {
     "data": {
      "text/plain": [
       "['tutorial_gf_training_watcher.sh',\n",
       " 'tutorial_nuis_GF_training_pooled_adaptive.sh',\n",
       " 'tutorial_nuis_GF_training_pooled_all.sh',\n",
       " 'tutorial_nuis_GF_training_pooled_neutral.sh']"
      ]
     },
     "execution_count": 5,
     "metadata": {},
     "output_type": "execute_result"
    }
   ],
   "source": [
    "[op.basename(sh) for sh in seffs.shfiles]"
   ]
  },
  {
   "cell_type": "code",
   "execution_count": null,
   "id": "5b83d483",
   "metadata": {},
   "outputs": [],
   "source": []
  },
  {
   "cell_type": "code",
   "execution_count": null,
   "id": "50820821",
   "metadata": {},
   "outputs": [],
   "source": []
  },
  {
   "cell_type": "code",
   "execution_count": null,
   "id": "bab06592",
   "metadata": {},
   "outputs": [],
   "source": []
  },
  {
   "cell_type": "code",
   "execution_count": null,
   "id": "8dbf8444",
   "metadata": {},
   "outputs": [],
   "source": []
  },
  {
   "cell_type": "code",
   "execution_count": null,
   "id": "91711e75",
   "metadata": {},
   "outputs": [],
   "source": []
  },
  {
   "cell_type": "code",
   "execution_count": null,
   "id": "4a5da9a3",
   "metadata": {},
   "outputs": [],
   "source": []
  },
  {
   "cell_type": "code",
   "execution_count": null,
   "id": "66057d24",
   "metadata": {},
   "outputs": [],
   "source": []
  },
  {
   "cell_type": "code",
   "execution_count": null,
   "id": "3dd0370c",
   "metadata": {},
   "outputs": [],
   "source": []
  },
  {
   "cell_type": "code",
   "execution_count": null,
   "id": "91e499bd",
   "metadata": {},
   "outputs": [],
   "source": []
  },
  {
   "cell_type": "code",
   "execution_count": null,
   "id": "7b59b7d4",
   "metadata": {},
   "outputs": [],
   "source": []
  },
  {
   "cell_type": "code",
   "execution_count": null,
   "id": "5a0bd63b",
   "metadata": {},
   "outputs": [],
   "source": []
  },
  {
   "cell_type": "code",
   "execution_count": null,
   "id": "75a8ad1d",
   "metadata": {},
   "outputs": [],
   "source": []
  }
 ],
 "metadata": {
  "kernelspec": {
   "display_name": "Python 3 (ipykernel)",
   "language": "python",
   "name": "python3"
  },
  "language_info": {
   "codemirror_mode": {
    "name": "ipython",
    "version": 3
   },
   "file_extension": ".py",
   "mimetype": "text/x-python",
   "name": "python",
   "nbconvert_exporter": "python",
   "pygments_lexer": "ipython3",
   "version": "3.8.5"
  }
 },
 "nbformat": 4,
 "nbformat_minor": 5
}
