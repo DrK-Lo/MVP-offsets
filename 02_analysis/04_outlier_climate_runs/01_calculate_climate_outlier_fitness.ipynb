{
 "cells": [
  {
   "cell_type": "markdown",
   "id": "8ace3202",
   "metadata": {},
   "source": [
    "### purpose \n",
    "\n",
    "calculate the fitness of populations in the climate outlier scenarios for all 2250 seeds"
   ]
  },
  {
   "cell_type": "code",
   "execution_count": 1,
   "id": "95d2c0da",
   "metadata": {},
   "outputs": [
    {
     "name": "stdout",
     "output_type": "stream",
     "text": [
      "36 36\n",
      "#########################################################\n",
      "Today:\tMarch 02, 2023 - 16:31:06\n",
      "python version: 3.8.5\n",
      "\n",
      "Current commit of \u001b[1mpythonimports\u001b[0m:\n",
      "\u001b[33mcommit f7e63eead1814fe6ce13da1f593ebfb19efdc4c2\u001b[m  \n",
      "Author: Brandon Lind <lind.brandon.m@gmail.com>  \n",
      "Date:   Wed Feb 15 14:14:00 2023 -0500\n",
      "\n",
      "Current commit of \u001b[94m\u001b[1mMVP_offsets\u001b[0m\u001b[0m:\n",
      "\u001b[33mcommit d24363688641c3c7e26b5202d74aefc5db4de83c\u001b[m  \n",
      "Author: Brandon Lind <lind.brandon.m@gmail.com>  \n",
      "Date:   Wed Mar 1 16:34:25 2023 -0500\n",
      "#########################################################\n",
      "\n"
     ]
    },
    {
     "data": {
      "text/html": [
       "<details>\n",
       "<summary>Click to view session information</summary>\n",
       "<pre>\n",
       "-----\n",
       "MVP_00_start_pipeline       NA\n",
       "MVP_10_train_lfmm2_offset   NA\n",
       "MVP_summary_functions       NA\n",
       "balance_queue               NA\n",
       "cartopy                     0.20.2\n",
       "ipyparallel                 7.1.0\n",
       "matplotlib                  3.5.2\n",
       "myclasses                   NA\n",
       "myfigs                      NA\n",
       "mymaps                      NA\n",
       "myslurm                     NA\n",
       "numpy                       1.22.1\n",
       "pandas                      1.3.5\n",
       "pythonimports               NA\n",
       "session_info                1.0.0\n",
       "tqdm                        4.62.1\n",
       "-----\n",
       "</pre>\n",
       "<details>\n",
       "<summary>Click to view modules imported as dependencies</summary>\n",
       "<pre>\n",
       "MVP_01_train_gradient_forests       NA\n",
       "PIL                                 8.4.0\n",
       "backcall                            0.2.0\n",
       "beta_ufunc                          NA\n",
       "binom_ufunc                         NA\n",
       "bottleneck                          1.3.2\n",
       "certifi                             2022.06.15\n",
       "cffi                                1.15.0\n",
       "cycler                              0.10.0\n",
       "cython_runtime                      NA\n",
       "dateutil                            2.8.2\n",
       "debugpy                             1.5.1\n",
       "decorator                           5.1.1\n",
       "defusedxml                          0.7.1\n",
       "entrypoints                         0.4\n",
       "fontTools                           4.29.1\n",
       "ipykernel                           6.8.0\n",
       "ipython_genutils                    0.2.0\n",
       "ipywidgets                          7.6.5\n",
       "jedi                                0.18.1\n",
       "kiwisolver                          1.3.2\n",
       "matplotlib_venn                     0.11.6\n",
       "mpl_toolkits                        NA\n",
       "nbinom_ufunc                        NA\n",
       "numexpr                             2.8.1\n",
       "packaging                           21.3\n",
       "parso                               0.8.3\n",
       "pexpect                             4.8.0\n",
       "pickleshare                         0.7.5\n",
       "pkg_resources                       NA\n",
       "prompt_toolkit                      3.0.26\n",
       "psutil                              5.9.0\n",
       "ptyprocess                          0.7.0\n",
       "pydev_ipython                       NA\n",
       "pydevconsole                        NA\n",
       "pydevd                              2.6.0\n",
       "pydevd_concurrency_analyser         NA\n",
       "pydevd_file_utils                   NA\n",
       "pydevd_plugins                      NA\n",
       "pydevd_tracing                      NA\n",
       "pygments                            2.11.2\n",
       "pyparsing                           3.0.7\n",
       "pyproj                              3.3.0\n",
       "pytz                                2021.3\n",
       "scipy                               1.7.3\n",
       "seaborn                             0.12.2\n",
       "setuptools                          60.7.1\n",
       "shapefile                           2.2.0\n",
       "shapely                             1.8.0\n",
       "six                                 1.16.0\n",
       "statsmodels                         0.13.0\n",
       "storemagic                          NA\n",
       "tornado                             6.1\n",
       "traitlets                           5.1.1\n",
       "wcwidth                             0.2.5\n",
       "zmq                                 22.3.0\n",
       "</pre>\n",
       "</details> <!-- seems like this ends pre, so might as well be explicit -->\n",
       "<pre>\n",
       "-----\n",
       "IPython             7.31.1\n",
       "jupyter_client      7.1.2\n",
       "jupyter_core        4.9.1\n",
       "notebook            6.4.8\n",
       "-----\n",
       "Python 3.8.5 (default, Sep  4 2020, 07:30:14) [GCC 7.3.0]\n",
       "Linux-3.10.0-1160.25.1.el7.x86_64-x86_64-with-glibc2.10\n",
       "-----\n",
       "Session information updated at 2023-03-02 16:31\n",
       "</pre>\n",
       "</details>"
      ],
      "text/plain": [
       "<IPython.core.display.HTML object>"
      ]
     },
     "execution_count": 1,
     "metadata": {},
     "output_type": "execute_result"
    }
   ],
   "source": [
    "from pythonimports import *\n",
    "from myfigs import histo_box\n",
    "\n",
    "import MVP_00_start_pipeline as mvp00\n",
    "import MVP_10_train_lfmm2_offset as mvp10\n",
    "import MVP_summary_functions as mvp\n",
    "\n",
    "envdir = makedir('/home/b.lind/offsets/climate_outlier_runs/garden_files')\n",
    "slimdir = '/work/lotterhos/MVP-NonClinalAF/sim_output_20220428'\n",
    "fitness_dir = makedir('/home/b.lind/offsets/climate_outlier_runs/fitness_mats')\n",
    "\n",
    "lview, dview = get_client(cluster_id='1677769331-fkj5', profile='lotterhos')\n",
    "\n",
    "mvp.latest_commit()\n",
    "session_info.show()"
   ]
  },
  {
   "cell_type": "code",
   "execution_count": 2,
   "id": "265d341d",
   "metadata": {},
   "outputs": [
    {
     "name": "stderr",
     "output_type": "stream",
     "text": [
      "100%|███████████████| 18000/18000 [00:52<00:00, 345.18it/s]\n"
     ]
    }
   ],
   "source": [
    "nones = [os.remove(f) for f in pbar(fs(fitness_dir, endswith='.txt'))]  # redefined variables"
   ]
  },
  {
   "cell_type": "markdown",
   "id": "1545fddd",
   "metadata": {},
   "source": [
    "# create climate data"
   ]
  },
  {
   "cell_type": "code",
   "execution_count": 3,
   "id": "e355ec7b",
   "metadata": {},
   "outputs": [],
   "source": [
    "def create_new_envfiles(outerdir, garden_dir):\n",
    "    print(ColorText('\\nCreating climate outlier environmental files').bold().custom('gold'))\n",
    "    # read in arbitrary env file for correct formatting\n",
    "    arbitrary_file = fs(op.join(outerdir, 'gradient_forests/fitting/garden_files'), pattern='_envfile_GFready_pooled_1.txt')[0]\n",
    "    blank_env = pd.read_table(arbitrary_file, index_col=0)\n",
    "\n",
    "    for col in blank_env.columns:\n",
    "        assert luni(blank_env[col]) == 1\n",
    "\n",
    "    new_envfiles = []\n",
    "    for new_env in pbar(mvp.new_envs):\n",
    "        df = blank_env.copy()\n",
    "        df['sal_opt'] = -new_env  # new envs are in top left of landscape (negative sal_opt, positive temp_opt)\n",
    "        df['temp_opt'] = new_env\n",
    "\n",
    "        file = op.join(garden_dir, f'envfile_GF_ready_pooled_envval_{new_env}.txt')\n",
    "\n",
    "        df.to_csv(file, sep='\\t', index=True)\n",
    "\n",
    "#         print(file)\n",
    "\n",
    "        new_envfiles.append(file)\n",
    "\n",
    "    return new_envfiles\n",
    "\n"
   ]
  },
  {
   "cell_type": "code",
   "execution_count": 4,
   "id": "a10ec331",
   "metadata": {},
   "outputs": [
    {
     "name": "stdout",
     "output_type": "stream",
     "text": [
      "\u001b[38;2;255;215;0m\u001b[1m\n",
      "Creating climate outlier environmental files\u001b[0m\u001b[0m\n"
     ]
    },
    {
     "name": "stderr",
     "output_type": "stream",
     "text": [
      "100%|███████████████| 12/12 [00:00<00:00, 190.59it/s]\n"
     ]
    },
    {
     "data": {
      "text/plain": [
       "['/home/b.lind/offsets/climate_outlier_runs/garden_files/envfile_GF_ready_pooled_envval_0.txt',\n",
       " '/home/b.lind/offsets/climate_outlier_runs/garden_files/envfile_GF_ready_pooled_envval_1.1.txt',\n",
       " '/home/b.lind/offsets/climate_outlier_runs/garden_files/envfile_GF_ready_pooled_envval_1.5.txt',\n",
       " '/home/b.lind/offsets/climate_outlier_runs/garden_files/envfile_GF_ready_pooled_envval_1.75.txt',\n",
       " '/home/b.lind/offsets/climate_outlier_runs/garden_files/envfile_GF_ready_pooled_envval_2.0.txt',\n",
       " '/home/b.lind/offsets/climate_outlier_runs/garden_files/envfile_GF_ready_pooled_envval_2.25.txt',\n",
       " '/home/b.lind/offsets/climate_outlier_runs/garden_files/envfile_GF_ready_pooled_envval_2.5.txt',\n",
       " '/home/b.lind/offsets/climate_outlier_runs/garden_files/envfile_GF_ready_pooled_envval_2.75.txt',\n",
       " '/home/b.lind/offsets/climate_outlier_runs/garden_files/envfile_GF_ready_pooled_envval_3.0.txt',\n",
       " '/home/b.lind/offsets/climate_outlier_runs/garden_files/envfile_GF_ready_pooled_envval_3.25.txt',\n",
       " '/home/b.lind/offsets/climate_outlier_runs/garden_files/envfile_GF_ready_pooled_envval_3.5.txt',\n",
       " '/home/b.lind/offsets/climate_outlier_runs/garden_files/envfile_GF_ready_pooled_envval_3.75.txt']"
      ]
     },
     "execution_count": 4,
     "metadata": {},
     "output_type": "execute_result"
    }
   ],
   "source": [
    "envfiles = create_new_envfiles('/home/b.lind/offsets/run_20220919_0-225', envdir)\n",
    "\n",
    "envfiles"
   ]
  },
  {
   "cell_type": "code",
   "execution_count": 5,
   "id": "1d0530bd",
   "metadata": {
    "scrolled": true
   },
   "outputs": [
    {
     "name": "stdout",
     "output_type": "stream",
     "text": [
      "(-0.0, 0.0)\n",
      "(-1.1, 1.1)\n",
      "(-1.5, 1.5)\n",
      "(-1.75, 1.75)\n",
      "(-2.0, 2.0)\n",
      "(-2.25, 2.25)\n",
      "(-2.5, 2.5)\n",
      "(-2.75, 2.75)\n",
      "(-3.0, 3.0)\n",
      "(-3.25, 3.25)\n",
      "(-3.5, 3.5)\n",
      "(-3.75, 3.75)\n"
     ]
    }
   ],
   "source": [
    "envdata = {}\n",
    "for f in envfiles:\n",
    "    val = float(op.basename(f).split(\"_\")[-1].split('.txt')[0])\n",
    "    \n",
    "    envdata[val] = -val, val\n",
    "    \n",
    "    print(envdata[val])"
   ]
  },
  {
   "cell_type": "markdown",
   "id": "eceb152c",
   "metadata": {},
   "source": [
    "# get a list of seeds"
   ]
  },
  {
   "cell_type": "code",
   "execution_count": 6,
   "id": "466b2091",
   "metadata": {},
   "outputs": [
    {
     "data": {
      "text/plain": [
       "2250"
      ]
     },
     "execution_count": 6,
     "metadata": {},
     "output_type": "execute_result"
    }
   ],
   "source": [
    "seeds = mvp00.get_seeds(slimdir)\n",
    "\n",
    "len(seeds)"
   ]
  },
  {
   "cell_type": "markdown",
   "id": "522ea913",
   "metadata": {},
   "source": [
    "# calc fitness to each scenario"
   ]
  },
  {
   "cell_type": "code",
   "execution_count": 7,
   "id": "9781c70a",
   "metadata": {},
   "outputs": [],
   "source": [
    "def calc_R_fitness(*args):\n",
    "    # also used in 02.05.01_estimate_fitness.ipynb\n",
    "    import subprocess\n",
    "    \n",
    "    args = [str(arg) for arg in args]\n",
    "    \n",
    "    Rscript = '/home/b.lind/anaconda3/envs/MVP_env_R4.0.3/bin/Rscript'\n",
    "#     script_file = '/home/b.lind/delete/fits_calc_ind.R'\n",
    "#     script_file = '/home/b.lind/delete/fits_calc_ind_all.R'\n",
    "    script_file = '/home/b.lind/code/MVP-offsets/01_src/MVP_climate_outlier_fitness_calculator.R'\n",
    "    \n",
    "    output = subprocess.check_output(\n",
    "        [\n",
    "            Rscript,\n",
    "            script_file,\n",
    "            *args\n",
    "        ]\n",
    "    )\n",
    "\n",
    "    pass"
   ]
  },
  {
   "cell_type": "code",
   "execution_count": 8,
   "id": "8ed69ab8",
   "metadata": {},
   "outputs": [
    {
     "data": {
      "text/html": [
       "<div>\n",
       "<style scoped>\n",
       "    .dataframe tbody tr th:only-of-type {\n",
       "        vertical-align: middle;\n",
       "    }\n",
       "\n",
       "    .dataframe tbody tr th {\n",
       "        vertical-align: top;\n",
       "    }\n",
       "\n",
       "    .dataframe thead th {\n",
       "        text-align: right;\n",
       "    }\n",
       "</style>\n",
       "<table border=\"1\" class=\"dataframe\">\n",
       "  <thead>\n",
       "    <tr style=\"text-align: right;\">\n",
       "      <th></th>\n",
       "      <th>level</th>\n",
       "      <th>reps</th>\n",
       "      <th>arch</th>\n",
       "      <th>demog_name</th>\n",
       "      <th>demog_level_sub</th>\n",
       "      <th>demog_level</th>\n",
       "      <th>MIG_x</th>\n",
       "      <th>MIG_y</th>\n",
       "      <th>xcline</th>\n",
       "      <th>ycline</th>\n",
       "      <th>demog</th>\n",
       "      <th>METAPOP_SIDE_x</th>\n",
       "      <th>METAPOP_SIDE_y</th>\n",
       "      <th>Nequal</th>\n",
       "      <th>isVariableM</th>\n",
       "      <th>MIG_breaks</th>\n",
       "      <th>arch_level_sub</th>\n",
       "      <th>arch_level</th>\n",
       "      <th>MU_base</th>\n",
       "      <th>MU_QTL_proportion</th>\n",
       "      <th>SIGMA_QTN_1</th>\n",
       "      <th>SIGMA_QTN_2</th>\n",
       "      <th>SIGMA_K_1</th>\n",
       "      <th>SIGMA_K_2</th>\n",
       "      <th>N_traits</th>\n",
       "      <th>ispleiotropy</th>\n",
       "      <th>seed</th>\n",
       "    </tr>\n",
       "  </thead>\n",
       "  <tbody>\n",
       "    <tr>\n",
       "      <th>1231094</th>\n",
       "      <td>highly-polygenic_1-trait__Est-Clines_N-cline-c...</td>\n",
       "      <td>1</td>\n",
       "      <td>highly-polygenic_1-trait</td>\n",
       "      <td>Est-Clines_N-cline-center-to-edge_m-constant</td>\n",
       "      <td>N-cline-center-to-edge_m-constant</td>\n",
       "      <td>Est-Clines</td>\n",
       "      <td>0.49</td>\n",
       "      <td>0.07</td>\n",
       "      <td>linear</td>\n",
       "      <td>linear</td>\n",
       "      <td>Estuary</td>\n",
       "      <td>10</td>\n",
       "      <td>10</td>\n",
       "      <td>4</td>\n",
       "      <td>0</td>\n",
       "      <td>0</td>\n",
       "      <td>1-trait</td>\n",
       "      <td>highly-polygenic</td>\n",
       "      <td>1.000000e-07</td>\n",
       "      <td>0.25</td>\n",
       "      <td>0.002</td>\n",
       "      <td>0.002</td>\n",
       "      <td>0.5</td>\n",
       "      <td>0.5</td>\n",
       "      <td>1</td>\n",
       "      <td>0</td>\n",
       "      <td>1231094</td>\n",
       "    </tr>\n",
       "    <tr>\n",
       "      <th>1231095</th>\n",
       "      <td>highly-polygenic_1-trait__Est-Clines_N-cline-N...</td>\n",
       "      <td>1</td>\n",
       "      <td>highly-polygenic_1-trait</td>\n",
       "      <td>Est-Clines_N-cline-N-to-S_m-constant</td>\n",
       "      <td>N-cline-N-to-S_m-constant</td>\n",
       "      <td>Est-Clines</td>\n",
       "      <td>0.49</td>\n",
       "      <td>0.07</td>\n",
       "      <td>linear</td>\n",
       "      <td>linear</td>\n",
       "      <td>Estuary</td>\n",
       "      <td>10</td>\n",
       "      <td>10</td>\n",
       "      <td>2</td>\n",
       "      <td>0</td>\n",
       "      <td>0</td>\n",
       "      <td>1-trait</td>\n",
       "      <td>highly-polygenic</td>\n",
       "      <td>1.000000e-07</td>\n",
       "      <td>0.25</td>\n",
       "      <td>0.002</td>\n",
       "      <td>0.002</td>\n",
       "      <td>0.5</td>\n",
       "      <td>0.5</td>\n",
       "      <td>1</td>\n",
       "      <td>0</td>\n",
       "      <td>1231095</td>\n",
       "    </tr>\n",
       "  </tbody>\n",
       "</table>\n",
       "</div>"
      ],
      "text/plain": [
       "                                                     level  reps  \\\n",
       "1231094  highly-polygenic_1-trait__Est-Clines_N-cline-c...     1   \n",
       "1231095  highly-polygenic_1-trait__Est-Clines_N-cline-N...     1   \n",
       "\n",
       "                             arch  \\\n",
       "1231094  highly-polygenic_1-trait   \n",
       "1231095  highly-polygenic_1-trait   \n",
       "\n",
       "                                           demog_name  \\\n",
       "1231094  Est-Clines_N-cline-center-to-edge_m-constant   \n",
       "1231095          Est-Clines_N-cline-N-to-S_m-constant   \n",
       "\n",
       "                           demog_level_sub demog_level  MIG_x  MIG_y  xcline  \\\n",
       "1231094  N-cline-center-to-edge_m-constant  Est-Clines   0.49   0.07  linear   \n",
       "1231095          N-cline-N-to-S_m-constant  Est-Clines   0.49   0.07  linear   \n",
       "\n",
       "         ycline    demog  METAPOP_SIDE_x  METAPOP_SIDE_y  Nequal  isVariableM  \\\n",
       "1231094  linear  Estuary              10              10       4            0   \n",
       "1231095  linear  Estuary              10              10       2            0   \n",
       "\n",
       "         MIG_breaks arch_level_sub        arch_level       MU_base  \\\n",
       "1231094           0        1-trait  highly-polygenic  1.000000e-07   \n",
       "1231095           0        1-trait  highly-polygenic  1.000000e-07   \n",
       "\n",
       "         MU_QTL_proportion  SIGMA_QTN_1  SIGMA_QTN_2  SIGMA_K_1  SIGMA_K_2  \\\n",
       "1231094               0.25        0.002        0.002        0.5        0.5   \n",
       "1231095               0.25        0.002        0.002        0.5        0.5   \n",
       "\n",
       "         N_traits  ispleiotropy     seed  \n",
       "1231094         1             0  1231094  \n",
       "1231095         1             0  1231095  "
      ]
     },
     "execution_count": 8,
     "metadata": {},
     "output_type": "execute_result"
    }
   ],
   "source": [
    "params = mvp10.read_params_file('/work/lotterhos/MVP-NonClinalAF/src')\n",
    "\n",
    "params.head(2)"
   ]
  },
  {
   "cell_type": "code",
   "execution_count": 9,
   "id": "2813af22",
   "metadata": {},
   "outputs": [
    {
     "name": "stderr",
     "output_type": "stream",
     "text": [
      "100%|███████████████| 2250/2250 [00:51<00:00, 43.45it/s]\n"
     ]
    },
    {
     "name": "stdout",
     "output_type": "stream",
     "text": [
      "\u001b[1m\n",
      "Watching 27000 jobs ...\u001b[0m\n"
     ]
    },
    {
     "name": "stderr",
     "output_type": "stream",
     "text": [
      "100%|███████████████| 27000/27000 [18:01<00:00, 24.96it/s] \n"
     ]
    }
   ],
   "source": [
    "jobs = []\n",
    "args = []\n",
    "for seed in pbar(seeds):\n",
    "    for climate_val, (opt0, opt1) in envdata.items():\n",
    "        outfile = op.join(fitness_dir, f'{seed}_{climate_val}.txt')\n",
    "        \n",
    "        n_traits = params.loc[seed, 'N_traits']\n",
    "        \n",
    "        if n_traits == 2:\n",
    "            arg = (seed, outfile, opt1, opt0)\n",
    "        \n",
    "        else:\n",
    "            arg = (seed, outfile, opt1)\n",
    "            \n",
    "        args.append(arg)\n",
    "        \n",
    "        jobs.append(\n",
    "            lview.apply_async(\n",
    "                calc_R_fitness, *(arg)\n",
    "            )\n",
    "        )\n",
    "        \n",
    "watch_async(jobs)"
   ]
  },
  {
   "cell_type": "code",
   "execution_count": null,
   "id": "8db0c410",
   "metadata": {},
   "outputs": [],
   "source": []
  },
  {
   "cell_type": "code",
   "execution_count": 10,
   "id": "2d5826bc",
   "metadata": {},
   "outputs": [],
   "source": [
    "# make sure no errors\n",
    "for j in jobs:\n",
    "    x = j.r  # returns None if no error"
   ]
  },
  {
   "cell_type": "code",
   "execution_count": null,
   "id": "94a81ec0",
   "metadata": {},
   "outputs": [],
   "source": []
  },
  {
   "cell_type": "code",
   "execution_count": null,
   "id": "a2b3e5ee",
   "metadata": {},
   "outputs": [],
   "source": []
  },
  {
   "cell_type": "code",
   "execution_count": null,
   "id": "65806538",
   "metadata": {},
   "outputs": [],
   "source": []
  },
  {
   "cell_type": "code",
   "execution_count": null,
   "id": "00bab165",
   "metadata": {},
   "outputs": [],
   "source": []
  },
  {
   "cell_type": "code",
   "execution_count": null,
   "id": "aaad046d",
   "metadata": {},
   "outputs": [],
   "source": []
  },
  {
   "cell_type": "code",
   "execution_count": null,
   "id": "d9d11148",
   "metadata": {},
   "outputs": [],
   "source": []
  },
  {
   "cell_type": "code",
   "execution_count": null,
   "id": "37aaee15",
   "metadata": {},
   "outputs": [],
   "source": []
  },
  {
   "cell_type": "code",
   "execution_count": null,
   "id": "57ac1fb4",
   "metadata": {},
   "outputs": [],
   "source": []
  },
  {
   "cell_type": "code",
   "execution_count": null,
   "id": "dcbc8b19",
   "metadata": {},
   "outputs": [],
   "source": []
  },
  {
   "cell_type": "code",
   "execution_count": null,
   "id": "73631c97",
   "metadata": {},
   "outputs": [],
   "source": []
  },
  {
   "cell_type": "code",
   "execution_count": null,
   "id": "06466ac9",
   "metadata": {},
   "outputs": [],
   "source": []
  },
  {
   "cell_type": "code",
   "execution_count": null,
   "id": "ed76e113",
   "metadata": {},
   "outputs": [],
   "source": []
  }
 ],
 "metadata": {
  "kernelspec": {
   "display_name": "Python 3 (ipykernel)",
   "language": "python",
   "name": "python3"
  },
  "language_info": {
   "codemirror_mode": {
    "name": "ipython",
    "version": 3
   },
   "file_extension": ".py",
   "mimetype": "text/x-python",
   "name": "python",
   "nbconvert_exporter": "python",
   "pygments_lexer": "ipython3",
   "version": "3.8.5"
  }
 },
 "nbformat": 4,
 "nbformat_minor": 5
}
