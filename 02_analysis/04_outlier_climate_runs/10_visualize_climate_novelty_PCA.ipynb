{
 "cells": [
  {
   "cell_type": "markdown",
   "id": "3ad366f5",
   "metadata": {},
   "source": [
    "<a id='home'></a>\n",
    "### purpose\n",
    "\n",
    "visualize novelty + within-landscape climates in one PCA\n",
    "\n",
    "### outline\n",
    "\n",
    "1. [code](#code)\n",
    "1. [figures](#figures)"
   ]
  },
  {
   "cell_type": "code",
   "execution_count": 1,
   "id": "d02ce333",
   "metadata": {},
   "outputs": [
    {
     "name": "stdout",
     "output_type": "stream",
     "text": [
      "#########################################################\n",
      "Today:\tNovember 01, 2023 - 12:30:30 EDT\n",
      "python version: 3.8.5\n",
      "conda env: mvp_env\n",
      "\n",
      "Current commit of \u001b[1mpythonimports\u001b[0m:\n",
      "\u001b[33mcommit 419895d157c97717f835390196c13cf973d25eba\u001b[m  \n",
      "Merge: e20434f 1e09b6c  \n",
      "Author: Brandon Lind <lind.brandon.m@gmail.com>\n",
      "\n",
      "Current commit of \u001b[94m\u001b[1mMVP_offsets\u001b[0m\u001b[0m:\n",
      "\u001b[33mcommit 782ee79eada654ce337935bf61a0984cd76dd9cf\u001b[m  \n",
      "Author: Brandon Lind <lind.brandon.m@gmail.com>  \n",
      "Date:   Wed Oct 4 14:13:12 2023 -0400\n",
      "#########################################################\n",
      "\n"
     ]
    },
    {
     "data": {
      "text/html": [
       "<details>\n",
       "<summary>Click to view session information</summary>\n",
       "<pre>\n",
       "-----\n",
       "MVP_summary_functions       NA\n",
       "balance_queue               NA\n",
       "cartopy                     0.20.2\n",
       "ipyparallel                 7.1.0\n",
       "matplotlib                  3.5.2\n",
       "myclasses                   NA\n",
       "myfigs                      NA\n",
       "mymaps                      NA\n",
       "myslurm                     NA\n",
       "numpy                       1.22.1\n",
       "pandas                      1.3.5\n",
       "pythonimports               NA\n",
       "seaborn                     0.11.2\n",
       "session_info                1.0.0\n",
       "sklearn                     1.0.2\n",
       "tqdm                        4.62.1\n",
       "-----\n",
       "</pre>\n",
       "<details>\n",
       "<summary>Click to view modules imported as dependencies</summary>\n",
       "<pre>\n",
       "MVP_01_train_gradient_forests       NA\n",
       "MVP_10_train_lfmm2_offset           NA\n",
       "PIL                                 8.4.0\n",
       "backcall                            0.2.0\n",
       "beta_ufunc                          NA\n",
       "binom_ufunc                         NA\n",
       "bottleneck                          1.3.2\n",
       "certifi                             2023.05.07\n",
       "cffi                                1.15.0\n",
       "cycler                              0.10.0\n",
       "cython_runtime                      NA\n",
       "dateutil                            2.8.2\n",
       "debugpy                             1.5.1\n",
       "decorator                           5.1.1\n",
       "defusedxml                          0.7.1\n",
       "entrypoints                         0.4\n",
       "fontTools                           4.29.1\n",
       "ipykernel                           6.8.0\n",
       "ipython_genutils                    0.2.0\n",
       "ipywidgets                          7.6.5\n",
       "jedi                                0.18.1\n",
       "joblib                              0.17.0\n",
       "kiwisolver                          1.3.2\n",
       "matplotlib_venn                     0.11.6\n",
       "mpl_toolkits                        NA\n",
       "nbinom_ufunc                        NA\n",
       "numexpr                             2.8.1\n",
       "packaging                           21.3\n",
       "parso                               0.8.3\n",
       "patsy                               0.5.2\n",
       "pdf2image                           NA\n",
       "pexpect                             4.8.0\n",
       "pickleshare                         0.7.5\n",
       "pkg_resources                       NA\n",
       "prompt_toolkit                      3.0.26\n",
       "psutil                              5.9.0\n",
       "ptyprocess                          0.7.0\n",
       "pydev_ipython                       NA\n",
       "pydevconsole                        NA\n",
       "pydevd                              2.6.0\n",
       "pydevd_concurrency_analyser         NA\n",
       "pydevd_file_utils                   NA\n",
       "pydevd_plugins                      NA\n",
       "pydevd_tracing                      NA\n",
       "pygments                            2.11.2\n",
       "pyparsing                           3.0.7\n",
       "pyproj                              3.3.0\n",
       "pytz                                2021.3\n",
       "scipy                               1.7.3\n",
       "setuptools                          60.7.1\n",
       "shapefile                           2.2.0\n",
       "shapely                             1.8.0\n",
       "six                                 1.16.0\n",
       "statsmodels                         0.14.0\n",
       "storemagic                          NA\n",
       "threadpoolctl                       2.1.0\n",
       "tornado                             6.1\n",
       "traitlets                           5.1.1\n",
       "typing_extensions                   NA\n",
       "wcwidth                             0.2.5\n",
       "zmq                                 22.3.0\n",
       "</pre>\n",
       "</details> <!-- seems like this ends pre, so might as well be explicit -->\n",
       "<pre>\n",
       "-----\n",
       "IPython             7.31.1\n",
       "jupyter_client      7.1.2\n",
       "jupyter_core        4.9.1\n",
       "notebook            6.4.8\n",
       "-----\n",
       "Python 3.8.5 (default, Sep  4 2020, 07:30:14) [GCC 7.3.0]\n",
       "Linux-3.10.0-1160.25.1.el7.x86_64-x86_64-with-glibc2.10\n",
       "-----\n",
       "Session information updated at 2023-11-01 12:30\n",
       "</pre>\n",
       "</details>"
      ],
      "text/plain": [
       "<IPython.core.display.HTML object>"
      ]
     },
     "execution_count": 1,
     "metadata": {},
     "output_type": "execute_result"
    }
   ],
   "source": [
    "from pythonimports import *\n",
    "from myfigs import save_pdf\n",
    "\n",
    "import MVP_summary_functions as mvp\n",
    "\n",
    "import seaborn as  sns\n",
    "from sklearn.decomposition import PCA\n",
    "from sklearn.preprocessing import StandardScaler\n",
    "import itertools as it\n",
    "from matplotlib.lines import Line2D\n",
    "plt.rcParams.update({'font.family' : 'serif'})\n",
    "\n",
    "summarydir = '/work/lotterhos/MVP-Offsets/run_20220919/summaries'\n",
    "figdir = makedir(f'{summarydir}/04_outlier_climate_runs/10_visualize_climate_novelty_PCA/figs')\n",
    "\n",
    "mvp.latest_commit()\n",
    "session_info.show()"
   ]
  },
  {
   "cell_type": "markdown",
   "id": "415601cc",
   "metadata": {},
   "source": [
    "<a id='code'></a>\n",
    "# code\n",
    "[top](#home)"
   ]
  },
  {
   "cell_type": "code",
   "execution_count": 2,
   "id": "6deb665b",
   "metadata": {},
   "outputs": [],
   "source": [
    "def get_envdata(ntraits):\n",
    "    \"\"\"Retrieve appropriate environmental data given `ntraits`.\n",
    "    \n",
    "    Parameters\n",
    "    ----------\n",
    "    ntraits : int\n",
    "        the type of simulations to include (the number of traits under selection)\n",
    "    \"\"\"\n",
    "    if ntraits in ['1-trait', '2-trait']:\n",
    "        reg_dir = '/home/b.lind/offsets/run_20220919_0-225/gradient_forests/training/training_files'\n",
    "        env_file = f'{reg_dir}/1231094_envfile_GFready_pooled.txt'\n",
    "    else:\n",
    "        tutorial_dir = '/home/b.lind/offsets/run_20220919_tutorial/gradient_forests/training/training_files'\n",
    "        env_file = f'{tutorial_dir}/tutorial_envfile_GFready_pooled.txt'\n",
    "    \n",
    "    envdata = pd.read_table(env_file, index_col=0)\n",
    "    \n",
    "    if ntraits == '1-trait':\n",
    "        envdata = x.temp_opt.to_frame()\n",
    "    \n",
    "    return envdata\n",
    "\n",
    "\n",
    "def standardize_envdata(envdata):\n",
    "    \"\"\"Center / standardize each variable in `envdata`.\n",
    "    \n",
    "    Parameters\n",
    "    ----------\n",
    "    envdata : pd.DataFrame\n",
    "        columns for environments, rows for populations \n",
    "    \"\"\"\n",
    "    # fit scaler to within-landscape distribution of env values\n",
    "    scaler = StandardScaler()\n",
    "    scaler.fit(envdata)\n",
    "    \n",
    "    # center/scale envdata\n",
    "    std_data = pd.DataFrame(\n",
    "        scaler.transform(envdata),\n",
    "        index=envdata.index,\n",
    "        columns=envdata.columns\n",
    "    )\n",
    "    \n",
    "    return std_data, scaler\n",
    "\n",
    "\n",
    "def get_novelty_files(ntraits):\n",
    "    \"\"\"Retrieve files that give environmental values for Climate Novelty scenarios.\n",
    "    \n",
    "    Parameters\n",
    "    ----------\n",
    "    ntraits : int\n",
    "        the type of simulations to include (the number of traits under selection)\n",
    "    \"\"\"\n",
    "    # get novelty climate scenario directories\n",
    "    if ntraits in ['1-trait', '2-trait']:\n",
    "        novelty_dir = '/home/b.lind/offsets/climate_outlier_runs/garden_files'\n",
    "    else:\n",
    "        assert ntraits == '6-trait'\n",
    "        novelty_dir = '/home/b.lind/offsets/climate_outlier_runs/tutorial/garden_files'\n",
    "        \n",
    "    novelty_files = fs(novelty_dir, startswith='envfile', endswith='.txt')\n",
    "    assert len(novelty_files) == 12  # 11 novelty + one climate center\n",
    "    \n",
    "    return novelty_files\n",
    "\n",
    "\n",
    "def standardize_novelty_vals(novelty_files, scaler, envdata, std_envdata):\n",
    "    \"\"\"Using the distribution of within-landscape envs, `scaler`, transform vals in each novelty_file.\"\"\"\n",
    "    novelty_vals = []\n",
    "    for i, g in enumerate(novelty_files):\n",
    "#         print(op.basename(g).split(\"_\")[-1].rstrip('.txt'))\n",
    "        novelty_data = pd.read_table(g, index_col=0)\n",
    "    \n",
    "        if len(scaler.get_feature_names_out()) == 1:\n",
    "            novelty_data = novelty_data.temp_opt.to_frame()\n",
    "\n",
    "        df = pd.DataFrame(\n",
    "            scaler.transform(\n",
    "                novelty_data\n",
    "            ),\n",
    "            index=envdata.index,\n",
    "            columns=envdata.columns\n",
    "        )\n",
    "\n",
    "        for col in df.columns:\n",
    "            assert len(df[col].unique()) == 1\n",
    "\n",
    "        novelty_vals.append(df.iloc[0][std_envdata.columns.tolist()].to_frame().T)\n",
    "    \n",
    "    return pd.concat(novelty_vals)\n",
    "\n",
    "\n",
    "def get_PCA_loadings(pca_data, n_components=None):\n",
    "    \"\"\"Fit PCA to data.\n",
    "    \n",
    "    Parameters\n",
    "    ----------\n",
    "    pca_data : pd.DataFrame\n",
    "        centered / standardized environmental data (columns=envs, rows=pops)\n",
    "    n_components : int\n",
    "        the number of PCs to estimate\n",
    "    \"\"\"\n",
    "    pca = PCA(n_components=n_components)\n",
    "    pca.fit(pca_data)\n",
    "\n",
    "    loadings_pca = pca.transform(pca_data)\n",
    "\n",
    "    pca_loadings = pd.DataFrame(loadings_pca, index=pca_data.index)\n",
    "    \n",
    "    return pca_loadings, pca\n",
    "\n",
    "\n",
    "def create_PCA_figs(pca_loadings, pca_model, ntraits):\n",
    "    \"\"\"From PCA loadings create a scatter plot.\n",
    "    \n",
    "    Parameters\n",
    "    ----------\n",
    "    pca_loadings : pd.DataFrame\n",
    "        coordinates of each population (environment) in PC space (columns = PCs, rows = pops)\n",
    "    pca_model : i forgot to check the type\n",
    "        output from sklearn.decomposition.PCA.fit - used to get % variance\n",
    "    ntraits : int\n",
    "        the type of simulations to include (the number of traits under selection)\n",
    "    \"\"\"\n",
    "    for xcol, ycol in it.combinations(pca_loadings.columns[:3], r=2):\n",
    "        fig, ax = plt.subplots(figsize=(5, 5))\n",
    "\n",
    "        for row in pca_loadings.index:  # plot each dot individually\n",
    "            ax.scatter(\n",
    "                x=pca_loadings.loc[row, xcol],\n",
    "                y=pca_loadings.loc[row, ycol],\n",
    "                c='k' if row < 100 else 'blue',\n",
    "                marker='o' if row < 100 else '*'\n",
    "            )\n",
    "            \n",
    "        varexp_x, varexp_y = [\n",
    "            '{:.2f}'.format(pca_model.explained_variance_ratio_[col] * 100)\n",
    "#             round(pca_model.explained_variance_ratio_[col], 4) * 100\n",
    "            for col in [xcol, ycol]\n",
    "        ]\n",
    "\n",
    "        ax.axes.set_xlabel(f'PCA {xcol + 1} ({varexp_x}%)', fontsize=12)\n",
    "        ax.axes.set_ylabel(f'PCA {ycol + 1} ({varexp_y}%)', fontsize=12)\n",
    "        ax.axes.set_title(ntraits)\n",
    "\n",
    "        # add legend\n",
    "        handles = [\n",
    "            Line2D([], [], marker='*', color='blue', markerfacecolor='blue', linewidth=0,\n",
    "                   markeredgecolor=None, label='Novel Climate', markersize=12),\n",
    "\n",
    "            Line2D([], [], marker='o', color='k', markerfacecolor='k', linewidth=0,\n",
    "                   markeredgecolor=None, label='Training Climate', markersize=12),\n",
    "        ]\n",
    "\n",
    "        leg = fig.legend(handles=handles, ncol=1, title='Climate Source', fancybox=True, shadow=False,\n",
    "                         facecolor='whitesmoke', loc='center left', bbox_to_anchor=(1, 0.55), fontsize=12)\n",
    "\n",
    "        plt.setp(leg.get_title(), family='serif', fontsize=13)\n",
    "\n",
    "        fig.add_artist(leg)\n",
    "\n",
    "        plt.tight_layout()\n",
    "        \n",
    "        save_pdf(f'{figdir}/{ntraits}_{xcol}_{ycol}_novelty_PCA.pdf')\n",
    "\n",
    "        plt.show()\n",
    "\n",
    "    pass\n",
    "\n",
    "\n",
    "def main(ntraits):\n",
    "    \"\"\"Wrapper of other functions to create PCA figures of environmental data.\n",
    "    \n",
    "    Parameters\n",
    "    ----------\n",
    "    ntraits : int\n",
    "        the type of simulations to include (the number of traits under selection)\n",
    "    \"\"\"\n",
    "    envdata = get_envdata(ntraits)\n",
    "    \n",
    "    std_envdata, scaler = standardize_envdata(envdata)\n",
    "    \n",
    "    novelty_files = get_novelty_files(ntraits)\n",
    "    \n",
    "    novelty_values = standardize_novelty_vals(novelty_files, scaler, envdata, std_envdata)\n",
    "    \n",
    "    # combined standardized values from within-landscape and novelty scenarios\n",
    "    pca_data = pd.concat([std_envdata, novelty_values]).reset_index(drop=True)\n",
    "    \n",
    "    pca_loadings, pca_model = get_PCA_loadings(pca_data)\n",
    "    \n",
    "    create_PCA_figs(pca_loadings, pca_model, ntraits)\n",
    "    \n",
    "    pass\n"
   ]
  },
  {
   "cell_type": "markdown",
   "id": "5125265c",
   "metadata": {},
   "source": [
    "<a id='figures'></a>\n",
    "# Figures\n",
    "\n",
    "[top](#home)"
   ]
  },
  {
   "cell_type": "markdown",
   "id": "83c2e04e",
   "metadata": {},
   "source": [
    "### 2-trait"
   ]
  },
  {
   "cell_type": "code",
   "execution_count": 3,
   "id": "e859c0b9",
   "metadata": {
    "scrolled": false
   },
   "outputs": [
    {
     "name": "stdout",
     "output_type": "stream",
     "text": [
      "\u001b[1mSaved to: \u001b[0m /work/lotterhos/MVP-Offsets/run_20220919/summaries/04_outlier_climate_runs/10_visualize_climate_novelty_PCA/figs/2-trait_0_1_novelty_PCA.pdf\n"
     ]
    },
    {
     "data": {
      "image/png": "[encoded data removed]",
      "text/plain": [
       "<Figure size 360x360 with 1 Axes>"
      ]
     },
     "metadata": {
      "needs_background": "light"
     },
     "output_type": "display_data"
    }
   ],
   "source": [
    "main('2-trait')"
   ]
  },
  {
   "cell_type": "markdown",
   "id": "a99c0cd1",
   "metadata": {},
   "source": [
    "### 6-trait"
   ]
  },
  {
   "cell_type": "code",
   "execution_count": 4,
   "id": "7af60cf9",
   "metadata": {},
   "outputs": [
    {
     "name": "stdout",
     "output_type": "stream",
     "text": [
      "\u001b[1mSaved to: \u001b[0m /work/lotterhos/MVP-Offsets/run_20220919/summaries/04_outlier_climate_runs/10_visualize_climate_novelty_PCA/figs/6-trait_0_1_novelty_PCA.pdf\n"
     ]
    },
    {
     "data": {
      "image/png": "[encoded data removed]",
      "text/plain": [
       "<Figure size 360x360 with 1 Axes>"
      ]
     },
     "metadata": {
      "needs_background": "light"
     },
     "output_type": "display_data"
    },
    {
     "name": "stdout",
     "output_type": "stream",
     "text": [
      "\u001b[1mSaved to: \u001b[0m /work/lotterhos/MVP-Offsets/run_20220919/summaries/04_outlier_climate_runs/10_visualize_climate_novelty_PCA/figs/6-trait_0_2_novelty_PCA.pdf\n"
     ]
    },
    {
     "data": {
      "image/png": "[encoded data removed]",
      "text/plain": [
       "<Figure size 360x360 with 1 Axes>"
      ]
     },
     "metadata": {
      "needs_background": "light"
     },
     "output_type": "display_data"
    },
    {
     "name": "stdout",
     "output_type": "stream",
     "text": [
      "\u001b[1mSaved to: \u001b[0m /work/lotterhos/MVP-Offsets/run_20220919/summaries/04_outlier_climate_runs/10_visualize_climate_novelty_PCA/figs/6-trait_1_2_novelty_PCA.pdf\n"
     ]
    },
    {
     "data": {
      "image/png": "[encoded data removed]",
      "text/plain": [
       "<Figure size 360x360 with 1 Axes>"
      ]
     },
     "metadata": {
      "needs_background": "light"
     },
     "output_type": "display_data"
    }
   ],
   "source": [
    "main('6-trait')"
   ]
  },
  {
   "cell_type": "code",
   "execution_count": null,
   "id": "710dd395",
   "metadata": {},
   "outputs": [],
   "source": []
  },
  {
   "cell_type": "code",
   "execution_count": null,
   "id": "9aea3282",
   "metadata": {},
   "outputs": [],
   "source": []
  },
  {
   "cell_type": "code",
   "execution_count": null,
   "id": "9a149184",
   "metadata": {},
   "outputs": [],
   "source": []
  },
  {
   "cell_type": "code",
   "execution_count": null,
   "id": "d91dc90e",
   "metadata": {},
   "outputs": [],
   "source": []
  },
  {
   "cell_type": "code",
   "execution_count": null,
   "id": "82dd6284",
   "metadata": {},
   "outputs": [],
   "source": []
  },
  {
   "cell_type": "code",
   "execution_count": null,
   "id": "a1d5121e",
   "metadata": {},
   "outputs": [],
   "source": []
  },
  {
   "cell_type": "code",
   "execution_count": null,
   "id": "84b6f1db",
   "metadata": {},
   "outputs": [],
   "source": []
  },
  {
   "cell_type": "code",
   "execution_count": null,
   "id": "bbe09f23",
   "metadata": {},
   "outputs": [],
   "source": []
  },
  {
   "cell_type": "code",
   "execution_count": null,
   "id": "88b0bdbb",
   "metadata": {},
   "outputs": [],
   "source": []
  },
  {
   "cell_type": "code",
   "execution_count": null,
   "id": "bb4014a3",
   "metadata": {},
   "outputs": [],
   "source": []
  },
  {
   "cell_type": "code",
   "execution_count": null,
   "id": "7d85f808",
   "metadata": {},
   "outputs": [],
   "source": []
  },
  {
   "cell_type": "code",
   "execution_count": null,
   "id": "f9ce4fb9",
   "metadata": {},
   "outputs": [],
   "source": []
  },
  {
   "cell_type": "code",
   "execution_count": null,
   "id": "8b421c8c",
   "metadata": {},
   "outputs": [],
   "source": []
  },
  {
   "cell_type": "code",
   "execution_count": null,
   "id": "8f3beab5",
   "metadata": {},
   "outputs": [],
   "source": []
  },
  {
   "cell_type": "code",
   "execution_count": null,
   "id": "ed75935c",
   "metadata": {},
   "outputs": [],
   "source": []
  },
  {
   "cell_type": "code",
   "execution_count": null,
   "id": "24997bac",
   "metadata": {},
   "outputs": [],
   "source": []
  },
  {
   "cell_type": "code",
   "execution_count": null,
   "id": "41761e25",
   "metadata": {},
   "outputs": [],
   "source": []
  },
  {
   "cell_type": "code",
   "execution_count": null,
   "id": "1d684e8d",
   "metadata": {},
   "outputs": [],
   "source": []
  },
  {
   "cell_type": "code",
   "execution_count": null,
   "id": "bc90a8e1",
   "metadata": {},
   "outputs": [],
   "source": []
  }
 ],
 "metadata": {
  "kernelspec": {
   "display_name": "Python 3 (ipykernel)",
   "language": "python",
   "name": "python3"
  },
  "language_info": {
   "codemirror_mode": {
    "name": "ipython",
    "version": 3
   },
   "file_extension": ".py",
   "mimetype": "text/x-python",
   "name": "python",
   "nbconvert_exporter": "python",
   "pygments_lexer": "ipython3",
   "version": "3.8.5"
  }
 },
 "nbformat": 4,
 "nbformat_minor": 5
}
