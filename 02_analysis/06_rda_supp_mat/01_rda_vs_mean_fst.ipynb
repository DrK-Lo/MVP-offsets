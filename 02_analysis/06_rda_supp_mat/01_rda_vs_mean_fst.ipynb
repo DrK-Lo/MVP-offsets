{
 "cells": [
  {
   "cell_type": "markdown",
   "id": "6e9af727",
   "metadata": {},
   "source": [
    "### purpose\n",
    "\n",
    "plot RDA performance vs mean FST - best case scenario data"
   ]
  },
  {
   "cell_type": "code",
   "execution_count": 1,
   "id": "d5a63260",
   "metadata": {},
   "outputs": [
    {
     "name": "stdout",
     "output_type": "stream",
     "text": [
      "#########################################################\n",
      "Today:\tAugust 15, 2023 - 12:13:36 EDT\n",
      "python version: 3.8.5\n",
      "conda env: mvp_env\n",
      "\n",
      "Current commit of \u001b[1mpythonimports\u001b[0m:\n",
      "\u001b[33mcommit 9493334506a1f2926fba0734fa74ba2f87194611\u001b[m  \n",
      "Author: Brandon Lind <lind.brandon.m@gmail.com>  \n",
      "Date:   Fri Jun 30 09:41:00 2023 -0400\n",
      "\n",
      "Current commit of \u001b[94m\u001b[1mMVP_offsets\u001b[0m\u001b[0m:\n",
      "\u001b[33mcommit dcaf4a98ad33a59e3d371eed0bb26b1885505dcf\u001b[m  \n",
      "Author: Brandon Lind <lind.brandon.m@gmail.com>  \n",
      "Date:   Sat Jun 24 12:25:29 2023 -0400\n",
      "#########################################################\n",
      "\n"
     ]
    },
    {
     "data": {
      "text/html": [
       "<details>\n",
       "<summary>Click to view session information</summary>\n",
       "<pre>\n",
       "-----\n",
       "MVP_summary_functions       NA\n",
       "balance_queue               NA\n",
       "cartopy                     0.20.2\n",
       "ipyparallel                 7.1.0\n",
       "matplotlib                  3.5.2\n",
       "myclasses                   NA\n",
       "myfigs                      NA\n",
       "mymaps                      NA\n",
       "myslurm                     NA\n",
       "numpy                       1.22.1\n",
       "pandas                      1.3.5\n",
       "pythonimports               NA\n",
       "session_info                1.0.0\n",
       "tqdm                        4.62.1\n",
       "-----\n",
       "</pre>\n",
       "<details>\n",
       "<summary>Click to view modules imported as dependencies</summary>\n",
       "<pre>\n",
       "PIL                         8.4.0\n",
       "backcall                    0.2.0\n",
       "beta_ufunc                  NA\n",
       "binom_ufunc                 NA\n",
       "bottleneck                  1.3.2\n",
       "certifi                     2023.05.07\n",
       "cffi                        1.15.0\n",
       "cycler                      0.10.0\n",
       "cython_runtime              NA\n",
       "dateutil                    2.8.2\n",
       "debugpy                     1.5.1\n",
       "decorator                   5.1.1\n",
       "defusedxml                  0.7.1\n",
       "entrypoints                 0.4\n",
       "fontTools                   4.29.1\n",
       "ipykernel                   6.8.0\n",
       "ipython_genutils            0.2.0\n",
       "ipywidgets                  7.6.5\n",
       "jedi                        0.18.1\n",
       "kiwisolver                  1.3.2\n",
       "matplotlib_venn             0.11.6\n",
       "mpl_toolkits                NA\n",
       "nbinom_ufunc                NA\n",
       "numexpr                     2.8.1\n",
       "packaging                   21.3\n",
       "parso                       0.8.3\n",
       "patsy                       0.5.2\n",
       "pdf2image                   NA\n",
       "pexpect                     4.8.0\n",
       "pickleshare                 0.7.5\n",
       "pkg_resources               NA\n",
       "prompt_toolkit              3.0.26\n",
       "psutil                      5.9.0\n",
       "ptyprocess                  0.7.0\n",
       "pydev_ipython               NA\n",
       "pydevconsole                NA\n",
       "pydevd                      2.6.0\n",
       "pydevd_concurrency_analyser NA\n",
       "pydevd_file_utils           NA\n",
       "pydevd_plugins              NA\n",
       "pydevd_tracing              NA\n",
       "pygments                    2.11.2\n",
       "pyparsing                   3.0.7\n",
       "pyproj                      3.3.0\n",
       "pytz                        2021.3\n",
       "scipy                       1.7.3\n",
       "seaborn                     0.11.2\n",
       "setuptools                  60.7.1\n",
       "shapefile                   2.2.0\n",
       "shapely                     1.8.0\n",
       "six                         1.16.0\n",
       "statsmodels                 0.14.0\n",
       "storemagic                  NA\n",
       "tornado                     6.1\n",
       "traitlets                   5.1.1\n",
       "wcwidth                     0.2.5\n",
       "zmq                         22.3.0\n",
       "</pre>\n",
       "</details> <!-- seems like this ends pre, so might as well be explicit -->\n",
       "<pre>\n",
       "-----\n",
       "IPython             7.31.1\n",
       "jupyter_client      7.1.2\n",
       "jupyter_core        4.9.1\n",
       "notebook            6.4.8\n",
       "-----\n",
       "Python 3.8.5 (default, Sep  4 2020, 07:30:14) [GCC 7.3.0]\n",
       "Linux-3.10.0-1160.25.1.el7.x86_64-x86_64-with-glibc2.10\n",
       "-----\n",
       "Session information updated at 2023-08-15 12:13\n",
       "</pre>\n",
       "</details>"
      ],
      "text/plain": [
       "<IPython.core.display.HTML object>"
      ]
     },
     "execution_count": 1,
     "metadata": {},
     "output_type": "execute_result"
    }
   ],
   "source": [
    "from pythonimports import *\n",
    "from myfigs import scatter2d\n",
    "\n",
    "import MVP_summary_functions as mvp\n",
    "\n",
    "mvp.latest_commit()\n",
    "session_info.show()"
   ]
  },
  {
   "cell_type": "code",
   "execution_count": 2,
   "id": "9dc2c435",
   "metadata": {
    "scrolled": true
   },
   "outputs": [
    {
     "name": "stdout",
     "output_type": "stream",
     "text": [
      "\u001b[92m\u001b[1mfiltering criteria:\n",
      "\u001b[0m\u001b[0m\u001b[1m\tuse_bcs_data = \u001b[0mTrue\n",
      "\u001b[1m\tperformance = \u001b[0mgarden_performance\n",
      "\u001b[1m\tnum_traits = \u001b[0m2\n",
      "\u001b[1m\tntraits = \u001b[0mNone\n",
      "\u001b[1m\tmarker_set = \u001b[0mall\n",
      "\u001b[1m\tremove_structcrxn = \u001b[0mFalse\n",
      "\u001b[1m\tkeep_nuisance = \u001b[0mFalse\n",
      "\u001b[1m\tremove_rda_outliers = \u001b[0mTrue\n"
     ]
    },
    {
     "name": "stderr",
     "output_type": "stream",
     "text": [
      "reading reps: 100%|███████████████| 10/10 [00:20<00:00,  2.00s/it]\n"
     ]
    },
    {
     "name": "stdout",
     "output_type": "stream",
     "text": [
      "\u001b[94m\u001b[1m0-225\u001b[0m\u001b[0m\n",
      "\t \u001b[1mRONA\u001b[0m num seeds =  180\n",
      "\t \u001b[1mlfmm2\u001b[0m num seeds =  180\n",
      "\t \u001b[1mGF\u001b[0m num seeds =  180\n",
      "\t \u001b[1mrda\u001b[0m num seeds =  180\n",
      "\n",
      "\n",
      "\u001b[94m\u001b[1m225-450\u001b[0m\u001b[0m\n",
      "\t \u001b[1mRONA\u001b[0m num seeds =  180\n",
      "\t \u001b[1mlfmm2\u001b[0m num seeds =  180\n",
      "\t \u001b[1mGF\u001b[0m num seeds =  180\n",
      "\t \u001b[1mrda\u001b[0m num seeds =  180\n",
      "\n",
      "\n",
      "\u001b[94m\u001b[1m450-675\u001b[0m\u001b[0m\n",
      "\t \u001b[1mRONA\u001b[0m num seeds =  180\n",
      "\t \u001b[1mlfmm2\u001b[0m num seeds =  180\n",
      "\t \u001b[1mGF\u001b[0m num seeds =  180\n",
      "\t \u001b[1mrda\u001b[0m num seeds =  180\n",
      "\n",
      "\n",
      "\u001b[94m\u001b[1m675-900\u001b[0m\u001b[0m\n",
      "\t \u001b[1mRONA\u001b[0m num seeds =  180\n",
      "\t \u001b[1mlfmm2\u001b[0m num seeds =  180\n",
      "\t \u001b[1mGF\u001b[0m num seeds =  180\n",
      "\t \u001b[1mrda\u001b[0m num seeds =  180\n",
      "\n",
      "\n",
      "\u001b[94m\u001b[1m900-1125\u001b[0m\u001b[0m\n",
      "\t \u001b[1mRONA\u001b[0m num seeds =  180\n",
      "\t \u001b[1mlfmm2\u001b[0m num seeds =  180\n",
      "\t \u001b[1mGF\u001b[0m num seeds =  180\n",
      "\t \u001b[1mrda\u001b[0m num seeds =  180\n",
      "\n",
      "\n",
      "\u001b[94m\u001b[1m1125-1350\u001b[0m\u001b[0m\n",
      "\t \u001b[1mRONA\u001b[0m num seeds =  180\n",
      "\t \u001b[1mlfmm2\u001b[0m num seeds =  180\n",
      "\t \u001b[1mGF\u001b[0m num seeds =  180\n",
      "\t \u001b[1mrda\u001b[0m num seeds =  180\n",
      "\n",
      "\n",
      "\u001b[94m\u001b[1m1350-1575\u001b[0m\u001b[0m\n",
      "\t \u001b[1mRONA\u001b[0m num seeds =  180\n",
      "\t \u001b[1mlfmm2\u001b[0m num seeds =  180\n",
      "\t \u001b[1mGF\u001b[0m num seeds =  180\n",
      "\t \u001b[1mrda\u001b[0m num seeds =  180\n",
      "\n",
      "\n",
      "\u001b[94m\u001b[1m1575-1800\u001b[0m\u001b[0m\n",
      "\t \u001b[1mRONA\u001b[0m num seeds =  180\n",
      "\t \u001b[1mlfmm2\u001b[0m num seeds =  180\n",
      "\t \u001b[1mGF\u001b[0m num seeds =  180\n",
      "\t \u001b[1mrda\u001b[0m num seeds =  180\n",
      "\n",
      "\n",
      "\u001b[94m\u001b[1m1800-2025\u001b[0m\u001b[0m\n",
      "\t \u001b[1mRONA\u001b[0m num seeds =  180\n",
      "\t \u001b[1mlfmm2\u001b[0m num seeds =  180\n",
      "\t \u001b[1mGF\u001b[0m num seeds =  180\n",
      "\t \u001b[1mrda\u001b[0m num seeds =  180\n",
      "\n",
      "\n",
      "\u001b[94m\u001b[1m2025-2250\u001b[0m\u001b[0m\n",
      "\t \u001b[1mRONA\u001b[0m num seeds =  180\n",
      "\t \u001b[1mlfmm2\u001b[0m num seeds =  180\n",
      "\t \u001b[1mGF\u001b[0m num seeds =  180\n",
      "\t \u001b[1mrda\u001b[0m num seeds =  180\n",
      "\n",
      "\n",
      "\n",
      " \u001b[1mRONA\u001b[0m df.shape = (360000, 16) num_seeds = 1800 num_reps = 10\n",
      "\n",
      " \u001b[1mlfmm2\u001b[0m df.shape = (180000, 17) num_seeds = 1800 num_reps = 10\n",
      "\n",
      " \u001b[1mGF\u001b[0m df.shape = (180000, 16) num_seeds = 1800 num_reps = 10\n",
      "\n",
      " \u001b[1mrda\u001b[0m df.shape = (360000, 18) num_seeds = 1800 num_reps = 10\n",
      "Function `combine_level_dicts` completed after : 0-00:00:23\n"
     ]
    }
   ],
   "source": [
    "all_scores = mvp.combine_level_dicts(use_bcs_data=True)"
   ]
  },
  {
   "cell_type": "code",
   "execution_count": 3,
   "id": "5b22c51f",
   "metadata": {},
   "outputs": [
    {
     "data": {
      "text/plain": [
       "(360000, 26)"
      ]
     },
     "execution_count": 3,
     "metadata": {},
     "output_type": "execute_result"
    }
   ],
   "source": [
    "rda = all_scores['rda'].copy()\n",
    "\n",
    "rda.shape"
   ]
  },
  {
   "cell_type": "code",
   "execution_count": 4,
   "id": "4c2acdca",
   "metadata": {},
   "outputs": [
    {
     "data": {
      "text/plain": [
       "array(['all'], dtype=object)"
      ]
     },
     "execution_count": 4,
     "metadata": {},
     "output_type": "execute_result"
    }
   ],
   "source": [
    "rda.marker_set.unique()"
   ]
  },
  {
   "cell_type": "code",
   "execution_count": 5,
   "id": "74c2d906",
   "metadata": {},
   "outputs": [
    {
     "data": {
      "text/plain": [
       "array(['0-225', '225-450', '450-675', '675-900', '900-1125', '1125-1350',\n",
       "       '1350-1575', '1575-1800', '1800-2025', '2025-2250'], dtype=object)"
      ]
     },
     "execution_count": 5,
     "metadata": {},
     "output_type": "execute_result"
    }
   ],
   "source": [
    "rda.rep.unique()"
   ]
  },
  {
   "cell_type": "markdown",
   "id": "593592fc",
   "metadata": {},
   "source": [
    "# get FSTs"
   ]
  },
  {
   "cell_type": "code",
   "execution_count": 6,
   "id": "1368f9bc",
   "metadata": {},
   "outputs": [],
   "source": [
    "summary = mvp.get_summary_data()"
   ]
  },
  {
   "cell_type": "markdown",
   "id": "84a8c216",
   "metadata": {},
   "source": [
    "# plot"
   ]
  },
  {
   "cell_type": "code",
   "execution_count": 7,
   "id": "6c4e2457",
   "metadata": {},
   "outputs": [],
   "source": [
    "rda['meanFST'] = rda.seed.map(summary.meanFst)"
   ]
  },
  {
   "cell_type": "code",
   "execution_count": null,
   "id": "75b9093d",
   "metadata": {},
   "outputs": [],
   "source": [
    "ax = scatter2d(rda.score,\n",
    "               rda.meanFST,\n",
    "               cmap='magma',\n",
    "               marginal_kws={'color' : 'gray'},\n",
    "               title='',\n",
    "               xlab='validation score',\n",
    "               ylab='mean FST')"
   ]
  },
  {
   "cell_type": "code",
   "execution_count": null,
   "id": "54528a64",
   "metadata": {},
   "outputs": [],
   "source": [
    "rda.score.corr(rda.meanFST, method='spearman')"
   ]
  },
  {
   "cell_type": "code",
   "execution_count": null,
   "id": "1e4497a6",
   "metadata": {},
   "outputs": [],
   "source": []
  },
  {
   "cell_type": "code",
   "execution_count": null,
   "id": "b2befac5",
   "metadata": {},
   "outputs": [],
   "source": []
  },
  {
   "cell_type": "code",
   "execution_count": null,
   "id": "63ce0e1c",
   "metadata": {},
   "outputs": [],
   "source": []
  },
  {
   "cell_type": "code",
   "execution_count": null,
   "id": "33c0e986",
   "metadata": {},
   "outputs": [],
   "source": []
  },
  {
   "cell_type": "code",
   "execution_count": null,
   "id": "7266f455",
   "metadata": {},
   "outputs": [],
   "source": []
  },
  {
   "cell_type": "code",
   "execution_count": null,
   "id": "175b93a2",
   "metadata": {},
   "outputs": [],
   "source": []
  },
  {
   "cell_type": "code",
   "execution_count": null,
   "id": "afbb165d",
   "metadata": {},
   "outputs": [],
   "source": []
  },
  {
   "cell_type": "code",
   "execution_count": null,
   "id": "0bb19472",
   "metadata": {},
   "outputs": [],
   "source": []
  },
  {
   "cell_type": "code",
   "execution_count": null,
   "id": "b63e47b7",
   "metadata": {},
   "outputs": [],
   "source": []
  },
  {
   "cell_type": "code",
   "execution_count": null,
   "id": "51832abe",
   "metadata": {},
   "outputs": [],
   "source": []
  },
  {
   "cell_type": "code",
   "execution_count": null,
   "id": "d8d4626d",
   "metadata": {},
   "outputs": [],
   "source": []
  },
  {
   "cell_type": "code",
   "execution_count": null,
   "id": "7479ea5d",
   "metadata": {},
   "outputs": [],
   "source": []
  },
  {
   "cell_type": "code",
   "execution_count": null,
   "id": "a831bcd2",
   "metadata": {},
   "outputs": [],
   "source": []
  },
  {
   "cell_type": "code",
   "execution_count": null,
   "id": "19d08fd9",
   "metadata": {},
   "outputs": [],
   "source": []
  },
  {
   "cell_type": "code",
   "execution_count": null,
   "id": "eec8eb1e",
   "metadata": {},
   "outputs": [],
   "source": []
  },
  {
   "cell_type": "code",
   "execution_count": null,
   "id": "14891171",
   "metadata": {},
   "outputs": [],
   "source": []
  },
  {
   "cell_type": "code",
   "execution_count": null,
   "id": "d9c8e661",
   "metadata": {},
   "outputs": [],
   "source": []
  }
 ],
 "metadata": {
  "kernelspec": {
   "display_name": "Python 3 (ipykernel)",
   "language": "python",
   "name": "python3"
  },
  "language_info": {
   "codemirror_mode": {
    "name": "ipython",
    "version": 3
   },
   "file_extension": ".py",
   "mimetype": "text/x-python",
   "name": "python",
   "nbconvert_exporter": "python",
   "pygments_lexer": "ipython3",
   "version": "3.8.5"
  }
 },
 "nbformat": 4,
 "nbformat_minor": 5
}
