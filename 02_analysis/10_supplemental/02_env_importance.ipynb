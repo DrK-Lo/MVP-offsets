{
 "cells": [
  {
   "cell_type": "markdown",
   "id": "27e5ebd0",
   "metadata": {},
   "source": [
    "### purpose\n",
    "\n",
    "extract environmental importance data from nuisance runs to see how GF handled correlated envs"
   ]
  },
  {
   "cell_type": "code",
   "execution_count": 1,
   "id": "eded5881",
   "metadata": {},
   "outputs": [
    {
     "name": "stdout",
     "output_type": "stream",
     "text": [
      "#########################################################\n",
      "Today:\tNovember 14, 2023 - 14:07:40 EST\n",
      "python version: 3.8.5\n",
      "conda env: mvp_env\n",
      "\n",
      "Current commit of \u001b[1mpythonimports\u001b[0m:\n",
      "\u001b[33mcommit 419895d157c97717f835390196c13cf973d25eba\u001b[m  \n",
      "Merge: e20434f 1e09b6c  \n",
      "Author: Brandon Lind <lind.brandon.m@gmail.com>\n",
      "\n",
      "Current commit of \u001b[94m\u001b[1mMVP_offsets\u001b[0m\u001b[0m:\n",
      "\u001b[33mcommit 947b68b2130080c7648ce4eb039c4dffacfd57d4\u001b[m  \n",
      "Author: Brandon Lind <lind.brandon.m@gmail.com>  \n",
      "Date:   Tue Nov 14 11:48:51 2023 -0500\n",
      "#########################################################\n",
      "\n"
     ]
    },
    {
     "data": {
      "text/html": [
       "<details>\n",
       "<summary>Click to view session information</summary>\n",
       "<pre>\n",
       "-----\n",
       "MVP_summary_functions       NA\n",
       "balance_queue               NA\n",
       "cartopy                     0.20.2\n",
       "ipyparallel                 7.1.0\n",
       "matplotlib                  3.5.2\n",
       "myclasses                   NA\n",
       "myfigs                      NA\n",
       "mymaps                      NA\n",
       "myslurm                     NA\n",
       "numpy                       1.22.1\n",
       "pandas                      1.3.5\n",
       "pythonimports               NA\n",
       "session_info                1.0.0\n",
       "tqdm                        4.62.1\n",
       "-----\n",
       "</pre>\n",
       "<details>\n",
       "<summary>Click to view modules imported as dependencies</summary>\n",
       "<pre>\n",
       "MVP_01_train_gradient_forests       NA\n",
       "MVP_10_train_lfmm2_offset           NA\n",
       "PIL                                 8.4.0\n",
       "backcall                            0.2.0\n",
       "beta_ufunc                          NA\n",
       "binom_ufunc                         NA\n",
       "bottleneck                          1.3.2\n",
       "certifi                             2023.05.07\n",
       "cffi                                1.15.0\n",
       "cycler                              0.10.0\n",
       "cython_runtime                      NA\n",
       "dateutil                            2.8.2\n",
       "debugpy                             1.5.1\n",
       "decorator                           5.1.1\n",
       "defusedxml                          0.7.1\n",
       "entrypoints                         0.4\n",
       "fontTools                           4.29.1\n",
       "ipykernel                           6.8.0\n",
       "ipython_genutils                    0.2.0\n",
       "ipywidgets                          7.6.5\n",
       "jedi                                0.18.1\n",
       "kiwisolver                          1.3.2\n",
       "matplotlib_venn                     0.11.6\n",
       "mpl_toolkits                        NA\n",
       "nbinom_ufunc                        NA\n",
       "numexpr                             2.8.1\n",
       "packaging                           21.3\n",
       "parso                               0.8.3\n",
       "patsy                               0.5.2\n",
       "pdf2image                           NA\n",
       "pexpect                             4.8.0\n",
       "pickleshare                         0.7.5\n",
       "pkg_resources                       NA\n",
       "prompt_toolkit                      3.0.26\n",
       "psutil                              5.9.0\n",
       "ptyprocess                          0.7.0\n",
       "pydev_ipython                       NA\n",
       "pydevconsole                        NA\n",
       "pydevd                              2.6.0\n",
       "pydevd_concurrency_analyser         NA\n",
       "pydevd_file_utils                   NA\n",
       "pydevd_plugins                      NA\n",
       "pydevd_tracing                      NA\n",
       "pygments                            2.11.2\n",
       "pyparsing                           3.0.7\n",
       "pyproj                              3.3.0\n",
       "pytz                                2021.3\n",
       "scipy                               1.7.3\n",
       "seaborn                             0.11.2\n",
       "setuptools                          60.7.1\n",
       "shapefile                           2.2.0\n",
       "shapely                             1.8.0\n",
       "six                                 1.16.0\n",
       "statsmodels                         0.14.0\n",
       "storemagic                          NA\n",
       "tornado                             6.1\n",
       "traitlets                           5.1.1\n",
       "wcwidth                             0.2.5\n",
       "zmq                                 22.3.0\n",
       "</pre>\n",
       "</details> <!-- seems like this ends pre, so might as well be explicit -->\n",
       "<pre>\n",
       "-----\n",
       "IPython             7.31.1\n",
       "jupyter_client      7.1.2\n",
       "jupyter_core        4.9.1\n",
       "notebook            6.4.8\n",
       "-----\n",
       "Python 3.8.5 (default, Sep  4 2020, 07:30:14) [GCC 7.3.0]\n",
       "Linux-3.10.0-1160.25.1.el7.x86_64-x86_64-with-glibc2.10\n",
       "-----\n",
       "Session information updated at 2023-11-14 14:07\n",
       "</pre>\n",
       "</details>"
      ],
      "text/plain": [
       "<IPython.core.display.HTML object>"
      ]
     },
     "execution_count": 1,
     "metadata": {},
     "output_type": "execute_result"
    }
   ],
   "source": [
    "from pythonimports import *\n",
    "\n",
    "import MVP_summary_functions as mvp\n",
    "\n",
    "mvp.latest_commit()\n",
    "session_info.show()"
   ]
  },
  {
   "cell_type": "code",
   "execution_count": 2,
   "id": "cce8066a",
   "metadata": {},
   "outputs": [
    {
     "name": "stderr",
     "output_type": "stream",
     "text": [
      "100%|███████████████| 2250/2250 [00:02<00:00, 841.77it/s]\n"
     ]
    },
    {
     "data": {
      "text/plain": [
       "(45, 45)"
      ]
     },
     "execution_count": 2,
     "metadata": {},
     "output_type": "execute_result"
    }
   ],
   "source": [
    "# get seeds corresponding to 1-trait sims\n",
    "params = mvp.read_params_file().iloc[:225]  # nuisance runs only run on one replicate\n",
    "\n",
    "seeds = params[params.plevel == '1-trait'].seed.astype(str).tolist()\n",
    "\n",
    "len(seeds), luni(seeds)"
   ]
  },
  {
   "cell_type": "code",
   "execution_count": 3,
   "id": "d877a120",
   "metadata": {
    "scrolled": true
   },
   "outputs": [],
   "source": [
    "# get RDS files corresponding to 1-trait 1-nuisance runs of GF\n",
    "rds_files = defaultdict(list)\n",
    "rds_files['1-trait_1-nuisance'] = fs(\n",
    "    f'{mvp.repdirs[0]}/gradient_forests/training/training_outfiles',\n",
    "    exclude=list(set(params.seed.astype(str)) - set(seeds)),\n",
    "    endswith='training.RDS'\n",
    ")\n",
    "\n",
    "assert len(rds_files['1-trait_1-nuisance']) / 3 == len(seeds)  # 3 marker sets per seed"
   ]
  },
  {
   "cell_type": "code",
   "execution_count": null,
   "id": "4ffcdede",
   "metadata": {},
   "outputs": [],
   "source": []
  },
  {
   "cell_type": "markdown",
   "id": "92e52922",
   "metadata": {},
   "source": [
    "### get other nuisance runs"
   ]
  },
  {
   "cell_type": "code",
   "execution_count": 4,
   "id": "e07739b9",
   "metadata": {},
   "outputs": [
    {
     "name": "stdout",
     "output_type": "stream",
     "text": [
      "ISO-PSsd 675\n",
      "ISO-TSsd-PSsd 675\n",
      "1-trait_1-nuisance 135\n",
      "1-trait_3-nuisance 135\n",
      "2-trait_2-nuisance 540\n",
      "1-trait_4-nuisance 135\n",
      "2-trait_3-nuisance 540\n"
     ]
    }
   ],
   "source": [
    "outerdirs = {\n",
    "    'ISO-PSsd' : '/home/b.lind/offsets/run_20220919_nuisance/ISO-PSsd_0-225',\n",
    "    'ISO-TSsd-PSsd' : '/home/b.lind/offsets/run_20220919_nuisance/ISO-TSsd-PSsd_0-225'\n",
    "}\n",
    "\n",
    "for nuis_envs, outerdir in outerdirs.items():\n",
    "    training_outdir = f'{outerdir}/gradient_forests/training/training_outfiles'\n",
    "    \n",
    "    files = fs(training_outdir, endswith='training.RDS')\n",
    "    \n",
    "    print(nuis_envs, len(files))\n",
    "    \n",
    "    found = []\n",
    "    for f in files:\n",
    "        seed = op.basename(f).split(\"_\")[0]\n",
    "        \n",
    "        plevel = params.loc[seed, 'N_traits']\n",
    "        \n",
    "        base_nuis = 2 - plevel  # was sal_opt a nuis env?\n",
    "        \n",
    "        nuis_level = base_nuis + len(nuis_envs.split('-'))\n",
    "        \n",
    "        rds_files[f'{plevel}-trait_{nuis_level}-nuisance'].append(f)\n",
    "        \n",
    "for nuis_level, files in rds_files.items():\n",
    "    print(nuis_level, len(files))"
   ]
  },
  {
   "cell_type": "code",
   "execution_count": 5,
   "id": "efe7818b",
   "metadata": {},
   "outputs": [
    {
     "data": {
      "text/plain": [
       "(180, 3.0)"
      ]
     },
     "execution_count": 5,
     "metadata": {},
     "output_type": "execute_result"
    }
   ],
   "source": [
    "# 2-trait have 540 files, which are 3 files (one per marker set) for each of 180 seeds\n",
    "sum(params.N_traits == 2), 540 / sum(params.N_traits == 2)"
   ]
  },
  {
   "cell_type": "code",
   "execution_count": null,
   "id": "62ab88bf",
   "metadata": {},
   "outputs": [],
   "source": []
  },
  {
   "cell_type": "markdown",
   "id": "b83b3323",
   "metadata": {},
   "source": [
    "# retrieve importances"
   ]
  },
  {
   "cell_type": "code",
   "execution_count": 6,
   "id": "5da79f2d",
   "metadata": {},
   "outputs": [],
   "source": [
    "# create dirs for saving\n",
    "output_parent = makedir('/home/b.lind/offsets/run_20220919_nuisance/importances_1-trait_ISO-PSsd_ISO-TSsd-PSsd')\n",
    "\n",
    "output_dir = makedir(f'{output_parent}/importances')\n",
    "\n",
    "output_shdir = makedir(f'{output_parent}/shfiles')"
   ]
  },
  {
   "cell_type": "code",
   "execution_count": 10,
   "id": "cfe76aac",
   "metadata": {
    "scrolled": true
   },
   "outputs": [
    {
     "name": "stderr",
     "output_type": "stream",
     "text": [
      "1-trait_1-nuisance: 100%|███████████████| 135/135 [00:02<00:00, 59.17it/s]\n",
      "1-trait_3-nuisance: 100%|███████████████| 135/135 [00:01<00:00, 67.58it/s]\n",
      "2-trait_2-nuisance: 100%|███████████████| 540/540 [00:12<00:00, 41.94it/s]\n",
      "1-trait_4-nuisance: 100%|███████████████| 135/135 [00:01<00:00, 74.11it/s]\n",
      "2-trait_3-nuisance: 100%|███████████████| 540/540 [00:09<00:00, 55.26it/s]\n"
     ]
    }
   ],
   "source": [
    "# create shfiles\n",
    "imp_script = '/home/b.lind/code/MVP-offsets/01_src/MVP_04_env_importance_from_gradient_forests.R'\n",
    "\n",
    "outfiles = []\n",
    "shfiles = []\n",
    "for nuis_level, files in rds_files.items():\n",
    "    for rds_file in pbar(files, desc=nuis_level):\n",
    "        seed, nuis_envs, *_, marker_set = op.basename(rds_file).split(\"_\")[:-3]\n",
    "        assert marker_set in ['all', 'adaptive', 'neutral']\n",
    "        \n",
    "        basename = f'{nuis_level}_{seed}_{marker_set}_importances'\n",
    "        outfile = f'{output_dir}/{basename}.txt'\n",
    "        \n",
    "        outfiles.append(outfile)\n",
    "        \n",
    "        text = f'''#!/bin/bash\n",
    "#SBATCH --job-name={basename}\n",
    "#SBATCH --time=00:05:00\n",
    "#SBATCH --mem=10000\n",
    "#SBATCH --output={basename}_%j.out\n",
    "\n",
    "source $HOME/.bashrc  # assumed that conda init is within .bashrc\n",
    "conda deactivate\n",
    "conda activate r35\n",
    "\n",
    "Rscript {imp_script} {rds_file} {outfile}\n",
    "\n",
    "'''\n",
    "        \n",
    "        shfile = f'{output_shdir}/{basename}.sh'\n",
    "        with open(shfile, 'w') as o:\n",
    "            o.write(text)\n",
    "            \n",
    "        shfiles.append(shfile)\n",
    "\n",
    "        \n",
    "for file_set in [outfiles, shfiles]:\n",
    "    assert len(file_set) == luni(file_set)"
   ]
  },
  {
   "cell_type": "code",
   "execution_count": 8,
   "id": "949cd574",
   "metadata": {},
   "outputs": [
    {
     "name": "stderr",
     "output_type": "stream",
     "text": [
      "sbatching: 100%|███████████████| 1485/1485 [05:22<00:00,  4.60it/s]\n"
     ]
    }
   ],
   "source": [
    "pids = sbatch(shfiles)"
   ]
  },
  {
   "cell_type": "code",
   "execution_count": 9,
   "id": "4ca82f25",
   "metadata": {
    "collapsed": true
   },
   "outputs": [
    {
     "name": "stderr",
     "output_type": "stream",
     "text": [
      "update:   3%|▍              | 10/315 [00:00<00:22, 13.68it/s]\n"
     ]
    },
    {
     "ename": "KeyboardInterrupt",
     "evalue": "",
     "output_type": "error",
     "traceback": [
      "\u001b[0;31m---------------------------------------------------------------------------\u001b[0m",
      "\u001b[0;31mKeyboardInterrupt\u001b[0m                         Traceback (most recent call last)",
      "\u001b[0;32m/tmp/ipykernel_140267/4027686964.py\u001b[0m in \u001b[0;36m<module>\u001b[0;34m\u001b[0m\n\u001b[0;32m----> 1\u001b[0;31m \u001b[0mSqueue\u001b[0m\u001b[0;34m(\u001b[0m\u001b[0mp\u001b[0m\u001b[0;34m=\u001b[0m\u001b[0;34m'short'\u001b[0m\u001b[0;34m,\u001b[0m \u001b[0mstates\u001b[0m\u001b[0;34m=\u001b[0m\u001b[0;34m'PD'\u001b[0m\u001b[0;34m)\u001b[0m\u001b[0;34m.\u001b[0m\u001b[0mupdate\u001b[0m\u001b[0;34m(\u001b[0m\u001b[0mto_partition\u001b[0m\u001b[0;34m=\u001b[0m\u001b[0;34m'long'\u001b[0m\u001b[0;34m,\u001b[0m \u001b[0mnum_jobs\u001b[0m\u001b[0;34m=\u001b[0m\u001b[0;36m0.5\u001b[0m\u001b[0;34m)\u001b[0m\u001b[0;34m\u001b[0m\u001b[0;34m\u001b[0m\u001b[0m\n\u001b[0m",
      "\u001b[0;32m~/pythonimports/myslurm.py\u001b[0m in \u001b[0;36mupdate\u001b[0;34m(self, num_jobs, **kwargs)\u001b[0m\n\u001b[1;32m   1637\u001b[0m \u001b[0;34m\u001b[0m\u001b[0m\n\u001b[1;32m   1638\u001b[0m         \u001b[0;31m# update each of the jobs\u001b[0m\u001b[0;34m\u001b[0m\u001b[0;34m\u001b[0m\u001b[0;34m\u001b[0m\u001b[0m\n\u001b[0;32m-> 1639\u001b[0;31m         \u001b[0mSqueue\u001b[0m\u001b[0;34m.\u001b[0m\u001b[0m_update_queue\u001b[0m\u001b[0;34m(\u001b[0m\u001b[0mself\u001b[0m\u001b[0;34m,\u001b[0m \u001b[0mcmd\u001b[0m\u001b[0;34m,\u001b[0m \u001b[0;34m\"update\"\u001b[0m\u001b[0;34m,\u001b[0m \u001b[0mnum_jobs\u001b[0m\u001b[0;34m=\u001b[0m\u001b[0mnum_jobs\u001b[0m\u001b[0;34m,\u001b[0m \u001b[0;34m**\u001b[0m\u001b[0mkwargs\u001b[0m\u001b[0;34m)\u001b[0m\u001b[0;34m\u001b[0m\u001b[0;34m\u001b[0m\u001b[0m\n\u001b[0m\u001b[1;32m   1640\u001b[0m         \u001b[0;32mpass\u001b[0m\u001b[0;34m\u001b[0m\u001b[0;34m\u001b[0m\u001b[0m\n\u001b[1;32m   1641\u001b[0m \u001b[0;34m\u001b[0m\u001b[0m\n",
      "\u001b[0;32m~/pythonimports/myslurm.py\u001b[0m in \u001b[0;36m_update_queue\u001b[0;34m(self, cmd, desc, user, num_jobs, **kwargs)\u001b[0m\n\u001b[1;32m   1469\u001b[0m             \u001b[0;32mfor\u001b[0m \u001b[0mq\u001b[0m \u001b[0;32min\u001b[0m \u001b[0mpbar\u001b[0m\u001b[0;34m(\u001b[0m\u001b[0mlist\u001b[0m\u001b[0;34m(\u001b[0m\u001b[0m_sq\u001b[0m\u001b[0;34m.\u001b[0m\u001b[0mvalues\u001b[0m\u001b[0;34m(\u001b[0m\u001b[0;34m)\u001b[0m\u001b[0;34m)\u001b[0m\u001b[0;34m[\u001b[0m\u001b[0;34m:\u001b[0m\u001b[0mnum_jobs\u001b[0m\u001b[0;34m]\u001b[0m\u001b[0;34m,\u001b[0m \u001b[0mdesc\u001b[0m\u001b[0;34m=\u001b[0m\u001b[0mdesc\u001b[0m\u001b[0;34m)\u001b[0m\u001b[0;34m:\u001b[0m\u001b[0;34m\u001b[0m\u001b[0;34m\u001b[0m\u001b[0m\n\u001b[1;32m   1470\u001b[0m                 \u001b[0;31m# if the job is updated successfully\u001b[0m\u001b[0;34m\u001b[0m\u001b[0;34m\u001b[0m\u001b[0;34m\u001b[0m\u001b[0m\n\u001b[0;32m-> 1471\u001b[0;31m                 \u001b[0mupdated_result\u001b[0m \u001b[0;34m=\u001b[0m \u001b[0mSqueue\u001b[0m\u001b[0;34m.\u001b[0m\u001b[0m_update_job\u001b[0m\u001b[0;34m(\u001b[0m\u001b[0mcmd\u001b[0m\u001b[0;34m,\u001b[0m \u001b[0mq\u001b[0m\u001b[0;34m.\u001b[0m\u001b[0mjob\u001b[0m\u001b[0;34m,\u001b[0m \u001b[0mq\u001b[0m\u001b[0;34m.\u001b[0m\u001b[0mpid\u001b[0m\u001b[0;34m)\u001b[0m\u001b[0;34m\u001b[0m\u001b[0;34m\u001b[0m\u001b[0m\n\u001b[0m\u001b[1;32m   1472\u001b[0m                 \u001b[0;32mif\u001b[0m \u001b[0mupdated_result\u001b[0m \u001b[0;32mis\u001b[0m \u001b[0;32mTrue\u001b[0m\u001b[0;34m:\u001b[0m\u001b[0;34m\u001b[0m\u001b[0;34m\u001b[0m\u001b[0m\n\u001b[1;32m   1473\u001b[0m                     \u001b[0;32mif\u001b[0m \u001b[0;34m\"scancel\"\u001b[0m \u001b[0;32min\u001b[0m \u001b[0mcmd\u001b[0m\u001b[0;34m:\u001b[0m\u001b[0;34m\u001b[0m\u001b[0;34m\u001b[0m\u001b[0m\n",
      "\u001b[0;32m~/pythonimports/myslurm.py\u001b[0m in \u001b[0;36m_update_job\u001b[0;34m(cmd, job, jobid)\u001b[0m\n\u001b[1;32m   1308\u001b[0m             \u001b[0;32mtry\u001b[0m\u001b[0;34m:\u001b[0m\u001b[0;34m\u001b[0m\u001b[0;34m\u001b[0m\u001b[0m\n\u001b[1;32m   1309\u001b[0m                 out = (\n\u001b[0;32m-> 1310\u001b[0;31m                     \u001b[0msubprocess\u001b[0m\u001b[0;34m.\u001b[0m\u001b[0mcheck_output\u001b[0m\u001b[0;34m(\u001b[0m\u001b[0mcmd\u001b[0m\u001b[0;34m)\u001b[0m\u001b[0;34m\u001b[0m\u001b[0;34m\u001b[0m\u001b[0m\n\u001b[0m\u001b[1;32m   1311\u001b[0m                     \u001b[0;34m.\u001b[0m\u001b[0mdecode\u001b[0m\u001b[0;34m(\u001b[0m\u001b[0;34m\"utf-8\"\u001b[0m\u001b[0;34m)\u001b[0m\u001b[0;34m\u001b[0m\u001b[0;34m\u001b[0m\u001b[0m\n\u001b[1;32m   1312\u001b[0m                     \u001b[0;34m.\u001b[0m\u001b[0mreplace\u001b[0m\u001b[0;34m(\u001b[0m\u001b[0;34m\"\\n\"\u001b[0m\u001b[0;34m,\u001b[0m \u001b[0;34m\"\"\u001b[0m\u001b[0;34m)\u001b[0m\u001b[0;34m\u001b[0m\u001b[0;34m\u001b[0m\u001b[0m\n",
      "\u001b[0;32m~/anaconda3/envs/mvp_env/lib/python3.8/subprocess.py\u001b[0m in \u001b[0;36mcheck_output\u001b[0;34m(timeout, *popenargs, **kwargs)\u001b[0m\n\u001b[1;32m    409\u001b[0m         \u001b[0mkwargs\u001b[0m\u001b[0;34m[\u001b[0m\u001b[0;34m'input'\u001b[0m\u001b[0;34m]\u001b[0m \u001b[0;34m=\u001b[0m \u001b[0;34m''\u001b[0m \u001b[0;32mif\u001b[0m \u001b[0mkwargs\u001b[0m\u001b[0;34m.\u001b[0m\u001b[0mget\u001b[0m\u001b[0;34m(\u001b[0m\u001b[0;34m'universal_newlines'\u001b[0m\u001b[0;34m,\u001b[0m \u001b[0;32mFalse\u001b[0m\u001b[0;34m)\u001b[0m \u001b[0;32melse\u001b[0m \u001b[0;34mb''\u001b[0m\u001b[0;34m\u001b[0m\u001b[0;34m\u001b[0m\u001b[0m\n\u001b[1;32m    410\u001b[0m \u001b[0;34m\u001b[0m\u001b[0m\n\u001b[0;32m--> 411\u001b[0;31m     return run(*popenargs, stdout=PIPE, timeout=timeout, check=True,\n\u001b[0m\u001b[1;32m    412\u001b[0m                **kwargs).stdout\n\u001b[1;32m    413\u001b[0m \u001b[0;34m\u001b[0m\u001b[0m\n",
      "\u001b[0;32m~/anaconda3/envs/mvp_env/lib/python3.8/subprocess.py\u001b[0m in \u001b[0;36mrun\u001b[0;34m(input, capture_output, timeout, check, *popenargs, **kwargs)\u001b[0m\n\u001b[1;32m    489\u001b[0m     \u001b[0;32mwith\u001b[0m \u001b[0mPopen\u001b[0m\u001b[0;34m(\u001b[0m\u001b[0;34m*\u001b[0m\u001b[0mpopenargs\u001b[0m\u001b[0;34m,\u001b[0m \u001b[0;34m**\u001b[0m\u001b[0mkwargs\u001b[0m\u001b[0;34m)\u001b[0m \u001b[0;32mas\u001b[0m \u001b[0mprocess\u001b[0m\u001b[0;34m:\u001b[0m\u001b[0;34m\u001b[0m\u001b[0;34m\u001b[0m\u001b[0m\n\u001b[1;32m    490\u001b[0m         \u001b[0;32mtry\u001b[0m\u001b[0;34m:\u001b[0m\u001b[0;34m\u001b[0m\u001b[0;34m\u001b[0m\u001b[0m\n\u001b[0;32m--> 491\u001b[0;31m             \u001b[0mstdout\u001b[0m\u001b[0;34m,\u001b[0m \u001b[0mstderr\u001b[0m \u001b[0;34m=\u001b[0m \u001b[0mprocess\u001b[0m\u001b[0;34m.\u001b[0m\u001b[0mcommunicate\u001b[0m\u001b[0;34m(\u001b[0m\u001b[0minput\u001b[0m\u001b[0;34m,\u001b[0m \u001b[0mtimeout\u001b[0m\u001b[0;34m=\u001b[0m\u001b[0mtimeout\u001b[0m\u001b[0;34m)\u001b[0m\u001b[0;34m\u001b[0m\u001b[0;34m\u001b[0m\u001b[0m\n\u001b[0m\u001b[1;32m    492\u001b[0m         \u001b[0;32mexcept\u001b[0m \u001b[0mTimeoutExpired\u001b[0m \u001b[0;32mas\u001b[0m \u001b[0mexc\u001b[0m\u001b[0;34m:\u001b[0m\u001b[0;34m\u001b[0m\u001b[0;34m\u001b[0m\u001b[0m\n\u001b[1;32m    493\u001b[0m             \u001b[0mprocess\u001b[0m\u001b[0;34m.\u001b[0m\u001b[0mkill\u001b[0m\u001b[0;34m(\u001b[0m\u001b[0;34m)\u001b[0m\u001b[0;34m\u001b[0m\u001b[0;34m\u001b[0m\u001b[0m\n",
      "\u001b[0;32m~/anaconda3/envs/mvp_env/lib/python3.8/subprocess.py\u001b[0m in \u001b[0;36mcommunicate\u001b[0;34m(self, input, timeout)\u001b[0m\n\u001b[1;32m   1009\u001b[0m                 \u001b[0mself\u001b[0m\u001b[0;34m.\u001b[0m\u001b[0m_stdin_write\u001b[0m\u001b[0;34m(\u001b[0m\u001b[0minput\u001b[0m\u001b[0;34m)\u001b[0m\u001b[0;34m\u001b[0m\u001b[0;34m\u001b[0m\u001b[0m\n\u001b[1;32m   1010\u001b[0m             \u001b[0;32melif\u001b[0m \u001b[0mself\u001b[0m\u001b[0;34m.\u001b[0m\u001b[0mstdout\u001b[0m\u001b[0;34m:\u001b[0m\u001b[0;34m\u001b[0m\u001b[0;34m\u001b[0m\u001b[0m\n\u001b[0;32m-> 1011\u001b[0;31m                 \u001b[0mstdout\u001b[0m \u001b[0;34m=\u001b[0m \u001b[0mself\u001b[0m\u001b[0;34m.\u001b[0m\u001b[0mstdout\u001b[0m\u001b[0;34m.\u001b[0m\u001b[0mread\u001b[0m\u001b[0;34m(\u001b[0m\u001b[0;34m)\u001b[0m\u001b[0;34m\u001b[0m\u001b[0;34m\u001b[0m\u001b[0m\n\u001b[0m\u001b[1;32m   1012\u001b[0m                 \u001b[0mself\u001b[0m\u001b[0;34m.\u001b[0m\u001b[0mstdout\u001b[0m\u001b[0;34m.\u001b[0m\u001b[0mclose\u001b[0m\u001b[0;34m(\u001b[0m\u001b[0;34m)\u001b[0m\u001b[0;34m\u001b[0m\u001b[0;34m\u001b[0m\u001b[0m\n\u001b[1;32m   1013\u001b[0m             \u001b[0;32melif\u001b[0m \u001b[0mself\u001b[0m\u001b[0;34m.\u001b[0m\u001b[0mstderr\u001b[0m\u001b[0;34m:\u001b[0m\u001b[0;34m\u001b[0m\u001b[0;34m\u001b[0m\u001b[0m\n",
      "\u001b[0;31mKeyboardInterrupt\u001b[0m: "
     ]
    }
   ],
   "source": [
    "Squeue(p='short', states='PD').update(to_partition='long', num_jobs=0.5)"
   ]
  },
  {
   "cell_type": "code",
   "execution_count": null,
   "id": "5ac16b02",
   "metadata": {},
   "outputs": [],
   "source": [
    "Squeue(p='short', states='PD').update(to_partition='lotterhos', num_jobs=100)"
   ]
  },
  {
   "cell_type": "code",
   "execution_count": null,
   "id": "3bd7a766",
   "metadata": {},
   "outputs": [],
   "source": [
    "create_watcherfile(pids, output_shdir, watcher_name='importance_watcher')"
   ]
  },
  {
   "cell_type": "code",
   "execution_count": null,
   "id": "67f0c0b2",
   "metadata": {},
   "outputs": [],
   "source": []
  },
  {
   "cell_type": "code",
   "execution_count": null,
   "id": "bc998a3e",
   "metadata": {},
   "outputs": [],
   "source": [
    "Squeue()"
   ]
  },
  {
   "cell_type": "code",
   "execution_count": null,
   "id": "03f1e15b",
   "metadata": {},
   "outputs": [],
   "source": []
  },
  {
   "cell_type": "code",
   "execution_count": 11,
   "id": "551f1624",
   "metadata": {},
   "outputs": [
    {
     "data": {
      "text/plain": [
       "(1485, 1485)"
      ]
     },
     "execution_count": 11,
     "metadata": {},
     "output_type": "execute_result"
    }
   ],
   "source": [
    "outs = fs(output_shdir, endswith='.out', exclude='watch')\n",
    "\n",
    "len(outs), len(shfiles)"
   ]
  },
  {
   "cell_type": "code",
   "execution_count": 12,
   "id": "d0df7945",
   "metadata": {},
   "outputs": [
    {
     "name": "stdout",
     "output_type": "stream",
     "text": [
      "36 36\n",
      "\u001b[1m\n",
      "Watching 1485 parallel Seffs jobs ...\u001b[0m\n"
     ]
    },
    {
     "name": "stderr",
     "output_type": "stream",
     "text": [
      "requesting seffs: 100%|███████████████| 1485/1485 [00:36<00:00, 40.43it/s] \n",
      "retrieving seffs: 100%|███████████████| 1485/1485 [00:17<00:00, 83.86it/s]\n"
     ]
    }
   ],
   "source": [
    "lview, dview = get_client(cluster_id='1699987016-s5wv', profile='lotterhos')\n",
    "\n",
    "seffs = Seffs.parallel(lview, outs=outs).most_recent()"
   ]
  },
  {
   "cell_type": "code",
   "execution_count": 16,
   "id": "4264080b",
   "metadata": {},
   "outputs": [
    {
     "data": {
      "text/plain": [
       "Counter({'State: COMPLETED (exit code 0)': 1380,\n",
       "         'State: FAILED (exit code 137)': 21,\n",
       "         'State: FAILED (exit code 1)': 84})"
      ]
     },
     "execution_count": 16,
     "metadata": {},
     "output_type": "execute_result"
    }
   ],
   "source": [
    "seffs.states.counter()"
   ]
  },
  {
   "cell_type": "code",
   "execution_count": 17,
   "id": "8ef32a92",
   "metadata": {},
   "outputs": [
    {
     "name": "stderr",
     "output_type": "stream",
     "text": [
      "sbatching: 100%|███████████████| 105/105 [00:19<00:00,  5.48it/s]\n"
     ]
    }
   ],
   "source": [
    "# not sure why they failed, out files say \"killed\", but commands work manually, so resubmit!\n",
    "pids = sbatch(seffs.failed().shfiles)"
   ]
  },
  {
   "cell_type": "code",
   "execution_count": 25,
   "id": "aa8769ef",
   "metadata": {},
   "outputs": [
    {
     "name": "stdout",
     "output_type": "stream",
     "text": [
      "\tno jobs in queue matching query\n",
      "\u001b[38;2;255;255;224m\tNone of the jobs in Squeue class passed criteria, or no jobs passing criteria were pending.\u001b[0m\n"
     ]
    }
   ],
   "source": [
    "Squeue(states='pd', partition='short').update(to_partition='lotterhos')"
   ]
  },
  {
   "cell_type": "code",
   "execution_count": 27,
   "id": "0fa9b3f1",
   "metadata": {},
   "outputs": [
    {
     "name": "stdout",
     "output_type": "stream",
     "text": [
      "\u001b[1m\u001b[38;2;128;128;128m🗒️  Queue Summary:\n",
      "\u001b[0m\u001b[0m\n",
      "{'\u001b[4m\u001b[1mlotterhos\u001b[0m\u001b[0m': {'R': 1}}\n"
     ]
    },
    {
     "name": "stderr",
     "output_type": "stream",
     "text": [
      "sleeping:  40%|██████         | 2/5 [00:02<00:03,  1.04s/it]"
     ]
    },
    {
     "name": "stdout",
     "output_type": "stream",
     "text": [
      "\u001b[93mKeyboardInterrupt after 2 seconds of sleep.\u001b[0m\n"
     ]
    },
    {
     "name": "stderr",
     "output_type": "stream",
     "text": [
      "\n"
     ]
    }
   ],
   "source": [
    "Squeue().watch()"
   ]
  },
  {
   "cell_type": "code",
   "execution_count": 30,
   "id": "adc59e36",
   "metadata": {},
   "outputs": [
    {
     "name": "stdout",
     "output_type": "stream",
     "text": [
      "\u001b[1m\n",
      "Watching 1590 parallel Seffs jobs ...\u001b[0m\n"
     ]
    },
    {
     "name": "stderr",
     "output_type": "stream",
     "text": [
      "requesting seffs: 100%|███████████████| 1590/1590 [00:27<00:00, 56.92it/s] \n",
      "retrieving seffs: 100%|███████████████| 1590/1590 [00:19<00:00, 80.71it/s]\n",
      "/home/b.lind/pythonimports/myslurm.py:552: UserWarning: There are multiple shfiles associated with outfiles. len=1590 luni=1485\n",
      "  warnings.warn(text)\n"
     ]
    }
   ],
   "source": [
    "outs = fs(output_shdir, endswith='.out', exclude='watch')\n",
    "\n",
    "seffs = Seffs.parallel(lview, outs=outs).most_recent()"
   ]
  },
  {
   "cell_type": "code",
   "execution_count": 31,
   "id": "a80b67bd",
   "metadata": {},
   "outputs": [
    {
     "data": {
      "text/plain": [
       "Counter({'State: COMPLETED (exit code 0)': 1476,\n",
       "         'State: FAILED (exit code 137)': 7,\n",
       "         'State: FAILED (exit code 1)': 2})"
      ]
     },
     "execution_count": 31,
     "metadata": {},
     "output_type": "execute_result"
    }
   ],
   "source": [
    "seffs.states.counter()"
   ]
  },
  {
   "cell_type": "code",
   "execution_count": 32,
   "id": "51e01419",
   "metadata": {},
   "outputs": [
    {
     "data": {
      "text/plain": [
       "['Loading required package: extendedForest',\n",
       " 'extendedForest 1.6.1',\n",
       " 'Type rfNews() to see new features/changes/bug fixes.',\n",
       " '/var/spool/slurmd/job39547164/slurm_script: line 11: 17410 Killed                  Rscript /home/b.lind/code/MVP-offsets/01_src/MVP_04_env_importance_from_gradient_forests.R /home/b.lind/offsets/run_20220919_nuisance/ISO-PSsd_0-225/gradient_forests/training/training_outfiles/1231249_ISO-PSsd_GF_training_pooled_neutral_gradient_forest_training.RDS /home/b.lind/offsets/run_20220919_nuisance/importances_1-trait_ISO-PSsd_ISO-TSsd-PSsd/importances/1-trait_3-nuisance_1231249_neutral_importances.txt',\n",
       " '']"
      ]
     },
     "execution_count": 32,
     "metadata": {},
     "output_type": "execute_result"
    }
   ],
   "source": [
    "read(seffs.failed().outs[0])"
   ]
  },
  {
   "cell_type": "code",
   "execution_count": 33,
   "id": "d16aeeea",
   "metadata": {},
   "outputs": [
    {
     "name": "stderr",
     "output_type": "stream",
     "text": [
      "sbatching: 100%|███████████████| 9/9 [00:01<00:00,  6.17it/s]\n"
     ]
    }
   ],
   "source": [
    "pids = sbatch(seffs.failed().shfiles)"
   ]
  },
  {
   "cell_type": "code",
   "execution_count": 35,
   "id": "4d595b4a",
   "metadata": {},
   "outputs": [
    {
     "name": "stdout",
     "output_type": "stream",
     "text": [
      "\u001b[1m\u001b[38;2;128;128;128m🗒️  Queue Summary:\n",
      "\u001b[0m\u001b[0m\n",
      "{'\u001b[4m\u001b[1mlotterhos\u001b[0m\u001b[0m': {'R': 1}}\n"
     ]
    },
    {
     "name": "stderr",
     "output_type": "stream",
     "text": [
      "sleeping:  60%|█████████      | 3/5 [00:03<00:02,  1.27s/it]"
     ]
    },
    {
     "name": "stdout",
     "output_type": "stream",
     "text": [
      "\u001b[93mKeyboardInterrupt after 3 seconds of sleep.\u001b[0m\n"
     ]
    },
    {
     "name": "stderr",
     "output_type": "stream",
     "text": [
      "\n"
     ]
    }
   ],
   "source": [
    "Squeue().watch()"
   ]
  },
  {
   "cell_type": "code",
   "execution_count": 39,
   "id": "b4e7135d",
   "metadata": {
    "scrolled": true
   },
   "outputs": [
    {
     "name": "stdout",
     "output_type": "stream",
     "text": [
      "\u001b[1m\n",
      "Watching 1599 parallel Seffs jobs ...\u001b[0m\n"
     ]
    },
    {
     "name": "stderr",
     "output_type": "stream",
     "text": [
      "requesting seffs: 100%|███████████████| 1599/1599 [00:30<00:00, 52.79it/s] \n",
      "retrieving seffs: 100%|███████████████| 1599/1599 [00:19<00:00, 81.37it/s]\n",
      "/home/b.lind/pythonimports/myslurm.py:552: UserWarning: There are multiple shfiles associated with outfiles. len=1599 luni=1485\n",
      "  warnings.warn(text)\n"
     ]
    },
    {
     "data": {
      "text/plain": [
       "Counter({'State: COMPLETED (exit code 0)': 1485})"
      ]
     },
     "execution_count": 39,
     "metadata": {},
     "output_type": "execute_result"
    }
   ],
   "source": [
    "outs = fs(output_shdir, endswith='.out', exclude='watch')\n",
    "\n",
    "seffs = Seffs.parallel(lview, outs=outs).most_recent()\n",
    "\n",
    "seffs.states.counter()"
   ]
  },
  {
   "cell_type": "code",
   "execution_count": 41,
   "id": "26477e1f",
   "metadata": {},
   "outputs": [
    {
     "data": {
      "text/plain": [
       "1485"
      ]
     },
     "execution_count": 41,
     "metadata": {},
     "output_type": "execute_result"
    }
   ],
   "source": [
    "len(fs(output_dir, endswith='.txt'))"
   ]
  },
  {
   "cell_type": "code",
   "execution_count": null,
   "id": "27f5ea85",
   "metadata": {},
   "outputs": [],
   "source": []
  },
  {
   "cell_type": "code",
   "execution_count": 42,
   "id": "154d227f",
   "metadata": {
    "scrolled": true
   },
   "outputs": [
    {
     "data": {
      "image/png": "[encoded data removed]",
      "text/plain": [
       "<Figure size 432x288 with 2 Axes>"
      ]
     },
     "metadata": {
      "needs_background": "light"
     },
     "output_type": "display_data"
    }
   ],
   "source": [
    "seffs.completed().plot_mems()"
   ]
  },
  {
   "cell_type": "code",
   "execution_count": 43,
   "id": "aabb54c2",
   "metadata": {
    "scrolled": true
   },
   "outputs": [
    {
     "data": {
      "image/png": "[encoded data removed]",
      "text/plain": [
       "<Figure size 432x288 with 2 Axes>"
      ]
     },
     "metadata": {
      "needs_background": "light"
     },
     "output_type": "display_data"
    }
   ],
   "source": [
    "seffs.completed().plot_times()"
   ]
  },
  {
   "cell_type": "code",
   "execution_count": 104,
   "id": "84998fe8",
   "metadata": {},
   "outputs": [
    {
     "data": {
      "text/plain": [
       "'/home/b.lind/offsets/run_20220919_nuisance/importances_1-trait_ISO-PSsd_ISO-TSsd-PSsd'"
      ]
     },
     "execution_count": 104,
     "metadata": {},
     "output_type": "execute_result"
    }
   ],
   "source": [
    "output_parent"
   ]
  },
  {
   "cell_type": "code",
   "execution_count": 105,
   "id": "429e01f2",
   "metadata": {},
   "outputs": [],
   "source": [
    "pkldump(seffs, f'{output_parent}/seffs.pkl')"
   ]
  },
  {
   "cell_type": "markdown",
   "id": "a1292bed",
   "metadata": {},
   "source": [
    "# make figs"
   ]
  },
  {
   "cell_type": "code",
   "execution_count": 102,
   "id": "a243c827",
   "metadata": {},
   "outputs": [
    {
     "name": "stderr",
     "output_type": "stream",
     "text": [
      "100%|███████████████| 1485/1485 [00:05<00:00, 292.26it/s]\n"
     ]
    },
    {
     "data": {
      "text/html": [
       "<div>\n",
       "<style scoped>\n",
       "    .dataframe tbody tr th:only-of-type {\n",
       "        vertical-align: middle;\n",
       "    }\n",
       "\n",
       "    .dataframe tbody tr th {\n",
       "        vertical-align: top;\n",
       "    }\n",
       "\n",
       "    .dataframe thead th {\n",
       "        text-align: right;\n",
       "    }\n",
       "</style>\n",
       "<table border=\"1\" class=\"dataframe\">\n",
       "  <thead>\n",
       "    <tr style=\"text-align: right;\">\n",
       "      <th></th>\n",
       "      <th>overall_importance</th>\n",
       "      <th>weighted_importance</th>\n",
       "      <th>accuracy_importance</th>\n",
       "    </tr>\n",
       "  </thead>\n",
       "  <tbody>\n",
       "    <tr>\n",
       "      <th>temp_opt</th>\n",
       "      <td>0.004377</td>\n",
       "      <td>0.079331</td>\n",
       "      <td>0.004377</td>\n",
       "    </tr>\n",
       "    <tr>\n",
       "      <th>PSsd</th>\n",
       "      <td>0.002805</td>\n",
       "      <td>0.053131</td>\n",
       "      <td>0.002805</td>\n",
       "    </tr>\n",
       "    <tr>\n",
       "      <th>sal_opt</th>\n",
       "      <td>0.002007</td>\n",
       "      <td>0.037936</td>\n",
       "      <td>0.002007</td>\n",
       "    </tr>\n",
       "    <tr>\n",
       "      <th>TSsd</th>\n",
       "      <td>0.001888</td>\n",
       "      <td>0.036447</td>\n",
       "      <td>0.001888</td>\n",
       "    </tr>\n",
       "    <tr>\n",
       "      <th>ISO</th>\n",
       "      <td>0.001969</td>\n",
       "      <td>0.036247</td>\n",
       "      <td>0.001969</td>\n",
       "    </tr>\n",
       "  </tbody>\n",
       "</table>\n",
       "</div>"
      ],
      "text/plain": [
       "          overall_importance  weighted_importance  accuracy_importance\n",
       "temp_opt            0.004377             0.079331             0.004377\n",
       "PSsd                0.002805             0.053131             0.002805\n",
       "sal_opt             0.002007             0.037936             0.002007\n",
       "TSsd                0.001888             0.036447             0.001888\n",
       "ISO                 0.001969             0.036247             0.001969"
      ]
     },
     "execution_count": 102,
     "metadata": {},
     "output_type": "execute_result"
    }
   ],
   "source": [
    "# For each marker set, did GF’s weighted importance rank the adaptive envs (n = n_adaptive) in the ... \n",
    "    # top n_adaptive envs? True = the adaptive envs were ranked at the top, False = at least one ...\n",
    "    # nuisance env was ranked in the top n_adaptive envs. (order of rank is unimportant)\n",
    "    \n",
    "outputfiles = fs(output_dir, endswith='.txt')\n",
    "\n",
    "pie_data = wrap_defaultdict(Counter, 2)\n",
    "for f in pbar(outputfiles):\n",
    "    num_traits, num_nuisance, seed, marker_set, *_ = op.basename(f).split(\"_\")\n",
    "    nuis_level = f'{num_traits}_{num_nuisance}'\n",
    "    \n",
    "    df = pd.read_table(f).sort_values(by='weighted_importance', ascending=False)\n",
    "    \n",
    "    if num_traits == '1-trait':\n",
    "        correct = pd.Series(['temp_opt'])\n",
    "        stopat = 1\n",
    "    else:\n",
    "        correct = pd.Series(['temp_opt', 'sal_opt'])\n",
    "        stopat = 2\n",
    "        \n",
    "    # are the expected envs in the top ranked (order doesn't matter)\n",
    "    num_correct = correct.isin(df.iloc[:stopat].index).sum()\n",
    "\n",
    "    # are the adaptive envs the top ranked?\n",
    "    pie_data[nuis_level][marker_set][num_correct == stopat] += 1\n",
    "    \n",
    "df"
   ]
  },
  {
   "cell_type": "code",
   "execution_count": 103,
   "id": "89d5d977",
   "metadata": {},
   "outputs": [
    {
     "name": "stdout",
     "output_type": "stream",
     "text": [
      "\u001b[1m\n",
      "1-trait_1-nuisance\u001b[0m\n",
      "adaptive Counter({True: 45})\n",
      "all Counter({True: 45})\n",
      "neutral Counter({True: 45})\n",
      "\u001b[1m\n",
      "1-trait_3-nuisance\u001b[0m\n",
      "adaptive Counter({True: 45})\n",
      "all Counter({True: 43, False: 2})\n",
      "neutral Counter({True: 38, False: 7})\n",
      "\u001b[1m\n",
      "1-trait_4-nuisance\u001b[0m\n",
      "adaptive Counter({True: 43, False: 2})\n",
      "all Counter({True: 36, False: 9})\n",
      "neutral Counter({True: 35, False: 10})\n",
      "\u001b[1m\n",
      "2-trait_2-nuisance\u001b[0m\n",
      "adaptive Counter({True: 120, False: 60})\n",
      "all Counter({False: 119, True: 61})\n",
      "neutral Counter({False: 119, True: 61})\n",
      "\u001b[1m\n",
      "2-trait_3-nuisance\u001b[0m\n",
      "adaptive Counter({True: 140, False: 40})\n",
      "all Counter({False: 119, True: 61})\n",
      "neutral Counter({False: 119, True: 61})\n"
     ]
    }
   ],
   "source": [
    "# show results to question\n",
    "for nuis_level in pie_data:\n",
    "    print(ColorText(f'\\n{nuis_level}').bold())\n",
    "    for marker_set in pie_data[nuis_level]:\n",
    "        print(marker_set, pie_data[nuis_level][marker_set])"
   ]
  },
  {
   "cell_type": "code",
   "execution_count": null,
   "id": "3e95b8aa",
   "metadata": {},
   "outputs": [],
   "source": []
  },
  {
   "cell_type": "code",
   "execution_count": null,
   "id": "866ec58e",
   "metadata": {},
   "outputs": [],
   "source": []
  },
  {
   "cell_type": "code",
   "execution_count": null,
   "id": "b330dcb3",
   "metadata": {},
   "outputs": [],
   "source": []
  },
  {
   "cell_type": "code",
   "execution_count": null,
   "id": "6faab0d1",
   "metadata": {},
   "outputs": [],
   "source": []
  },
  {
   "cell_type": "code",
   "execution_count": null,
   "id": "fdfda177",
   "metadata": {},
   "outputs": [],
   "source": []
  },
  {
   "cell_type": "code",
   "execution_count": null,
   "id": "efb80110",
   "metadata": {},
   "outputs": [],
   "source": []
  },
  {
   "cell_type": "code",
   "execution_count": null,
   "id": "7530a510",
   "metadata": {},
   "outputs": [],
   "source": []
  },
  {
   "cell_type": "code",
   "execution_count": null,
   "id": "0fb97388",
   "metadata": {},
   "outputs": [],
   "source": []
  },
  {
   "cell_type": "code",
   "execution_count": null,
   "id": "1843798e",
   "metadata": {},
   "outputs": [],
   "source": []
  },
  {
   "cell_type": "code",
   "execution_count": null,
   "id": "51354014",
   "metadata": {},
   "outputs": [],
   "source": []
  },
  {
   "cell_type": "code",
   "execution_count": null,
   "id": "6a457cb8",
   "metadata": {},
   "outputs": [],
   "source": []
  },
  {
   "cell_type": "code",
   "execution_count": null,
   "id": "1d000e96",
   "metadata": {},
   "outputs": [],
   "source": []
  },
  {
   "cell_type": "code",
   "execution_count": null,
   "id": "a41d0951",
   "metadata": {},
   "outputs": [],
   "source": []
  },
  {
   "cell_type": "code",
   "execution_count": null,
   "id": "c37629f1",
   "metadata": {},
   "outputs": [],
   "source": []
  }
 ],
 "metadata": {
  "kernelspec": {
   "display_name": "Python 3 (ipykernel)",
   "language": "python",
   "name": "python3"
  },
  "language_info": {
   "codemirror_mode": {
    "name": "ipython",
    "version": 3
   },
   "file_extension": ".py",
   "mimetype": "text/x-python",
   "name": "python",
   "nbconvert_exporter": "python",
   "pygments_lexer": "ipython3",
   "version": "3.8.5"
  }
 },
 "nbformat": 4,
 "nbformat_minor": 5
}
