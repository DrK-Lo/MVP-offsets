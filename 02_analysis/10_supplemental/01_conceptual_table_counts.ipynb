{
 "cells": [
  {
   "cell_type": "markdown",
   "id": "861ac516",
   "metadata": {},
   "source": [
    "### purpose\n",
    "\n",
    "determine evaluation counts for conceptual Fig 1 and Table 1"
   ]
  },
  {
   "cell_type": "code",
   "execution_count": 1,
   "id": "96766219",
   "metadata": {},
   "outputs": [
    {
     "name": "stdout",
     "output_type": "stream",
     "text": [
      "#########################################################\n",
      "Today:\tOctober 02, 2023 - 14:35:50 EDT\n",
      "python version: 3.8.5\n",
      "conda env: mvp_env\n",
      "\n",
      "Current commit of \u001b[1mpythonimports\u001b[0m:\n",
      "\u001b[33mcommit 9493334506a1f2926fba0734fa74ba2f87194611\u001b[m  \n",
      "Author: Brandon Lind <lind.brandon.m@gmail.com>  \n",
      "Date:   Fri Jun 30 09:41:00 2023 -0400\n",
      "\n",
      "Current commit of \u001b[94m\u001b[1mMVP_offsets\u001b[0m\u001b[0m:\n",
      "\u001b[33mcommit 4df974c6efa2868236cc272fcc84eb1059ca8aef\u001b[m  \n",
      "Author: Brandon Lind <lind.brandon.m@gmail.com>  \n",
      "Date:   Tue Sep 26 09:31:50 2023 -0400\n",
      "#########################################################\n",
      "\n"
     ]
    },
    {
     "data": {
      "text/html": [
       "<details>\n",
       "<summary>Click to view session information</summary>\n",
       "<pre>\n",
       "-----\n",
       "MVP_summary_functions       NA\n",
       "balance_queue               NA\n",
       "cartopy                     0.20.2\n",
       "ipyparallel                 7.1.0\n",
       "matplotlib                  3.5.2\n",
       "myclasses                   NA\n",
       "myfigs                      NA\n",
       "mymaps                      NA\n",
       "myslurm                     NA\n",
       "numpy                       1.22.1\n",
       "pandas                      1.3.5\n",
       "pythonimports               NA\n",
       "session_info                1.0.0\n",
       "tqdm                        4.62.1\n",
       "-----\n",
       "</pre>\n",
       "<details>\n",
       "<summary>Click to view modules imported as dependencies</summary>\n",
       "<pre>\n",
       "MVP_01_train_gradient_forests       NA\n",
       "MVP_10_train_lfmm2_offset           NA\n",
       "PIL                                 8.4.0\n",
       "backcall                            0.2.0\n",
       "beta_ufunc                          NA\n",
       "binom_ufunc                         NA\n",
       "bottleneck                          1.3.2\n",
       "certifi                             2023.05.07\n",
       "cffi                                1.15.0\n",
       "cycler                              0.10.0\n",
       "cython_runtime                      NA\n",
       "dateutil                            2.8.2\n",
       "debugpy                             1.5.1\n",
       "decorator                           5.1.1\n",
       "defusedxml                          0.7.1\n",
       "entrypoints                         0.4\n",
       "fontTools                           4.29.1\n",
       "ipykernel                           6.8.0\n",
       "ipython_genutils                    0.2.0\n",
       "ipywidgets                          7.6.5\n",
       "jedi                                0.18.1\n",
       "kiwisolver                          1.3.2\n",
       "matplotlib_venn                     0.11.6\n",
       "mpl_toolkits                        NA\n",
       "nbinom_ufunc                        NA\n",
       "numexpr                             2.8.1\n",
       "packaging                           21.3\n",
       "parso                               0.8.3\n",
       "patsy                               0.5.2\n",
       "pdf2image                           NA\n",
       "pexpect                             4.8.0\n",
       "pickleshare                         0.7.5\n",
       "pkg_resources                       NA\n",
       "prompt_toolkit                      3.0.26\n",
       "psutil                              5.9.0\n",
       "ptyprocess                          0.7.0\n",
       "pydev_ipython                       NA\n",
       "pydevconsole                        NA\n",
       "pydevd                              2.6.0\n",
       "pydevd_concurrency_analyser         NA\n",
       "pydevd_file_utils                   NA\n",
       "pydevd_plugins                      NA\n",
       "pydevd_tracing                      NA\n",
       "pygments                            2.11.2\n",
       "pyparsing                           3.0.7\n",
       "pyproj                              3.3.0\n",
       "pytz                                2021.3\n",
       "scipy                               1.7.3\n",
       "seaborn                             0.11.2\n",
       "setuptools                          60.7.1\n",
       "shapefile                           2.2.0\n",
       "shapely                             1.8.0\n",
       "six                                 1.16.0\n",
       "statsmodels                         0.14.0\n",
       "storemagic                          NA\n",
       "tornado                             6.1\n",
       "traitlets                           5.1.1\n",
       "wcwidth                             0.2.5\n",
       "zmq                                 22.3.0\n",
       "</pre>\n",
       "</details> <!-- seems like this ends pre, so might as well be explicit -->\n",
       "<pre>\n",
       "-----\n",
       "IPython             7.31.1\n",
       "jupyter_client      7.1.2\n",
       "jupyter_core        4.9.1\n",
       "notebook            6.4.8\n",
       "-----\n",
       "Python 3.8.5 (default, Sep  4 2020, 07:30:14) [GCC 7.3.0]\n",
       "Linux-3.10.0-1160.25.1.el7.x86_64-x86_64-with-glibc2.10\n",
       "-----\n",
       "Session information updated at 2023-10-02 14:35\n",
       "</pre>\n",
       "</details>"
      ],
      "text/plain": [
       "<IPython.core.display.HTML object>"
      ]
     },
     "execution_count": 1,
     "metadata": {},
     "output_type": "execute_result"
    }
   ],
   "source": [
    "from pythonimports import *\n",
    "\n",
    "import MVP_summary_functions as mvp\n",
    "\n",
    "t0 = dt.now()  # notebook timer\n",
    "\n",
    "mvp.latest_commit()\n",
    "session_info.show()"
   ]
  },
  {
   "cell_type": "markdown",
   "id": "1a00e71b",
   "metadata": {},
   "source": [
    "# Assisted Gene Flow workflow"
   ]
  },
  {
   "cell_type": "markdown",
   "id": "f25e5a03",
   "metadata": {},
   "source": [
    "### 1- and 2-trait"
   ]
  },
  {
   "cell_type": "code",
   "execution_count": 2,
   "id": "052791e4",
   "metadata": {
    "scrolled": true
   },
   "outputs": [
    {
     "name": "stdout",
     "output_type": "stream",
     "text": [
      "\u001b[92m\u001b[1mfiltering criteria:\n",
      "\u001b[0m\u001b[0m\u001b[1m\tuse_bcs_data = \u001b[0mFalse\n",
      "\u001b[1m\tperformance = \u001b[0mgarden_performance\n",
      "\u001b[1m\tnum_traits = \u001b[0mNone\n",
      "\u001b[1m\tntraits = \u001b[0mNone\n",
      "\u001b[1m\tmarker_set = \u001b[0mNone\n",
      "\u001b[1m\tremove_structcrxn = \u001b[0mFalse\n",
      "\u001b[1m\tkeep_nuisance = \u001b[0mTrue\n",
      "\u001b[1m\tremove_rda_outliers = \u001b[0mTrue\n"
     ]
    },
    {
     "name": "stderr",
     "output_type": "stream",
     "text": [
      "reading reps: 100%|███████████████| 10/10 [00:19<00:00,  1.99s/it]\n"
     ]
    },
    {
     "name": "stdout",
     "output_type": "stream",
     "text": [
      "\u001b[94m\u001b[1m0-225\u001b[0m\u001b[0m\n",
      "\t \u001b[1mRONA\u001b[0m num seeds =  225\n",
      "\t \u001b[1mlfmm2\u001b[0m num seeds =  225\n",
      "\t \u001b[1mGF\u001b[0m num seeds =  225\n",
      "\t \u001b[1mrda\u001b[0m num seeds =  225\n",
      "\n",
      "\n",
      "\u001b[94m\u001b[1m225-450\u001b[0m\u001b[0m\n",
      "\t \u001b[1mRONA\u001b[0m num seeds =  225\n",
      "\t \u001b[1mlfmm2\u001b[0m num seeds =  225\n",
      "\t \u001b[1mGF\u001b[0m num seeds =  225\n",
      "\t \u001b[1mrda\u001b[0m num seeds =  225\n",
      "\n",
      "\n",
      "\u001b[94m\u001b[1m450-675\u001b[0m\u001b[0m\n",
      "\t \u001b[1mRONA\u001b[0m num seeds =  225\n",
      "\t \u001b[1mlfmm2\u001b[0m num seeds =  225\n",
      "\t \u001b[1mGF\u001b[0m num seeds =  225\n",
      "\t \u001b[1mrda\u001b[0m num seeds =  225\n",
      "\n",
      "\n",
      "\u001b[94m\u001b[1m675-900\u001b[0m\u001b[0m\n",
      "\t \u001b[1mRONA\u001b[0m num seeds =  225\n",
      "\t \u001b[1mlfmm2\u001b[0m num seeds =  225\n",
      "\t \u001b[1mGF\u001b[0m num seeds =  225\n",
      "\t \u001b[1mrda\u001b[0m num seeds =  225\n",
      "\n",
      "\n",
      "\u001b[94m\u001b[1m900-1125\u001b[0m\u001b[0m\n",
      "\t \u001b[1mRONA\u001b[0m num seeds =  225\n",
      "\t \u001b[1mlfmm2\u001b[0m num seeds =  225\n",
      "\t \u001b[1mGF\u001b[0m num seeds =  225\n",
      "\t \u001b[1mrda\u001b[0m num seeds =  225\n",
      "\n",
      "\n",
      "\u001b[94m\u001b[1m1125-1350\u001b[0m\u001b[0m\n",
      "\t \u001b[1mRONA\u001b[0m num seeds =  225\n",
      "\t \u001b[1mlfmm2\u001b[0m num seeds =  225\n",
      "\t \u001b[1mGF\u001b[0m num seeds =  225\n",
      "\t \u001b[1mrda\u001b[0m num seeds =  225\n",
      "\n",
      "\n",
      "\u001b[94m\u001b[1m1350-1575\u001b[0m\u001b[0m\n",
      "\t \u001b[1mRONA\u001b[0m num seeds =  225\n",
      "\t \u001b[1mlfmm2\u001b[0m num seeds =  225\n",
      "\t \u001b[1mGF\u001b[0m num seeds =  225\n",
      "\t \u001b[1mrda\u001b[0m num seeds =  225\n",
      "\n",
      "\n",
      "\u001b[94m\u001b[1m1575-1800\u001b[0m\u001b[0m\n",
      "\t \u001b[1mRONA\u001b[0m num seeds =  225\n",
      "\t \u001b[1mlfmm2\u001b[0m num seeds =  225\n",
      "\t \u001b[1mGF\u001b[0m num seeds =  225\n",
      "\t \u001b[1mrda\u001b[0m num seeds =  225\n",
      "\n",
      "\n",
      "\u001b[94m\u001b[1m1800-2025\u001b[0m\u001b[0m\n",
      "\t \u001b[1mRONA\u001b[0m num seeds =  225\n",
      "\t \u001b[1mlfmm2\u001b[0m num seeds =  225\n",
      "\t \u001b[1mGF\u001b[0m num seeds =  225\n",
      "\t \u001b[1mrda\u001b[0m num seeds =  225\n",
      "\n",
      "\n",
      "\u001b[94m\u001b[1m2025-2250\u001b[0m\u001b[0m\n",
      "\t \u001b[1mRONA\u001b[0m num seeds =  225\n",
      "\t \u001b[1mlfmm2\u001b[0m num seeds =  225\n",
      "\t \u001b[1mGF\u001b[0m num seeds =  225\n",
      "\t \u001b[1mrda\u001b[0m num seeds =  225\n",
      "\n",
      "\n",
      "\n",
      " \u001b[1mRONA\u001b[0m df.shape = (1350000, 16) num_seeds = 2250 num_reps = 10\n",
      "\n",
      " \u001b[1mlfmm2\u001b[0m df.shape = (810000, 17) num_seeds = 2250 num_reps = 10\n",
      "\n",
      " \u001b[1mGF\u001b[0m df.shape = (810000, 16) num_seeds = 2250 num_reps = 10\n",
      "\n",
      " \u001b[1mrda\u001b[0m df.shape = (1620000, 18) num_seeds = 2250 num_reps = 10\n",
      "Function `combine_level_dicts` completed after : 0-00:00:30\n"
     ]
    },
    {
     "data": {
      "text/plain": [
       "4590000"
      ]
     },
     "execution_count": 2,
     "metadata": {},
     "output_type": "execute_result"
    }
   ],
   "source": [
    "all_data = mvp.combine_program_data(\n",
    "    mvp.combine_level_dicts(\n",
    "        use_bcs_data=False,\n",
    "    )\n",
    ").reset_index(drop=True)\n",
    "\n",
    "nrow(all_data)"
   ]
  },
  {
   "cell_type": "code",
   "execution_count": 3,
   "id": "4f29d44d",
   "metadata": {
    "scrolled": true
   },
   "outputs": [
    {
     "data": {
      "text/html": [
       "<div>\n",
       "<style scoped>\n",
       "    .dataframe tbody tr th:only-of-type {\n",
       "        vertical-align: middle;\n",
       "    }\n",
       "\n",
       "    .dataframe tbody tr th {\n",
       "        vertical-align: top;\n",
       "    }\n",
       "\n",
       "    .dataframe thead th {\n",
       "        text-align: right;\n",
       "    }\n",
       "</style>\n",
       "<table border=\"1\" class=\"dataframe\">\n",
       "  <thead>\n",
       "    <tr style=\"text-align: right;\">\n",
       "      <th></th>\n",
       "      <th>garden</th>\n",
       "      <th>score</th>\n",
       "      <th>glevel</th>\n",
       "      <th>plevel</th>\n",
       "      <th>pleio</th>\n",
       "      <th>slevel</th>\n",
       "      <th>landscape</th>\n",
       "      <th>popsize</th>\n",
       "      <th>migration</th>\n",
       "      <th>marker_set</th>\n",
       "      <th>seed</th>\n",
       "      <th>simulation_level</th>\n",
       "      <th>env</th>\n",
       "      <th>offset_level</th>\n",
       "      <th>program</th>\n",
       "      <th>rep</th>\n",
       "      <th>simulation_garden</th>\n",
       "      <th>final_LA</th>\n",
       "      <th>cor_TPR_temp</th>\n",
       "      <th>cor_TPR_sal</th>\n",
       "      <th>cor_FPR_temp_neutSNPs</th>\n",
       "      <th>cor_FPR_sal_neutSNPs</th>\n",
       "      <th>plevel_pleio</th>\n",
       "      <th>demography</th>\n",
       "      <th>ntraits</th>\n",
       "      <th>noncausal_env</th>\n",
       "      <th>structcrxn</th>\n",
       "    </tr>\n",
       "  </thead>\n",
       "  <tbody>\n",
       "    <tr>\n",
       "      <th>0</th>\n",
       "      <td>1</td>\n",
       "      <td>-0.061818</td>\n",
       "      <td>highly-polygenic</td>\n",
       "      <td>1-trait</td>\n",
       "      <td>no pleiotropy</td>\n",
       "      <td>NaN</td>\n",
       "      <td>Est-Clines</td>\n",
       "      <td>N-cline-center-to-edge</td>\n",
       "      <td>m-constant</td>\n",
       "      <td>all</td>\n",
       "      <td>1231094</td>\n",
       "      <td>highly-polygenic_1-trait_no-pleiotropy_nan_Est...</td>\n",
       "      <td>sal_opt</td>\n",
       "      <td>highly-polygenic_1-trait_no-pleiotropy_nan_Est...</td>\n",
       "      <td>RONA-sal_opt</td>\n",
       "      <td>0-225</td>\n",
       "      <td>highly-polygenic_1-trait_no-pleiotropy_nan_Est...</td>\n",
       "      <td>0.500854</td>\n",
       "      <td>0.46129</td>\n",
       "      <td>NaN</td>\n",
       "      <td>0.521256</td>\n",
       "      <td>0.0</td>\n",
       "      <td>1-trait_no pleiotropy</td>\n",
       "      <td>N-cline-center-to-edge_m-constant</td>\n",
       "      <td>NaN</td>\n",
       "      <td>NaN</td>\n",
       "      <td>NaN</td>\n",
       "    </tr>\n",
       "    <tr>\n",
       "      <th>1</th>\n",
       "      <td>2</td>\n",
       "      <td>-0.046869</td>\n",
       "      <td>highly-polygenic</td>\n",
       "      <td>1-trait</td>\n",
       "      <td>no pleiotropy</td>\n",
       "      <td>NaN</td>\n",
       "      <td>Est-Clines</td>\n",
       "      <td>N-cline-center-to-edge</td>\n",
       "      <td>m-constant</td>\n",
       "      <td>all</td>\n",
       "      <td>1231094</td>\n",
       "      <td>highly-polygenic_1-trait_no-pleiotropy_nan_Est...</td>\n",
       "      <td>sal_opt</td>\n",
       "      <td>highly-polygenic_1-trait_no-pleiotropy_nan_Est...</td>\n",
       "      <td>RONA-sal_opt</td>\n",
       "      <td>0-225</td>\n",
       "      <td>highly-polygenic_1-trait_no-pleiotropy_nan_Est...</td>\n",
       "      <td>0.500854</td>\n",
       "      <td>0.46129</td>\n",
       "      <td>NaN</td>\n",
       "      <td>0.521256</td>\n",
       "      <td>0.0</td>\n",
       "      <td>1-trait_no pleiotropy</td>\n",
       "      <td>N-cline-center-to-edge_m-constant</td>\n",
       "      <td>NaN</td>\n",
       "      <td>NaN</td>\n",
       "      <td>NaN</td>\n",
       "    </tr>\n",
       "  </tbody>\n",
       "</table>\n",
       "</div>"
      ],
      "text/plain": [
       "   garden     score            glevel   plevel          pleio slevel  \\\n",
       "0       1 -0.061818  highly-polygenic  1-trait  no pleiotropy    NaN   \n",
       "1       2 -0.046869  highly-polygenic  1-trait  no pleiotropy    NaN   \n",
       "\n",
       "    landscape                 popsize   migration marker_set     seed  \\\n",
       "0  Est-Clines  N-cline-center-to-edge  m-constant        all  1231094   \n",
       "1  Est-Clines  N-cline-center-to-edge  m-constant        all  1231094   \n",
       "\n",
       "                                    simulation_level      env  \\\n",
       "0  highly-polygenic_1-trait_no-pleiotropy_nan_Est...  sal_opt   \n",
       "1  highly-polygenic_1-trait_no-pleiotropy_nan_Est...  sal_opt   \n",
       "\n",
       "                                        offset_level       program    rep  \\\n",
       "0  highly-polygenic_1-trait_no-pleiotropy_nan_Est...  RONA-sal_opt  0-225   \n",
       "1  highly-polygenic_1-trait_no-pleiotropy_nan_Est...  RONA-sal_opt  0-225   \n",
       "\n",
       "                                   simulation_garden  final_LA  cor_TPR_temp  \\\n",
       "0  highly-polygenic_1-trait_no-pleiotropy_nan_Est...  0.500854       0.46129   \n",
       "1  highly-polygenic_1-trait_no-pleiotropy_nan_Est...  0.500854       0.46129   \n",
       "\n",
       "   cor_TPR_sal  cor_FPR_temp_neutSNPs  cor_FPR_sal_neutSNPs  \\\n",
       "0          NaN               0.521256                   0.0   \n",
       "1          NaN               0.521256                   0.0   \n",
       "\n",
       "            plevel_pleio                         demography ntraits  \\\n",
       "0  1-trait_no pleiotropy  N-cline-center-to-edge_m-constant     NaN   \n",
       "1  1-trait_no pleiotropy  N-cline-center-to-edge_m-constant     NaN   \n",
       "\n",
       "  noncausal_env structcrxn  \n",
       "0           NaN        NaN  \n",
       "1           NaN        NaN  "
      ]
     },
     "execution_count": 3,
     "metadata": {},
     "output_type": "execute_result"
    }
   ],
   "source": [
    "all_data.head(2)"
   ]
  },
  {
   "cell_type": "code",
   "execution_count": 4,
   "id": "e4b6377d",
   "metadata": {},
   "outputs": [
    {
     "data": {
      "text/plain": [
       "45"
      ]
     },
     "execution_count": 4,
     "metadata": {},
     "output_type": "execute_result"
    }
   ],
   "source": [
    "all_data[all_data.plevel == '1-trait'].simulation_level.unique().__len__()"
   ]
  },
  {
   "cell_type": "code",
   "execution_count": 5,
   "id": "5880d9ff",
   "metadata": {},
   "outputs": [
    {
     "data": {
      "text/plain": [
       "180"
      ]
     },
     "execution_count": 5,
     "metadata": {},
     "output_type": "execute_result"
    }
   ],
   "source": [
    "all_data[all_data.plevel == '2-trait'].simulation_level.unique().__len__()"
   ]
  },
  {
   "cell_type": "code",
   "execution_count": 6,
   "id": "a3093a8c",
   "metadata": {
    "scrolled": true
   },
   "outputs": [
    {
     "data": {
      "text/html": [
       "<div>\n",
       "<style scoped>\n",
       "    .dataframe tbody tr th:only-of-type {\n",
       "        vertical-align: middle;\n",
       "    }\n",
       "\n",
       "    .dataframe tbody tr th {\n",
       "        vertical-align: top;\n",
       "    }\n",
       "\n",
       "    .dataframe thead th {\n",
       "        text-align: right;\n",
       "    }\n",
       "</style>\n",
       "<table border=\"1\" class=\"dataframe\">\n",
       "  <thead>\n",
       "    <tr style=\"text-align: right;\">\n",
       "      <th></th>\n",
       "      <th>garden</th>\n",
       "      <th>score</th>\n",
       "      <th>glevel</th>\n",
       "      <th>plevel</th>\n",
       "      <th>pleio</th>\n",
       "      <th>slevel</th>\n",
       "      <th>landscape</th>\n",
       "      <th>popsize</th>\n",
       "      <th>migration</th>\n",
       "      <th>marker_set</th>\n",
       "      <th>seed</th>\n",
       "      <th>simulation_level</th>\n",
       "      <th>env</th>\n",
       "      <th>offset_level</th>\n",
       "      <th>program</th>\n",
       "      <th>rep</th>\n",
       "      <th>simulation_garden</th>\n",
       "      <th>final_LA</th>\n",
       "      <th>cor_TPR_temp</th>\n",
       "      <th>cor_TPR_sal</th>\n",
       "      <th>cor_FPR_temp_neutSNPs</th>\n",
       "      <th>cor_FPR_sal_neutSNPs</th>\n",
       "      <th>plevel_pleio</th>\n",
       "      <th>demography</th>\n",
       "      <th>ntraits</th>\n",
       "      <th>noncausal_env</th>\n",
       "      <th>structcrxn</th>\n",
       "    </tr>\n",
       "  </thead>\n",
       "  <tbody>\n",
       "    <tr>\n",
       "      <th>1350000</th>\n",
       "      <td>1</td>\n",
       "      <td>-0.679192</td>\n",
       "      <td>highly-polygenic</td>\n",
       "      <td>1-trait</td>\n",
       "      <td>no pleiotropy</td>\n",
       "      <td>NaN</td>\n",
       "      <td>Est-Clines</td>\n",
       "      <td>N-cline-center-to-edge</td>\n",
       "      <td>m-constant</td>\n",
       "      <td>all</td>\n",
       "      <td>1231094</td>\n",
       "      <td>highly-polygenic_1-trait_no-pleiotropy_nan_Est...</td>\n",
       "      <td>NaN</td>\n",
       "      <td>highly-polygenic_1-trait_no-pleiotropy_nan_Est...</td>\n",
       "      <td>lfmm2</td>\n",
       "      <td>0-225</td>\n",
       "      <td>highly-polygenic_1-trait_no-pleiotropy_nan_Est...</td>\n",
       "      <td>0.500854</td>\n",
       "      <td>0.46129</td>\n",
       "      <td>NaN</td>\n",
       "      <td>0.521256</td>\n",
       "      <td>0.0</td>\n",
       "      <td>1-trait_no pleiotropy</td>\n",
       "      <td>N-cline-center-to-edge_m-constant</td>\n",
       "      <td>ntraits-1</td>\n",
       "      <td>1-trait 1-env</td>\n",
       "      <td>NaN</td>\n",
       "    </tr>\n",
       "    <tr>\n",
       "      <th>1350001</th>\n",
       "      <td>2</td>\n",
       "      <td>-0.673131</td>\n",
       "      <td>highly-polygenic</td>\n",
       "      <td>1-trait</td>\n",
       "      <td>no pleiotropy</td>\n",
       "      <td>NaN</td>\n",
       "      <td>Est-Clines</td>\n",
       "      <td>N-cline-center-to-edge</td>\n",
       "      <td>m-constant</td>\n",
       "      <td>all</td>\n",
       "      <td>1231094</td>\n",
       "      <td>highly-polygenic_1-trait_no-pleiotropy_nan_Est...</td>\n",
       "      <td>NaN</td>\n",
       "      <td>highly-polygenic_1-trait_no-pleiotropy_nan_Est...</td>\n",
       "      <td>lfmm2</td>\n",
       "      <td>0-225</td>\n",
       "      <td>highly-polygenic_1-trait_no-pleiotropy_nan_Est...</td>\n",
       "      <td>0.500854</td>\n",
       "      <td>0.46129</td>\n",
       "      <td>NaN</td>\n",
       "      <td>0.521256</td>\n",
       "      <td>0.0</td>\n",
       "      <td>1-trait_no pleiotropy</td>\n",
       "      <td>N-cline-center-to-edge_m-constant</td>\n",
       "      <td>ntraits-1</td>\n",
       "      <td>1-trait 1-env</td>\n",
       "      <td>NaN</td>\n",
       "    </tr>\n",
       "  </tbody>\n",
       "</table>\n",
       "</div>"
      ],
      "text/plain": [
       "         garden     score            glevel   plevel          pleio slevel  \\\n",
       "1350000       1 -0.679192  highly-polygenic  1-trait  no pleiotropy    NaN   \n",
       "1350001       2 -0.673131  highly-polygenic  1-trait  no pleiotropy    NaN   \n",
       "\n",
       "          landscape                 popsize   migration marker_set     seed  \\\n",
       "1350000  Est-Clines  N-cline-center-to-edge  m-constant        all  1231094   \n",
       "1350001  Est-Clines  N-cline-center-to-edge  m-constant        all  1231094   \n",
       "\n",
       "                                          simulation_level  env  \\\n",
       "1350000  highly-polygenic_1-trait_no-pleiotropy_nan_Est...  NaN   \n",
       "1350001  highly-polygenic_1-trait_no-pleiotropy_nan_Est...  NaN   \n",
       "\n",
       "                                              offset_level program    rep  \\\n",
       "1350000  highly-polygenic_1-trait_no-pleiotropy_nan_Est...   lfmm2  0-225   \n",
       "1350001  highly-polygenic_1-trait_no-pleiotropy_nan_Est...   lfmm2  0-225   \n",
       "\n",
       "                                         simulation_garden  final_LA  \\\n",
       "1350000  highly-polygenic_1-trait_no-pleiotropy_nan_Est...  0.500854   \n",
       "1350001  highly-polygenic_1-trait_no-pleiotropy_nan_Est...  0.500854   \n",
       "\n",
       "         cor_TPR_temp  cor_TPR_sal  cor_FPR_temp_neutSNPs  \\\n",
       "1350000       0.46129          NaN               0.521256   \n",
       "1350001       0.46129          NaN               0.521256   \n",
       "\n",
       "         cor_FPR_sal_neutSNPs           plevel_pleio  \\\n",
       "1350000                   0.0  1-trait_no pleiotropy   \n",
       "1350001                   0.0  1-trait_no pleiotropy   \n",
       "\n",
       "                                demography    ntraits  noncausal_env  \\\n",
       "1350000  N-cline-center-to-edge_m-constant  ntraits-1  1-trait 1-env   \n",
       "1350001  N-cline-center-to-edge_m-constant  ntraits-1  1-trait 1-env   \n",
       "\n",
       "        structcrxn  \n",
       "1350000        NaN  \n",
       "1350001        NaN  "
      ]
     },
     "execution_count": 6,
     "metadata": {},
     "output_type": "execute_result"
    }
   ],
   "source": [
    "# subset data according to conceptual table for Adaptive Environment workflow\n",
    "ae_scores = mvp.subset_dataframe(\n",
    "    all_data,\n",
    "    keep_nuisance=False\n",
    ")\n",
    "\n",
    "ae_scores.head(2)"
   ]
  },
  {
   "cell_type": "code",
   "execution_count": 7,
   "id": "eed59fe8",
   "metadata": {},
   "outputs": [
    {
     "data": {
      "text/plain": [
       "2-trait    3240000\n",
       "1-trait     675000\n",
       "Name: plevel, dtype: int64"
      ]
     },
     "execution_count": 7,
     "metadata": {},
     "output_type": "execute_result"
    }
   ],
   "source": [
    "ae_scores.plevel.value_counts()"
   ]
  },
  {
   "cell_type": "code",
   "execution_count": 8,
   "id": "9ec73e24",
   "metadata": {},
   "outputs": [
    {
     "data": {
      "text/plain": [
       "lfmm2             675000\n",
       "GF                675000\n",
       "rda-nocorr        675000\n",
       "rda-structcorr    675000\n",
       "RONA-temp_opt     675000\n",
       "RONA-sal_opt      540000\n",
       "Name: program, dtype: int64"
      ]
     },
     "execution_count": 8,
     "metadata": {},
     "output_type": "execute_result"
    }
   ],
   "source": [
    "ae_scores.program.value_counts()  # sal_opt has less because of RONA's requirement for linear relationships"
   ]
  },
  {
   "cell_type": "code",
   "execution_count": 9,
   "id": "69efe1aa",
   "metadata": {},
   "outputs": [
    {
     "data": {
      "text/plain": [
       "3915000"
      ]
     },
     "execution_count": 9,
     "metadata": {},
     "output_type": "execute_result"
    }
   ],
   "source": [
    "nrow(ae_scores)"
   ]
  },
  {
   "cell_type": "code",
   "execution_count": 10,
   "id": "1d3e90a5",
   "metadata": {},
   "outputs": [
    {
     "data": {
      "text/plain": [
       "675000"
      ]
     },
     "execution_count": 10,
     "metadata": {},
     "output_type": "execute_result"
    }
   ],
   "source": [
    "nrow(all_data) - nrow(ae_scores)"
   ]
  },
  {
   "cell_type": "markdown",
   "id": "b13591d7",
   "metadata": {},
   "source": [
    "### 6-trait Adaptive Environment Workflow\n",
    "\n",
    "code modelled from 02_analysis/05_multivariate_sims/10_visualize_results.ipynb\n",
    "    - added code to exclude RDA outliers"
   ]
  },
  {
   "cell_type": "code",
   "execution_count": 11,
   "id": "4414a97e",
   "metadata": {
    "scrolled": true
   },
   "outputs": [
    {
     "data": {
      "text/plain": [
       "array(['adaptive', 'all', 'neutral'], dtype=object)"
      ]
     },
     "execution_count": 11,
     "metadata": {},
     "output_type": "execute_result"
    }
   ],
   "source": [
    "validations = []\n",
    "for method in ['gradient_forests', 'lfmm2', 'rda', 'RONA']:\n",
    "    validation_file = f'/home/b.lind/offsets/run_20220919_tutorial/{method}/validation/tutorial_validation_scores.txt'\n",
    "    \n",
    "    df = pd.read_table(validation_file)\n",
    "    \n",
    "    validations.append(df)\n",
    "    \n",
    "validation = pd.concat(validations).reset_index(drop=True)\n",
    "\n",
    "validation = validation[\n",
    "    (validation.marker_set != 'rda_outliers')\n",
    "]\n",
    "\n",
    "validation.marker_set.unique()"
   ]
  },
  {
   "cell_type": "code",
   "execution_count": 12,
   "id": "6e02462d",
   "metadata": {},
   "outputs": [
    {
     "data": {
      "text/plain": [
       "3000"
      ]
     },
     "execution_count": 12,
     "metadata": {},
     "output_type": "execute_result"
    }
   ],
   "source": [
    "nrow(validation)"
   ]
  },
  {
   "cell_type": "code",
   "execution_count": 13,
   "id": "81c13818",
   "metadata": {},
   "outputs": [
    {
     "data": {
      "text/plain": [
       "RONA              1800\n",
       "GF                 300\n",
       "lfmm2              300\n",
       "rda-nocorr         300\n",
       "rda-structcorr     300\n",
       "Name: program, dtype: int64"
      ]
     },
     "execution_count": 13,
     "metadata": {},
     "output_type": "execute_result"
    }
   ],
   "source": [
    "validation.program.value_counts()  # one RONA per trait * 3 marker sets * 100 gardens = 1800"
   ]
  },
  {
   "cell_type": "code",
   "execution_count": 14,
   "id": "fccec4b8",
   "metadata": {},
   "outputs": [
    {
     "data": {
      "text/plain": [
       "adaptive    1000\n",
       "all         1000\n",
       "neutral     1000\n",
       "Name: marker_set, dtype: int64"
      ]
     },
     "execution_count": 14,
     "metadata": {},
     "output_type": "execute_result"
    }
   ],
   "source": [
    "validation.marker_set.value_counts()"
   ]
  },
  {
   "cell_type": "code",
   "execution_count": null,
   "id": "8f54966d",
   "metadata": {},
   "outputs": [],
   "source": []
  },
  {
   "cell_type": "markdown",
   "id": "64e6a4e8",
   "metadata": {},
   "source": [
    "# Nuisance Environment Workflow"
   ]
  },
  {
   "cell_type": "markdown",
   "id": "0a434ff8",
   "metadata": {},
   "source": [
    "### 1- and 2-trait"
   ]
  },
  {
   "cell_type": "code",
   "execution_count": 15,
   "id": "f01e8e25",
   "metadata": {},
   "outputs": [
    {
     "data": {
      "text/plain": [
       "True"
      ]
     },
     "execution_count": 15,
     "metadata": {},
     "output_type": "execute_result"
    }
   ],
   "source": [
    "# subset part of nuisance data (1-trait 1-nuisance)\n",
    "nuis_data = all_data[(~all_data.index.isin(ae_scores.index))].copy()  # remove non-nuisance scores\n",
    "\n",
    "assert luni(nuis_data.plevel) == 1  # nuis data from the main runs should only be 1-trait\n",
    "assert all(nuis_data.plevel == '1-trait')\n",
    "\n",
    "nuis_data['nuis_envs'] = '1-trait 1-nuisance'\n",
    "\n",
    "nuis_data = nuis_data[nuis_data.rep == '0-225']  # keep only first rep\n",
    "\n",
    "nrow(nuis_data)*10 + nrow(ae_scores) == nrow(all_data)"
   ]
  },
  {
   "cell_type": "code",
   "execution_count": 16,
   "id": "d35e104e",
   "metadata": {},
   "outputs": [
    {
     "data": {
      "text/plain": [
       "0-225    67500\n",
       "Name: rep, dtype: int64"
      ]
     },
     "execution_count": 16,
     "metadata": {},
     "output_type": "execute_result"
    }
   ],
   "source": [
    "nuis_data.rep.value_counts()"
   ]
  },
  {
   "cell_type": "code",
   "execution_count": 17,
   "id": "63103ce5",
   "metadata": {},
   "outputs": [
    {
     "data": {
      "text/plain": [
       "RONA-sal_opt      13500\n",
       "lfmm2             13500\n",
       "GF                13500\n",
       "rda-nocorr        13500\n",
       "rda-structcorr    13500\n",
       "Name: program, dtype: int64"
      ]
     },
     "execution_count": 17,
     "metadata": {},
     "output_type": "execute_result"
    }
   ],
   "source": [
    "nuis_data.program.value_counts()"
   ]
  },
  {
   "cell_type": "code",
   "execution_count": 18,
   "id": "c9ad6a17",
   "metadata": {},
   "outputs": [
    {
     "data": {
      "text/plain": [
       "1-trait 1-nuisance    67500\n",
       "Name: nuis_envs, dtype: int64"
      ]
     },
     "execution_count": 18,
     "metadata": {},
     "output_type": "execute_result"
    }
   ],
   "source": [
    "nuis_data.nuis_envs.value_counts()"
   ]
  },
  {
   "cell_type": "code",
   "execution_count": null,
   "id": "ab49f890",
   "metadata": {},
   "outputs": [],
   "source": []
  },
  {
   "cell_type": "code",
   "execution_count": 19,
   "id": "d0264ed0",
   "metadata": {},
   "outputs": [
    {
     "data": {
      "text/plain": [
       "2-trait 2-nuisance    216000\n",
       "2-trait 3-nuisance    216000\n",
       "1-trait 1-nuisance     67500\n",
       "1-trait 3-nuisance     54000\n",
       "1-trait 4-nuisance     54000\n",
       "Name: nuis_envs, dtype: int64"
      ]
     },
     "execution_count": 19,
     "metadata": {},
     "output_type": "execute_result"
    }
   ],
   "source": [
    "# now get the remaining nuisance data - code modelled after 02.02.03_Q2_effect_of_experimental_parameters.ipynb#q2b\n",
    "outerdirs = {\n",
    "    'ISO-PSsd' : '/home/b.lind/offsets/run_20220919_nuisance/ISO-PSsd_0-225',\n",
    "    'ISO-TSsd-PSsd' : '/home/b.lind/offsets/run_20220919_nuisance/ISO-TSsd-PSsd_0-225'\n",
    "}\n",
    "\n",
    "# convert scores to dataframe, add some labels\n",
    "summary = mvp.get_summary_data()  # read in all simulation metadata\n",
    "\n",
    "scores = [nuis_data]\n",
    "for nuis_envs, outerdir in outerdirs.items():\n",
    "    # load the scores\n",
    "    level_scores = pklload(f'{outerdir}/summaries/all_performance_dicts/level_scores.pkl')\n",
    "\n",
    "    # get the good info\n",
    "    for program in level_scores.keys():\n",
    "        df = level_scores[program]['garden_performance']\n",
    "\n",
    "        # do some things that mvp.combine_level_dicts does\n",
    "        df['rep'] = '0-225'  # add rep ID - this was only reps that were done\n",
    "        for col in ['final_LA', 'cor_TPR_temp', 'cor_TPR_sal',\n",
    "                    'cor_FPR_temp_neutSNPs', 'cor_FPR_sal_neutSNPs']:  # get other info\n",
    "            df[col] = df.seed.map(summary[col])\n",
    "\n",
    "        # name the nuis envs\n",
    "        df['nuis_name'] = nuis_envs\n",
    "\n",
    "        # prepend sal to 1-trait sims\n",
    "        df.loc[df.plevel == '1-trait', 'nuis_name'] = 'sal-' + df.loc[df.plevel == '1-trait', 'nuis_name']\n",
    "\n",
    "        # rename nuis env\n",
    "        df['nuis_envs'] = df['nuis_name'].map(mvp.factor_names)\n",
    "        assert df.nuis_envs.notnull().all()\n",
    "        \n",
    "        if program == 'rda':\n",
    "            df['program'] = 'rda' + '-' + df['structcrxn']\n",
    "            df = df[~df.marker_set.str.contains('outlier')]  # remove RDA outliers\n",
    "        else:\n",
    "            df['program'] = program\n",
    "\n",
    "        scores.append(df)\n",
    "    \n",
    "nuis_scores = pd.concat(scores)\n",
    "\n",
    "nuis_scores.nuis_envs.value_counts()"
   ]
  },
  {
   "cell_type": "code",
   "execution_count": null,
   "id": "71b25d18",
   "metadata": {},
   "outputs": [],
   "source": []
  },
  {
   "cell_type": "code",
   "execution_count": 20,
   "id": "ec1e8829",
   "metadata": {},
   "outputs": [
    {
     "data": {
      "text/plain": [
       "lfmm2             148500\n",
       "GF                148500\n",
       "rda-nocorr        148500\n",
       "rda-structcorr    148500\n",
       "RONA-sal_opt       13500\n",
       "Name: program, dtype: int64"
      ]
     },
     "execution_count": 20,
     "metadata": {},
     "output_type": "execute_result"
    }
   ],
   "source": [
    "nuis_scores.program.value_counts()"
   ]
  },
  {
   "cell_type": "code",
   "execution_count": 21,
   "id": "8a0a5c75",
   "metadata": {},
   "outputs": [
    {
     "data": {
      "text/plain": [
       "2-trait    432000\n",
       "1-trait    175500\n",
       "Name: plevel, dtype: int64"
      ]
     },
     "execution_count": 21,
     "metadata": {},
     "output_type": "execute_result"
    }
   ],
   "source": [
    "nuis_scores.plevel.value_counts()"
   ]
  },
  {
   "cell_type": "code",
   "execution_count": null,
   "id": "5b177225",
   "metadata": {},
   "outputs": [],
   "source": []
  },
  {
   "cell_type": "markdown",
   "id": "106ad56c",
   "metadata": {},
   "source": [
    "### 6-trait\n",
    "\n",
    "code modelled from 02_analysis/07_experiments/02_nuisance_envs/15_visualize_multivariate_nuis_results.ipynb"
   ]
  },
  {
   "cell_type": "code",
   "execution_count": 22,
   "id": "c0e7c478",
   "metadata": {},
   "outputs": [
    {
     "data": {
      "text/html": [
       "<div>\n",
       "<style scoped>\n",
       "    .dataframe tbody tr th:only-of-type {\n",
       "        vertical-align: middle;\n",
       "    }\n",
       "\n",
       "    .dataframe tbody tr th {\n",
       "        vertical-align: top;\n",
       "    }\n",
       "\n",
       "    .dataframe thead th {\n",
       "        text-align: right;\n",
       "    }\n",
       "</style>\n",
       "<table border=\"1\" class=\"dataframe\">\n",
       "  <thead>\n",
       "    <tr style=\"text-align: right;\">\n",
       "      <th></th>\n",
       "      <th>seed</th>\n",
       "      <th>ind_or_pooled</th>\n",
       "      <th>marker_set</th>\n",
       "      <th>garden</th>\n",
       "      <th>score</th>\n",
       "      <th>program</th>\n",
       "      <th>nuis_envs</th>\n",
       "      <th>ntraits</th>\n",
       "      <th>structcorr</th>\n",
       "    </tr>\n",
       "  </thead>\n",
       "  <tbody>\n",
       "    <tr>\n",
       "      <th>0</th>\n",
       "      <td>tutorial</td>\n",
       "      <td>pooled</td>\n",
       "      <td>adaptive</td>\n",
       "      <td>1</td>\n",
       "      <td>-0.839297</td>\n",
       "      <td>GF</td>\n",
       "      <td>6-trait 3-nuisance</td>\n",
       "      <td>NaN</td>\n",
       "      <td>NaN</td>\n",
       "    </tr>\n",
       "    <tr>\n",
       "      <th>1</th>\n",
       "      <td>tutorial</td>\n",
       "      <td>pooled</td>\n",
       "      <td>adaptive</td>\n",
       "      <td>2</td>\n",
       "      <td>-0.803961</td>\n",
       "      <td>GF</td>\n",
       "      <td>6-trait 3-nuisance</td>\n",
       "      <td>NaN</td>\n",
       "      <td>NaN</td>\n",
       "    </tr>\n",
       "    <tr>\n",
       "      <th>2</th>\n",
       "      <td>tutorial</td>\n",
       "      <td>pooled</td>\n",
       "      <td>adaptive</td>\n",
       "      <td>3</td>\n",
       "      <td>-0.831902</td>\n",
       "      <td>GF</td>\n",
       "      <td>6-trait 3-nuisance</td>\n",
       "      <td>NaN</td>\n",
       "      <td>NaN</td>\n",
       "    </tr>\n",
       "    <tr>\n",
       "      <th>3</th>\n",
       "      <td>tutorial</td>\n",
       "      <td>pooled</td>\n",
       "      <td>adaptive</td>\n",
       "      <td>4</td>\n",
       "      <td>-0.754900</td>\n",
       "      <td>GF</td>\n",
       "      <td>6-trait 3-nuisance</td>\n",
       "      <td>NaN</td>\n",
       "      <td>NaN</td>\n",
       "    </tr>\n",
       "    <tr>\n",
       "      <th>4</th>\n",
       "      <td>tutorial</td>\n",
       "      <td>pooled</td>\n",
       "      <td>adaptive</td>\n",
       "      <td>5</td>\n",
       "      <td>-0.739012</td>\n",
       "      <td>GF</td>\n",
       "      <td>6-trait 3-nuisance</td>\n",
       "      <td>NaN</td>\n",
       "      <td>NaN</td>\n",
       "    </tr>\n",
       "    <tr>\n",
       "      <th>...</th>\n",
       "      <td>...</td>\n",
       "      <td>...</td>\n",
       "      <td>...</td>\n",
       "      <td>...</td>\n",
       "      <td>...</td>\n",
       "      <td>...</td>\n",
       "      <td>...</td>\n",
       "      <td>...</td>\n",
       "      <td>...</td>\n",
       "    </tr>\n",
       "    <tr>\n",
       "      <th>1195</th>\n",
       "      <td>tutorial</td>\n",
       "      <td>pooled</td>\n",
       "      <td>neutral</td>\n",
       "      <td>96</td>\n",
       "      <td>-0.501667</td>\n",
       "      <td>rda-structcorr</td>\n",
       "      <td>6-trait 3-nuisance</td>\n",
       "      <td>ntraits-9</td>\n",
       "      <td>structcorr</td>\n",
       "    </tr>\n",
       "    <tr>\n",
       "      <th>1196</th>\n",
       "      <td>tutorial</td>\n",
       "      <td>pooled</td>\n",
       "      <td>neutral</td>\n",
       "      <td>97</td>\n",
       "      <td>-0.511365</td>\n",
       "      <td>rda-structcorr</td>\n",
       "      <td>6-trait 3-nuisance</td>\n",
       "      <td>ntraits-9</td>\n",
       "      <td>structcorr</td>\n",
       "    </tr>\n",
       "    <tr>\n",
       "      <th>1197</th>\n",
       "      <td>tutorial</td>\n",
       "      <td>pooled</td>\n",
       "      <td>neutral</td>\n",
       "      <td>98</td>\n",
       "      <td>-0.417947</td>\n",
       "      <td>rda-structcorr</td>\n",
       "      <td>6-trait 3-nuisance</td>\n",
       "      <td>ntraits-9</td>\n",
       "      <td>structcorr</td>\n",
       "    </tr>\n",
       "    <tr>\n",
       "      <th>1198</th>\n",
       "      <td>tutorial</td>\n",
       "      <td>pooled</td>\n",
       "      <td>neutral</td>\n",
       "      <td>99</td>\n",
       "      <td>-0.456410</td>\n",
       "      <td>rda-structcorr</td>\n",
       "      <td>6-trait 3-nuisance</td>\n",
       "      <td>ntraits-9</td>\n",
       "      <td>structcorr</td>\n",
       "    </tr>\n",
       "    <tr>\n",
       "      <th>1199</th>\n",
       "      <td>tutorial</td>\n",
       "      <td>pooled</td>\n",
       "      <td>neutral</td>\n",
       "      <td>100</td>\n",
       "      <td>-0.489087</td>\n",
       "      <td>rda-structcorr</td>\n",
       "      <td>6-trait 3-nuisance</td>\n",
       "      <td>ntraits-9</td>\n",
       "      <td>structcorr</td>\n",
       "    </tr>\n",
       "  </tbody>\n",
       "</table>\n",
       "<p>1200 rows × 9 columns</p>\n",
       "</div>"
      ],
      "text/plain": [
       "          seed ind_or_pooled marker_set  garden     score         program  \\\n",
       "0     tutorial        pooled   adaptive       1 -0.839297              GF   \n",
       "1     tutorial        pooled   adaptive       2 -0.803961              GF   \n",
       "2     tutorial        pooled   adaptive       3 -0.831902              GF   \n",
       "3     tutorial        pooled   adaptive       4 -0.754900              GF   \n",
       "4     tutorial        pooled   adaptive       5 -0.739012              GF   \n",
       "...        ...           ...        ...     ...       ...             ...   \n",
       "1195  tutorial        pooled    neutral      96 -0.501667  rda-structcorr   \n",
       "1196  tutorial        pooled    neutral      97 -0.511365  rda-structcorr   \n",
       "1197  tutorial        pooled    neutral      98 -0.417947  rda-structcorr   \n",
       "1198  tutorial        pooled    neutral      99 -0.456410  rda-structcorr   \n",
       "1199  tutorial        pooled    neutral     100 -0.489087  rda-structcorr   \n",
       "\n",
       "               nuis_envs    ntraits  structcorr  \n",
       "0     6-trait 3-nuisance        NaN         NaN  \n",
       "1     6-trait 3-nuisance        NaN         NaN  \n",
       "2     6-trait 3-nuisance        NaN         NaN  \n",
       "3     6-trait 3-nuisance        NaN         NaN  \n",
       "4     6-trait 3-nuisance        NaN         NaN  \n",
       "...                  ...        ...         ...  \n",
       "1195  6-trait 3-nuisance  ntraits-9  structcorr  \n",
       "1196  6-trait 3-nuisance  ntraits-9  structcorr  \n",
       "1197  6-trait 3-nuisance  ntraits-9  structcorr  \n",
       "1198  6-trait 3-nuisance  ntraits-9  structcorr  \n",
       "1199  6-trait 3-nuisance  ntraits-9  structcorr  \n",
       "\n",
       "[1200 rows x 9 columns]"
      ]
     },
     "execution_count": 22,
     "metadata": {},
     "output_type": "execute_result"
    }
   ],
   "source": [
    "# get nuisance validation scores\n",
    "program_dirs = fs('/home/b.lind/offsets/run_20220919_nuisance/tutorial', exclude='pca')\n",
    "\n",
    "validations = []\n",
    "programs = []\n",
    "for d in program_dirs:\n",
    "    program = op.basename(d)\n",
    "    df = pd.read_table(f'{d}/validation/tutorial_validation_scores.txt')\n",
    "    if 'program' not in df.columns.tolist():\n",
    "        print(program)\n",
    "        df['program'] = program\n",
    "    df['nuis_envs'] = '6-trait 3-nuisance'\n",
    "        \n",
    "    validations.append(df)\n",
    "    \n",
    "    programs.append(program)\n",
    "    \n",
    "validation = pd.concat(validations)\n",
    "\n",
    "validation = validation[validation.marker_set != 'rda_outliers'].reset_index(drop=True)\n",
    "\n",
    "validation"
   ]
  },
  {
   "cell_type": "code",
   "execution_count": 23,
   "id": "d65d7bd0",
   "metadata": {},
   "outputs": [
    {
     "data": {
      "text/plain": [
       "adaptive    400\n",
       "all         400\n",
       "neutral     400\n",
       "Name: marker_set, dtype: int64"
      ]
     },
     "execution_count": 23,
     "metadata": {},
     "output_type": "execute_result"
    }
   ],
   "source": [
    "validation.marker_set.value_counts()"
   ]
  },
  {
   "cell_type": "code",
   "execution_count": 24,
   "id": "57184118",
   "metadata": {},
   "outputs": [
    {
     "data": {
      "text/plain": [
       "GF                300\n",
       "lfmm2             300\n",
       "rda-nocorr        300\n",
       "rda-structcorr    300\n",
       "Name: program, dtype: int64"
      ]
     },
     "execution_count": 24,
     "metadata": {},
     "output_type": "execute_result"
    }
   ],
   "source": [
    "validation.program.value_counts()"
   ]
  },
  {
   "cell_type": "code",
   "execution_count": null,
   "id": "16f5968b",
   "metadata": {},
   "outputs": [],
   "source": []
  },
  {
   "cell_type": "code",
   "execution_count": null,
   "id": "9ccd9ef2",
   "metadata": {},
   "outputs": [],
   "source": []
  },
  {
   "cell_type": "markdown",
   "id": "5997ec09",
   "metadata": {},
   "source": [
    "# Climate Novelty\n",
    "\n",
    "code for meta data and loading 1- and 2-trait climate novelty data is from 02.04.05_visualize_validation_of_outlier_predictions.ipynb"
   ]
  },
  {
   "cell_type": "markdown",
   "id": "84aec602",
   "metadata": {},
   "source": [
    "### meta data"
   ]
  },
  {
   "cell_type": "code",
   "execution_count": 25,
   "id": "4b37aa4a",
   "metadata": {},
   "outputs": [
    {
     "name": "stderr",
     "output_type": "stream",
     "text": [
      "100%|███████████████| 2250/2250 [00:02<00:00, 824.99it/s]\n"
     ]
    },
    {
     "data": {
      "text/html": [
       "<div>\n",
       "<style scoped>\n",
       "    .dataframe tbody tr th:only-of-type {\n",
       "        vertical-align: middle;\n",
       "    }\n",
       "\n",
       "    .dataframe tbody tr th {\n",
       "        vertical-align: top;\n",
       "    }\n",
       "\n",
       "    .dataframe thead th {\n",
       "        text-align: right;\n",
       "    }\n",
       "</style>\n",
       "<table border=\"1\" class=\"dataframe\">\n",
       "  <thead>\n",
       "    <tr style=\"text-align: right;\">\n",
       "      <th></th>\n",
       "      <th>level</th>\n",
       "      <th>reps</th>\n",
       "      <th>arch</th>\n",
       "      <th>demog_name</th>\n",
       "      <th>demog_level_sub</th>\n",
       "      <th>demog_level</th>\n",
       "      <th>MIG_x</th>\n",
       "      <th>MIG_y</th>\n",
       "      <th>xcline</th>\n",
       "      <th>ycline</th>\n",
       "      <th>demog</th>\n",
       "      <th>METAPOP_SIDE_x</th>\n",
       "      <th>METAPOP_SIDE_y</th>\n",
       "      <th>Nequal</th>\n",
       "      <th>isVariableM</th>\n",
       "      <th>MIG_breaks</th>\n",
       "      <th>arch_level_sub</th>\n",
       "      <th>arch_level</th>\n",
       "      <th>MU_base</th>\n",
       "      <th>MU_QTL_proportion</th>\n",
       "      <th>SIGMA_QTN_1</th>\n",
       "      <th>SIGMA_QTN_2</th>\n",
       "      <th>SIGMA_K_1</th>\n",
       "      <th>SIGMA_K_2</th>\n",
       "      <th>N_traits</th>\n",
       "      <th>ispleiotropy</th>\n",
       "      <th>seed</th>\n",
       "      <th>final_LA</th>\n",
       "      <th>glevel</th>\n",
       "      <th>plevel</th>\n",
       "      <th>pleio</th>\n",
       "      <th>slevel</th>\n",
       "      <th>landscape</th>\n",
       "      <th>popsize</th>\n",
       "      <th>migration</th>\n",
       "    </tr>\n",
       "  </thead>\n",
       "  <tbody>\n",
       "    <tr>\n",
       "      <th>1231094</th>\n",
       "      <td>highly-polygenic_1-trait__Est-Clines_N-cline-c...</td>\n",
       "      <td>1</td>\n",
       "      <td>highly-polygenic_1-trait</td>\n",
       "      <td>Est-Clines_N-cline-center-to-edge_m-constant</td>\n",
       "      <td>N-cline-center-to-edge_m-constant</td>\n",
       "      <td>Est-Clines</td>\n",
       "      <td>0.49</td>\n",
       "      <td>0.07</td>\n",
       "      <td>linear</td>\n",
       "      <td>linear</td>\n",
       "      <td>Estuary</td>\n",
       "      <td>10</td>\n",
       "      <td>10</td>\n",
       "      <td>4</td>\n",
       "      <td>0</td>\n",
       "      <td>0</td>\n",
       "      <td>1-trait</td>\n",
       "      <td>highly-polygenic</td>\n",
       "      <td>1.000000e-07</td>\n",
       "      <td>0.250</td>\n",
       "      <td>0.002</td>\n",
       "      <td>0.002</td>\n",
       "      <td>0.5</td>\n",
       "      <td>0.5</td>\n",
       "      <td>1</td>\n",
       "      <td>0</td>\n",
       "      <td>1231094</td>\n",
       "      <td>0.500854</td>\n",
       "      <td>highly-polygenic</td>\n",
       "      <td>1-trait</td>\n",
       "      <td>no pleiotropy</td>\n",
       "      <td>NaN</td>\n",
       "      <td>Est-Clines</td>\n",
       "      <td>N-cline-center-to-edge</td>\n",
       "      <td>m-constant</td>\n",
       "    </tr>\n",
       "    <tr>\n",
       "      <th>1231095</th>\n",
       "      <td>highly-polygenic_1-trait__Est-Clines_N-cline-N...</td>\n",
       "      <td>1</td>\n",
       "      <td>highly-polygenic_1-trait</td>\n",
       "      <td>Est-Clines_N-cline-N-to-S_m-constant</td>\n",
       "      <td>N-cline-N-to-S_m-constant</td>\n",
       "      <td>Est-Clines</td>\n",
       "      <td>0.49</td>\n",
       "      <td>0.07</td>\n",
       "      <td>linear</td>\n",
       "      <td>linear</td>\n",
       "      <td>Estuary</td>\n",
       "      <td>10</td>\n",
       "      <td>10</td>\n",
       "      <td>2</td>\n",
       "      <td>0</td>\n",
       "      <td>0</td>\n",
       "      <td>1-trait</td>\n",
       "      <td>highly-polygenic</td>\n",
       "      <td>1.000000e-07</td>\n",
       "      <td>0.250</td>\n",
       "      <td>0.002</td>\n",
       "      <td>0.002</td>\n",
       "      <td>0.5</td>\n",
       "      <td>0.5</td>\n",
       "      <td>1</td>\n",
       "      <td>0</td>\n",
       "      <td>1231095</td>\n",
       "      <td>0.505075</td>\n",
       "      <td>highly-polygenic</td>\n",
       "      <td>1-trait</td>\n",
       "      <td>no pleiotropy</td>\n",
       "      <td>NaN</td>\n",
       "      <td>Est-Clines</td>\n",
       "      <td>N-cline-N-to-S</td>\n",
       "      <td>m-constant</td>\n",
       "    </tr>\n",
       "    <tr>\n",
       "      <th>1231096</th>\n",
       "      <td>highly-polygenic_1-trait__Est-Clines_N-equal_m...</td>\n",
       "      <td>1</td>\n",
       "      <td>highly-polygenic_1-trait</td>\n",
       "      <td>Est-Clines_N-equal_m_breaks</td>\n",
       "      <td>N-equal_m_breaks</td>\n",
       "      <td>Est-Clines</td>\n",
       "      <td>0.49</td>\n",
       "      <td>0.07</td>\n",
       "      <td>linear</td>\n",
       "      <td>linear</td>\n",
       "      <td>Estuary</td>\n",
       "      <td>10</td>\n",
       "      <td>10</td>\n",
       "      <td>0</td>\n",
       "      <td>0</td>\n",
       "      <td>1</td>\n",
       "      <td>1-trait</td>\n",
       "      <td>highly-polygenic</td>\n",
       "      <td>1.000000e-07</td>\n",
       "      <td>0.250</td>\n",
       "      <td>0.002</td>\n",
       "      <td>0.002</td>\n",
       "      <td>0.5</td>\n",
       "      <td>0.5</td>\n",
       "      <td>1</td>\n",
       "      <td>0</td>\n",
       "      <td>1231096</td>\n",
       "      <td>0.499265</td>\n",
       "      <td>highly-polygenic</td>\n",
       "      <td>1-trait</td>\n",
       "      <td>no pleiotropy</td>\n",
       "      <td>NaN</td>\n",
       "      <td>Est-Clines</td>\n",
       "      <td>N-equal</td>\n",
       "      <td>m-breaks</td>\n",
       "    </tr>\n",
       "    <tr>\n",
       "      <th>1231097</th>\n",
       "      <td>highly-polygenic_1-trait__Est-Clines_N-equal_m...</td>\n",
       "      <td>1</td>\n",
       "      <td>highly-polygenic_1-trait</td>\n",
       "      <td>Est-Clines_N-equal_m-constant</td>\n",
       "      <td>N-equal_m-constant</td>\n",
       "      <td>Est-Clines</td>\n",
       "      <td>0.49</td>\n",
       "      <td>0.07</td>\n",
       "      <td>linear</td>\n",
       "      <td>linear</td>\n",
       "      <td>Estuary</td>\n",
       "      <td>10</td>\n",
       "      <td>10</td>\n",
       "      <td>0</td>\n",
       "      <td>0</td>\n",
       "      <td>0</td>\n",
       "      <td>1-trait</td>\n",
       "      <td>highly-polygenic</td>\n",
       "      <td>1.000000e-07</td>\n",
       "      <td>0.250</td>\n",
       "      <td>0.002</td>\n",
       "      <td>0.002</td>\n",
       "      <td>0.5</td>\n",
       "      <td>0.5</td>\n",
       "      <td>1</td>\n",
       "      <td>0</td>\n",
       "      <td>1231097</td>\n",
       "      <td>0.499365</td>\n",
       "      <td>highly-polygenic</td>\n",
       "      <td>1-trait</td>\n",
       "      <td>no pleiotropy</td>\n",
       "      <td>NaN</td>\n",
       "      <td>Est-Clines</td>\n",
       "      <td>N-equal</td>\n",
       "      <td>m-constant</td>\n",
       "    </tr>\n",
       "    <tr>\n",
       "      <th>1231098</th>\n",
       "      <td>highly-polygenic_1-trait__Est-Clines_N-variabl...</td>\n",
       "      <td>1</td>\n",
       "      <td>highly-polygenic_1-trait</td>\n",
       "      <td>Est-Clines_N-variable_m-variable</td>\n",
       "      <td>N-variable_m-variable</td>\n",
       "      <td>Est-Clines</td>\n",
       "      <td>0.49</td>\n",
       "      <td>0.07</td>\n",
       "      <td>linear</td>\n",
       "      <td>linear</td>\n",
       "      <td>Estuary</td>\n",
       "      <td>10</td>\n",
       "      <td>10</td>\n",
       "      <td>3</td>\n",
       "      <td>1</td>\n",
       "      <td>0</td>\n",
       "      <td>1-trait</td>\n",
       "      <td>highly-polygenic</td>\n",
       "      <td>1.000000e-07</td>\n",
       "      <td>0.250</td>\n",
       "      <td>0.002</td>\n",
       "      <td>0.002</td>\n",
       "      <td>0.5</td>\n",
       "      <td>0.5</td>\n",
       "      <td>1</td>\n",
       "      <td>0</td>\n",
       "      <td>1231098</td>\n",
       "      <td>0.501054</td>\n",
       "      <td>highly-polygenic</td>\n",
       "      <td>1-trait</td>\n",
       "      <td>no pleiotropy</td>\n",
       "      <td>NaN</td>\n",
       "      <td>Est-Clines</td>\n",
       "      <td>N-variable</td>\n",
       "      <td>m-variable</td>\n",
       "    </tr>\n",
       "    <tr>\n",
       "      <th>...</th>\n",
       "      <td>...</td>\n",
       "      <td>...</td>\n",
       "      <td>...</td>\n",
       "      <td>...</td>\n",
       "      <td>...</td>\n",
       "      <td>...</td>\n",
       "      <td>...</td>\n",
       "      <td>...</td>\n",
       "      <td>...</td>\n",
       "      <td>...</td>\n",
       "      <td>...</td>\n",
       "      <td>...</td>\n",
       "      <td>...</td>\n",
       "      <td>...</td>\n",
       "      <td>...</td>\n",
       "      <td>...</td>\n",
       "      <td>...</td>\n",
       "      <td>...</td>\n",
       "      <td>...</td>\n",
       "      <td>...</td>\n",
       "      <td>...</td>\n",
       "      <td>...</td>\n",
       "      <td>...</td>\n",
       "      <td>...</td>\n",
       "      <td>...</td>\n",
       "      <td>...</td>\n",
       "      <td>...</td>\n",
       "      <td>...</td>\n",
       "      <td>...</td>\n",
       "      <td>...</td>\n",
       "      <td>...</td>\n",
       "      <td>...</td>\n",
       "      <td>...</td>\n",
       "      <td>...</td>\n",
       "      <td>...</td>\n",
       "    </tr>\n",
       "    <tr>\n",
       "      <th>1233339</th>\n",
       "      <td>oligogenic_2-trait-pleiotropy-unequal-S__SS-Mt...</td>\n",
       "      <td>10</td>\n",
       "      <td>oliogenic_2-trait-pleiotropy-unequal-S</td>\n",
       "      <td>SS-Mtn_N-cline-center-to-edge_m-constant</td>\n",
       "      <td>N-cline-center-to-edge_m-constant</td>\n",
       "      <td>SS-Mtn</td>\n",
       "      <td>0.03</td>\n",
       "      <td>0.03</td>\n",
       "      <td>V</td>\n",
       "      <td>linear</td>\n",
       "      <td>SS</td>\n",
       "      <td>10</td>\n",
       "      <td>10</td>\n",
       "      <td>4</td>\n",
       "      <td>0</td>\n",
       "      <td>0</td>\n",
       "      <td>2-trait-pleiotropy-unequal-S</td>\n",
       "      <td>oliogenic</td>\n",
       "      <td>1.000000e-07</td>\n",
       "      <td>0.001</td>\n",
       "      <td>0.400</td>\n",
       "      <td>0.400</td>\n",
       "      <td>0.5</td>\n",
       "      <td>4.0</td>\n",
       "      <td>2</td>\n",
       "      <td>1</td>\n",
       "      <td>1233339</td>\n",
       "      <td>0.378143</td>\n",
       "      <td>oligogenic</td>\n",
       "      <td>2-trait</td>\n",
       "      <td>pleiotropy</td>\n",
       "      <td>unequal-S</td>\n",
       "      <td>SS-Mtn</td>\n",
       "      <td>N-cline-center-to-edge</td>\n",
       "      <td>m-constant</td>\n",
       "    </tr>\n",
       "    <tr>\n",
       "      <th>1233340</th>\n",
       "      <td>oligogenic_2-trait-pleiotropy-unequal-S__SS-Mt...</td>\n",
       "      <td>10</td>\n",
       "      <td>oliogenic_2-trait-pleiotropy-unequal-S</td>\n",
       "      <td>SS-Mtn_N-cline-N-to-S_m-constant</td>\n",
       "      <td>N-cline-N-to-S_m-constant</td>\n",
       "      <td>SS-Mtn</td>\n",
       "      <td>0.03</td>\n",
       "      <td>0.03</td>\n",
       "      <td>V</td>\n",
       "      <td>linear</td>\n",
       "      <td>SS</td>\n",
       "      <td>10</td>\n",
       "      <td>10</td>\n",
       "      <td>2</td>\n",
       "      <td>0</td>\n",
       "      <td>0</td>\n",
       "      <td>2-trait-pleiotropy-unequal-S</td>\n",
       "      <td>oliogenic</td>\n",
       "      <td>1.000000e-07</td>\n",
       "      <td>0.001</td>\n",
       "      <td>0.400</td>\n",
       "      <td>0.400</td>\n",
       "      <td>0.5</td>\n",
       "      <td>4.0</td>\n",
       "      <td>2</td>\n",
       "      <td>1</td>\n",
       "      <td>1233340</td>\n",
       "      <td>0.386475</td>\n",
       "      <td>oligogenic</td>\n",
       "      <td>2-trait</td>\n",
       "      <td>pleiotropy</td>\n",
       "      <td>unequal-S</td>\n",
       "      <td>SS-Mtn</td>\n",
       "      <td>N-cline-N-to-S</td>\n",
       "      <td>m-constant</td>\n",
       "    </tr>\n",
       "    <tr>\n",
       "      <th>1233341</th>\n",
       "      <td>oligogenic_2-trait-pleiotropy-unequal-S__SS-Mt...</td>\n",
       "      <td>10</td>\n",
       "      <td>oliogenic_2-trait-pleiotropy-unequal-S</td>\n",
       "      <td>SS-Mtn_N-equal_m_breaks</td>\n",
       "      <td>N-equal_m_breaks</td>\n",
       "      <td>SS-Mtn</td>\n",
       "      <td>0.03</td>\n",
       "      <td>0.03</td>\n",
       "      <td>V</td>\n",
       "      <td>linear</td>\n",
       "      <td>SS</td>\n",
       "      <td>10</td>\n",
       "      <td>10</td>\n",
       "      <td>0</td>\n",
       "      <td>0</td>\n",
       "      <td>1</td>\n",
       "      <td>2-trait-pleiotropy-unequal-S</td>\n",
       "      <td>oliogenic</td>\n",
       "      <td>1.000000e-07</td>\n",
       "      <td>0.001</td>\n",
       "      <td>0.400</td>\n",
       "      <td>0.400</td>\n",
       "      <td>0.5</td>\n",
       "      <td>4.0</td>\n",
       "      <td>2</td>\n",
       "      <td>1</td>\n",
       "      <td>1233341</td>\n",
       "      <td>0.406991</td>\n",
       "      <td>oligogenic</td>\n",
       "      <td>2-trait</td>\n",
       "      <td>pleiotropy</td>\n",
       "      <td>unequal-S</td>\n",
       "      <td>SS-Mtn</td>\n",
       "      <td>N-equal</td>\n",
       "      <td>m-breaks</td>\n",
       "    </tr>\n",
       "    <tr>\n",
       "      <th>1233342</th>\n",
       "      <td>oligogenic_2-trait-pleiotropy-unequal-S__SS-Mt...</td>\n",
       "      <td>10</td>\n",
       "      <td>oliogenic_2-trait-pleiotropy-unequal-S</td>\n",
       "      <td>SS-Mtn_N-equal_m-constant</td>\n",
       "      <td>N-equal_m-constant</td>\n",
       "      <td>SS-Mtn</td>\n",
       "      <td>0.03</td>\n",
       "      <td>0.03</td>\n",
       "      <td>V</td>\n",
       "      <td>linear</td>\n",
       "      <td>SS</td>\n",
       "      <td>10</td>\n",
       "      <td>10</td>\n",
       "      <td>0</td>\n",
       "      <td>0</td>\n",
       "      <td>0</td>\n",
       "      <td>2-trait-pleiotropy-unequal-S</td>\n",
       "      <td>oliogenic</td>\n",
       "      <td>1.000000e-07</td>\n",
       "      <td>0.001</td>\n",
       "      <td>0.400</td>\n",
       "      <td>0.400</td>\n",
       "      <td>0.5</td>\n",
       "      <td>4.0</td>\n",
       "      <td>2</td>\n",
       "      <td>1</td>\n",
       "      <td>1233342</td>\n",
       "      <td>0.411540</td>\n",
       "      <td>oligogenic</td>\n",
       "      <td>2-trait</td>\n",
       "      <td>pleiotropy</td>\n",
       "      <td>unequal-S</td>\n",
       "      <td>SS-Mtn</td>\n",
       "      <td>N-equal</td>\n",
       "      <td>m-constant</td>\n",
       "    </tr>\n",
       "    <tr>\n",
       "      <th>1233343</th>\n",
       "      <td>oligogenic_2-trait-pleiotropy-unequal-S__SS-Mt...</td>\n",
       "      <td>10</td>\n",
       "      <td>oliogenic_2-trait-pleiotropy-unequal-S</td>\n",
       "      <td>SS-Mtn_N-variable_m-variable</td>\n",
       "      <td>N-variable_m-variable</td>\n",
       "      <td>SS-Mtn</td>\n",
       "      <td>0.03</td>\n",
       "      <td>0.03</td>\n",
       "      <td>V</td>\n",
       "      <td>linear</td>\n",
       "      <td>SS</td>\n",
       "      <td>10</td>\n",
       "      <td>10</td>\n",
       "      <td>3</td>\n",
       "      <td>1</td>\n",
       "      <td>0</td>\n",
       "      <td>2-trait-pleiotropy-unequal-S</td>\n",
       "      <td>oliogenic</td>\n",
       "      <td>1.000000e-07</td>\n",
       "      <td>0.001</td>\n",
       "      <td>0.400</td>\n",
       "      <td>0.400</td>\n",
       "      <td>0.5</td>\n",
       "      <td>4.0</td>\n",
       "      <td>2</td>\n",
       "      <td>1</td>\n",
       "      <td>1233343</td>\n",
       "      <td>0.361984</td>\n",
       "      <td>oligogenic</td>\n",
       "      <td>2-trait</td>\n",
       "      <td>pleiotropy</td>\n",
       "      <td>unequal-S</td>\n",
       "      <td>SS-Mtn</td>\n",
       "      <td>N-variable</td>\n",
       "      <td>m-variable</td>\n",
       "    </tr>\n",
       "  </tbody>\n",
       "</table>\n",
       "<p>2250 rows × 35 columns</p>\n",
       "</div>"
      ],
      "text/plain": [
       "                                                     level  reps  \\\n",
       "1231094  highly-polygenic_1-trait__Est-Clines_N-cline-c...     1   \n",
       "1231095  highly-polygenic_1-trait__Est-Clines_N-cline-N...     1   \n",
       "1231096  highly-polygenic_1-trait__Est-Clines_N-equal_m...     1   \n",
       "1231097  highly-polygenic_1-trait__Est-Clines_N-equal_m...     1   \n",
       "1231098  highly-polygenic_1-trait__Est-Clines_N-variabl...     1   \n",
       "...                                                    ...   ...   \n",
       "1233339  oligogenic_2-trait-pleiotropy-unequal-S__SS-Mt...    10   \n",
       "1233340  oligogenic_2-trait-pleiotropy-unequal-S__SS-Mt...    10   \n",
       "1233341  oligogenic_2-trait-pleiotropy-unequal-S__SS-Mt...    10   \n",
       "1233342  oligogenic_2-trait-pleiotropy-unequal-S__SS-Mt...    10   \n",
       "1233343  oligogenic_2-trait-pleiotropy-unequal-S__SS-Mt...    10   \n",
       "\n",
       "                                           arch  \\\n",
       "1231094                highly-polygenic_1-trait   \n",
       "1231095                highly-polygenic_1-trait   \n",
       "1231096                highly-polygenic_1-trait   \n",
       "1231097                highly-polygenic_1-trait   \n",
       "1231098                highly-polygenic_1-trait   \n",
       "...                                         ...   \n",
       "1233339  oliogenic_2-trait-pleiotropy-unequal-S   \n",
       "1233340  oliogenic_2-trait-pleiotropy-unequal-S   \n",
       "1233341  oliogenic_2-trait-pleiotropy-unequal-S   \n",
       "1233342  oliogenic_2-trait-pleiotropy-unequal-S   \n",
       "1233343  oliogenic_2-trait-pleiotropy-unequal-S   \n",
       "\n",
       "                                           demog_name  \\\n",
       "1231094  Est-Clines_N-cline-center-to-edge_m-constant   \n",
       "1231095          Est-Clines_N-cline-N-to-S_m-constant   \n",
       "1231096                   Est-Clines_N-equal_m_breaks   \n",
       "1231097                 Est-Clines_N-equal_m-constant   \n",
       "1231098              Est-Clines_N-variable_m-variable   \n",
       "...                                               ...   \n",
       "1233339      SS-Mtn_N-cline-center-to-edge_m-constant   \n",
       "1233340              SS-Mtn_N-cline-N-to-S_m-constant   \n",
       "1233341                       SS-Mtn_N-equal_m_breaks   \n",
       "1233342                     SS-Mtn_N-equal_m-constant   \n",
       "1233343                  SS-Mtn_N-variable_m-variable   \n",
       "\n",
       "                           demog_level_sub demog_level  MIG_x  MIG_y  xcline  \\\n",
       "1231094  N-cline-center-to-edge_m-constant  Est-Clines   0.49   0.07  linear   \n",
       "1231095          N-cline-N-to-S_m-constant  Est-Clines   0.49   0.07  linear   \n",
       "1231096                   N-equal_m_breaks  Est-Clines   0.49   0.07  linear   \n",
       "1231097                 N-equal_m-constant  Est-Clines   0.49   0.07  linear   \n",
       "1231098              N-variable_m-variable  Est-Clines   0.49   0.07  linear   \n",
       "...                                    ...         ...    ...    ...     ...   \n",
       "1233339  N-cline-center-to-edge_m-constant      SS-Mtn   0.03   0.03       V   \n",
       "1233340          N-cline-N-to-S_m-constant      SS-Mtn   0.03   0.03       V   \n",
       "1233341                   N-equal_m_breaks      SS-Mtn   0.03   0.03       V   \n",
       "1233342                 N-equal_m-constant      SS-Mtn   0.03   0.03       V   \n",
       "1233343              N-variable_m-variable      SS-Mtn   0.03   0.03       V   \n",
       "\n",
       "         ycline    demog  METAPOP_SIDE_x  METAPOP_SIDE_y  Nequal  isVariableM  \\\n",
       "1231094  linear  Estuary              10              10       4            0   \n",
       "1231095  linear  Estuary              10              10       2            0   \n",
       "1231096  linear  Estuary              10              10       0            0   \n",
       "1231097  linear  Estuary              10              10       0            0   \n",
       "1231098  linear  Estuary              10              10       3            1   \n",
       "...         ...      ...             ...             ...     ...          ...   \n",
       "1233339  linear       SS              10              10       4            0   \n",
       "1233340  linear       SS              10              10       2            0   \n",
       "1233341  linear       SS              10              10       0            0   \n",
       "1233342  linear       SS              10              10       0            0   \n",
       "1233343  linear       SS              10              10       3            1   \n",
       "\n",
       "         MIG_breaks                arch_level_sub        arch_level  \\\n",
       "1231094           0                       1-trait  highly-polygenic   \n",
       "1231095           0                       1-trait  highly-polygenic   \n",
       "1231096           1                       1-trait  highly-polygenic   \n",
       "1231097           0                       1-trait  highly-polygenic   \n",
       "1231098           0                       1-trait  highly-polygenic   \n",
       "...             ...                           ...               ...   \n",
       "1233339           0  2-trait-pleiotropy-unequal-S         oliogenic   \n",
       "1233340           0  2-trait-pleiotropy-unequal-S         oliogenic   \n",
       "1233341           1  2-trait-pleiotropy-unequal-S         oliogenic   \n",
       "1233342           0  2-trait-pleiotropy-unequal-S         oliogenic   \n",
       "1233343           0  2-trait-pleiotropy-unequal-S         oliogenic   \n",
       "\n",
       "              MU_base  MU_QTL_proportion  SIGMA_QTN_1  SIGMA_QTN_2  SIGMA_K_1  \\\n",
       "1231094  1.000000e-07              0.250        0.002        0.002        0.5   \n",
       "1231095  1.000000e-07              0.250        0.002        0.002        0.5   \n",
       "1231096  1.000000e-07              0.250        0.002        0.002        0.5   \n",
       "1231097  1.000000e-07              0.250        0.002        0.002        0.5   \n",
       "1231098  1.000000e-07              0.250        0.002        0.002        0.5   \n",
       "...               ...                ...          ...          ...        ...   \n",
       "1233339  1.000000e-07              0.001        0.400        0.400        0.5   \n",
       "1233340  1.000000e-07              0.001        0.400        0.400        0.5   \n",
       "1233341  1.000000e-07              0.001        0.400        0.400        0.5   \n",
       "1233342  1.000000e-07              0.001        0.400        0.400        0.5   \n",
       "1233343  1.000000e-07              0.001        0.400        0.400        0.5   \n",
       "\n",
       "         SIGMA_K_2  N_traits  ispleiotropy     seed  final_LA  \\\n",
       "1231094        0.5         1             0  1231094  0.500854   \n",
       "1231095        0.5         1             0  1231095  0.505075   \n",
       "1231096        0.5         1             0  1231096  0.499265   \n",
       "1231097        0.5         1             0  1231097  0.499365   \n",
       "1231098        0.5         1             0  1231098  0.501054   \n",
       "...            ...       ...           ...      ...       ...   \n",
       "1233339        4.0         2             1  1233339  0.378143   \n",
       "1233340        4.0         2             1  1233340  0.386475   \n",
       "1233341        4.0         2             1  1233341  0.406991   \n",
       "1233342        4.0         2             1  1233342  0.411540   \n",
       "1233343        4.0         2             1  1233343  0.361984   \n",
       "\n",
       "                   glevel   plevel          pleio     slevel   landscape  \\\n",
       "1231094  highly-polygenic  1-trait  no pleiotropy        NaN  Est-Clines   \n",
       "1231095  highly-polygenic  1-trait  no pleiotropy        NaN  Est-Clines   \n",
       "1231096  highly-polygenic  1-trait  no pleiotropy        NaN  Est-Clines   \n",
       "1231097  highly-polygenic  1-trait  no pleiotropy        NaN  Est-Clines   \n",
       "1231098  highly-polygenic  1-trait  no pleiotropy        NaN  Est-Clines   \n",
       "...                   ...      ...            ...        ...         ...   \n",
       "1233339        oligogenic  2-trait     pleiotropy  unequal-S      SS-Mtn   \n",
       "1233340        oligogenic  2-trait     pleiotropy  unequal-S      SS-Mtn   \n",
       "1233341        oligogenic  2-trait     pleiotropy  unequal-S      SS-Mtn   \n",
       "1233342        oligogenic  2-trait     pleiotropy  unequal-S      SS-Mtn   \n",
       "1233343        oligogenic  2-trait     pleiotropy  unequal-S      SS-Mtn   \n",
       "\n",
       "                        popsize   migration  \n",
       "1231094  N-cline-center-to-edge  m-constant  \n",
       "1231095          N-cline-N-to-S  m-constant  \n",
       "1231096                 N-equal    m-breaks  \n",
       "1231097                 N-equal  m-constant  \n",
       "1231098              N-variable  m-variable  \n",
       "...                         ...         ...  \n",
       "1233339  N-cline-center-to-edge  m-constant  \n",
       "1233340          N-cline-N-to-S  m-constant  \n",
       "1233341                 N-equal    m-breaks  \n",
       "1233342                 N-equal  m-constant  \n",
       "1233343              N-variable  m-variable  \n",
       "\n",
       "[2250 rows x 35 columns]"
      ]
     },
     "execution_count": 25,
     "metadata": {},
     "output_type": "execute_result"
    }
   ],
   "source": [
    "params = mvp.read_params_file()\n",
    "\n",
    "params"
   ]
  },
  {
   "cell_type": "code",
   "execution_count": 26,
   "id": "6135c5e8",
   "metadata": {},
   "outputs": [
    {
     "data": {
      "text/plain": [
       "0.500854"
      ]
     },
     "execution_count": 26,
     "metadata": {},
     "output_type": "execute_result"
    }
   ],
   "source": [
    "# map seed to final LA\n",
    "final_la = params.final_LA.to_dict()\n",
    "\n",
    "final_la['1231094']"
   ]
  },
  {
   "cell_type": "code",
   "execution_count": 27,
   "id": "9e70e534",
   "metadata": {},
   "outputs": [
    {
     "data": {
      "text/plain": [
       "'Est-Clines'"
      ]
     },
     "execution_count": 27,
     "metadata": {},
     "output_type": "execute_result"
    }
   ],
   "source": [
    "seed_landscape = dict(zip(params.seed.astype(str), params.demog_level))\n",
    "\n",
    "seed_landscape['1231094']"
   ]
  },
  {
   "cell_type": "code",
   "execution_count": 28,
   "id": "0c50a2af",
   "metadata": {},
   "outputs": [
    {
     "data": {
      "text/plain": [
       "[1231094, 1231095, 1231096, 1231097, 1231098]"
      ]
     },
     "execution_count": 28,
     "metadata": {},
     "output_type": "execute_result"
    }
   ],
   "source": [
    "landscape_seeds = params.groupby('demog_level')['seed'].apply(list).to_dict()\n",
    "\n",
    "landscape_seeds['Est-Clines'][:5]"
   ]
  },
  {
   "cell_type": "code",
   "execution_count": 29,
   "id": "4957d928",
   "metadata": {},
   "outputs": [],
   "source": [
    "outlierness = {0.0: 0.0,\n",
    "               1.1: 1.72,\n",
    "               1.5: 2.35,\n",
    "               1.75: 2.74,\n",
    "               2.0: 3.13,\n",
    "               2.25: 3.53,\n",
    "               2.5: 3.92,\n",
    "               2.75: 4.31,\n",
    "               3.0: 4.7,\n",
    "               3.25: 5.09,\n",
    "               3.5: 5.48,\n",
    "               3.75: 5.88}"
   ]
  },
  {
   "cell_type": "markdown",
   "id": "abc295c8",
   "metadata": {},
   "source": [
    "### 1- and 2-trait"
   ]
  },
  {
   "cell_type": "code",
   "execution_count": 30,
   "id": "db7b1315",
   "metadata": {},
   "outputs": [
    {
     "data": {
      "text/plain": [
       "['/home/b.lind/offsets/climate_outlier_runs/run_20220919_0-225',\n",
       " '/home/b.lind/offsets/climate_outlier_runs/run_20220919_1125-1350',\n",
       " '/home/b.lind/offsets/climate_outlier_runs/run_20220919_1350-1575',\n",
       " '/home/b.lind/offsets/climate_outlier_runs/run_20220919_1575-1800',\n",
       " '/home/b.lind/offsets/climate_outlier_runs/run_20220919_1800-2025',\n",
       " '/home/b.lind/offsets/climate_outlier_runs/run_20220919_2025-2250',\n",
       " '/home/b.lind/offsets/climate_outlier_runs/run_20220919_225-450',\n",
       " '/home/b.lind/offsets/climate_outlier_runs/run_20220919_450-675',\n",
       " '/home/b.lind/offsets/climate_outlier_runs/run_20220919_675-900',\n",
       " '/home/b.lind/offsets/climate_outlier_runs/run_20220919_900-1125',\n",
       " '/home/b.lind/offsets/climate_outlier_runs/1-trait_run_20220919_0-225',\n",
       " '/home/b.lind/offsets/climate_outlier_runs/1-trait_run_20220919_1125-1350',\n",
       " '/home/b.lind/offsets/climate_outlier_runs/1-trait_run_20220919_1350-1575',\n",
       " '/home/b.lind/offsets/climate_outlier_runs/1-trait_run_20220919_1575-1800',\n",
       " '/home/b.lind/offsets/climate_outlier_runs/1-trait_run_20220919_1800-2025',\n",
       " '/home/b.lind/offsets/climate_outlier_runs/1-trait_run_20220919_2025-2250',\n",
       " '/home/b.lind/offsets/climate_outlier_runs/1-trait_run_20220919_225-450',\n",
       " '/home/b.lind/offsets/climate_outlier_runs/1-trait_run_20220919_450-675',\n",
       " '/home/b.lind/offsets/climate_outlier_runs/1-trait_run_20220919_675-900',\n",
       " '/home/b.lind/offsets/climate_outlier_runs/1-trait_run_20220919_900-1125']"
      ]
     },
     "execution_count": 30,
     "metadata": {},
     "output_type": "execute_result"
    }
   ],
   "source": [
    "climdir = '/home/b.lind/offsets/climate_outlier_runs'\n",
    "\n",
    "clim_rundirs = fs(climdir, startswith='run', dirs=True) + \\\n",
    "               fs(climdir, startswith='1-trait', exclude='garden_files', dirs=True)\n",
    "\n",
    "clim_rundirs"
   ]
  },
  {
   "cell_type": "code",
   "execution_count": 31,
   "id": "a4ecc61c",
   "metadata": {
    "scrolled": true
   },
   "outputs": [
    {
     "name": "stderr",
     "output_type": "stream",
     "text": [
      "100%|███████████████| 20/20 [00:04<00:00,  4.55it/s]\n"
     ]
    },
    {
     "data": {
      "text/html": [
       "<div>\n",
       "<style scoped>\n",
       "    .dataframe tbody tr th:only-of-type {\n",
       "        vertical-align: middle;\n",
       "    }\n",
       "\n",
       "    .dataframe tbody tr th {\n",
       "        vertical-align: top;\n",
       "    }\n",
       "\n",
       "    .dataframe thead th {\n",
       "        text-align: right;\n",
       "    }\n",
       "</style>\n",
       "<table border=\"1\" class=\"dataframe\">\n",
       "  <thead>\n",
       "    <tr style=\"text-align: right;\">\n",
       "      <th></th>\n",
       "      <th>seed</th>\n",
       "      <th>marker_set</th>\n",
       "      <th>program</th>\n",
       "      <th>outlier_clim</th>\n",
       "      <th>score</th>\n",
       "      <th>block</th>\n",
       "      <th>glevel</th>\n",
       "      <th>plevel</th>\n",
       "      <th>pleio</th>\n",
       "      <th>slevel</th>\n",
       "      <th>landscape</th>\n",
       "      <th>popsize</th>\n",
       "      <th>migration</th>\n",
       "      <th>noncausal_env</th>\n",
       "      <th>ntraits</th>\n",
       "      <th>ind_or_pooled</th>\n",
       "      <th>use_RDA_outliers</th>\n",
       "      <th>structcorr</th>\n",
       "      <th>env</th>\n",
       "      <th>demography</th>\n",
       "      <th>final_la</th>\n",
       "      <th>outlierness</th>\n",
       "    </tr>\n",
       "  </thead>\n",
       "  <tbody>\n",
       "    <tr>\n",
       "      <th>0</th>\n",
       "      <td>1231109</td>\n",
       "      <td>adaptive</td>\n",
       "      <td>GF</td>\n",
       "      <td>0.00</td>\n",
       "      <td>-0.666667</td>\n",
       "      <td>all</td>\n",
       "      <td>highly-polygenic</td>\n",
       "      <td>2-trait</td>\n",
       "      <td>no pleiotropy</td>\n",
       "      <td>equal-S</td>\n",
       "      <td>Est-Clines</td>\n",
       "      <td>N-cline-center-to-edge</td>\n",
       "      <td>m-constant</td>\n",
       "      <td>2-trait 2-envs</td>\n",
       "      <td>NaN</td>\n",
       "      <td>NaN</td>\n",
       "      <td>NaN</td>\n",
       "      <td>NaN</td>\n",
       "      <td>NaN</td>\n",
       "      <td>N-cline-center-to-edge_m-constant</td>\n",
       "      <td>0.501332</td>\n",
       "      <td>0.00</td>\n",
       "    </tr>\n",
       "    <tr>\n",
       "      <th>1</th>\n",
       "      <td>1231109</td>\n",
       "      <td>adaptive</td>\n",
       "      <td>GF</td>\n",
       "      <td>1.10</td>\n",
       "      <td>-0.657894</td>\n",
       "      <td>all</td>\n",
       "      <td>highly-polygenic</td>\n",
       "      <td>2-trait</td>\n",
       "      <td>no pleiotropy</td>\n",
       "      <td>equal-S</td>\n",
       "      <td>Est-Clines</td>\n",
       "      <td>N-cline-center-to-edge</td>\n",
       "      <td>m-constant</td>\n",
       "      <td>2-trait 2-envs</td>\n",
       "      <td>NaN</td>\n",
       "      <td>NaN</td>\n",
       "      <td>NaN</td>\n",
       "      <td>NaN</td>\n",
       "      <td>NaN</td>\n",
       "      <td>N-cline-center-to-edge_m-constant</td>\n",
       "      <td>0.501332</td>\n",
       "      <td>1.72</td>\n",
       "    </tr>\n",
       "    <tr>\n",
       "      <th>2</th>\n",
       "      <td>1231109</td>\n",
       "      <td>adaptive</td>\n",
       "      <td>GF</td>\n",
       "      <td>1.50</td>\n",
       "      <td>-0.667384</td>\n",
       "      <td>all</td>\n",
       "      <td>highly-polygenic</td>\n",
       "      <td>2-trait</td>\n",
       "      <td>no pleiotropy</td>\n",
       "      <td>equal-S</td>\n",
       "      <td>Est-Clines</td>\n",
       "      <td>N-cline-center-to-edge</td>\n",
       "      <td>m-constant</td>\n",
       "      <td>2-trait 2-envs</td>\n",
       "      <td>NaN</td>\n",
       "      <td>NaN</td>\n",
       "      <td>NaN</td>\n",
       "      <td>NaN</td>\n",
       "      <td>NaN</td>\n",
       "      <td>N-cline-center-to-edge_m-constant</td>\n",
       "      <td>0.501332</td>\n",
       "      <td>2.35</td>\n",
       "    </tr>\n",
       "    <tr>\n",
       "      <th>3</th>\n",
       "      <td>1231109</td>\n",
       "      <td>adaptive</td>\n",
       "      <td>GF</td>\n",
       "      <td>1.75</td>\n",
       "      <td>-0.639299</td>\n",
       "      <td>all</td>\n",
       "      <td>highly-polygenic</td>\n",
       "      <td>2-trait</td>\n",
       "      <td>no pleiotropy</td>\n",
       "      <td>equal-S</td>\n",
       "      <td>Est-Clines</td>\n",
       "      <td>N-cline-center-to-edge</td>\n",
       "      <td>m-constant</td>\n",
       "      <td>2-trait 2-envs</td>\n",
       "      <td>NaN</td>\n",
       "      <td>NaN</td>\n",
       "      <td>NaN</td>\n",
       "      <td>NaN</td>\n",
       "      <td>NaN</td>\n",
       "      <td>N-cline-center-to-edge_m-constant</td>\n",
       "      <td>0.501332</td>\n",
       "      <td>2.74</td>\n",
       "    </tr>\n",
       "    <tr>\n",
       "      <th>4</th>\n",
       "      <td>1231109</td>\n",
       "      <td>adaptive</td>\n",
       "      <td>GF</td>\n",
       "      <td>2.00</td>\n",
       "      <td>-0.589784</td>\n",
       "      <td>all</td>\n",
       "      <td>highly-polygenic</td>\n",
       "      <td>2-trait</td>\n",
       "      <td>no pleiotropy</td>\n",
       "      <td>equal-S</td>\n",
       "      <td>Est-Clines</td>\n",
       "      <td>N-cline-center-to-edge</td>\n",
       "      <td>m-constant</td>\n",
       "      <td>2-trait 2-envs</td>\n",
       "      <td>NaN</td>\n",
       "      <td>NaN</td>\n",
       "      <td>NaN</td>\n",
       "      <td>NaN</td>\n",
       "      <td>NaN</td>\n",
       "      <td>N-cline-center-to-edge_m-constant</td>\n",
       "      <td>0.501332</td>\n",
       "      <td>3.13</td>\n",
       "    </tr>\n",
       "  </tbody>\n",
       "</table>\n",
       "</div>"
      ],
      "text/plain": [
       "      seed marker_set program  outlier_clim     score block            glevel  \\\n",
       "0  1231109   adaptive      GF          0.00 -0.666667   all  highly-polygenic   \n",
       "1  1231109   adaptive      GF          1.10 -0.657894   all  highly-polygenic   \n",
       "2  1231109   adaptive      GF          1.50 -0.667384   all  highly-polygenic   \n",
       "3  1231109   adaptive      GF          1.75 -0.639299   all  highly-polygenic   \n",
       "4  1231109   adaptive      GF          2.00 -0.589784   all  highly-polygenic   \n",
       "\n",
       "    plevel          pleio   slevel   landscape                 popsize  \\\n",
       "0  2-trait  no pleiotropy  equal-S  Est-Clines  N-cline-center-to-edge   \n",
       "1  2-trait  no pleiotropy  equal-S  Est-Clines  N-cline-center-to-edge   \n",
       "2  2-trait  no pleiotropy  equal-S  Est-Clines  N-cline-center-to-edge   \n",
       "3  2-trait  no pleiotropy  equal-S  Est-Clines  N-cline-center-to-edge   \n",
       "4  2-trait  no pleiotropy  equal-S  Est-Clines  N-cline-center-to-edge   \n",
       "\n",
       "    migration   noncausal_env ntraits ind_or_pooled use_RDA_outliers  \\\n",
       "0  m-constant  2-trait 2-envs     NaN           NaN              NaN   \n",
       "1  m-constant  2-trait 2-envs     NaN           NaN              NaN   \n",
       "2  m-constant  2-trait 2-envs     NaN           NaN              NaN   \n",
       "3  m-constant  2-trait 2-envs     NaN           NaN              NaN   \n",
       "4  m-constant  2-trait 2-envs     NaN           NaN              NaN   \n",
       "\n",
       "  structcorr  env                         demography  final_la  outlierness  \n",
       "0        NaN  NaN  N-cline-center-to-edge_m-constant  0.501332         0.00  \n",
       "1        NaN  NaN  N-cline-center-to-edge_m-constant  0.501332         1.72  \n",
       "2        NaN  NaN  N-cline-center-to-edge_m-constant  0.501332         2.35  \n",
       "3        NaN  NaN  N-cline-center-to-edge_m-constant  0.501332         2.74  \n",
       "4        NaN  NaN  N-cline-center-to-edge_m-constant  0.501332         3.13  "
      ]
     },
     "execution_count": 31,
     "metadata": {},
     "output_type": "execute_result"
    }
   ],
   "source": [
    "def add_bool_ntraits_column(df):\n",
    "    \"\"\"Add column that tells whether a non-causal env was included in offset training.\n",
    "    \n",
    "    Notes\n",
    "    -----\n",
    "    - 1-trait sims using only 1 env in offset training will be `no noncausal`\n",
    "    - copied from normal processing of pipeline output eg 02.01.00.00_save_level_scores_0000-0225.ipynb\n",
    "    \"\"\"\n",
    "    # default value (for 1-trait sims using only 1 env in offset training)\n",
    "    df['noncausal_env'] = '1-trait 1-env'\n",
    "    \n",
    "    # if sims had one causal env but both envs were used in training\n",
    "    df.loc[\n",
    "        (df['plevel']=='1-trait') & (df['ntraits']=='ntraits-2'),\n",
    "        'noncausal_env'\n",
    "    ] = '1-trait 2-envs'\n",
    "    \n",
    "    # if sims had two causal envs and both were used in training (only option for 2-trait sims)\n",
    "    df.loc[\n",
    "        (df['plevel']=='2-trait') & (df['ntraits']=='ntraits-2'),\n",
    "        'noncausal_env'\n",
    "    ] = '2-trait 2-envs'\n",
    "    \n",
    "    return df\n",
    "\n",
    "\n",
    "validations = []\n",
    "for climdir in pbar(clim_rundirs):\n",
    "    for program in ['GF', 'lfmm2', 'rda', 'RONA']:\n",
    "        f = op.join(climdir, f'{program}/validation/climate_outlier_validation_scores.txt')\n",
    "        \n",
    "        if op.exists(f):\n",
    "            df = pd.read_table(f).copy()\n",
    "                \n",
    "            if program == 'RONA':\n",
    "                dfs = []\n",
    "                for env in ['sal_opt', 'temp_opt']:\n",
    "                    x = df[df.env==env].copy()\n",
    "                    x['program'] = f'RONA-{env}'\n",
    "                    dfs.append(x)\n",
    "                df = pd.concat(dfs)\n",
    "                \n",
    "                assert len(df['program'].unique()) == 2\n",
    "                assert all(df.program.str.contains(program))\n",
    "            \n",
    "            elif program == 'rda':\n",
    "                df['program'] = 'rda-' + df.structcorr\n",
    "                df = add_bool_ntraits_column(df)\n",
    "                \n",
    "            else:\n",
    "                assert len(df['program'].unique()) == 1\n",
    "                assert df['program'].iloc[0] == program\n",
    "                \n",
    "                if program == 'GF':\n",
    "                    if op.basename(climdir).startswith('1-trait'):\n",
    "                        df['noncausal_env'] = '1-trait 1-env'  # SPECIFIC FOR 1-TRAIT GF RUNS!!!!\n",
    "                    else:\n",
    "                        df['noncausal_env'] = df.plevel.map({'1-trait' : '1-trait 2-envs',\n",
    "                                                             '2-trait' : '2-trait 2-envs'})\n",
    "                elif program == 'lfmm2':\n",
    "                    df = add_bool_ntraits_column(df)\n",
    "                \n",
    "            \n",
    "            validations.append(df)\n",
    "            \n",
    "        else:\n",
    "            if op.basename(climdir).startswith('1-trait') and program != 'GF':\n",
    "                continue\n",
    "\n",
    "            print(ColorText(f).bold().fail())\n",
    "            \n",
    "# combine dataframes and add in metadata\n",
    "validation = pd.concat(validations).reset_index(drop=True)\n",
    "validation['demography'] = validation['popsize'] + '_' + validation['migration']\n",
    "validation['final_la'] = validation.seed.astype(str).map(final_la)\n",
    "validation['landscape'] = validation.seed.astype(str).map(seed_landscape)\n",
    "validation['outlierness'] = validation.outlier_clim.map(outlierness)\n",
    "        \n",
    "# combine dataframes and add in metadata, remove rda outliers, keep nuisance to explore missing data later\n",
    "validation = mvp.subset_dataframe(\n",
    "    validation,\n",
    "    keep_nuisance=False,\n",
    "    remove_rda_outliers=True\n",
    ").reset_index(drop=True)\n",
    "\n",
    "validation.head()"
   ]
  },
  {
   "cell_type": "code",
   "execution_count": null,
   "id": "93245aa1",
   "metadata": {},
   "outputs": [],
   "source": []
  },
  {
   "cell_type": "code",
   "execution_count": 32,
   "id": "851a41ed",
   "metadata": {
    "scrolled": true
   },
   "outputs": [],
   "source": [
    "# double check that output makes sense\n",
    "prog_things = {}\n",
    "for program in validation.program.unique():\n",
    "    df = validation[validation.program == program].copy()\n",
    "    \n",
    "    prog_things[program] = df.seed.astype(str) + '-' + df.marker_set + '-' + df.outlier_clim.astype(str)\n",
    "    "
   ]
  },
  {
   "cell_type": "code",
   "execution_count": 33,
   "id": "59c1f09e",
   "metadata": {},
   "outputs": [
    {
     "name": "stdout",
     "output_type": "stream",
     "text": [
      "GF 324000 81000\n",
      "lfmm2 324000 81000\n",
      "rda-nocorr 324000 81000\n",
      "rda-structcorr 324000 81000\n",
      "RONA-sal_opt 258336 64584\n",
      "RONA-temp_opt 321552 80388\n"
     ]
    }
   ],
   "source": [
    "# double check that output makes sense\n",
    "# 81K is good, compare to data loaded in using mvp.combined_level_dicts above\n",
    "for program, things in prog_things.items():\n",
    "    print(program, len(things), luni(things))"
   ]
  },
  {
   "cell_type": "code",
   "execution_count": 34,
   "id": "54623acd",
   "metadata": {},
   "outputs": [
    {
     "data": {
      "text/plain": [
       "1321920     1231094-all-0.0\n",
       "1321921     1231094-all-1.1\n",
       "1321922     1231094-all-1.5\n",
       "1321923    1231094-all-1.75\n",
       "1321924     1231094-all-2.0\n",
       "dtype: object"
      ]
     },
     "execution_count": 34,
     "metadata": {},
     "output_type": "execute_result"
    }
   ],
   "source": [
    "things[:5]"
   ]
  },
  {
   "cell_type": "code",
   "execution_count": null,
   "id": "31355dff",
   "metadata": {},
   "outputs": [],
   "source": []
  },
  {
   "cell_type": "code",
   "execution_count": 35,
   "id": "07a87e6f",
   "metadata": {},
   "outputs": [
    {
     "data": {
      "text/plain": [
       "12"
      ]
     },
     "execution_count": 35,
     "metadata": {},
     "output_type": "execute_result"
    }
   ],
   "source": [
    "# double check that output makes sense\n",
    "validation.outlier_clim.unique().__len__()"
   ]
  },
  {
   "cell_type": "code",
   "execution_count": 36,
   "id": "16bf252f",
   "metadata": {},
   "outputs": [
    {
     "data": {
      "text/plain": [
       "GF                27000.0\n",
       "lfmm2             27000.0\n",
       "rda-nocorr        27000.0\n",
       "rda-structcorr    27000.0\n",
       "RONA-temp_opt     26796.0\n",
       "RONA-sal_opt      21528.0\n",
       "Name: program, dtype: float64"
      ]
     },
     "execution_count": 36,
     "metadata": {},
     "output_type": "execute_result"
    }
   ],
   "source": [
    "# double check that output makes sense\n",
    "validation.program.value_counts() / 12  # evenly divisble by 12? A: yes!"
   ]
  },
  {
   "cell_type": "code",
   "execution_count": 37,
   "id": "7a175364",
   "metadata": {},
   "outputs": [
    {
     "data": {
      "text/plain": [
       "adaptive    625296\n",
       "all         625296\n",
       "neutral     625296\n",
       "Name: marker_set, dtype: int64"
      ]
     },
     "execution_count": 37,
     "metadata": {},
     "output_type": "execute_result"
    }
   ],
   "source": [
    "# double check that output makes sense\n",
    "validation.marker_set.value_counts()"
   ]
  },
  {
   "cell_type": "code",
   "execution_count": 38,
   "id": "d55a803b",
   "metadata": {},
   "outputs": [
    {
     "data": {
      "text/plain": [
       "adaptive    52108.0\n",
       "all         52108.0\n",
       "neutral     52108.0\n",
       "Name: marker_set, dtype: float64"
      ]
     },
     "execution_count": 38,
     "metadata": {},
     "output_type": "execute_result"
    }
   ],
   "source": [
    "# double check that output makes sense\n",
    "validation.marker_set.value_counts() / 12  # evenly divisble by 12? A: yes!"
   ]
  },
  {
   "cell_type": "code",
   "execution_count": null,
   "id": "a510b506",
   "metadata": {},
   "outputs": [],
   "source": []
  },
  {
   "cell_type": "code",
   "execution_count": null,
   "id": "0d87d268",
   "metadata": {},
   "outputs": [],
   "source": []
  },
  {
   "cell_type": "markdown",
   "id": "d0224860",
   "metadata": {},
   "source": [
    "#### get data for table"
   ]
  },
  {
   "cell_type": "code",
   "execution_count": 39,
   "id": "5444e2f8",
   "metadata": {},
   "outputs": [
    {
     "data": {
      "text/plain": [
       "array([1])"
      ]
     },
     "execution_count": 39,
     "metadata": {},
     "output_type": "execute_result"
    }
   ],
   "source": [
    "# make sure the model level is a combination of block, outlier_clim, program, and marker_set\n",
    "# if so, then each seed should have only one evaluation score\n",
    "    # I check one combo and assume it can generalize to all combos, meh\n",
    "v = validation[\n",
    "    (validation.block == 'all') &\n",
    "    (validation.outlier_clim == 0) &\n",
    "    (validation.program == 'GF') &\n",
    "    (validation.marker_set == 'adaptive')\n",
    "].copy()\n",
    "\n",
    "v.seed.value_counts().unique()"
   ]
  },
  {
   "cell_type": "code",
   "execution_count": 40,
   "id": "0a26e203",
   "metadata": {
    "scrolled": true
   },
   "outputs": [
    {
     "data": {
      "text/plain": [
       "True"
      ]
     },
     "execution_count": 40,
     "metadata": {},
     "output_type": "execute_result"
    }
   ],
   "source": [
    "v = validation[\n",
    "    (validation.plevel == '1-trait')\n",
    "]\n",
    "\n",
    "v.seed.unique().__len__() == 45 * 10  # 45 levels * 10 reps"
   ]
  },
  {
   "cell_type": "code",
   "execution_count": 41,
   "id": "1a5d9931",
   "metadata": {},
   "outputs": [
    {
     "data": {
      "text/plain": [
       "True"
      ]
     },
     "execution_count": 41,
     "metadata": {},
     "output_type": "execute_result"
    }
   ],
   "source": [
    "v = validation[\n",
    "    (validation.plevel == '2-trait')\n",
    "]\n",
    "\n",
    "v.seed.unique().__len__() == 180 * 10  # 180 levels * 10 reps"
   ]
  },
  {
   "cell_type": "code",
   "execution_count": 42,
   "id": "ad415972",
   "metadata": {},
   "outputs": [
    {
     "name": "stdout",
     "output_type": "stream",
     "text": [
      "2-trait 1553472\n",
      "1-trait 322416\n"
     ]
    }
   ],
   "source": [
    "for trait in validation.plevel.unique():\n",
    "    print(trait, sum(validation.plevel == trait))"
   ]
  },
  {
   "cell_type": "code",
   "execution_count": 43,
   "id": "f6f1fcb5",
   "metadata": {},
   "outputs": [
    {
     "data": {
      "text/plain": [
       "12"
      ]
     },
     "execution_count": 43,
     "metadata": {},
     "output_type": "execute_result"
    }
   ],
   "source": [
    "validation.outlier_clim.unique().__len__()"
   ]
  },
  {
   "cell_type": "code",
   "execution_count": 44,
   "id": "1a9a5950",
   "metadata": {},
   "outputs": [
    {
     "data": {
      "text/plain": [
       "129456.0"
      ]
     },
     "execution_count": 44,
     "metadata": {},
     "output_type": "execute_result"
    }
   ],
   "source": [
    "1553472 / 12"
   ]
  },
  {
   "cell_type": "code",
   "execution_count": 45,
   "id": "db2c24bc",
   "metadata": {},
   "outputs": [
    {
     "data": {
      "text/plain": [
       "26868.0"
      ]
     },
     "execution_count": 45,
     "metadata": {},
     "output_type": "execute_result"
    }
   ],
   "source": [
    "322416 / 12"
   ]
  },
  {
   "cell_type": "code",
   "execution_count": 46,
   "id": "e68c8b57",
   "metadata": {},
   "outputs": [
    {
     "name": "stdout",
     "output_type": "stream",
     "text": [
      "2-trait 259200\n",
      "1-trait 64800\n"
     ]
    }
   ],
   "source": [
    "# for each trait the number of evaluations excluding RONA and climate center\n",
    "for trait in validation.plevel.unique():\n",
    "    print(\n",
    "        trait, \n",
    "        sum(\n",
    "            (validation.block == 'all') &\n",
    "            (~validation.program.str.contains('RONA')) &\n",
    "            (validation.plevel == trait)\n",
    "        )\n",
    "    )"
   ]
  },
  {
   "cell_type": "code",
   "execution_count": 47,
   "id": "b3656182",
   "metadata": {},
   "outputs": [
    {
     "data": {
      "text/plain": [
       "21600.0"
      ]
     },
     "execution_count": 47,
     "metadata": {},
     "output_type": "execute_result"
    }
   ],
   "source": [
    "259200 / 12"
   ]
  },
  {
   "cell_type": "code",
   "execution_count": 48,
   "id": "45f58410",
   "metadata": {
    "scrolled": true
   },
   "outputs": [
    {
     "data": {
      "text/plain": [
       "5400.0"
      ]
     },
     "execution_count": 48,
     "metadata": {},
     "output_type": "execute_result"
    }
   ],
   "source": [
    "64800 / 12"
   ]
  },
  {
   "cell_type": "code",
   "execution_count": 49,
   "id": "6b1093fe",
   "metadata": {},
   "outputs": [
    {
     "name": "stdout",
     "output_type": "stream",
     "text": [
      "2-trait 237600\n",
      "1-trait 59400\n"
     ]
    }
   ],
   "source": [
    "# for each trait the number of evaluations excluding RONA\n",
    "for trait in validation.plevel.unique():\n",
    "    print(\n",
    "        trait, \n",
    "        sum(\n",
    "            (validation.block == 'all') &\n",
    "            (~validation.program.str.contains('RONA')) &\n",
    "            (validation.plevel == trait) &\n",
    "            (validation.outlier_clim != 0)\n",
    "        )\n",
    "    )"
   ]
  },
  {
   "cell_type": "code",
   "execution_count": 50,
   "id": "b2f593e7",
   "metadata": {},
   "outputs": [
    {
     "data": {
      "text/plain": [
       "21600.0"
      ]
     },
     "execution_count": 50,
     "metadata": {},
     "output_type": "execute_result"
    }
   ],
   "source": [
    "237600 / 11"
   ]
  },
  {
   "cell_type": "code",
   "execution_count": 51,
   "id": "6772a0dc",
   "metadata": {},
   "outputs": [
    {
     "data": {
      "text/plain": [
       "5400.0"
      ]
     },
     "execution_count": 51,
     "metadata": {},
     "output_type": "execute_result"
    }
   ],
   "source": [
    "59400 / 11"
   ]
  },
  {
   "cell_type": "markdown",
   "id": "e2a55d7d",
   "metadata": {},
   "source": [
    "# 6-trait\n",
    "\n",
    "code inspired from 02_analysis/04_outlier_climate_runs/09_visualize_multivariate_outlier_results.ipynb"
   ]
  },
  {
   "cell_type": "code",
   "execution_count": 52,
   "id": "37cacc81",
   "metadata": {},
   "outputs": [
    {
     "data": {
      "text/html": [
       "<div>\n",
       "<style scoped>\n",
       "    .dataframe tbody tr th:only-of-type {\n",
       "        vertical-align: middle;\n",
       "    }\n",
       "\n",
       "    .dataframe tbody tr th {\n",
       "        vertical-align: top;\n",
       "    }\n",
       "\n",
       "    .dataframe thead th {\n",
       "        text-align: right;\n",
       "    }\n",
       "</style>\n",
       "<table border=\"1\" class=\"dataframe\">\n",
       "  <thead>\n",
       "    <tr style=\"text-align: right;\">\n",
       "      <th></th>\n",
       "      <th>seed</th>\n",
       "      <th>marker_set</th>\n",
       "      <th>program</th>\n",
       "      <th>outlier_clim</th>\n",
       "      <th>score</th>\n",
       "      <th>block</th>\n",
       "      <th>glevel</th>\n",
       "      <th>plevel</th>\n",
       "      <th>pleio</th>\n",
       "      <th>slevel</th>\n",
       "      <th>landscape</th>\n",
       "      <th>popsize</th>\n",
       "      <th>migration</th>\n",
       "      <th>structcorr</th>\n",
       "    </tr>\n",
       "  </thead>\n",
       "  <tbody>\n",
       "    <tr>\n",
       "      <th>0</th>\n",
       "      <td>tutorial</td>\n",
       "      <td>adaptive</td>\n",
       "      <td>GF</td>\n",
       "      <td>0.00</td>\n",
       "      <td>-0.640777</td>\n",
       "      <td>all</td>\n",
       "      <td>NaN</td>\n",
       "      <td>NaN</td>\n",
       "      <td>NaN</td>\n",
       "      <td>NaN</td>\n",
       "      <td>NaN</td>\n",
       "      <td>NaN</td>\n",
       "      <td>NaN</td>\n",
       "      <td>NaN</td>\n",
       "    </tr>\n",
       "    <tr>\n",
       "      <th>1</th>\n",
       "      <td>tutorial</td>\n",
       "      <td>adaptive</td>\n",
       "      <td>GF</td>\n",
       "      <td>1.72</td>\n",
       "      <td>-0.513142</td>\n",
       "      <td>all</td>\n",
       "      <td>NaN</td>\n",
       "      <td>NaN</td>\n",
       "      <td>NaN</td>\n",
       "      <td>NaN</td>\n",
       "      <td>NaN</td>\n",
       "      <td>NaN</td>\n",
       "      <td>NaN</td>\n",
       "      <td>NaN</td>\n",
       "    </tr>\n",
       "    <tr>\n",
       "      <th>2</th>\n",
       "      <td>tutorial</td>\n",
       "      <td>adaptive</td>\n",
       "      <td>GF</td>\n",
       "      <td>2.35</td>\n",
       "      <td>-0.536822</td>\n",
       "      <td>all</td>\n",
       "      <td>NaN</td>\n",
       "      <td>NaN</td>\n",
       "      <td>NaN</td>\n",
       "      <td>NaN</td>\n",
       "      <td>NaN</td>\n",
       "      <td>NaN</td>\n",
       "      <td>NaN</td>\n",
       "      <td>NaN</td>\n",
       "    </tr>\n",
       "    <tr>\n",
       "      <th>3</th>\n",
       "      <td>tutorial</td>\n",
       "      <td>adaptive</td>\n",
       "      <td>GF</td>\n",
       "      <td>2.74</td>\n",
       "      <td>-0.563087</td>\n",
       "      <td>all</td>\n",
       "      <td>NaN</td>\n",
       "      <td>NaN</td>\n",
       "      <td>NaN</td>\n",
       "      <td>NaN</td>\n",
       "      <td>NaN</td>\n",
       "      <td>NaN</td>\n",
       "      <td>NaN</td>\n",
       "      <td>NaN</td>\n",
       "    </tr>\n",
       "    <tr>\n",
       "      <th>4</th>\n",
       "      <td>tutorial</td>\n",
       "      <td>adaptive</td>\n",
       "      <td>GF</td>\n",
       "      <td>3.13</td>\n",
       "      <td>-0.576018</td>\n",
       "      <td>all</td>\n",
       "      <td>NaN</td>\n",
       "      <td>NaN</td>\n",
       "      <td>NaN</td>\n",
       "      <td>NaN</td>\n",
       "      <td>NaN</td>\n",
       "      <td>NaN</td>\n",
       "      <td>NaN</td>\n",
       "      <td>NaN</td>\n",
       "    </tr>\n",
       "  </tbody>\n",
       "</table>\n",
       "</div>"
      ],
      "text/plain": [
       "       seed marker_set program  outlier_clim     score block  glevel  plevel  \\\n",
       "0  tutorial   adaptive      GF          0.00 -0.640777   all     NaN     NaN   \n",
       "1  tutorial   adaptive      GF          1.72 -0.513142   all     NaN     NaN   \n",
       "2  tutorial   adaptive      GF          2.35 -0.536822   all     NaN     NaN   \n",
       "3  tutorial   adaptive      GF          2.74 -0.563087   all     NaN     NaN   \n",
       "4  tutorial   adaptive      GF          3.13 -0.576018   all     NaN     NaN   \n",
       "\n",
       "   pleio  slevel  landscape  popsize  migration structcorr  \n",
       "0    NaN     NaN        NaN      NaN        NaN        NaN  \n",
       "1    NaN     NaN        NaN      NaN        NaN        NaN  \n",
       "2    NaN     NaN        NaN      NaN        NaN        NaN  \n",
       "3    NaN     NaN        NaN      NaN        NaN        NaN  \n",
       "4    NaN     NaN        NaN      NaN        NaN        NaN  "
      ]
     },
     "execution_count": 52,
     "metadata": {},
     "output_type": "execute_result"
    }
   ],
   "source": [
    "outerdir = '/home/b.lind/offsets/climate_outlier_runs/tutorial/run_20220919_tutorial'\n",
    "\n",
    "programs = ['GF', 'lfmm2', 'rda']\n",
    "\n",
    "dfs = []\n",
    "for program in programs:\n",
    "    df = pd.read_table(f'{outerdir}/{program}/validation/climate_outlier_validation_scores.txt')\n",
    "    \n",
    "    if program == 'rda':\n",
    "        df['program'] = 'rda-' + df['structcorr']\n",
    "    else:\n",
    "        df['program'] = program\n",
    "    \n",
    "    dfs.append(df)\n",
    "\n",
    "        \n",
    "validation = pd.concat(dfs)\n",
    "\n",
    "validation = validation[\n",
    "    (validation.marker_set != 'rda_outliers') &\n",
    "    (validation.block == 'all')\n",
    "]\n",
    "\n",
    "validation.head()"
   ]
  },
  {
   "cell_type": "code",
   "execution_count": 53,
   "id": "dab7946b",
   "metadata": {},
   "outputs": [
    {
     "data": {
      "text/plain": [
       "GF                36\n",
       "lfmm2             36\n",
       "rda-nocorr        36\n",
       "rda-structcorr    36\n",
       "Name: program, dtype: int64"
      ]
     },
     "execution_count": 53,
     "metadata": {},
     "output_type": "execute_result"
    }
   ],
   "source": [
    "validation.program.value_counts()  # 36 per program / 3 per marker set = 12 climate scenarios"
   ]
  },
  {
   "cell_type": "code",
   "execution_count": 54,
   "id": "809e2a22",
   "metadata": {},
   "outputs": [
    {
     "data": {
      "text/plain": [
       "adaptive    48\n",
       "all         48\n",
       "neutral     48\n",
       "Name: marker_set, dtype: int64"
      ]
     },
     "execution_count": 54,
     "metadata": {},
     "output_type": "execute_result"
    }
   ],
   "source": [
    "validation.marker_set.value_counts()  # 48 per marker set / 4 programs = 12 climate scenarios"
   ]
  },
  {
   "cell_type": "code",
   "execution_count": null,
   "id": "ad211694",
   "metadata": {},
   "outputs": [],
   "source": []
  },
  {
   "cell_type": "code",
   "execution_count": 55,
   "id": "7264ab7c",
   "metadata": {},
   "outputs": [
    {
     "data": {
      "text/plain": [
       "144"
      ]
     },
     "execution_count": 55,
     "metadata": {},
     "output_type": "execute_result"
    }
   ],
   "source": [
    "nrow(validation)"
   ]
  },
  {
   "cell_type": "code",
   "execution_count": null,
   "id": "f1b7aee1",
   "metadata": {},
   "outputs": [],
   "source": []
  },
  {
   "cell_type": "code",
   "execution_count": null,
   "id": "71a4c21e",
   "metadata": {},
   "outputs": [],
   "source": []
  },
  {
   "cell_type": "code",
   "execution_count": 56,
   "id": "757f7ccb",
   "metadata": {},
   "outputs": [
    {
     "data": {
      "text/plain": [
       "'0-00:01:21'"
      ]
     },
     "execution_count": 56,
     "metadata": {},
     "output_type": "execute_result"
    }
   ],
   "source": [
    "formatclock(dt.now() - t0)"
   ]
  },
  {
   "cell_type": "code",
   "execution_count": null,
   "id": "7c344ffc",
   "metadata": {},
   "outputs": [],
   "source": []
  },
  {
   "cell_type": "code",
   "execution_count": null,
   "id": "43bf1799",
   "metadata": {},
   "outputs": [],
   "source": []
  },
  {
   "cell_type": "code",
   "execution_count": null,
   "id": "0c47bf7f",
   "metadata": {},
   "outputs": [],
   "source": []
  },
  {
   "cell_type": "code",
   "execution_count": null,
   "id": "9998775d",
   "metadata": {},
   "outputs": [],
   "source": []
  },
  {
   "cell_type": "code",
   "execution_count": null,
   "id": "4667b282",
   "metadata": {},
   "outputs": [],
   "source": []
  },
  {
   "cell_type": "code",
   "execution_count": null,
   "id": "01ac9123",
   "metadata": {},
   "outputs": [],
   "source": []
  },
  {
   "cell_type": "code",
   "execution_count": null,
   "id": "06913823",
   "metadata": {},
   "outputs": [],
   "source": []
  },
  {
   "cell_type": "code",
   "execution_count": null,
   "id": "bd88d5e9",
   "metadata": {},
   "outputs": [],
   "source": []
  },
  {
   "cell_type": "code",
   "execution_count": null,
   "id": "fb086f62",
   "metadata": {},
   "outputs": [],
   "source": []
  },
  {
   "cell_type": "code",
   "execution_count": null,
   "id": "297c9876",
   "metadata": {},
   "outputs": [],
   "source": []
  },
  {
   "cell_type": "code",
   "execution_count": null,
   "id": "334604d3",
   "metadata": {},
   "outputs": [],
   "source": []
  },
  {
   "cell_type": "code",
   "execution_count": null,
   "id": "45937cc7",
   "metadata": {},
   "outputs": [],
   "source": []
  },
  {
   "cell_type": "code",
   "execution_count": null,
   "id": "83469eee",
   "metadata": {},
   "outputs": [],
   "source": []
  },
  {
   "cell_type": "code",
   "execution_count": null,
   "id": "ff6d1ba7",
   "metadata": {},
   "outputs": [],
   "source": []
  },
  {
   "cell_type": "code",
   "execution_count": null,
   "id": "ef0b1475",
   "metadata": {},
   "outputs": [],
   "source": []
  }
 ],
 "metadata": {
  "kernelspec": {
   "display_name": "Python 3 (ipykernel)",
   "language": "python",
   "name": "python3"
  },
  "language_info": {
   "codemirror_mode": {
    "name": "ipython",
    "version": 3
   },
   "file_extension": ".py",
   "mimetype": "text/x-python",
   "name": "python",
   "nbconvert_exporter": "python",
   "pygments_lexer": "ipython3",
   "version": "3.8.5"
  }
 },
 "nbformat": 4,
 "nbformat_minor": 5
}
