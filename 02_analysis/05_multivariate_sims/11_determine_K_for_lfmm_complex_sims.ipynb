{
 "cells": [
  {
   "cell_type": "markdown",
   "id": "34e26758",
   "metadata": {},
   "source": [
    "### purpose\n",
    "\n",
    "determine K for complex sims\n",
    "\n",
    "### notes\n",
    "\n",
    "code inspired from lines 677-696 in https://github.com/ModelValidationProgram/MVP-NonClinalAF/blob/c43df8c373b188de208feb742ac5ec21279a4a2f/src/c-AnalyzeSimOutput.R#L677"
   ]
  },
  {
   "cell_type": "code",
   "execution_count": 1,
   "id": "8eb595eb",
   "metadata": {},
   "outputs": [
    {
     "name": "stderr",
     "output_type": "stream",
     "text": [
      "Loading required package: permute\n",
      "\n",
      "Loading required package: lattice\n",
      "\n",
      "\n",
      "Attaching package: ‘lattice’\n",
      "\n",
      "\n",
      "The following object is masked from ‘package:LEA’:\n",
      "\n",
      "    barchart\n",
      "\n",
      "\n",
      "This is vegan 2.6-2\n",
      "\n"
     ]
    },
    {
     "data": {
      "text/plain": [
       "R version 4.0.3 (2020-10-10)\n",
       "Platform: x86_64-conda-linux-gnu (64-bit)\n",
       "Running under: CentOS Linux 7 (Core)\n",
       "\n",
       "Matrix products: default\n",
       "BLAS/LAPACK: /work/lotterhos/brandon/anaconda3/envs/MVP_env_R4.0.3/lib/libopenblasp-r0.3.17.so\n",
       "\n",
       "locale:\n",
       " [1] LC_CTYPE=en_US.UTF-8       LC_NUMERIC=C              \n",
       " [3] LC_TIME=en_US.UTF-8        LC_COLLATE=en_US.UTF-8    \n",
       " [5] LC_MONETARY=en_US.UTF-8    LC_MESSAGES=en_US.UTF-8   \n",
       " [7] LC_PAPER=en_US.UTF-8       LC_NAME=C                 \n",
       " [9] LC_ADDRESS=C               LC_TELEPHONE=C            \n",
       "[11] LC_MEASUREMENT=en_US.UTF-8 LC_IDENTIFICATION=C       \n",
       "\n",
       "attached base packages:\n",
       "[1] stats     graphics  grDevices utils     datasets  methods   base     \n",
       "\n",
       "other attached packages:\n",
       "[1] vegan_2.6-2     lattice_0.20-45 permute_0.9-7   LEA_3.8.0      \n",
       "\n",
       "loaded via a namespace (and not attached):\n",
       " [1] cluster_2.1.3   splines_4.0.3   MASS_7.3-57     uuid_1.1-0     \n",
       " [5] rlang_1.0.2     fastmap_1.1.0   fansi_1.0.3     tools_4.0.3    \n",
       " [9] parallel_4.0.3  grid_4.0.3      nlme_3.1-158    mgcv_1.8-40    \n",
       "[13] utf8_1.2.2      cli_3.3.0       htmltools_0.5.2 ellipsis_0.3.2 \n",
       "[17] digest_0.6.29   lifecycle_1.0.1 crayon_1.5.1    Matrix_1.4-1   \n",
       "[21] IRdisplay_1.1   repr_1.1.4      base64enc_0.1-3 vctrs_0.4.1    \n",
       "[25] IRkernel_1.3    glue_1.6.2      evaluate_0.15   pbdZMQ_0.3-7   \n",
       "[29] compiler_4.0.3  pillar_1.7.0    jsonlite_1.8.0 "
      ]
     },
     "metadata": {},
     "output_type": "display_data"
    }
   ],
   "source": [
    "library(LEA)\n",
    "library(vegan)\n",
    "\n",
    "len=length\n",
    "\n",
    "sessionInfo()"
   ]
  },
  {
   "cell_type": "code",
   "execution_count": null,
   "id": "f163656d",
   "metadata": {},
   "outputs": [],
   "source": []
  },
  {
   "cell_type": "code",
   "execution_count": 2,
   "id": "cb974c0b",
   "metadata": {},
   "outputs": [],
   "source": [
    "\n",
    "lfmmfile <- '/home/b.lind/offsets/run_20220919_tutorial/lfmm2/lfmm_infiles/Genotypes.lfmm'\n"
   ]
  },
  {
   "cell_type": "code",
   "execution_count": 3,
   "id": "732bca10",
   "metadata": {},
   "outputs": [
    {
     "name": "stdout",
     "output_type": "stream",
     "text": [
      "[1] \"******************************\"\n",
      "[1] \" Principal Component Analysis \"\n",
      "[1] \"******************************\"\n",
      "summary of the options:\n",
      "\n",
      "        -n (number of individuals)          1000\n",
      "        -L (number of loci)                 26371\n",
      "        -K (number of principal components) 30\n",
      "        -x (genotype file)                  /work/lotterhos/MVP-Offsets/run_20220919_tutorial/lfmm2/lfmm_infiles/Genotypes.lfmm\n",
      "        -a (eigenvalue file)                /work/lotterhos/MVP-Offsets/run_20220919_tutorial/lfmm2/lfmm_infiles/Genotypes.pca/Genotypes.eigenvalues\n",
      "        -e (eigenvector file)               /work/lotterhos/MVP-Offsets/run_20220919_tutorial/lfmm2/lfmm_infiles/Genotypes.pca/Genotypes.eigenvectors\n",
      "        -d (standard deviation file)        /work/lotterhos/MVP-Offsets/run_20220919_tutorial/lfmm2/lfmm_infiles/Genotypes.pca/Genotypes.sdev\n",
      "        -p (projection file)                /work/lotterhos/MVP-Offsets/run_20220919_tutorial/lfmm2/lfmm_infiles/Genotypes.pca/Genotypes.projections\n",
      "        -s data centered and scaled \n",
      "\n"
     ]
    }
   ],
   "source": [
    "pc = pca(lfmmfile, 30, scale = TRUE)"
   ]
  },
  {
   "cell_type": "code",
   "execution_count": 4,
   "id": "84c09f7d",
   "metadata": {},
   "outputs": [
    {
     "name": "stdout",
     "output_type": "stream",
     "text": [
      "[1] \"*******************\"\n",
      "[1] \" Tracy-Widom tests \"\n",
      "[1] \"*******************\"\n",
      "summary of the options:\n",
      "\n",
      "        -n (number of eigenvalues)          1000\n",
      "        -i (input file)                     /work/lotterhos/MVP-Offsets/run_20220919_tutorial/lfmm2/lfmm_infiles/Genotypes.pca/Genotypes.eigenvalues\n",
      "        -o (output file)                    /work/lotterhos/MVP-Offsets/run_20220919_tutorial/lfmm2/lfmm_infiles/Genotypes.pca/Genotypes.tracywidom\n"
     ]
    }
   ],
   "source": [
    "tw = tracy.widom(pc)"
   ]
  },
  {
   "cell_type": "code",
   "execution_count": 5,
   "id": "19c4744f",
   "metadata": {},
   "outputs": [
    {
     "data": {
      "image/png": "[encoded data removed]",
      "text/plain": [
       "plot without title"
      ]
     },
     "metadata": {
      "image/png": {
       "height": 420,
       "width": 420
      }
     },
     "output_type": "display_data"
    }
   ],
   "source": [
    "plot(tw$percentage, xlab='PC axis', ylab='% variance explained')"
   ]
  },
  {
   "cell_type": "code",
   "execution_count": 6,
   "id": "572c6e33",
   "metadata": {},
   "outputs": [
    {
     "data": {
      "text/html": [
       "<style>\n",
       ".list-inline {list-style: none; margin:0; padding: 0}\n",
       ".list-inline>li {display: inline-block}\n",
       ".list-inline>li:not(:last-child)::after {content: \"\\00b7\"; padding: 0 .5ex}\n",
       "</style>\n",
       "<ol class=list-inline><li>2.575e-05</li><li>0.007643</li><li>0.08047</li><li>0.08075</li><li>0.1392</li><li>0.2167</li><li>0.6797</li><li>0.3583</li><li>0.3554</li><li>0.4022</li><li>0.4383</li><li>0.5219</li><li>0.4623</li><li>0.3319</li><li>0.1498</li><li>0.2386</li><li>0.5216</li><li>0.2453</li><li>0.9875</li><li>0.9708</li><li>0.902</li><li>0.783</li><li>0.5647</li><li>0.4344</li><li>0.35</li><li>0.2712</li><li>0.2569</li><li>0.2558</li><li>0.3947</li><li>1</li></ol>\n"
      ],
      "text/latex": [
       "\\begin{enumerate*}\n",
       "\\item 2.575e-05\n",
       "\\item 0.007643\n",
       "\\item 0.08047\n",
       "\\item 0.08075\n",
       "\\item 0.1392\n",
       "\\item 0.2167\n",
       "\\item 0.6797\n",
       "\\item 0.3583\n",
       "\\item 0.3554\n",
       "\\item 0.4022\n",
       "\\item 0.4383\n",
       "\\item 0.5219\n",
       "\\item 0.4623\n",
       "\\item 0.3319\n",
       "\\item 0.1498\n",
       "\\item 0.2386\n",
       "\\item 0.5216\n",
       "\\item 0.2453\n",
       "\\item 0.9875\n",
       "\\item 0.9708\n",
       "\\item 0.902\n",
       "\\item 0.783\n",
       "\\item 0.5647\n",
       "\\item 0.4344\n",
       "\\item 0.35\n",
       "\\item 0.2712\n",
       "\\item 0.2569\n",
       "\\item 0.2558\n",
       "\\item 0.3947\n",
       "\\item 1\n",
       "\\end{enumerate*}\n"
      ],
      "text/markdown": [
       "1. 2.575e-05\n",
       "2. 0.007643\n",
       "3. 0.08047\n",
       "4. 0.08075\n",
       "5. 0.1392\n",
       "6. 0.2167\n",
       "7. 0.6797\n",
       "8. 0.3583\n",
       "9. 0.3554\n",
       "10. 0.4022\n",
       "11. 0.4383\n",
       "12. 0.5219\n",
       "13. 0.4623\n",
       "14. 0.3319\n",
       "15. 0.1498\n",
       "16. 0.2386\n",
       "17. 0.5216\n",
       "18. 0.2453\n",
       "19. 0.9875\n",
       "20. 0.9708\n",
       "21. 0.902\n",
       "22. 0.783\n",
       "23. 0.5647\n",
       "24. 0.4344\n",
       "25. 0.35\n",
       "26. 0.2712\n",
       "27. 0.2569\n",
       "28. 0.2558\n",
       "29. 0.3947\n",
       "30. 1\n",
       "\n",
       "\n"
      ],
      "text/plain": [
       " [1] 2.575e-05 7.643e-03 8.047e-02 8.075e-02 1.392e-01 2.167e-01 6.797e-01\n",
       " [8] 3.583e-01 3.554e-01 4.022e-01 4.383e-01 5.219e-01 4.623e-01 3.319e-01\n",
       "[15] 1.498e-01 2.386e-01 5.216e-01 2.453e-01 9.875e-01 9.708e-01 9.020e-01\n",
       "[22] 7.830e-01 5.647e-01 4.344e-01 3.500e-01 2.712e-01 2.569e-01 2.558e-01\n",
       "[29] 3.947e-01 1.000e+00"
      ]
     },
     "metadata": {},
     "output_type": "display_data"
    }
   ],
   "source": [
    "tw$pvalues"
   ]
  },
  {
   "cell_type": "code",
   "execution_count": 11,
   "id": "bd05e4f6",
   "metadata": {},
   "outputs": [
    {
     "data": {
      "text/html": [
       "2"
      ],
      "text/latex": [
       "2"
      ],
      "text/markdown": [
       "2"
      ],
      "text/plain": [
       "[1] 2"
      ]
     },
     "metadata": {},
     "output_type": "display_data"
    }
   ],
   "source": [
    "sum(tw$pvalues < 0.05)"
   ]
  },
  {
   "cell_type": "code",
   "execution_count": 8,
   "id": "5301fc45",
   "metadata": {},
   "outputs": [
    {
     "name": "stderr",
     "output_type": "stream",
     "text": [
      "Warning message in max(which(a > b * 1.5)):\n",
      "“no non-missing arguments to max; returning -Inf”\n",
      "Warning message in max(which(a > b * 1.4)):\n",
      "“no non-missing arguments to max; returning -Inf”\n",
      "Warning message in max(which(a > b * 1.3)):\n",
      "“no non-missing arguments to max; returning -Inf”\n"
     ]
    },
    {
     "name": "stdout",
     "output_type": "stream",
     "text": [
      "[1] \"Error K is not definite\"\n"
     ]
    },
    {
     "ename": "ERROR",
     "evalue": "Error in eval(expr, envir, enclos): no loop for break/next, jumping to top level\n",
     "output_type": "error",
     "traceback": [
      "Error in eval(expr, envir, enclos): no loop for break/next, jumping to top level\nTraceback:\n"
     ]
    }
   ],
   "source": [
    "a <- tw$percentage[1:20]\n",
    "b <- tw$percentage[2:21]\n",
    "K1 <- max(which(a > b*1.5))\n",
    "K2 <- max(which(a > b*1.4))\n",
    "K3 <- max(which(a > b*1.3)) # a little safety net if the first criteria doesn't work\n",
    "\n",
    "if (!is.infinite(K1)){K=K1}\n",
    "if (is.infinite(K1)){K=K3}\n",
    "if (is.infinite(K)){print(\"Error K is not definite\"); break}\n",
    "print(c(\"K=\",K))"
   ]
  },
  {
   "cell_type": "code",
   "execution_count": 9,
   "id": "7459d980",
   "metadata": {},
   "outputs": [
    {
     "data": {
      "text/html": [
       "TRUE"
      ],
      "text/latex": [
       "TRUE"
      ],
      "text/markdown": [
       "TRUE"
      ],
      "text/plain": [
       "[1] TRUE"
      ]
     },
     "metadata": {},
     "output_type": "display_data"
    }
   ],
   "source": [
    "is.infinite(K1)"
   ]
  },
  {
   "cell_type": "code",
   "execution_count": 10,
   "id": "eaeb04b0",
   "metadata": {},
   "outputs": [
    {
     "data": {
      "text/html": [
       "TRUE"
      ],
      "text/latex": [
       "TRUE"
      ],
      "text/markdown": [
       "TRUE"
      ],
      "text/plain": [
       "[1] TRUE"
      ]
     },
     "metadata": {},
     "output_type": "display_data"
    }
   ],
   "source": [
    "is.infinite(K2)"
   ]
  },
  {
   "cell_type": "code",
   "execution_count": 11,
   "id": "7329f955",
   "metadata": {},
   "outputs": [
    {
     "data": {
      "text/html": [
       "TRUE"
      ],
      "text/latex": [
       "TRUE"
      ],
      "text/markdown": [
       "TRUE"
      ],
      "text/plain": [
       "[1] TRUE"
      ]
     },
     "metadata": {},
     "output_type": "display_data"
    }
   ],
   "source": [
    "is.infinite(K3)"
   ]
  },
  {
   "cell_type": "code",
   "execution_count": null,
   "id": "959c1359",
   "metadata": {},
   "outputs": [],
   "source": []
  },
  {
   "cell_type": "code",
   "execution_count": null,
   "id": "dc0b7d71",
   "metadata": {},
   "outputs": [],
   "source": []
  },
  {
   "cell_type": "code",
   "execution_count": null,
   "id": "5df08083",
   "metadata": {},
   "outputs": [],
   "source": []
  }
 ],
 "metadata": {
  "kernelspec": {
   "display_name": "R 4.0.3 MVP",
   "language": "R",
   "name": "irmvp"
  },
  "language_info": {
   "codemirror_mode": "r",
   "file_extension": ".r",
   "mimetype": "text/x-r-source",
   "name": "R",
   "pygments_lexer": "r",
   "version": "4.0.3"
  }
 },
 "nbformat": 4,
 "nbformat_minor": 5
}
