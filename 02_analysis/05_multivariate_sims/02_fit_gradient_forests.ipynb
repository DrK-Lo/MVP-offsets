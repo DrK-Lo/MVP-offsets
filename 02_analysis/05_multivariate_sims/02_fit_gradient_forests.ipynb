{
 "cells": [
  {
   "cell_type": "markdown",
   "id": "7f726f9f",
   "metadata": {},
   "source": [
    "### purpose\n",
    "\n",
    "fit GF to common garden climates\n",
    "\n",
    "\n",
    "### notes\n",
    "\n",
    "this notebook follows MVP_02_fit_gradient_forests, headers are used as landmarks to those in the mvp02 script"
   ]
  },
  {
   "cell_type": "code",
   "execution_count": 1,
   "id": "346c00f4",
   "metadata": {},
   "outputs": [
    {
     "name": "stdout",
     "output_type": "stream",
     "text": [
      "#########################################################\n",
      "Today:\tMarch 16, 2023 - 10:50:57\n",
      "python version: 3.8.5\n",
      "\n",
      "Current commit of \u001b[1mpythonimports\u001b[0m:\n",
      "\u001b[33mcommit 8d4f83fd91caa2e58acbafcadfde07d19ae79379\u001b[m  \n",
      "Author: Brandon Lind <lind.brandon.m@gmail.com>  \n",
      "Date:   Fri Mar 3 00:48:36 2023 -0500\n",
      "\n",
      "Current commit of \u001b[94m\u001b[1mMVP_offsets\u001b[0m\u001b[0m:\n",
      "\u001b[33mcommit 11296c5e9cb778ba1aebb1c2ff0e5f499bf6f646\u001b[m  \n",
      "Author: Brandon Lind <lind.brandon.m@gmail.com>  \n",
      "Date:   Mon Mar 13 14:39:28 2023 -0400\n",
      "#########################################################\n",
      "\n"
     ]
    },
    {
     "data": {
      "text/html": [
       "<details>\n",
       "<summary>Click to view session information</summary>\n",
       "<pre>\n",
       "-----\n",
       "MVP_02_fit_gradient_forests NA\n",
       "MVP_summary_functions       NA\n",
       "balance_queue               NA\n",
       "cartopy                     0.20.2\n",
       "ipyparallel                 7.1.0\n",
       "matplotlib                  3.5.2\n",
       "myclasses                   NA\n",
       "myfigs                      NA\n",
       "mymaps                      NA\n",
       "myslurm                     NA\n",
       "numpy                       1.22.1\n",
       "pandas                      1.3.5\n",
       "pythonimports               NA\n",
       "session_info                1.0.0\n",
       "tqdm                        4.62.1\n",
       "-----\n",
       "</pre>\n",
       "<details>\n",
       "<summary>Click to view modules imported as dependencies</summary>\n",
       "<pre>\n",
       "PIL                         8.4.0\n",
       "backcall                    0.2.0\n",
       "beta_ufunc                  NA\n",
       "binom_ufunc                 NA\n",
       "bottleneck                  1.3.2\n",
       "certifi                     2022.06.15\n",
       "cffi                        1.15.0\n",
       "cycler                      0.10.0\n",
       "cython_runtime              NA\n",
       "dateutil                    2.8.2\n",
       "debugpy                     1.5.1\n",
       "decorator                   5.1.1\n",
       "defusedxml                  0.7.1\n",
       "entrypoints                 0.4\n",
       "fontTools                   4.29.1\n",
       "ipykernel                   6.8.0\n",
       "ipython_genutils            0.2.0\n",
       "ipywidgets                  7.6.5\n",
       "jedi                        0.18.1\n",
       "kiwisolver                  1.3.2\n",
       "matplotlib_venn             0.11.6\n",
       "mpl_toolkits                NA\n",
       "nbinom_ufunc                NA\n",
       "numexpr                     2.8.1\n",
       "packaging                   21.3\n",
       "parso                       0.8.3\n",
       "pexpect                     4.8.0\n",
       "pickleshare                 0.7.5\n",
       "pkg_resources               NA\n",
       "prompt_toolkit              3.0.26\n",
       "psutil                      5.9.0\n",
       "ptyprocess                  0.7.0\n",
       "pydev_ipython               NA\n",
       "pydevconsole                NA\n",
       "pydevd                      2.6.0\n",
       "pydevd_concurrency_analyser NA\n",
       "pydevd_file_utils           NA\n",
       "pydevd_plugins              NA\n",
       "pydevd_tracing              NA\n",
       "pygments                    2.11.2\n",
       "pyparsing                   3.0.7\n",
       "pyproj                      3.3.0\n",
       "pytz                        2021.3\n",
       "scipy                       1.7.3\n",
       "seaborn                     0.12.2\n",
       "setuptools                  60.7.1\n",
       "shapefile                   2.2.0\n",
       "shapely                     1.8.0\n",
       "six                         1.16.0\n",
       "statsmodels                 0.13.0\n",
       "storemagic                  NA\n",
       "tornado                     6.1\n",
       "traitlets                   5.1.1\n",
       "wcwidth                     0.2.5\n",
       "zmq                         22.3.0\n",
       "</pre>\n",
       "</details> <!-- seems like this ends pre, so might as well be explicit -->\n",
       "<pre>\n",
       "-----\n",
       "IPython             7.31.1\n",
       "jupyter_client      7.1.2\n",
       "jupyter_core        4.9.1\n",
       "notebook            6.4.8\n",
       "-----\n",
       "Python 3.8.5 (default, Sep  4 2020, 07:30:14) [GCC 7.3.0]\n",
       "Linux-3.10.0-1160.25.1.el7.x86_64-x86_64-with-glibc2.10\n",
       "-----\n",
       "Session information updated at 2023-03-16 10:50\n",
       "</pre>\n",
       "</details>"
      ],
      "text/plain": [
       "<IPython.core.display.HTML object>"
      ]
     },
     "execution_count": 1,
     "metadata": {},
     "output_type": "execute_result"
    }
   ],
   "source": [
    "from pythonimports import *\n",
    "\n",
    "import MVP_summary_functions as mvp\n",
    "import MVP_02_fit_gradient_forests as mvp02\n",
    "\n",
    "mvp.latest_commit()\n",
    "session_info.show()"
   ]
  },
  {
   "cell_type": "markdown",
   "id": "f2f97041",
   "metadata": {},
   "source": [
    "# if __name__ == '__main__'"
   ]
  },
  {
   "cell_type": "markdown",
   "id": "9ad5f280",
   "metadata": {},
   "source": [
    "### input args"
   ]
  },
  {
   "cell_type": "code",
   "execution_count": 2,
   "id": "52fc1781",
   "metadata": {},
   "outputs": [],
   "source": [
    "mvp02.seed = 'tutorial'"
   ]
  },
  {
   "cell_type": "code",
   "execution_count": 3,
   "id": "03fb2b30",
   "metadata": {},
   "outputs": [],
   "source": [
    "mvp02.rscript_exe = '/home/b.lind/anaconda3/envs/r35/lib/R/bin/Rscript'"
   ]
  },
  {
   "cell_type": "code",
   "execution_count": 4,
   "id": "cc9e242e",
   "metadata": {},
   "outputs": [],
   "source": [
    "mvp02.training_outdir = '/home/b.lind/offsets/run_20220919_tutorial/gradient_forests/training/training_outfiles'"
   ]
  },
  {
   "cell_type": "markdown",
   "id": "03d0155e",
   "metadata": {},
   "source": [
    "### start cluster"
   ]
  },
  {
   "cell_type": "code",
   "execution_count": 5,
   "id": "d3e05ed3",
   "metadata": {},
   "outputs": [
    {
     "name": "stdout",
     "output_type": "stream",
     "text": [
      "16 16\n"
     ]
    }
   ],
   "source": [
    "lview, dview = get_client(cluster_id='1678978089-wyp6', profile='lotterhos')"
   ]
  },
  {
   "cell_type": "markdown",
   "id": "85c8b23f",
   "metadata": {},
   "source": [
    "### load objects to cluster"
   ]
  },
  {
   "cell_type": "code",
   "execution_count": 6,
   "id": "f2577d39",
   "metadata": {},
   "outputs": [],
   "source": [
    "dview['rscript_exe'] = mvp02.rscript_exe\n",
    "mvp02.fitting_file = '/home/b.lind/code/MVP-offsets/01_src/MVP_gf_fitting_script.R'\n",
    "dview['fitting_file'] = mvp02.fitting_file\n",
    "\n",
    "mvp02.lview = lview  # for mvp02.run_fit_gradient_forests"
   ]
  },
  {
   "cell_type": "markdown",
   "id": "75533e40",
   "metadata": {},
   "source": [
    "### create dirs"
   ]
  },
  {
   "cell_type": "code",
   "execution_count": 7,
   "id": "0d91eee1",
   "metadata": {},
   "outputs": [
    {
     "name": "stdout",
     "output_type": "stream",
     "text": [
      "\u001b[38;2;255;215;0m\u001b[1m\n",
      "Creating directories ...\u001b[0m\u001b[0m\n",
      "\tgf_directory = '/home/b.lind/offsets/run_20220919_tutorial/gradient_forests'\n",
      "\tfitting_dir = '/home/b.lind/offsets/run_20220919_tutorial/gradient_forests/fitting/fitting_outfiles'\n",
      "\tgarden_dir = '/home/b.lind/offsets/run_20220919_tutorial/gradient_forests/fitting/garden_files'\n",
      "\ttraining_filedir = '/home/b.lind/offsets/run_20220919_tutorial/gradient_forests/training/training_files'\n"
     ]
    }
   ],
   "source": [
    "garden_dir, mvp02.fitting_dir, training_filedir = mvp02.make_fitting_dirs(mvp02.training_outdir)\n",
    "\n",
    "mvp02.garden_dir = garden_dir"
   ]
  },
  {
   "cell_type": "markdown",
   "id": "11bb5c4e",
   "metadata": {},
   "source": [
    "# main"
   ]
  },
  {
   "cell_type": "markdown",
   "id": "55ddb5c7",
   "metadata": {},
   "source": [
    "### get environmental data"
   ]
  },
  {
   "cell_type": "code",
   "execution_count": 8,
   "id": "12992f32",
   "metadata": {},
   "outputs": [],
   "source": [
    "# get_envdata (skip part of function that asserts two envfiles, one for ind and one for pooled)\n",
    "files = fs(training_filedir, pattern='_envfile_')\n",
    "\n",
    "envdfs = {}\n",
    "envfiles = {}\n",
    "for f in files:\n",
    "    ind_or_pooled = op.basename(f).split(\"_\")[-1].rstrip(\".txt\")\n",
    "    envdfs[ind_or_pooled] = pd.read_table(f, index_col=0)\n",
    "    envfiles[ind_or_pooled] = f"
   ]
  },
  {
   "cell_type": "code",
   "execution_count": 9,
   "id": "9a74f4be",
   "metadata": {},
   "outputs": [
    {
     "data": {
      "text/plain": [
       "{'pooled': '/home/b.lind/offsets/run_20220919_tutorial/gradient_forests/training/training_files/tutorial_envfile_GFready_pooled.txt'}"
      ]
     },
     "execution_count": 9,
     "metadata": {},
     "output_type": "execute_result"
    }
   ],
   "source": [
    "envfiles"
   ]
  },
  {
   "cell_type": "code",
   "execution_count": 10,
   "id": "1d03f999",
   "metadata": {},
   "outputs": [
    {
     "data": {
      "text/html": [
       "<div>\n",
       "<style scoped>\n",
       "    .dataframe tbody tr th:only-of-type {\n",
       "        vertical-align: middle;\n",
       "    }\n",
       "\n",
       "    .dataframe tbody tr th {\n",
       "        vertical-align: top;\n",
       "    }\n",
       "\n",
       "    .dataframe thead th {\n",
       "        text-align: right;\n",
       "    }\n",
       "</style>\n",
       "<table border=\"1\" class=\"dataframe\">\n",
       "  <thead>\n",
       "    <tr style=\"text-align: right;\">\n",
       "      <th></th>\n",
       "      <th>env1_mat</th>\n",
       "      <th>env2_MTWetQ</th>\n",
       "      <th>env3_MTDQ</th>\n",
       "      <th>env4_PDM</th>\n",
       "      <th>env5_PwarmQ</th>\n",
       "      <th>env6_PWM</th>\n",
       "    </tr>\n",
       "  </thead>\n",
       "  <tbody>\n",
       "    <tr>\n",
       "      <th>1</th>\n",
       "      <td>0.186225</td>\n",
       "      <td>-0.226935</td>\n",
       "      <td>0.861531</td>\n",
       "      <td>0.221974</td>\n",
       "      <td>-0.363974</td>\n",
       "      <td>0.761569</td>\n",
       "    </tr>\n",
       "    <tr>\n",
       "      <th>2</th>\n",
       "      <td>0.070353</td>\n",
       "      <td>-0.265649</td>\n",
       "      <td>0.799727</td>\n",
       "      <td>0.169512</td>\n",
       "      <td>-0.417965</td>\n",
       "      <td>0.315295</td>\n",
       "    </tr>\n",
       "    <tr>\n",
       "      <th>3</th>\n",
       "      <td>0.264633</td>\n",
       "      <td>-0.248372</td>\n",
       "      <td>0.375248</td>\n",
       "      <td>-0.172690</td>\n",
       "      <td>-0.586408</td>\n",
       "      <td>-0.320803</td>\n",
       "    </tr>\n",
       "    <tr>\n",
       "      <th>4</th>\n",
       "      <td>0.371616</td>\n",
       "      <td>0.167485</td>\n",
       "      <td>0.063118</td>\n",
       "      <td>-0.465978</td>\n",
       "      <td>-0.656053</td>\n",
       "      <td>-0.625240</td>\n",
       "    </tr>\n",
       "    <tr>\n",
       "      <th>5</th>\n",
       "      <td>0.244613</td>\n",
       "      <td>0.117437</td>\n",
       "      <td>-0.010939</td>\n",
       "      <td>-0.291486</td>\n",
       "      <td>-0.528748</td>\n",
       "      <td>-0.537376</td>\n",
       "    </tr>\n",
       "    <tr>\n",
       "      <th>...</th>\n",
       "      <td>...</td>\n",
       "      <td>...</td>\n",
       "      <td>...</td>\n",
       "      <td>...</td>\n",
       "      <td>...</td>\n",
       "      <td>...</td>\n",
       "    </tr>\n",
       "    <tr>\n",
       "      <th>96</th>\n",
       "      <td>-0.288220</td>\n",
       "      <td>0.261489</td>\n",
       "      <td>-0.317123</td>\n",
       "      <td>-0.018548</td>\n",
       "      <td>0.228030</td>\n",
       "      <td>-0.045559</td>\n",
       "    </tr>\n",
       "    <tr>\n",
       "      <th>97</th>\n",
       "      <td>-0.116570</td>\n",
       "      <td>0.323553</td>\n",
       "      <td>-0.231351</td>\n",
       "      <td>-0.269762</td>\n",
       "      <td>0.344912</td>\n",
       "      <td>0.059459</td>\n",
       "    </tr>\n",
       "    <tr>\n",
       "      <th>98</th>\n",
       "      <td>0.093915</td>\n",
       "      <td>0.400397</td>\n",
       "      <td>-0.150975</td>\n",
       "      <td>-0.408936</td>\n",
       "      <td>0.588880</td>\n",
       "      <td>0.274592</td>\n",
       "    </tr>\n",
       "    <tr>\n",
       "      <th>99</th>\n",
       "      <td>0.034177</td>\n",
       "      <td>0.399089</td>\n",
       "      <td>-0.440848</td>\n",
       "      <td>-0.464035</td>\n",
       "      <td>0.673533</td>\n",
       "      <td>0.360201</td>\n",
       "    </tr>\n",
       "    <tr>\n",
       "      <th>100</th>\n",
       "      <td>0.055334</td>\n",
       "      <td>0.422488</td>\n",
       "      <td>-0.553991</td>\n",
       "      <td>-0.472096</td>\n",
       "      <td>0.604139</td>\n",
       "      <td>0.321160</td>\n",
       "    </tr>\n",
       "  </tbody>\n",
       "</table>\n",
       "<p>100 rows × 6 columns</p>\n",
       "</div>"
      ],
      "text/plain": [
       "     env1_mat  env2_MTWetQ  env3_MTDQ  env4_PDM  env5_PwarmQ  env6_PWM\n",
       "1    0.186225    -0.226935   0.861531  0.221974    -0.363974  0.761569\n",
       "2    0.070353    -0.265649   0.799727  0.169512    -0.417965  0.315295\n",
       "3    0.264633    -0.248372   0.375248 -0.172690    -0.586408 -0.320803\n",
       "4    0.371616     0.167485   0.063118 -0.465978    -0.656053 -0.625240\n",
       "5    0.244613     0.117437  -0.010939 -0.291486    -0.528748 -0.537376\n",
       "..        ...          ...        ...       ...          ...       ...\n",
       "96  -0.288220     0.261489  -0.317123 -0.018548     0.228030 -0.045559\n",
       "97  -0.116570     0.323553  -0.231351 -0.269762     0.344912  0.059459\n",
       "98   0.093915     0.400397  -0.150975 -0.408936     0.588880  0.274592\n",
       "99   0.034177     0.399089  -0.440848 -0.464035     0.673533  0.360201\n",
       "100  0.055334     0.422488  -0.553991 -0.472096     0.604139  0.321160\n",
       "\n",
       "[100 rows x 6 columns]"
      ]
     },
     "execution_count": 10,
     "metadata": {},
     "output_type": "execute_result"
    }
   ],
   "source": [
    "envdfs['pooled']"
   ]
  },
  {
   "cell_type": "code",
   "execution_count": null,
   "id": "b9dbc46c",
   "metadata": {},
   "outputs": [],
   "source": []
  },
  {
   "cell_type": "markdown",
   "id": "75879088",
   "metadata": {},
   "source": [
    "### create future climates (transplant climates) for each subpopID"
   ]
  },
  {
   "cell_type": "code",
   "execution_count": 11,
   "id": "c1ed124c",
   "metadata": {},
   "outputs": [
    {
     "name": "stdout",
     "output_type": "stream",
     "text": [
      "\n",
      "Creating \"future climates\" for each common garden ...\n"
     ]
    },
    {
     "data": {
      "text/plain": [
       "100"
      ]
     },
     "execution_count": 11,
     "metadata": {},
     "output_type": "execute_result"
    }
   ],
   "source": [
    "garden_files = mvp02.create_garden_files(envdfs, envfiles)\n",
    "\n",
    "len(garden_files['pooled'])"
   ]
  },
  {
   "cell_type": "code",
   "execution_count": 12,
   "id": "07d2a7cb",
   "metadata": {},
   "outputs": [
    {
     "data": {
      "text/plain": [
       "'/home/b.lind/offsets/run_20220919_tutorial/gradient_forests/fitting/garden_files/tutorial_envfile_GFready_pooled_1.txt'"
      ]
     },
     "execution_count": 12,
     "metadata": {},
     "output_type": "execute_result"
    }
   ],
   "source": [
    "garden_files['pooled'][0]"
   ]
  },
  {
   "cell_type": "code",
   "execution_count": null,
   "id": "7930db9a",
   "metadata": {},
   "outputs": [],
   "source": []
  },
  {
   "cell_type": "markdown",
   "id": "3674a895",
   "metadata": {},
   "source": [
    "### parallelize fit of GF models to climates of each common garden (transplant location aka future climate)"
   ]
  },
  {
   "cell_type": "code",
   "execution_count": 13,
   "id": "12879730",
   "metadata": {},
   "outputs": [
    {
     "name": "stdout",
     "output_type": "stream",
     "text": [
      "\u001b[38;2;255;215;0m\u001b[1m\n",
      "Fitting gradient forest models to common garden climates ...\u001b[0m\u001b[0m\n",
      "\u001b[1m\n",
      "Watching 300 jobs ...\u001b[0m\n"
     ]
    },
    {
     "name": "stderr",
     "output_type": "stream",
     "text": [
      "fitting gradient forests: 100%|███████████████| 300/300 [08:15<00:00,  1.65s/it]"
     ]
    },
    {
     "name": "stdout",
     "output_type": "stream",
     "text": [
      "\u001b[38;2;255;215;0m\u001b[1m\n",
      "Redoing any jobs that died ...\u001b[0m\u001b[0m\n"
     ]
    },
    {
     "name": "stderr",
     "output_type": "stream",
     "text": [
      "\n"
     ]
    }
   ],
   "source": [
    "mvp02.run_fit_gradient_forests(garden_files[:0])"
   ]
  },
  {
   "cell_type": "code",
   "execution_count": null,
   "id": "8e9a0958",
   "metadata": {},
   "outputs": [],
   "source": []
  },
  {
   "cell_type": "code",
   "execution_count": 15,
   "id": "a30dbb92",
   "metadata": {},
   "outputs": [
    {
     "data": {
      "text/html": [
       "<div>\n",
       "<style scoped>\n",
       "    .dataframe tbody tr th:only-of-type {\n",
       "        vertical-align: middle;\n",
       "    }\n",
       "\n",
       "    .dataframe tbody tr th {\n",
       "        vertical-align: top;\n",
       "    }\n",
       "\n",
       "    .dataframe thead th {\n",
       "        text-align: right;\n",
       "    }\n",
       "</style>\n",
       "<table border=\"1\" class=\"dataframe\">\n",
       "  <thead>\n",
       "    <tr style=\"text-align: right;\">\n",
       "      <th></th>\n",
       "      <th>env1_mat</th>\n",
       "      <th>env2_MTWetQ</th>\n",
       "      <th>env3_MTDQ</th>\n",
       "      <th>env4_PDM</th>\n",
       "      <th>env5_PwarmQ</th>\n",
       "      <th>env6_PWM</th>\n",
       "    </tr>\n",
       "  </thead>\n",
       "  <tbody>\n",
       "    <tr>\n",
       "      <th>1</th>\n",
       "      <td>0.186225</td>\n",
       "      <td>-0.226935</td>\n",
       "      <td>0.861531</td>\n",
       "      <td>0.221974</td>\n",
       "      <td>-0.363974</td>\n",
       "      <td>0.761569</td>\n",
       "    </tr>\n",
       "    <tr>\n",
       "      <th>2</th>\n",
       "      <td>0.186225</td>\n",
       "      <td>-0.226935</td>\n",
       "      <td>0.861531</td>\n",
       "      <td>0.221974</td>\n",
       "      <td>-0.363974</td>\n",
       "      <td>0.761569</td>\n",
       "    </tr>\n",
       "    <tr>\n",
       "      <th>3</th>\n",
       "      <td>0.186225</td>\n",
       "      <td>-0.226935</td>\n",
       "      <td>0.861531</td>\n",
       "      <td>0.221974</td>\n",
       "      <td>-0.363974</td>\n",
       "      <td>0.761569</td>\n",
       "    </tr>\n",
       "    <tr>\n",
       "      <th>4</th>\n",
       "      <td>0.186225</td>\n",
       "      <td>-0.226935</td>\n",
       "      <td>0.861531</td>\n",
       "      <td>0.221974</td>\n",
       "      <td>-0.363974</td>\n",
       "      <td>0.761569</td>\n",
       "    </tr>\n",
       "    <tr>\n",
       "      <th>5</th>\n",
       "      <td>0.186225</td>\n",
       "      <td>-0.226935</td>\n",
       "      <td>0.861531</td>\n",
       "      <td>0.221974</td>\n",
       "      <td>-0.363974</td>\n",
       "      <td>0.761569</td>\n",
       "    </tr>\n",
       "    <tr>\n",
       "      <th>...</th>\n",
       "      <td>...</td>\n",
       "      <td>...</td>\n",
       "      <td>...</td>\n",
       "      <td>...</td>\n",
       "      <td>...</td>\n",
       "      <td>...</td>\n",
       "    </tr>\n",
       "    <tr>\n",
       "      <th>96</th>\n",
       "      <td>0.186225</td>\n",
       "      <td>-0.226935</td>\n",
       "      <td>0.861531</td>\n",
       "      <td>0.221974</td>\n",
       "      <td>-0.363974</td>\n",
       "      <td>0.761569</td>\n",
       "    </tr>\n",
       "    <tr>\n",
       "      <th>97</th>\n",
       "      <td>0.186225</td>\n",
       "      <td>-0.226935</td>\n",
       "      <td>0.861531</td>\n",
       "      <td>0.221974</td>\n",
       "      <td>-0.363974</td>\n",
       "      <td>0.761569</td>\n",
       "    </tr>\n",
       "    <tr>\n",
       "      <th>98</th>\n",
       "      <td>0.186225</td>\n",
       "      <td>-0.226935</td>\n",
       "      <td>0.861531</td>\n",
       "      <td>0.221974</td>\n",
       "      <td>-0.363974</td>\n",
       "      <td>0.761569</td>\n",
       "    </tr>\n",
       "    <tr>\n",
       "      <th>99</th>\n",
       "      <td>0.186225</td>\n",
       "      <td>-0.226935</td>\n",
       "      <td>0.861531</td>\n",
       "      <td>0.221974</td>\n",
       "      <td>-0.363974</td>\n",
       "      <td>0.761569</td>\n",
       "    </tr>\n",
       "    <tr>\n",
       "      <th>100</th>\n",
       "      <td>0.186225</td>\n",
       "      <td>-0.226935</td>\n",
       "      <td>0.861531</td>\n",
       "      <td>0.221974</td>\n",
       "      <td>-0.363974</td>\n",
       "      <td>0.761569</td>\n",
       "    </tr>\n",
       "  </tbody>\n",
       "</table>\n",
       "<p>100 rows × 6 columns</p>\n",
       "</div>"
      ],
      "text/plain": [
       "     env1_mat  env2_MTWetQ  env3_MTDQ  env4_PDM  env5_PwarmQ  env6_PWM\n",
       "1    0.186225    -0.226935   0.861531  0.221974    -0.363974  0.761569\n",
       "2    0.186225    -0.226935   0.861531  0.221974    -0.363974  0.761569\n",
       "3    0.186225    -0.226935   0.861531  0.221974    -0.363974  0.761569\n",
       "4    0.186225    -0.226935   0.861531  0.221974    -0.363974  0.761569\n",
       "5    0.186225    -0.226935   0.861531  0.221974    -0.363974  0.761569\n",
       "..        ...          ...        ...       ...          ...       ...\n",
       "96   0.186225    -0.226935   0.861531  0.221974    -0.363974  0.761569\n",
       "97   0.186225    -0.226935   0.861531  0.221974    -0.363974  0.761569\n",
       "98   0.186225    -0.226935   0.861531  0.221974    -0.363974  0.761569\n",
       "99   0.186225    -0.226935   0.861531  0.221974    -0.363974  0.761569\n",
       "100  0.186225    -0.226935   0.861531  0.221974    -0.363974  0.761569\n",
       "\n",
       "[100 rows x 6 columns]"
      ]
     },
     "execution_count": 15,
     "metadata": {},
     "output_type": "execute_result"
    }
   ],
   "source": [
    "pd.read_table(garden_files['pooled'][0], index_col=0)"
   ]
  },
  {
   "cell_type": "code",
   "execution_count": null,
   "id": "e1bca2c6",
   "metadata": {},
   "outputs": [],
   "source": []
  },
  {
   "cell_type": "code",
   "execution_count": null,
   "id": "89cdf550",
   "metadata": {},
   "outputs": [],
   "source": []
  },
  {
   "cell_type": "code",
   "execution_count": null,
   "id": "747e1762",
   "metadata": {},
   "outputs": [],
   "source": []
  },
  {
   "cell_type": "code",
   "execution_count": null,
   "id": "dee11d9e",
   "metadata": {},
   "outputs": [],
   "source": []
  },
  {
   "cell_type": "code",
   "execution_count": null,
   "id": "49ce6070",
   "metadata": {},
   "outputs": [],
   "source": []
  },
  {
   "cell_type": "code",
   "execution_count": null,
   "id": "d3a07a64",
   "metadata": {},
   "outputs": [],
   "source": []
  },
  {
   "cell_type": "code",
   "execution_count": null,
   "id": "dcc3f82a",
   "metadata": {},
   "outputs": [],
   "source": []
  },
  {
   "cell_type": "code",
   "execution_count": null,
   "id": "6f4b3f1c",
   "metadata": {},
   "outputs": [],
   "source": []
  },
  {
   "cell_type": "code",
   "execution_count": null,
   "id": "6f914c83",
   "metadata": {},
   "outputs": [],
   "source": []
  },
  {
   "cell_type": "code",
   "execution_count": null,
   "id": "460dd985",
   "metadata": {},
   "outputs": [],
   "source": []
  },
  {
   "cell_type": "code",
   "execution_count": null,
   "id": "c1097fa0",
   "metadata": {},
   "outputs": [],
   "source": []
  },
  {
   "cell_type": "code",
   "execution_count": null,
   "id": "59339e31",
   "metadata": {},
   "outputs": [],
   "source": []
  }
 ],
 "metadata": {
  "kernelspec": {
   "display_name": "Python 3 (ipykernel)",
   "language": "python",
   "name": "python3"
  },
  "language_info": {
   "codemirror_mode": {
    "name": "ipython",
    "version": 3
   },
   "file_extension": ".py",
   "mimetype": "text/x-python",
   "name": "python",
   "nbconvert_exporter": "python",
   "pygments_lexer": "ipython3",
   "version": "3.8.5"
  }
 },
 "nbformat": 4,
 "nbformat_minor": 5
}
