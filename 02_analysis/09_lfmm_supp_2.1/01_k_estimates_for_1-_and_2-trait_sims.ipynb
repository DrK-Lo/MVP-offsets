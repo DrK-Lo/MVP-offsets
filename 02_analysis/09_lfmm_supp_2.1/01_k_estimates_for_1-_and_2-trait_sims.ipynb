{
 "cells": [
  {
   "cell_type": "markdown",
   "id": "434cbdab",
   "metadata": {},
   "source": [
    "### purpose\n",
    "\n",
    "show distribution of k that was used for input to lfmm genetic.offset function - these values were determined in Lotterhos 2023"
   ]
  },
  {
   "cell_type": "code",
   "execution_count": 1,
   "id": "62045ded",
   "metadata": {
    "scrolled": true
   },
   "outputs": [
    {
     "name": "stdout",
     "output_type": "stream",
     "text": [
      "36 36\n",
      "#########################################################\n",
      "Today:\tAugust 28, 2023 - 09:37:19 EDT\n",
      "python version: 3.8.5\n",
      "conda env: mvp_env\n",
      "\n",
      "Current commit of \u001b[1mpythonimports\u001b[0m:\n",
      "\u001b[33mcommit 9493334506a1f2926fba0734fa74ba2f87194611\u001b[m  \n",
      "Author: Brandon Lind <lind.brandon.m@gmail.com>  \n",
      "Date:   Fri Jun 30 09:41:00 2023 -0400\n",
      "\n",
      "Current commit of \u001b[94m\u001b[1mMVP_offsets\u001b[0m\u001b[0m:\n",
      "\u001b[33mcommit 59196546230c84b45ac4d8cd5c35052fdf910eb8\u001b[m  \n",
      "Author: Brandon Lind <lind.brandon.m@gmail.com>  \n",
      "Date:   Mon Aug 28 09:12:58 2023 -0400\n",
      "#########################################################\n",
      "\n"
     ]
    },
    {
     "data": {
      "text/html": [
       "<details>\n",
       "<summary>Click to view session information</summary>\n",
       "<pre>\n",
       "-----\n",
       "MVP_10_train_lfmm2_offset   NA\n",
       "MVP_summary_functions       NA\n",
       "balance_queue               NA\n",
       "cartopy                     0.20.2\n",
       "ipyparallel                 7.1.0\n",
       "matplotlib                  3.5.2\n",
       "myclasses                   NA\n",
       "myfigs                      NA\n",
       "mymaps                      NA\n",
       "myslurm                     NA\n",
       "numpy                       1.22.1\n",
       "pandas                      1.3.5\n",
       "pythonimports               NA\n",
       "seaborn                     0.11.2\n",
       "session_info                1.0.0\n",
       "tqdm                        4.62.1\n",
       "-----\n",
       "</pre>\n",
       "<details>\n",
       "<summary>Click to view modules imported as dependencies</summary>\n",
       "<pre>\n",
       "MVP_01_train_gradient_forests       NA\n",
       "PIL                                 8.4.0\n",
       "backcall                            0.2.0\n",
       "beta_ufunc                          NA\n",
       "binom_ufunc                         NA\n",
       "bottleneck                          1.3.2\n",
       "certifi                             2023.05.07\n",
       "cffi                                1.15.0\n",
       "cycler                              0.10.0\n",
       "cython_runtime                      NA\n",
       "dateutil                            2.8.2\n",
       "debugpy                             1.5.1\n",
       "decorator                           5.1.1\n",
       "defusedxml                          0.7.1\n",
       "entrypoints                         0.4\n",
       "fontTools                           4.29.1\n",
       "ipykernel                           6.8.0\n",
       "ipython_genutils                    0.2.0\n",
       "ipywidgets                          7.6.5\n",
       "jedi                                0.18.1\n",
       "kiwisolver                          1.3.2\n",
       "matplotlib_venn                     0.11.6\n",
       "mpl_toolkits                        NA\n",
       "nbinom_ufunc                        NA\n",
       "numexpr                             2.8.1\n",
       "packaging                           21.3\n",
       "parso                               0.8.3\n",
       "patsy                               0.5.2\n",
       "pdf2image                           NA\n",
       "pexpect                             4.8.0\n",
       "pickleshare                         0.7.5\n",
       "pkg_resources                       NA\n",
       "prompt_toolkit                      3.0.26\n",
       "psutil                              5.9.0\n",
       "ptyprocess                          0.7.0\n",
       "pydev_ipython                       NA\n",
       "pydevconsole                        NA\n",
       "pydevd                              2.6.0\n",
       "pydevd_concurrency_analyser         NA\n",
       "pydevd_file_utils                   NA\n",
       "pydevd_plugins                      NA\n",
       "pydevd_tracing                      NA\n",
       "pygments                            2.11.2\n",
       "pyparsing                           3.0.7\n",
       "pyproj                              3.3.0\n",
       "pytz                                2021.3\n",
       "scipy                               1.7.3\n",
       "setuptools                          60.7.1\n",
       "shapefile                           2.2.0\n",
       "shapely                             1.8.0\n",
       "six                                 1.16.0\n",
       "statsmodels                         0.14.0\n",
       "storemagic                          NA\n",
       "tornado                             6.1\n",
       "traitlets                           5.1.1\n",
       "wcwidth                             0.2.5\n",
       "zmq                                 22.3.0\n",
       "</pre>\n",
       "</details> <!-- seems like this ends pre, so might as well be explicit -->\n",
       "<pre>\n",
       "-----\n",
       "IPython             7.31.1\n",
       "jupyter_client      7.1.2\n",
       "jupyter_core        4.9.1\n",
       "notebook            6.4.8\n",
       "-----\n",
       "Python 3.8.5 (default, Sep  4 2020, 07:30:14) [GCC 7.3.0]\n",
       "Linux-3.10.0-1160.25.1.el7.x86_64-x86_64-with-glibc2.10\n",
       "-----\n",
       "Session information updated at 2023-08-28 09:37\n",
       "</pre>\n",
       "</details>"
      ],
      "text/plain": [
       "<IPython.core.display.HTML object>"
      ]
     },
     "execution_count": 1,
     "metadata": {},
     "output_type": "execute_result"
    }
   ],
   "source": [
    "from pythonimports import *\n",
    "from myfigs import histo_box\n",
    "\n",
    "import MVP_summary_functions as mvp\n",
    "import MVP_10_train_lfmm2_offset as mvp10\n",
    "\n",
    "import seaborn as sns\n",
    "plt.rcParams.update({'font.family' : 'serif'})\n",
    "\n",
    "lview, dview = get_client(cluster_id='1693229824-77av', profile='lotterhos')\n",
    "\n",
    "mvp.latest_commit()\n",
    "session_info.show()"
   ]
  },
  {
   "cell_type": "code",
   "execution_count": 2,
   "id": "c3c43adc",
   "metadata": {},
   "outputs": [
    {
     "data": {
      "text/plain": [
       "2250"
      ]
     },
     "execution_count": 2,
     "metadata": {},
     "output_type": "execute_result"
    }
   ],
   "source": [
    "# get the lfmm files to pull K from\n",
    "lfmm_files = fs(mvp.slimdir, pattern='lfmm', endswith='temp.RDS')\n",
    "\n",
    "len(lfmm_files)  # 225 levels * 10 replicates"
   ]
  },
  {
   "cell_type": "code",
   "execution_count": 3,
   "id": "e9351dea",
   "metadata": {},
   "outputs": [],
   "source": [
    "# write a script to pull K from an lfmm file\n",
    "script_exe = '/home/b.lind/code/MVP-offsets/01_src/lfmm_k_reader.R'\n",
    "\n",
    "text = '''\n",
    "library(LEA)\n",
    "print(sessionInfo())\n",
    "\n",
    "args = commandArgs(trailingOnly=TRUE)\n",
    "\n",
    "rds_file = args[1]\n",
    "\n",
    "K <- readRDS(rds_file)@K\n",
    "\n",
    "print(sprintf('K = %s', K))\n",
    "\n",
    "'''\n",
    "\n",
    "with open(script_exe, 'w') as o:\n",
    "    o.write(text)"
   ]
  },
  {
   "cell_type": "code",
   "execution_count": null,
   "id": "5f2e2b87",
   "metadata": {},
   "outputs": [],
   "source": []
  },
  {
   "cell_type": "code",
   "execution_count": 4,
   "id": "7f4bb66d",
   "metadata": {},
   "outputs": [],
   "source": [
    "# write a python function to use the r script\n",
    "def read_K(rds):\n",
    "    import sys\n",
    "    import subprocess\n",
    "\n",
    "    output = subprocess.check_output(\n",
    "        [\n",
    "            '/home/b.lind/anaconda3/envs/MVP_env_R4.0.3/bin/Rscript',\n",
    "            script_exe,\n",
    "            rds\n",
    "        ]\n",
    "    ).decode('utf-8')\n",
    "    \n",
    "    return output\n",
    "    \n",
    "dview['script_exe'] = script_exe"
   ]
  },
  {
   "cell_type": "code",
   "execution_count": 5,
   "id": "631a77cc",
   "metadata": {},
   "outputs": [
    {
     "name": "stdout",
     "output_type": "stream",
     "text": [
      "R version 4.0.3 (2020-10-10)\n",
      "Platform: x86_64-conda-linux-gnu (64-bit)\n",
      "Running under: CentOS Linux 7 (Core)\n",
      "\n",
      "Matrix products: default\n",
      "BLAS/LAPACK: /work/lotterhos/brandon/anaconda3/envs/MVP_env_R4.0.3/lib/libopenblasp-r0.3.17.so\n",
      "\n",
      "locale:\n",
      " [1] LC_CTYPE=en_US.UTF-8       LC_NUMERIC=C              \n",
      " [3] LC_TIME=en_US.UTF-8        LC_COLLATE=en_US.UTF-8    \n",
      " [5] LC_MONETARY=en_US.UTF-8    LC_MESSAGES=en_US.UTF-8   \n",
      " [7] LC_PAPER=en_US.UTF-8       LC_NAME=C                 \n",
      " [9] LC_ADDRESS=C               LC_TELEPHONE=C            \n",
      "[11] LC_MEASUREMENT=en_US.UTF-8 LC_IDENTIFICATION=C       \n",
      "\n",
      "attached base packages:\n",
      "[1] stats     graphics  grDevices utils     datasets  methods   base     \n",
      "\n",
      "other attached packages:\n",
      "[1] LEA_3.8.0\n",
      "\n",
      "loaded via a namespace (and not attached):\n",
      "[1] compiler_4.0.3\n",
      "[1] \"K = 2\"\n",
      "\n"
     ]
    }
   ],
   "source": [
    "# test out function\n",
    "print(\n",
    "    read_K(\n",
    "        lfmm_files[0]\n",
    "    )\n",
    ")"
   ]
  },
  {
   "cell_type": "code",
   "execution_count": 6,
   "id": "9e1282cc",
   "metadata": {},
   "outputs": [
    {
     "name": "stdout",
     "output_type": "stream",
     "text": [
      "\u001b[1m\n",
      "Watching 2250 jobs ...\u001b[0m\n"
     ]
    },
    {
     "name": "stderr",
     "output_type": "stream",
     "text": [
      "100%|███████████████| 2250/2250 [01:24<00:00, 26.54it/s]\n"
     ]
    }
   ],
   "source": [
    "# run function in parallel\n",
    "jobs = []\n",
    "for f in lfmm_files:\n",
    "    jobs.append(\n",
    "        lview.apply_async(\n",
    "            read_K, f\n",
    "        )\n",
    "    )\n",
    "\n",
    "watch_async(jobs)"
   ]
  },
  {
   "cell_type": "code",
   "execution_count": 7,
   "id": "ba050661",
   "metadata": {
    "scrolled": true
   },
   "outputs": [
    {
     "name": "stderr",
     "output_type": "stream",
     "text": [
      "100%|███████████████| 2250/2250 [00:00<00:00, 110614.47it/s]\n"
     ]
    },
    {
     "data": {
      "image/png": "[encoded data removed]",
      "text/plain": [
       "<Figure size 432x288 with 2 Axes>"
      ]
     },
     "metadata": {
      "needs_background": "light"
     },
     "output_type": "display_data"
    }
   ],
   "source": [
    "# retrieve values, make a figure\n",
    "vals = {}\n",
    "for i, j in enumerate(pbar(jobs)):\n",
    "    seed = op.basename(lfmm_files[i]).split(\"_\")[0]\n",
    "    \n",
    "    vals[seed] = int(\n",
    "        j.r.split('\\n')[-2].split()[-1][0]\n",
    "    )\n",
    "    \n",
    "_ = histo_box(vals.values(), xlab='K', ylab='count')"
   ]
  },
  {
   "cell_type": "markdown",
   "id": "12cac67d",
   "metadata": {},
   "source": [
    "### now split according to levels"
   ]
  },
  {
   "cell_type": "code",
   "execution_count": 8,
   "id": "13854aba",
   "metadata": {
    "scrolled": true
   },
   "outputs": [
    {
     "data": {
      "text/html": [
       "<div>\n",
       "<style scoped>\n",
       "    .dataframe tbody tr th:only-of-type {\n",
       "        vertical-align: middle;\n",
       "    }\n",
       "\n",
       "    .dataframe tbody tr th {\n",
       "        vertical-align: top;\n",
       "    }\n",
       "\n",
       "    .dataframe thead th {\n",
       "        text-align: right;\n",
       "    }\n",
       "</style>\n",
       "<table border=\"1\" class=\"dataframe\">\n",
       "  <thead>\n",
       "    <tr style=\"text-align: right;\">\n",
       "      <th></th>\n",
       "      <th>level</th>\n",
       "      <th>reps</th>\n",
       "      <th>arch</th>\n",
       "      <th>demog_name</th>\n",
       "      <th>demog_level_sub</th>\n",
       "      <th>demog_level</th>\n",
       "      <th>MIG_x</th>\n",
       "      <th>MIG_y</th>\n",
       "      <th>xcline</th>\n",
       "      <th>ycline</th>\n",
       "      <th>demog</th>\n",
       "      <th>METAPOP_SIDE_x</th>\n",
       "      <th>METAPOP_SIDE_y</th>\n",
       "      <th>Nequal</th>\n",
       "      <th>isVariableM</th>\n",
       "      <th>MIG_breaks</th>\n",
       "      <th>arch_level_sub</th>\n",
       "      <th>arch_level</th>\n",
       "      <th>MU_base</th>\n",
       "      <th>MU_QTL_proportion</th>\n",
       "      <th>SIGMA_QTN_1</th>\n",
       "      <th>SIGMA_QTN_2</th>\n",
       "      <th>SIGMA_K_1</th>\n",
       "      <th>SIGMA_K_2</th>\n",
       "      <th>N_traits</th>\n",
       "      <th>ispleiotropy</th>\n",
       "      <th>seed</th>\n",
       "    </tr>\n",
       "  </thead>\n",
       "  <tbody>\n",
       "    <tr>\n",
       "      <th>1231094</th>\n",
       "      <td>highly-polygenic_1-trait__Est-Clines_N-cline-c...</td>\n",
       "      <td>1</td>\n",
       "      <td>highly-polygenic_1-trait</td>\n",
       "      <td>Est-Clines_N-cline-center-to-edge_m-constant</td>\n",
       "      <td>N-cline-center-to-edge_m-constant</td>\n",
       "      <td>Est-Clines</td>\n",
       "      <td>0.49</td>\n",
       "      <td>0.07</td>\n",
       "      <td>linear</td>\n",
       "      <td>linear</td>\n",
       "      <td>Estuary</td>\n",
       "      <td>10</td>\n",
       "      <td>10</td>\n",
       "      <td>4</td>\n",
       "      <td>0</td>\n",
       "      <td>0</td>\n",
       "      <td>1-trait</td>\n",
       "      <td>highly-polygenic</td>\n",
       "      <td>1.000000e-07</td>\n",
       "      <td>0.25</td>\n",
       "      <td>0.002</td>\n",
       "      <td>0.002</td>\n",
       "      <td>0.5</td>\n",
       "      <td>0.5</td>\n",
       "      <td>1</td>\n",
       "      <td>0</td>\n",
       "      <td>1231094</td>\n",
       "    </tr>\n",
       "    <tr>\n",
       "      <th>1231095</th>\n",
       "      <td>highly-polygenic_1-trait__Est-Clines_N-cline-N...</td>\n",
       "      <td>1</td>\n",
       "      <td>highly-polygenic_1-trait</td>\n",
       "      <td>Est-Clines_N-cline-N-to-S_m-constant</td>\n",
       "      <td>N-cline-N-to-S_m-constant</td>\n",
       "      <td>Est-Clines</td>\n",
       "      <td>0.49</td>\n",
       "      <td>0.07</td>\n",
       "      <td>linear</td>\n",
       "      <td>linear</td>\n",
       "      <td>Estuary</td>\n",
       "      <td>10</td>\n",
       "      <td>10</td>\n",
       "      <td>2</td>\n",
       "      <td>0</td>\n",
       "      <td>0</td>\n",
       "      <td>1-trait</td>\n",
       "      <td>highly-polygenic</td>\n",
       "      <td>1.000000e-07</td>\n",
       "      <td>0.25</td>\n",
       "      <td>0.002</td>\n",
       "      <td>0.002</td>\n",
       "      <td>0.5</td>\n",
       "      <td>0.5</td>\n",
       "      <td>1</td>\n",
       "      <td>0</td>\n",
       "      <td>1231095</td>\n",
       "    </tr>\n",
       "    <tr>\n",
       "      <th>1231096</th>\n",
       "      <td>highly-polygenic_1-trait__Est-Clines_N-equal_m...</td>\n",
       "      <td>1</td>\n",
       "      <td>highly-polygenic_1-trait</td>\n",
       "      <td>Est-Clines_N-equal_m_breaks</td>\n",
       "      <td>N-equal_m_breaks</td>\n",
       "      <td>Est-Clines</td>\n",
       "      <td>0.49</td>\n",
       "      <td>0.07</td>\n",
       "      <td>linear</td>\n",
       "      <td>linear</td>\n",
       "      <td>Estuary</td>\n",
       "      <td>10</td>\n",
       "      <td>10</td>\n",
       "      <td>0</td>\n",
       "      <td>0</td>\n",
       "      <td>1</td>\n",
       "      <td>1-trait</td>\n",
       "      <td>highly-polygenic</td>\n",
       "      <td>1.000000e-07</td>\n",
       "      <td>0.25</td>\n",
       "      <td>0.002</td>\n",
       "      <td>0.002</td>\n",
       "      <td>0.5</td>\n",
       "      <td>0.5</td>\n",
       "      <td>1</td>\n",
       "      <td>0</td>\n",
       "      <td>1231096</td>\n",
       "    </tr>\n",
       "    <tr>\n",
       "      <th>1231097</th>\n",
       "      <td>highly-polygenic_1-trait__Est-Clines_N-equal_m...</td>\n",
       "      <td>1</td>\n",
       "      <td>highly-polygenic_1-trait</td>\n",
       "      <td>Est-Clines_N-equal_m-constant</td>\n",
       "      <td>N-equal_m-constant</td>\n",
       "      <td>Est-Clines</td>\n",
       "      <td>0.49</td>\n",
       "      <td>0.07</td>\n",
       "      <td>linear</td>\n",
       "      <td>linear</td>\n",
       "      <td>Estuary</td>\n",
       "      <td>10</td>\n",
       "      <td>10</td>\n",
       "      <td>0</td>\n",
       "      <td>0</td>\n",
       "      <td>0</td>\n",
       "      <td>1-trait</td>\n",
       "      <td>highly-polygenic</td>\n",
       "      <td>1.000000e-07</td>\n",
       "      <td>0.25</td>\n",
       "      <td>0.002</td>\n",
       "      <td>0.002</td>\n",
       "      <td>0.5</td>\n",
       "      <td>0.5</td>\n",
       "      <td>1</td>\n",
       "      <td>0</td>\n",
       "      <td>1231097</td>\n",
       "    </tr>\n",
       "    <tr>\n",
       "      <th>1231098</th>\n",
       "      <td>highly-polygenic_1-trait__Est-Clines_N-variabl...</td>\n",
       "      <td>1</td>\n",
       "      <td>highly-polygenic_1-trait</td>\n",
       "      <td>Est-Clines_N-variable_m-variable</td>\n",
       "      <td>N-variable_m-variable</td>\n",
       "      <td>Est-Clines</td>\n",
       "      <td>0.49</td>\n",
       "      <td>0.07</td>\n",
       "      <td>linear</td>\n",
       "      <td>linear</td>\n",
       "      <td>Estuary</td>\n",
       "      <td>10</td>\n",
       "      <td>10</td>\n",
       "      <td>3</td>\n",
       "      <td>1</td>\n",
       "      <td>0</td>\n",
       "      <td>1-trait</td>\n",
       "      <td>highly-polygenic</td>\n",
       "      <td>1.000000e-07</td>\n",
       "      <td>0.25</td>\n",
       "      <td>0.002</td>\n",
       "      <td>0.002</td>\n",
       "      <td>0.5</td>\n",
       "      <td>0.5</td>\n",
       "      <td>1</td>\n",
       "      <td>0</td>\n",
       "      <td>1231098</td>\n",
       "    </tr>\n",
       "  </tbody>\n",
       "</table>\n",
       "</div>"
      ],
      "text/plain": [
       "                                                     level  reps  \\\n",
       "1231094  highly-polygenic_1-trait__Est-Clines_N-cline-c...     1   \n",
       "1231095  highly-polygenic_1-trait__Est-Clines_N-cline-N...     1   \n",
       "1231096  highly-polygenic_1-trait__Est-Clines_N-equal_m...     1   \n",
       "1231097  highly-polygenic_1-trait__Est-Clines_N-equal_m...     1   \n",
       "1231098  highly-polygenic_1-trait__Est-Clines_N-variabl...     1   \n",
       "\n",
       "                             arch  \\\n",
       "1231094  highly-polygenic_1-trait   \n",
       "1231095  highly-polygenic_1-trait   \n",
       "1231096  highly-polygenic_1-trait   \n",
       "1231097  highly-polygenic_1-trait   \n",
       "1231098  highly-polygenic_1-trait   \n",
       "\n",
       "                                           demog_name  \\\n",
       "1231094  Est-Clines_N-cline-center-to-edge_m-constant   \n",
       "1231095          Est-Clines_N-cline-N-to-S_m-constant   \n",
       "1231096                   Est-Clines_N-equal_m_breaks   \n",
       "1231097                 Est-Clines_N-equal_m-constant   \n",
       "1231098              Est-Clines_N-variable_m-variable   \n",
       "\n",
       "                           demog_level_sub demog_level  MIG_x  MIG_y  xcline  \\\n",
       "1231094  N-cline-center-to-edge_m-constant  Est-Clines   0.49   0.07  linear   \n",
       "1231095          N-cline-N-to-S_m-constant  Est-Clines   0.49   0.07  linear   \n",
       "1231096                   N-equal_m_breaks  Est-Clines   0.49   0.07  linear   \n",
       "1231097                 N-equal_m-constant  Est-Clines   0.49   0.07  linear   \n",
       "1231098              N-variable_m-variable  Est-Clines   0.49   0.07  linear   \n",
       "\n",
       "         ycline    demog  METAPOP_SIDE_x  METAPOP_SIDE_y  Nequal  isVariableM  \\\n",
       "1231094  linear  Estuary              10              10       4            0   \n",
       "1231095  linear  Estuary              10              10       2            0   \n",
       "1231096  linear  Estuary              10              10       0            0   \n",
       "1231097  linear  Estuary              10              10       0            0   \n",
       "1231098  linear  Estuary              10              10       3            1   \n",
       "\n",
       "         MIG_breaks arch_level_sub        arch_level       MU_base  \\\n",
       "1231094           0        1-trait  highly-polygenic  1.000000e-07   \n",
       "1231095           0        1-trait  highly-polygenic  1.000000e-07   \n",
       "1231096           1        1-trait  highly-polygenic  1.000000e-07   \n",
       "1231097           0        1-trait  highly-polygenic  1.000000e-07   \n",
       "1231098           0        1-trait  highly-polygenic  1.000000e-07   \n",
       "\n",
       "         MU_QTL_proportion  SIGMA_QTN_1  SIGMA_QTN_2  SIGMA_K_1  SIGMA_K_2  \\\n",
       "1231094               0.25        0.002        0.002        0.5        0.5   \n",
       "1231095               0.25        0.002        0.002        0.5        0.5   \n",
       "1231096               0.25        0.002        0.002        0.5        0.5   \n",
       "1231097               0.25        0.002        0.002        0.5        0.5   \n",
       "1231098               0.25        0.002        0.002        0.5        0.5   \n",
       "\n",
       "         N_traits  ispleiotropy     seed  \n",
       "1231094         1             0  1231094  \n",
       "1231095         1             0  1231095  \n",
       "1231096         1             0  1231096  \n",
       "1231097         1             0  1231097  \n",
       "1231098         1             0  1231098  "
      ]
     },
     "execution_count": 8,
     "metadata": {},
     "output_type": "execute_result"
    }
   ],
   "source": [
    "params = mvp10.read_params_file('/home/b.lind/offsets/run_20220919_0-225/slimdir')\n",
    "\n",
    "params.head()"
   ]
  },
  {
   "cell_type": "code",
   "execution_count": 9,
   "id": "6daa5d83",
   "metadata": {},
   "outputs": [
    {
     "data": {
      "text/plain": [
       "1231094    [Est-Clines, N-cline-center-to-edge, m-constant]\n",
       "1231095            [Est-Clines, N-cline-N-to-S, m-constant]\n",
       "1231096                    [Est-Clines, N-equal, m, breaks]\n",
       "1231097                   [Est-Clines, N-equal, m-constant]\n",
       "1231098                [Est-Clines, N-variable, m-variable]\n",
       "                                 ...                       \n",
       "1233339        [SS-Mtn, N-cline-center-to-edge, m-constant]\n",
       "1233340                [SS-Mtn, N-cline-N-to-S, m-constant]\n",
       "1233341                        [SS-Mtn, N-equal, m, breaks]\n",
       "1233342                       [SS-Mtn, N-equal, m-constant]\n",
       "1233343                    [SS-Mtn, N-variable, m-variable]\n",
       "Name: demog_name, Length: 2250, dtype: object"
      ]
     },
     "execution_count": 9,
     "metadata": {},
     "output_type": "execute_result"
    }
   ],
   "source": [
    "params.demog_name.str.split(\"_\")#.apply(lambda x: x[0])"
   ]
  },
  {
   "cell_type": "code",
   "execution_count": 10,
   "id": "42bfa0e6",
   "metadata": {},
   "outputs": [
    {
     "data": {
      "text/html": [
       "<div>\n",
       "<style scoped>\n",
       "    .dataframe tbody tr th:only-of-type {\n",
       "        vertical-align: middle;\n",
       "    }\n",
       "\n",
       "    .dataframe tbody tr th {\n",
       "        vertical-align: top;\n",
       "    }\n",
       "\n",
       "    .dataframe thead th {\n",
       "        text-align: right;\n",
       "    }\n",
       "</style>\n",
       "<table border=\"1\" class=\"dataframe\">\n",
       "  <thead>\n",
       "    <tr style=\"text-align: right;\">\n",
       "      <th></th>\n",
       "      <th>K</th>\n",
       "      <th>landscape</th>\n",
       "    </tr>\n",
       "  </thead>\n",
       "  <tbody>\n",
       "    <tr>\n",
       "      <th>1231094</th>\n",
       "      <td>2</td>\n",
       "      <td>Est-Clines</td>\n",
       "    </tr>\n",
       "    <tr>\n",
       "      <th>1231095</th>\n",
       "      <td>9</td>\n",
       "      <td>Est-Clines</td>\n",
       "    </tr>\n",
       "    <tr>\n",
       "      <th>1231096</th>\n",
       "      <td>9</td>\n",
       "      <td>Est-Clines</td>\n",
       "    </tr>\n",
       "    <tr>\n",
       "      <th>1231097</th>\n",
       "      <td>9</td>\n",
       "      <td>Est-Clines</td>\n",
       "    </tr>\n",
       "    <tr>\n",
       "      <th>1231098</th>\n",
       "      <td>6</td>\n",
       "      <td>Est-Clines</td>\n",
       "    </tr>\n",
       "  </tbody>\n",
       "</table>\n",
       "</div>"
      ],
      "text/plain": [
       "         K   landscape\n",
       "1231094  2  Est-Clines\n",
       "1231095  9  Est-Clines\n",
       "1231096  9  Est-Clines\n",
       "1231097  9  Est-Clines\n",
       "1231098  6  Est-Clines"
      ]
     },
     "execution_count": 10,
     "metadata": {},
     "output_type": "execute_result"
    }
   ],
   "source": [
    "k_data = pd.DataFrame(vals, index=['K']).T\n",
    "\n",
    "k_data['landscape'] = k_data.index.map(params.demog_name.str.split(\"_\").apply(lambda x: x[0]))\n",
    "\n",
    "k_data.head()"
   ]
  },
  {
   "cell_type": "code",
   "execution_count": 11,
   "id": "ca08f42f",
   "metadata": {
    "scrolled": false
   },
   "outputs": [
    {
     "data": {
      "text/plain": [
       "<matplotlib.legend.Legend at 0x2b0762833610>"
      ]
     },
     "execution_count": 11,
     "metadata": {},
     "output_type": "execute_result"
    },
    {
     "data": {
      "image/png": "[encoded data removed]",
      "text/plain": [
       "<Figure size 432x288 with 1 Axes>"
      ]
     },
     "metadata": {
      "needs_background": "light"
     },
     "output_type": "display_data"
    }
   ],
   "source": [
    "df = pd.DataFrame(\n",
    "    k_data.groupby('K')['landscape'].apply(Counter)\n",
    ").reset_index().pivot(\n",
    "    index='K', columns='level_1'\n",
    ")\n",
    "\n",
    "df.columns = df.columns.get_level_values('level_1').tolist()\n",
    "\n",
    "ax = df.plot(kind='bar',\n",
    "             stacked=True,\n",
    "             color=df.columns.map(mvp.boxplot_kwargs['palette']).tolist()) #pd.Series(mvp.hue_order['landscape']).map(mvp.boxplot_kwargs['palette']).tolist())\n",
    "ax.legend_.remove()\n",
    "\n",
    "ax.set_xlabel('K', fontsize=12)\n",
    "ax.set_xticklabels(ax.get_xticklabels(), rotation=360)\n",
    "\n",
    "mvp.add_legend(ax.figure, color_by='landscape', loc='center left', bbox_to_anchor=(0.9, 0.5))"
   ]
  },
  {
   "cell_type": "code",
   "execution_count": 12,
   "id": "2e2c44af",
   "metadata": {},
   "outputs": [],
   "source": [
    "boxplot_kws = defaultdict(dict)\n",
    "\n",
    "boxplot_kws['flierprops'].update({\n",
    "            'markersize' : 8,\n",
    "            'zorder' : 0,\n",
    "            'markerfacecolor': 'gray',\n",
    "            'alpha': 0.5,\n",
    "            'markeredgewidth' : 0.0,\n",
    "    # remove edge if markeredgewidth==0\n",
    "\n",
    "})  "
   ]
  },
  {
   "cell_type": "code",
   "execution_count": 13,
   "id": "2292c9fe",
   "metadata": {},
   "outputs": [
    {
     "data": {
      "text/plain": [
       "<AxesSubplot:xlabel='K'>"
      ]
     },
     "execution_count": 13,
     "metadata": {},
     "output_type": "execute_result"
    },
    {
     "data": {
      "image/png": "[encoded data removed]",
      "text/plain": [
       "<Figure size 432x288 with 1 Axes>"
      ]
     },
     "metadata": {
      "needs_background": "light"
     },
     "output_type": "display_data"
    }
   ],
   "source": [
    "sns.boxplot(x=k_data['K'])"
   ]
  },
  {
   "cell_type": "code",
   "execution_count": 14,
   "id": "4f06da98",
   "metadata": {},
   "outputs": [
    {
     "data": {
      "image/png": "[encoded data removed]",
      "text/plain": [
       "<Figure size 648x432 with 2 Axes>"
      ]
     },
     "metadata": {
      "needs_background": "light"
     },
     "output_type": "display_data"
    }
   ],
   "source": [
    "fig, (ax_box, ax_hist) = plt.subplots(2, sharex=True, figsize=(9, 6), gridspec_kw={\"height_ratios\": (.15, .85)})\n",
    "\n",
    "\n",
    "df = pd.DataFrame(k_data.groupby('K')['landscape'].apply(Counter)).reset_index().pivot(\n",
    "    index='K', columns='level_1'\n",
    ")\n",
    "df.columns = df.columns.get_level_values('level_1').tolist()\n",
    "\n",
    "\n",
    "sns.boxplot(\n",
    "    x=k_data['K'] - 1,  # need to subtract 1 because seaborn starts at position 0, matplotlib starts at position 1\n",
    "    ax=ax_box,\n",
    "    color='lightgray',\n",
    "    **boxplot_kws\n",
    ")\n",
    "\n",
    "\n",
    "ax = df.plot(kind='bar',\n",
    "             stacked=True,\n",
    "             color=df.columns.map(mvp.boxplot_kwargs['palette']).tolist(),\n",
    "             ax=ax_hist\n",
    "            )\n",
    "\n",
    "ax.legend_.remove()\n",
    "mvp.add_legend(ax.figure, color_by='landscape', loc='center left', bbox_to_anchor=(0.9, 0.5))\n",
    "\n",
    "ax_hist.set_xlabel('K', fontsize=12)\n",
    "ax_hist.set_ylabel('count', fontsize=12)\n",
    "_ = ax_hist.set_xticklabels(ax.get_xticklabels(), rotation=360)\n",
    "\n"
   ]
  },
  {
   "cell_type": "code",
   "execution_count": null,
   "id": "173aad2a",
   "metadata": {},
   "outputs": [],
   "source": []
  },
  {
   "cell_type": "code",
   "execution_count": 15,
   "id": "783cab87",
   "metadata": {},
   "outputs": [
    {
     "data": {
      "text/html": [
       "<div>\n",
       "<style scoped>\n",
       "    .dataframe tbody tr th:only-of-type {\n",
       "        vertical-align: middle;\n",
       "    }\n",
       "\n",
       "    .dataframe tbody tr th {\n",
       "        vertical-align: top;\n",
       "    }\n",
       "\n",
       "    .dataframe thead th {\n",
       "        text-align: right;\n",
       "    }\n",
       "</style>\n",
       "<table border=\"1\" class=\"dataframe\">\n",
       "  <thead>\n",
       "    <tr style=\"text-align: right;\">\n",
       "      <th></th>\n",
       "      <th>K</th>\n",
       "      <th>landscape</th>\n",
       "    </tr>\n",
       "  </thead>\n",
       "  <tbody>\n",
       "    <tr>\n",
       "      <th>1231094</th>\n",
       "      <td>2</td>\n",
       "      <td>Est-Clines</td>\n",
       "    </tr>\n",
       "    <tr>\n",
       "      <th>1231095</th>\n",
       "      <td>9</td>\n",
       "      <td>Est-Clines</td>\n",
       "    </tr>\n",
       "    <tr>\n",
       "      <th>1231096</th>\n",
       "      <td>9</td>\n",
       "      <td>Est-Clines</td>\n",
       "    </tr>\n",
       "    <tr>\n",
       "      <th>1231097</th>\n",
       "      <td>9</td>\n",
       "      <td>Est-Clines</td>\n",
       "    </tr>\n",
       "    <tr>\n",
       "      <th>1231098</th>\n",
       "      <td>6</td>\n",
       "      <td>Est-Clines</td>\n",
       "    </tr>\n",
       "    <tr>\n",
       "      <th>...</th>\n",
       "      <td>...</td>\n",
       "      <td>...</td>\n",
       "    </tr>\n",
       "    <tr>\n",
       "      <th>1233339</th>\n",
       "      <td>3</td>\n",
       "      <td>SS-Mtn</td>\n",
       "    </tr>\n",
       "    <tr>\n",
       "      <th>1233340</th>\n",
       "      <td>3</td>\n",
       "      <td>SS-Mtn</td>\n",
       "    </tr>\n",
       "    <tr>\n",
       "      <th>1233341</th>\n",
       "      <td>1</td>\n",
       "      <td>SS-Mtn</td>\n",
       "    </tr>\n",
       "    <tr>\n",
       "      <th>1233342</th>\n",
       "      <td>2</td>\n",
       "      <td>SS-Mtn</td>\n",
       "    </tr>\n",
       "    <tr>\n",
       "      <th>1233343</th>\n",
       "      <td>1</td>\n",
       "      <td>SS-Mtn</td>\n",
       "    </tr>\n",
       "  </tbody>\n",
       "</table>\n",
       "<p>2250 rows × 2 columns</p>\n",
       "</div>"
      ],
      "text/plain": [
       "         K   landscape\n",
       "1231094  2  Est-Clines\n",
       "1231095  9  Est-Clines\n",
       "1231096  9  Est-Clines\n",
       "1231097  9  Est-Clines\n",
       "1231098  6  Est-Clines\n",
       "...     ..         ...\n",
       "1233339  3      SS-Mtn\n",
       "1233340  3      SS-Mtn\n",
       "1233341  1      SS-Mtn\n",
       "1233342  2      SS-Mtn\n",
       "1233343  1      SS-Mtn\n",
       "\n",
       "[2250 rows x 2 columns]"
      ]
     },
     "execution_count": 15,
     "metadata": {},
     "output_type": "execute_result"
    }
   ],
   "source": [
    "k_data"
   ]
  },
  {
   "cell_type": "code",
   "execution_count": 16,
   "id": "7c965da8",
   "metadata": {},
   "outputs": [],
   "source": [
    "k_data.to_csv('/home/b.lind/offsets/k_data_from_lfmm.txt', index=True, header=True, sep='\\t')"
   ]
  },
  {
   "cell_type": "code",
   "execution_count": null,
   "id": "8326c739",
   "metadata": {},
   "outputs": [],
   "source": []
  },
  {
   "cell_type": "code",
   "execution_count": null,
   "id": "de73bad5",
   "metadata": {},
   "outputs": [],
   "source": []
  },
  {
   "cell_type": "code",
   "execution_count": null,
   "id": "49f378f6",
   "metadata": {},
   "outputs": [],
   "source": []
  },
  {
   "cell_type": "code",
   "execution_count": 17,
   "id": "f4b1b612",
   "metadata": {},
   "outputs": [
    {
     "data": {
      "text/html": [
       "<div>\n",
       "<style scoped>\n",
       "    .dataframe tbody tr th:only-of-type {\n",
       "        vertical-align: middle;\n",
       "    }\n",
       "\n",
       "    .dataframe tbody tr th {\n",
       "        vertical-align: top;\n",
       "    }\n",
       "\n",
       "    .dataframe thead th {\n",
       "        text-align: right;\n",
       "    }\n",
       "</style>\n",
       "<table border=\"1\" class=\"dataframe\">\n",
       "  <thead>\n",
       "    <tr style=\"text-align: right;\">\n",
       "      <th></th>\n",
       "      <th>K</th>\n",
       "      <th>landscape</th>\n",
       "    </tr>\n",
       "  </thead>\n",
       "  <tbody>\n",
       "    <tr>\n",
       "      <th>1231094</th>\n",
       "      <td>2</td>\n",
       "      <td>Est-Clines</td>\n",
       "    </tr>\n",
       "    <tr>\n",
       "      <th>1231095</th>\n",
       "      <td>9</td>\n",
       "      <td>Est-Clines</td>\n",
       "    </tr>\n",
       "    <tr>\n",
       "      <th>1231096</th>\n",
       "      <td>9</td>\n",
       "      <td>Est-Clines</td>\n",
       "    </tr>\n",
       "    <tr>\n",
       "      <th>1231097</th>\n",
       "      <td>9</td>\n",
       "      <td>Est-Clines</td>\n",
       "    </tr>\n",
       "    <tr>\n",
       "      <th>1231098</th>\n",
       "      <td>6</td>\n",
       "      <td>Est-Clines</td>\n",
       "    </tr>\n",
       "    <tr>\n",
       "      <th>...</th>\n",
       "      <td>...</td>\n",
       "      <td>...</td>\n",
       "    </tr>\n",
       "    <tr>\n",
       "      <th>1233339</th>\n",
       "      <td>3</td>\n",
       "      <td>SS-Mtn</td>\n",
       "    </tr>\n",
       "    <tr>\n",
       "      <th>1233340</th>\n",
       "      <td>3</td>\n",
       "      <td>SS-Mtn</td>\n",
       "    </tr>\n",
       "    <tr>\n",
       "      <th>1233341</th>\n",
       "      <td>1</td>\n",
       "      <td>SS-Mtn</td>\n",
       "    </tr>\n",
       "    <tr>\n",
       "      <th>1233342</th>\n",
       "      <td>2</td>\n",
       "      <td>SS-Mtn</td>\n",
       "    </tr>\n",
       "    <tr>\n",
       "      <th>1233343</th>\n",
       "      <td>1</td>\n",
       "      <td>SS-Mtn</td>\n",
       "    </tr>\n",
       "  </tbody>\n",
       "</table>\n",
       "<p>2250 rows × 2 columns</p>\n",
       "</div>"
      ],
      "text/plain": [
       "         K   landscape\n",
       "1231094  2  Est-Clines\n",
       "1231095  9  Est-Clines\n",
       "1231096  9  Est-Clines\n",
       "1231097  9  Est-Clines\n",
       "1231098  6  Est-Clines\n",
       "...     ..         ...\n",
       "1233339  3      SS-Mtn\n",
       "1233340  3      SS-Mtn\n",
       "1233341  1      SS-Mtn\n",
       "1233342  2      SS-Mtn\n",
       "1233343  1      SS-Mtn\n",
       "\n",
       "[2250 rows x 2 columns]"
      ]
     },
     "execution_count": 17,
     "metadata": {},
     "output_type": "execute_result"
    }
   ],
   "source": [
    "k_data"
   ]
  },
  {
   "cell_type": "code",
   "execution_count": null,
   "id": "cbea0532",
   "metadata": {},
   "outputs": [],
   "source": []
  },
  {
   "cell_type": "code",
   "execution_count": null,
   "id": "a7adb8b1",
   "metadata": {},
   "outputs": [],
   "source": []
  },
  {
   "cell_type": "code",
   "execution_count": null,
   "id": "f7dc3ca8",
   "metadata": {},
   "outputs": [],
   "source": []
  }
 ],
 "metadata": {
  "kernelspec": {
   "display_name": "Python 3 (ipykernel)",
   "language": "python",
   "name": "python3"
  },
  "language_info": {
   "codemirror_mode": {
    "name": "ipython",
    "version": 3
   },
   "file_extension": ".py",
   "mimetype": "text/x-python",
   "name": "python",
   "nbconvert_exporter": "python",
   "pygments_lexer": "ipython3",
   "version": "3.8.5"
  }
 },
 "nbformat": 4,
 "nbformat_minor": 5
}
